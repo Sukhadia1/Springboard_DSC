{
 "cells": [
  {
   "cell_type": "markdown",
   "metadata": {},
   "source": [
    "\n",
    "\n",
    "# Extracting Latent Features"
   ]
  },
  {
   "cell_type": "markdown",
   "metadata": {},
   "source": [
    "## Importing pakages "
   ]
  },
  {
   "cell_type": "code",
   "execution_count": 1,
   "metadata": {},
   "outputs": [],
   "source": [
    "#Packages for data manipulation and visualization\n",
    "import pandas as pd\n",
    "import numpy as np\n",
    "import matplotlib.pyplot as plt\n",
    "import seaborn as sns\n",
    "import matplotlib as mpl\n",
    "import os\n",
    "from datetime import datetime\n",
    "from scipy import stats\n",
    "from scipy.sparse import csc_matrix\n",
    "\n",
    "#Packages for splitting data\n",
    "from sklearn import base\n",
    "from sklearn.model_selection import KFold\n",
    "\n",
    "#Packages for controlling figure size\n",
    "from IPython.core.pylabtools import figsize\n"
   ]
  },
  {
   "cell_type": "code",
   "execution_count": 2,
   "metadata": {},
   "outputs": [],
   "source": [
    "#Getting Working Directory\n",
    "os.getcwd()\n",
    "\n",
    "#Setting style and font size for graphs\n",
    "sns.set_style(\"whitegrid\")\n",
    "mpl.rcParams['font.size'] = 13"
   ]
  },
  {
   "cell_type": "markdown",
   "metadata": {},
   "source": [
    "## Importing Clean Data from the CSV file "
   ]
  },
  {
   "cell_type": "code",
   "execution_count": 3,
   "metadata": {},
   "outputs": [],
   "source": [
    "#Setting the file path\n",
    "train_file ='D:\\\\Abhishek\\\\Personal\\\\Springboard\\\\music_recom\\\\train_cleaned.csv'\n",
    "test_file ='D:\\\\Abhishek\\\\Personal\\\\Springboard\\\\music_recom\\\\test_cleaned.csv'\n",
    "\n",
    "#Reading the csv file to pandas dataframe\n",
    "train_clean = pd.read_csv(train_file)\n",
    "test_clean = pd.read_csv(test_file)"
   ]
  },
  {
   "cell_type": "markdown",
   "metadata": {},
   "source": [
    "## Checking the Data. \n",
    "Number of columns, whether it was imported correctly, number of missing values etc."
   ]
  },
  {
   "cell_type": "code",
   "execution_count": 4,
   "metadata": {},
   "outputs": [
    {
     "name": "stdout",
     "output_type": "stream",
     "text": [
      "Train Shape (7377418, 37)\n",
      "Test Shape (2556790, 37)\n"
     ]
    }
   ],
   "source": [
    "#Check shape of the dataset and number of columns\n",
    "print(\"Train Shape\", train_clean.shape)\n",
    "print(\"Test Shape\", test_clean.shape)"
   ]
  },
  {
   "cell_type": "code",
   "execution_count": 5,
   "metadata": {
    "scrolled": true
   },
   "outputs": [
    {
     "name": "stdout",
     "output_type": "stream",
     "text": [
      "<class 'pandas.core.frame.DataFrame'>\n",
      "RangeIndex: 7377418 entries, 0 to 7377417\n",
      "Data columns (total 37 columns):\n",
      "msno                        object\n",
      "song_id                     object\n",
      "source_system_tab           object\n",
      "source_screen_name          object\n",
      "source_type                 object\n",
      "target                      int64\n",
      "song_length                 float64\n",
      "genre_ids                   object\n",
      "artist_name                 object\n",
      "composer                    object\n",
      "lyricist                    object\n",
      "language                    float64\n",
      "city                        int64\n",
      "bd                          int64\n",
      "gender                      object\n",
      "registered_via              int64\n",
      "lyricist_count              int64\n",
      "artist_count                int64\n",
      "composer_count              int64\n",
      "genre_count                 int64\n",
      "isrc_country                object\n",
      "isrc_year                   int64\n",
      "song_freq                   float64\n",
      "artist_freq                 float64\n",
      "composer_artist_lyricist    int64\n",
      "composer_artist             int64\n",
      "count_song_played           int64\n",
      "count_artist_played         int64\n",
      "duration                    float64\n",
      "registration_year           int64\n",
      "expiration_year             int64\n",
      "registration_month          int64\n",
      "expiration_month            int64\n",
      "registration_day            int64\n",
      "expiration_day              int64\n",
      "age_of_song                 int64\n",
      "song_type                   object\n",
      "dtypes: float64(5), int64(20), object(12)\n",
      "memory usage: 2.0+ GB\n"
     ]
    }
   ],
   "source": [
    "train_clean.info()"
   ]
  },
  {
   "cell_type": "markdown",
   "metadata": {},
   "source": [
    "## Target Encoding"
   ]
  },
  {
   "cell_type": "markdown",
   "metadata": {},
   "source": [
    "### Features with more than 25 categories will be target encoded. Rest will one-hot encoding"
   ]
  },
  {
   "cell_type": "code",
   "execution_count": 6,
   "metadata": {},
   "outputs": [],
   "source": [
    "# Defining class to target encoding of training data\n",
    "class KFoldTargetEncoderTrain(base.BaseEstimator, base.TransformerMixin):\n",
    "\n",
    "    def __init__(self, colnames,targetName,smoothing=5,n_fold=5,verbosity=True,discardOriginal_col=False):\n",
    "\n",
    "        self.colnames = colnames\n",
    "        self.targetName = targetName\n",
    "        self.n_fold = n_fold\n",
    "        self.verbosity = verbosity\n",
    "        self.discardOriginal_col = discardOriginal_col\n",
    "        self.smoothing = smoothing\n",
    "\n",
    "    def fit(self, X, y=None):\n",
    "        return self\n",
    "\n",
    "\n",
    "    def transform(self,X):\n",
    "\n",
    "        assert(type(self.targetName) == str)\n",
    "        assert(type(self.colnames) == str)\n",
    "        assert(self.colnames in X.columns)\n",
    "        assert(self.targetName in X.columns)\n",
    "\n",
    "        mean_of_target = X[self.targetName].mean()\n",
    "        \n",
    "        \n",
    "        # Spliting the data into kfolds\n",
    "        kf = KFold(n_splits = self.n_fold)\n",
    "\n",
    "        # Naming the column\n",
    "        col_mean_name = self.colnames + '_' + 'encoded'\n",
    "        X[col_mean_name] = np.nan\n",
    "\n",
    "        \n",
    "        for tr_ind, val_ind in kf.split(X):\n",
    "            X_tr, X_val = X.iloc[tr_ind], X.iloc[val_ind]\n",
    "            #print(tr_ind,val_ind) \n",
    "            \n",
    "            # creating target values\n",
    "            enc = X_tr.groupby(self.colnames)[self.targetName].agg(['count', 'mean'])\n",
    "            counts = enc['count']\n",
    "            means = enc['mean']\n",
    "            \n",
    "            # Applying smoothing to counter low frequency samples\n",
    "            smooth = (counts * means + self.smoothing * mean_of_target) / (counts + self.smoothing)\n",
    "\n",
    "            X.loc[X.index[val_ind], col_mean_name] = X_val[self.colnames].map(smooth)\n",
    "\n",
    "            # If variable not found then fill with global mean\n",
    "            X[col_mean_name].fillna(mean_of_target, inplace = True)\n",
    "\n",
    "        if self.verbosity:\n",
    "\n",
    "            encoded_feature = X[col_mean_name].values\n",
    "            print('Correlation between the new feature, {} and, {} is {}.'.format(col_mean_name,\n",
    "                                                                                      self.targetName,\n",
    "                                                                                      np.corrcoef(X[self.targetName].values, encoded_feature)[0][1]))\n",
    "        # Droping the original column\n",
    "        if self.discardOriginal_col:\n",
    "            X = X.drop(self.colnames, axis=1)\n",
    "            \n",
    "\n",
    "        return X"
   ]
  },
  {
   "cell_type": "code",
   "execution_count": 7,
   "metadata": {},
   "outputs": [],
   "source": [
    "class KFoldTargetEncoderTest(base.BaseEstimator, base.TransformerMixin):\n",
    "    \n",
    "    def __init__(self,train,colNames,encodedName,verbosity=True):\n",
    "        \n",
    "        self.train = train\n",
    "        self.colNames = colNames\n",
    "        self.encodedName = encodedName\n",
    "        self.verbosity = verbosity\n",
    "        \n",
    "    def fit(self, X, y=None):\n",
    "        return self\n",
    "\n",
    "    def transform(self,X):\n",
    "\n",
    "\n",
    "        mean = self.train[[self.colNames,self.encodedName]].groupby(self.colNames).mean().reset_index()\n",
    "        global_mean = mean[self.encodedName].mean()\n",
    "        mean[self.encodedName].fillna(global_mean,inplace=True)\n",
    "        \n",
    "        dd = {}\n",
    "        for index, row in mean.iterrows():\n",
    "            dd[row[self.colNames]] = row[self.encodedName]\n",
    "\n",
    "        \n",
    "        X[self.encodedName] = X[self.colNames].map(dd)\n",
    "        X[self.encodedName].fillna(global_mean, inplace = True)\n",
    "        #X = X.replace({self.encodedName: dd})\n",
    "        \n",
    "        if self.verbosity:\n",
    "            print('Done:',(self.colNames))\n",
    "\n",
    "        return X"
   ]
  },
  {
   "cell_type": "code",
   "execution_count": 8,
   "metadata": {},
   "outputs": [
    {
     "name": "stdout",
     "output_type": "stream",
     "text": [
      "Correlation between the new feature, genre_ids_encoded and, target is -0.02021206771320489.\n",
      "Correlation between the new feature, composer_encoded and, target is 0.10282564772309626.\n",
      "Correlation between the new feature, artist_name_encoded and, target is 0.10598778158865219.\n",
      "Correlation between the new feature, lyricist_encoded and, target is 0.07321287042731096.\n"
     ]
    },
    {
     "ename": "MemoryError",
     "evalue": "",
     "output_type": "error",
     "traceback": [
      "\u001b[1;31m---------------------------------------------------------------------------\u001b[0m",
      "\u001b[1;31mMemoryError\u001b[0m                               Traceback (most recent call last)",
      "\u001b[1;32m<ipython-input-8-bbb03492cbd1>\u001b[0m in \u001b[0;36m<module>\u001b[1;34m\u001b[0m\n\u001b[0;32m      4\u001b[0m \u001b[1;32mfor\u001b[0m \u001b[0mcol\u001b[0m \u001b[1;32min\u001b[0m \u001b[0mtarget_encod_col\u001b[0m\u001b[1;33m:\u001b[0m\u001b[1;33m\u001b[0m\u001b[1;33m\u001b[0m\u001b[0m\n\u001b[0;32m      5\u001b[0m     \u001b[0mtargetc\u001b[0m \u001b[1;33m=\u001b[0m \u001b[0mKFoldTargetEncoderTrain\u001b[0m\u001b[1;33m(\u001b[0m\u001b[0mcol\u001b[0m\u001b[1;33m,\u001b[0m\u001b[1;34m'target'\u001b[0m\u001b[1;33m,\u001b[0m\u001b[0mn_fold\u001b[0m\u001b[1;33m=\u001b[0m\u001b[1;36m5\u001b[0m\u001b[1;33m,\u001b[0m \u001b[0mdiscardOriginal_col\u001b[0m\u001b[1;33m=\u001b[0m\u001b[1;32mFalse\u001b[0m \u001b[1;33m)\u001b[0m\u001b[1;33m\u001b[0m\u001b[1;33m\u001b[0m\u001b[0m\n\u001b[1;32m----> 6\u001b[1;33m     \u001b[0mtrain_enc\u001b[0m \u001b[1;33m=\u001b[0m \u001b[0mtargetc\u001b[0m\u001b[1;33m.\u001b[0m\u001b[0mfit_transform\u001b[0m\u001b[1;33m(\u001b[0m\u001b[0mtrain_enc\u001b[0m\u001b[1;33m)\u001b[0m\u001b[1;33m\u001b[0m\u001b[1;33m\u001b[0m\u001b[0m\n\u001b[0m",
      "\u001b[1;32mC:\\ProgramData\\Anaconda3\\lib\\site-packages\\sklearn\\base.py\u001b[0m in \u001b[0;36mfit_transform\u001b[1;34m(self, X, y, **fit_params)\u001b[0m\n\u001b[0;32m    569\u001b[0m         \u001b[1;32mif\u001b[0m \u001b[0my\u001b[0m \u001b[1;32mis\u001b[0m \u001b[1;32mNone\u001b[0m\u001b[1;33m:\u001b[0m\u001b[1;33m\u001b[0m\u001b[1;33m\u001b[0m\u001b[0m\n\u001b[0;32m    570\u001b[0m             \u001b[1;31m# fit method of arity 1 (unsupervised transformation)\u001b[0m\u001b[1;33m\u001b[0m\u001b[1;33m\u001b[0m\u001b[1;33m\u001b[0m\u001b[0m\n\u001b[1;32m--> 571\u001b[1;33m             \u001b[1;32mreturn\u001b[0m \u001b[0mself\u001b[0m\u001b[1;33m.\u001b[0m\u001b[0mfit\u001b[0m\u001b[1;33m(\u001b[0m\u001b[0mX\u001b[0m\u001b[1;33m,\u001b[0m \u001b[1;33m**\u001b[0m\u001b[0mfit_params\u001b[0m\u001b[1;33m)\u001b[0m\u001b[1;33m.\u001b[0m\u001b[0mtransform\u001b[0m\u001b[1;33m(\u001b[0m\u001b[0mX\u001b[0m\u001b[1;33m)\u001b[0m\u001b[1;33m\u001b[0m\u001b[1;33m\u001b[0m\u001b[0m\n\u001b[0m\u001b[0;32m    572\u001b[0m         \u001b[1;32melse\u001b[0m\u001b[1;33m:\u001b[0m\u001b[1;33m\u001b[0m\u001b[1;33m\u001b[0m\u001b[0m\n\u001b[0;32m    573\u001b[0m             \u001b[1;31m# fit method of arity 2 (supervised transformation)\u001b[0m\u001b[1;33m\u001b[0m\u001b[1;33m\u001b[0m\u001b[1;33m\u001b[0m\u001b[0m\n",
      "\u001b[1;32m<ipython-input-6-5b6d6435c26d>\u001b[0m in \u001b[0;36mtransform\u001b[1;34m(self, X)\u001b[0m\n\u001b[0;32m     34\u001b[0m \u001b[1;33m\u001b[0m\u001b[0m\n\u001b[0;32m     35\u001b[0m         \u001b[1;32mfor\u001b[0m \u001b[0mtr_ind\u001b[0m\u001b[1;33m,\u001b[0m \u001b[0mval_ind\u001b[0m \u001b[1;32min\u001b[0m \u001b[0mkf\u001b[0m\u001b[1;33m.\u001b[0m\u001b[0msplit\u001b[0m\u001b[1;33m(\u001b[0m\u001b[0mX\u001b[0m\u001b[1;33m)\u001b[0m\u001b[1;33m:\u001b[0m\u001b[1;33m\u001b[0m\u001b[1;33m\u001b[0m\u001b[0m\n\u001b[1;32m---> 36\u001b[1;33m             \u001b[0mX_tr\u001b[0m\u001b[1;33m,\u001b[0m \u001b[0mX_val\u001b[0m \u001b[1;33m=\u001b[0m \u001b[0mX\u001b[0m\u001b[1;33m.\u001b[0m\u001b[0miloc\u001b[0m\u001b[1;33m[\u001b[0m\u001b[0mtr_ind\u001b[0m\u001b[1;33m]\u001b[0m\u001b[1;33m,\u001b[0m \u001b[0mX\u001b[0m\u001b[1;33m.\u001b[0m\u001b[0miloc\u001b[0m\u001b[1;33m[\u001b[0m\u001b[0mval_ind\u001b[0m\u001b[1;33m]\u001b[0m\u001b[1;33m\u001b[0m\u001b[1;33m\u001b[0m\u001b[0m\n\u001b[0m\u001b[0;32m     37\u001b[0m             \u001b[1;31m#print(tr_ind,val_ind)\u001b[0m\u001b[1;33m\u001b[0m\u001b[1;33m\u001b[0m\u001b[1;33m\u001b[0m\u001b[0m\n\u001b[0;32m     38\u001b[0m \u001b[1;33m\u001b[0m\u001b[0m\n",
      "\u001b[1;32mC:\\ProgramData\\Anaconda3\\lib\\site-packages\\pandas\\core\\indexing.py\u001b[0m in \u001b[0;36m__getitem__\u001b[1;34m(self, key)\u001b[0m\n\u001b[0;32m   1498\u001b[0m \u001b[1;33m\u001b[0m\u001b[0m\n\u001b[0;32m   1499\u001b[0m             \u001b[0mmaybe_callable\u001b[0m \u001b[1;33m=\u001b[0m \u001b[0mcom\u001b[0m\u001b[1;33m.\u001b[0m\u001b[0mapply_if_callable\u001b[0m\u001b[1;33m(\u001b[0m\u001b[0mkey\u001b[0m\u001b[1;33m,\u001b[0m \u001b[0mself\u001b[0m\u001b[1;33m.\u001b[0m\u001b[0mobj\u001b[0m\u001b[1;33m)\u001b[0m\u001b[1;33m\u001b[0m\u001b[1;33m\u001b[0m\u001b[0m\n\u001b[1;32m-> 1500\u001b[1;33m             \u001b[1;32mreturn\u001b[0m \u001b[0mself\u001b[0m\u001b[1;33m.\u001b[0m\u001b[0m_getitem_axis\u001b[0m\u001b[1;33m(\u001b[0m\u001b[0mmaybe_callable\u001b[0m\u001b[1;33m,\u001b[0m \u001b[0maxis\u001b[0m\u001b[1;33m=\u001b[0m\u001b[0maxis\u001b[0m\u001b[1;33m)\u001b[0m\u001b[1;33m\u001b[0m\u001b[1;33m\u001b[0m\u001b[0m\n\u001b[0m\u001b[0;32m   1501\u001b[0m \u001b[1;33m\u001b[0m\u001b[0m\n\u001b[0;32m   1502\u001b[0m     \u001b[1;32mdef\u001b[0m \u001b[0m_is_scalar_access\u001b[0m\u001b[1;33m(\u001b[0m\u001b[0mself\u001b[0m\u001b[1;33m,\u001b[0m \u001b[0mkey\u001b[0m\u001b[1;33m)\u001b[0m\u001b[1;33m:\u001b[0m\u001b[1;33m\u001b[0m\u001b[1;33m\u001b[0m\u001b[0m\n",
      "\u001b[1;32mC:\\ProgramData\\Anaconda3\\lib\\site-packages\\pandas\\core\\indexing.py\u001b[0m in \u001b[0;36m_getitem_axis\u001b[1;34m(self, key, axis)\u001b[0m\n\u001b[0;32m   2219\u001b[0m         \u001b[1;31m# a list of integers\u001b[0m\u001b[1;33m\u001b[0m\u001b[1;33m\u001b[0m\u001b[1;33m\u001b[0m\u001b[0m\n\u001b[0;32m   2220\u001b[0m         \u001b[1;32melif\u001b[0m \u001b[0mis_list_like_indexer\u001b[0m\u001b[1;33m(\u001b[0m\u001b[0mkey\u001b[0m\u001b[1;33m)\u001b[0m\u001b[1;33m:\u001b[0m\u001b[1;33m\u001b[0m\u001b[1;33m\u001b[0m\u001b[0m\n\u001b[1;32m-> 2221\u001b[1;33m             \u001b[1;32mreturn\u001b[0m \u001b[0mself\u001b[0m\u001b[1;33m.\u001b[0m\u001b[0m_get_list_axis\u001b[0m\u001b[1;33m(\u001b[0m\u001b[0mkey\u001b[0m\u001b[1;33m,\u001b[0m \u001b[0maxis\u001b[0m\u001b[1;33m=\u001b[0m\u001b[0maxis\u001b[0m\u001b[1;33m)\u001b[0m\u001b[1;33m\u001b[0m\u001b[1;33m\u001b[0m\u001b[0m\n\u001b[0m\u001b[0;32m   2222\u001b[0m \u001b[1;33m\u001b[0m\u001b[0m\n\u001b[0;32m   2223\u001b[0m         \u001b[1;31m# a single integer\u001b[0m\u001b[1;33m\u001b[0m\u001b[1;33m\u001b[0m\u001b[1;33m\u001b[0m\u001b[0m\n",
      "\u001b[1;32mC:\\ProgramData\\Anaconda3\\lib\\site-packages\\pandas\\core\\indexing.py\u001b[0m in \u001b[0;36m_get_list_axis\u001b[1;34m(self, key, axis)\u001b[0m\n\u001b[0;32m   2198\u001b[0m             \u001b[0maxis\u001b[0m \u001b[1;33m=\u001b[0m \u001b[0mself\u001b[0m\u001b[1;33m.\u001b[0m\u001b[0maxis\u001b[0m \u001b[1;32mor\u001b[0m \u001b[1;36m0\u001b[0m\u001b[1;33m\u001b[0m\u001b[1;33m\u001b[0m\u001b[0m\n\u001b[0;32m   2199\u001b[0m         \u001b[1;32mtry\u001b[0m\u001b[1;33m:\u001b[0m\u001b[1;33m\u001b[0m\u001b[1;33m\u001b[0m\u001b[0m\n\u001b[1;32m-> 2200\u001b[1;33m             \u001b[1;32mreturn\u001b[0m \u001b[0mself\u001b[0m\u001b[1;33m.\u001b[0m\u001b[0mobj\u001b[0m\u001b[1;33m.\u001b[0m\u001b[0m_take\u001b[0m\u001b[1;33m(\u001b[0m\u001b[0mkey\u001b[0m\u001b[1;33m,\u001b[0m \u001b[0maxis\u001b[0m\u001b[1;33m=\u001b[0m\u001b[0maxis\u001b[0m\u001b[1;33m)\u001b[0m\u001b[1;33m\u001b[0m\u001b[1;33m\u001b[0m\u001b[0m\n\u001b[0m\u001b[0;32m   2201\u001b[0m         \u001b[1;32mexcept\u001b[0m \u001b[0mIndexError\u001b[0m\u001b[1;33m:\u001b[0m\u001b[1;33m\u001b[0m\u001b[1;33m\u001b[0m\u001b[0m\n\u001b[0;32m   2202\u001b[0m             \u001b[1;31m# re-raise with different error message\u001b[0m\u001b[1;33m\u001b[0m\u001b[1;33m\u001b[0m\u001b[1;33m\u001b[0m\u001b[0m\n",
      "\u001b[1;32mC:\\ProgramData\\Anaconda3\\lib\\site-packages\\pandas\\core\\generic.py\u001b[0m in \u001b[0;36m_take\u001b[1;34m(self, indices, axis, is_copy)\u001b[0m\n\u001b[0;32m   3357\u001b[0m         new_data = self._data.take(indices,\n\u001b[0;32m   3358\u001b[0m                                    \u001b[0maxis\u001b[0m\u001b[1;33m=\u001b[0m\u001b[0mself\u001b[0m\u001b[1;33m.\u001b[0m\u001b[0m_get_block_manager_axis\u001b[0m\u001b[1;33m(\u001b[0m\u001b[0maxis\u001b[0m\u001b[1;33m)\u001b[0m\u001b[1;33m,\u001b[0m\u001b[1;33m\u001b[0m\u001b[1;33m\u001b[0m\u001b[0m\n\u001b[1;32m-> 3359\u001b[1;33m                                    verify=True)\n\u001b[0m\u001b[0;32m   3360\u001b[0m         \u001b[0mresult\u001b[0m \u001b[1;33m=\u001b[0m \u001b[0mself\u001b[0m\u001b[1;33m.\u001b[0m\u001b[0m_constructor\u001b[0m\u001b[1;33m(\u001b[0m\u001b[0mnew_data\u001b[0m\u001b[1;33m)\u001b[0m\u001b[1;33m.\u001b[0m\u001b[0m__finalize__\u001b[0m\u001b[1;33m(\u001b[0m\u001b[0mself\u001b[0m\u001b[1;33m)\u001b[0m\u001b[1;33m\u001b[0m\u001b[1;33m\u001b[0m\u001b[0m\n\u001b[0;32m   3361\u001b[0m \u001b[1;33m\u001b[0m\u001b[0m\n",
      "\u001b[1;32mC:\\ProgramData\\Anaconda3\\lib\\site-packages\\pandas\\core\\internals\\managers.py\u001b[0m in \u001b[0;36mtake\u001b[1;34m(self, indexer, axis, verify, convert)\u001b[0m\n\u001b[0;32m   1348\u001b[0m         \u001b[0mnew_labels\u001b[0m \u001b[1;33m=\u001b[0m \u001b[0mself\u001b[0m\u001b[1;33m.\u001b[0m\u001b[0maxes\u001b[0m\u001b[1;33m[\u001b[0m\u001b[0maxis\u001b[0m\u001b[1;33m]\u001b[0m\u001b[1;33m.\u001b[0m\u001b[0mtake\u001b[0m\u001b[1;33m(\u001b[0m\u001b[0mindexer\u001b[0m\u001b[1;33m)\u001b[0m\u001b[1;33m\u001b[0m\u001b[1;33m\u001b[0m\u001b[0m\n\u001b[0;32m   1349\u001b[0m         return self.reindex_indexer(new_axis=new_labels, indexer=indexer,\n\u001b[1;32m-> 1350\u001b[1;33m                                     axis=axis, allow_dups=True)\n\u001b[0m\u001b[0;32m   1351\u001b[0m \u001b[1;33m\u001b[0m\u001b[0m\n\u001b[0;32m   1352\u001b[0m     \u001b[1;32mdef\u001b[0m \u001b[0mmerge\u001b[0m\u001b[1;33m(\u001b[0m\u001b[0mself\u001b[0m\u001b[1;33m,\u001b[0m \u001b[0mother\u001b[0m\u001b[1;33m,\u001b[0m \u001b[0mlsuffix\u001b[0m\u001b[1;33m=\u001b[0m\u001b[1;34m''\u001b[0m\u001b[1;33m,\u001b[0m \u001b[0mrsuffix\u001b[0m\u001b[1;33m=\u001b[0m\u001b[1;34m''\u001b[0m\u001b[1;33m)\u001b[0m\u001b[1;33m:\u001b[0m\u001b[1;33m\u001b[0m\u001b[1;33m\u001b[0m\u001b[0m\n",
      "\u001b[1;32mC:\\ProgramData\\Anaconda3\\lib\\site-packages\\pandas\\core\\internals\\managers.py\u001b[0m in \u001b[0;36mreindex_indexer\u001b[1;34m(self, new_axis, indexer, axis, fill_value, allow_dups, copy)\u001b[0m\n\u001b[0;32m   1233\u001b[0m             new_blocks = [blk.take_nd(indexer, axis=axis, fill_tuple=(\n\u001b[0;32m   1234\u001b[0m                 fill_value if fill_value is not None else blk.fill_value,))\n\u001b[1;32m-> 1235\u001b[1;33m                 for blk in self.blocks]\n\u001b[0m\u001b[0;32m   1236\u001b[0m \u001b[1;33m\u001b[0m\u001b[0m\n\u001b[0;32m   1237\u001b[0m         \u001b[0mnew_axes\u001b[0m \u001b[1;33m=\u001b[0m \u001b[0mlist\u001b[0m\u001b[1;33m(\u001b[0m\u001b[0mself\u001b[0m\u001b[1;33m.\u001b[0m\u001b[0maxes\u001b[0m\u001b[1;33m)\u001b[0m\u001b[1;33m\u001b[0m\u001b[1;33m\u001b[0m\u001b[0m\n",
      "\u001b[1;32mC:\\ProgramData\\Anaconda3\\lib\\site-packages\\pandas\\core\\internals\\managers.py\u001b[0m in \u001b[0;36m<listcomp>\u001b[1;34m(.0)\u001b[0m\n\u001b[0;32m   1233\u001b[0m             new_blocks = [blk.take_nd(indexer, axis=axis, fill_tuple=(\n\u001b[0;32m   1234\u001b[0m                 fill_value if fill_value is not None else blk.fill_value,))\n\u001b[1;32m-> 1235\u001b[1;33m                 for blk in self.blocks]\n\u001b[0m\u001b[0;32m   1236\u001b[0m \u001b[1;33m\u001b[0m\u001b[0m\n\u001b[0;32m   1237\u001b[0m         \u001b[0mnew_axes\u001b[0m \u001b[1;33m=\u001b[0m \u001b[0mlist\u001b[0m\u001b[1;33m(\u001b[0m\u001b[0mself\u001b[0m\u001b[1;33m.\u001b[0m\u001b[0maxes\u001b[0m\u001b[1;33m)\u001b[0m\u001b[1;33m\u001b[0m\u001b[1;33m\u001b[0m\u001b[0m\n",
      "\u001b[1;32mC:\\ProgramData\\Anaconda3\\lib\\site-packages\\pandas\\core\\internals\\blocks.py\u001b[0m in \u001b[0;36mtake_nd\u001b[1;34m(self, indexer, axis, new_mgr_locs, fill_tuple)\u001b[0m\n\u001b[0;32m   1236\u001b[0m             \u001b[0mfill_value\u001b[0m \u001b[1;33m=\u001b[0m \u001b[0mfill_tuple\u001b[0m\u001b[1;33m[\u001b[0m\u001b[1;36m0\u001b[0m\u001b[1;33m]\u001b[0m\u001b[1;33m\u001b[0m\u001b[1;33m\u001b[0m\u001b[0m\n\u001b[0;32m   1237\u001b[0m             new_values = algos.take_nd(values, indexer, axis=axis,\n\u001b[1;32m-> 1238\u001b[1;33m                                        allow_fill=True, fill_value=fill_value)\n\u001b[0m\u001b[0;32m   1239\u001b[0m \u001b[1;33m\u001b[0m\u001b[0m\n\u001b[0;32m   1240\u001b[0m         \u001b[1;32mif\u001b[0m \u001b[0mnew_mgr_locs\u001b[0m \u001b[1;32mis\u001b[0m \u001b[1;32mNone\u001b[0m\u001b[1;33m:\u001b[0m\u001b[1;33m\u001b[0m\u001b[1;33m\u001b[0m\u001b[0m\n",
      "\u001b[1;32mC:\\ProgramData\\Anaconda3\\lib\\site-packages\\pandas\\core\\algorithms.py\u001b[0m in \u001b[0;36mtake_nd\u001b[1;34m(arr, indexer, axis, out, fill_value, mask_info, allow_fill)\u001b[0m\n\u001b[0;32m   1649\u001b[0m             \u001b[0mout\u001b[0m \u001b[1;33m=\u001b[0m \u001b[0mnp\u001b[0m\u001b[1;33m.\u001b[0m\u001b[0mempty\u001b[0m\u001b[1;33m(\u001b[0m\u001b[0mout_shape\u001b[0m\u001b[1;33m,\u001b[0m \u001b[0mdtype\u001b[0m\u001b[1;33m=\u001b[0m\u001b[0mdtype\u001b[0m\u001b[1;33m,\u001b[0m \u001b[0morder\u001b[0m\u001b[1;33m=\u001b[0m\u001b[1;34m'F'\u001b[0m\u001b[1;33m)\u001b[0m\u001b[1;33m\u001b[0m\u001b[1;33m\u001b[0m\u001b[0m\n\u001b[0;32m   1650\u001b[0m         \u001b[1;32melse\u001b[0m\u001b[1;33m:\u001b[0m\u001b[1;33m\u001b[0m\u001b[1;33m\u001b[0m\u001b[0m\n\u001b[1;32m-> 1651\u001b[1;33m             \u001b[0mout\u001b[0m \u001b[1;33m=\u001b[0m \u001b[0mnp\u001b[0m\u001b[1;33m.\u001b[0m\u001b[0mempty\u001b[0m\u001b[1;33m(\u001b[0m\u001b[0mout_shape\u001b[0m\u001b[1;33m,\u001b[0m \u001b[0mdtype\u001b[0m\u001b[1;33m=\u001b[0m\u001b[0mdtype\u001b[0m\u001b[1;33m)\u001b[0m\u001b[1;33m\u001b[0m\u001b[1;33m\u001b[0m\u001b[0m\n\u001b[0m\u001b[0;32m   1652\u001b[0m \u001b[1;33m\u001b[0m\u001b[0m\n\u001b[0;32m   1653\u001b[0m     func = _get_take_nd_function(arr.ndim, arr.dtype, out.dtype, axis=axis,\n",
      "\u001b[1;31mMemoryError\u001b[0m: "
     ]
    }
   ],
   "source": [
    "# Encoding Training Data\n",
    "target_encod_col = ['genre_ids', 'composer', 'artist_name', 'lyricist', 'isrc_country']\n",
    "train_enc = train_clean\n",
    "for col in target_encod_col:\n",
    "    targetc = KFoldTargetEncoderTrain(col,'target',n_fold=5, discardOriginal_col=False )\n",
    "    train_enc = targetc.fit_transform(train_enc)"
   ]
  },
  {
   "cell_type": "code",
   "execution_count": null,
   "metadata": {},
   "outputs": [],
   "source": [
    "# Encoding Testing Data\n",
    "test_enc = test_clean\n",
    "encoded_name = ['genre_ids_encoded', 'composer_encoded', 'artist_name_encoded', 'lyricist_encoded', 'isrc_country_encoded']\n",
    "for col in target_encod_col:\n",
    "    targetc = KFoldTargetEncoderTest(train_enc,col,col+'_encoded' )\n",
    "    test_enc = targetc.fit_transform(test_enc)\n",
    "    \n",
    "#train_enc = train_enc.drop(target_encod_col,axis=1)"
   ]
  },
  {
   "cell_type": "markdown",
   "metadata": {},
   "source": [
    "#### Resizing the data for efficient use of memory¶"
   ]
  },
  {
   "cell_type": "code",
   "execution_count": null,
   "metadata": {},
   "outputs": [],
   "source": [
    "# Memory used before resize\n",
    "mem_train = train_enc.memory_usage(index=True).sum()\n",
    "mem_test = test_enc.memory_usage(index=True).sum()\n",
    "print(\"Memory consumed by training set  :   {} MB\" .format(mem_train/ 1024**2))\n",
    "print(\"Memory consumed by training set  :   {} MB\" .format(mem_test/ 1024**2))"
   ]
  },
  {
   "cell_type": "code",
   "execution_count": null,
   "metadata": {},
   "outputs": [],
   "source": [
    "def reduce_size(train, istrain = True):\n",
    "    drop_col = ['registration_day', 'expiration_day', \n",
    "                'registration_month', 'composer_artist_lyricist', 'composer_artist', 'gender']\n",
    "    train = train.drop(drop_col,axis=1)\n",
    "\n",
    "    # Selecting string columns\n",
    "    cat_names = list(train.select_dtypes(include='object').columns)\n",
    "\n",
    "    #Converting to categories\n",
    "    train[cat_names] = train[cat_names].astype('category')\n",
    "\n",
    "    int_names = list(train.select_dtypes(include='int64').columns)\n",
    "    int_names.remove('count_artist_played')\n",
    "    int_names.remove('count_song_played')\n",
    "    if (istrain == False):\n",
    "        int_names = int_names[1:]\n",
    "    train[int_names] = train[int_names].astype('int16')\n",
    "    train[['count_artist_played', 'count_song_played']] = train[['count_artist_played', 'count_song_played']].astype('int32')\n",
    "    \n",
    "    if istrain:\n",
    "        int_8_col = ['target']\n",
    "        train[int_8_col] = train[int_8_col].astype('int8')\n",
    "\n",
    "\n",
    "    float_names = list(train.select_dtypes(include='float64').columns)\n",
    "    if (istrain == False):\n",
    "        float_names = float_names + ['genre_ids_encoded', 'composer_encoded', 'artist_name_encoded', 'lyricist_encoded', 'isrc_country_encoded']\n",
    "    \n",
    "    float_names.remove('song_length')\n",
    "    train[float_names] = train[float_names].astype('float16')\n",
    "    train['song_length'] = train['song_length'].astype('float32')\n",
    "    \n",
    "    return train\n",
    "\n",
    "train_enc = reduce_size(train_enc)\n",
    "test_enc = reduce_size(test_enc, istrain = False)"
   ]
  },
  {
   "cell_type": "code",
   "execution_count": null,
   "metadata": {},
   "outputs": [],
   "source": [
    "# Memory usage post resizing \n",
    "mem_train = train_enc.memory_usage(index=True).sum()\n",
    "mem_test = test_enc.memory_usage(index=True).sum()\n",
    "print(\"Memory consumed by training set  :   {} MB\" .format(mem_train/ 1024**2))\n",
    "print(\"Memory consumed by testing set  :   {} MB\" .format(mem_test/ 1024**2))"
   ]
  },
  {
   "cell_type": "code",
   "execution_count": null,
   "metadata": {},
   "outputs": [],
   "source": [
    "numeric = list(test_enc.select_dtypes(exclude='category').columns)\n",
    "test_enc[numeric].max()"
   ]
  },
  {
   "cell_type": "code",
   "execution_count": null,
   "metadata": {},
   "outputs": [],
   "source": [
    "test_enc.head()"
   ]
  },
  {
   "cell_type": "markdown",
   "metadata": {},
   "source": [
    "## Using SVD Decomposition to extract User-Song Features"
   ]
  },
  {
   "cell_type": "code",
   "execution_count": null,
   "metadata": {},
   "outputs": [],
   "source": [
    "# Function to replace new users_songs with global average.\n",
    "\n",
    "def cold_start(train_data, test_data, feature_data):\n",
    "    \n",
    "    # Global Average\n",
    "    global_avg = list(feature_data.mean(axis=0))\n",
    "    \n",
    "    # Merging the new features\n",
    "    test_data = test_data.merge(feature_data, how = 'left', on = 'msno')\n",
    "    \n",
    "    \n",
    "    # Finding users that are present in test data and absent in train data\n",
    "    diff = list(set(test_data.msno) - set(train_data.msno))\n",
    "    diff_index = test_data[test_data.msno.isin(diff)].index\n",
    "    \n",
    "    # Feature Column Names\n",
    "    cols = list(feature_data.columns)\n",
    "    cols.remove('msno')\n",
    "    \n",
    "    # Replacing the missing user values with global average\n",
    "    test_data.loc[diff_index, cols] = global_avg + 2\n",
    "    \n",
    "    return test_data"
   ]
  },
  {
   "cell_type": "code",
   "execution_count": null,
   "metadata": {
    "scrolled": true
   },
   "outputs": [],
   "source": [
    "# Creating matrix of user id and song _id with target as values\n",
    "matrix = train_enc.drop(train_enc.columns.difference(['msno','song_id','target']),axis = 1)\n",
    "\n",
    "# Unique songs and users\n",
    "n_users = matrix.msno.unique().shape[0]\n",
    "n_songs = matrix.song_id.unique().shape[0]\n",
    "\n",
    "# Converting msno and song ids to numeric labels\n",
    "users = pd.DataFrame(matrix.msno.unique(), columns = ['msno'])\n",
    "users['index'] = users.index\n",
    "users.set_index('msno', inplace = True)\n",
    "users = users.to_dict()['index']\n",
    "matrix['msno_index'] =  matrix.msno.map(users)\n",
    "\n",
    "songs = pd.DataFrame(matrix.song_id.unique(), columns = ['song'])\n",
    "songs['index'] = songs.index\n",
    "songs.set_index('song', inplace = True)\n",
    "songs = songs.to_dict()['index']\n",
    "matrix['song_index'] =  matrix.song_id.map(songs)\n",
    "\n",
    "# Dropping the actual msno and song ids\n",
    "matrix= matrix.drop(['msno', 'song_id'], axis = 1)\n",
    "matrix.head()"
   ]
  },
  {
   "cell_type": "code",
   "execution_count": null,
   "metadata": {},
   "outputs": [],
   "source": [
    "# Import SVD Library\n",
    "from sklearn.decomposition import TruncatedSVD\n",
    "\n",
    "# creating memory efficient column sparse matrix for use in svd decomposition\n",
    "user_song = csc_matrix((matrix.target, (matrix.msno_index, matrix.song_index)),(n_users,n_songs))\n",
    "\n",
    "# Initialize and fit SVD on user-song matrix\n",
    "svd = TruncatedSVD(n_components=20, n_iter=7, random_state=42)\n",
    "svd.fit(user_song)"
   ]
  },
  {
   "cell_type": "code",
   "execution_count": null,
   "metadata": {},
   "outputs": [],
   "source": [
    "# Total explained variation\n",
    "print(\"Total Explained Variation:\", svd.explained_variance_ratio_.sum())\n",
    "\n",
    "# Plotting the explained varaiation against the number of components\n",
    "_ = plt.plot(svd.singular_values_)\n",
    "\n",
    "#print(svd.singular_values_)"
   ]
  },
  {
   "cell_type": "code",
   "execution_count": 19,
   "metadata": {},
   "outputs": [],
   "source": [
    "# Extracting the components into data frame\n",
    "user_song_reduced = svd.transform(user_song)\n",
    "col_name = ['us_'+str(i) for i in range(1,21)]\n",
    "user_song_feat = pd.DataFrame(user_song_reduced, columns = col_name)\n",
    "user_song_feat['msno'] = train_enc.msno.unique()\n",
    "\n",
    "# maping the components into the training data set\n",
    "train_enc = train_enc.merge(user_song_feat, how = 'left', on = 'msno')\n",
    "#train_clean = train_clean.merge(user_song_feat, how = 'left', on = 'msno')"
   ]
  },
  {
   "cell_type": "code",
   "execution_count": 20,
   "metadata": {},
   "outputs": [],
   "source": [
    "# Maping components into testing data set\n",
    "test_enc = cold_start(train_enc,test_enc,user_song_feat)"
   ]
  },
  {
   "cell_type": "code",
   "execution_count": 21,
   "metadata": {},
   "outputs": [
    {
     "name": "stdout",
     "output_type": "stream",
     "text": [
      "<class 'pandas.core.frame.DataFrame'>\n",
      "Int64Index: 2556790 entries, 0 to 2556789\n",
      "Data columns (total 56 columns):\n",
      "id                      int64\n",
      "msno                    object\n",
      "song_id                 category\n",
      "source_system_tab       category\n",
      "source_screen_name      category\n",
      "source_type             category\n",
      "song_length             float32\n",
      "genre_ids               category\n",
      "artist_name             category\n",
      "composer                category\n",
      "lyricist                category\n",
      "language                float16\n",
      "city                    int16\n",
      "bd                      int16\n",
      "registered_via          int16\n",
      "lyricist_count          int16\n",
      "artist_count            int16\n",
      "composer_count          int16\n",
      "genre_count             int16\n",
      "isrc_country            category\n",
      "isrc_year               int16\n",
      "song_freq               float16\n",
      "artist_freq             float16\n",
      "count_song_played       int32\n",
      "count_artist_played     int32\n",
      "duration                float16\n",
      "registration_year       int16\n",
      "expiration_year         int16\n",
      "expiration_month        int16\n",
      "age_of_song             int16\n",
      "song_type               category\n",
      "genre_ids_encoded       float16\n",
      "composer_encoded        float16\n",
      "artist_name_encoded     float16\n",
      "lyricist_encoded        float16\n",
      "isrc_country_encoded    float16\n",
      "us_1                    float64\n",
      "us_2                    float64\n",
      "us_3                    float64\n",
      "us_4                    float64\n",
      "us_5                    float64\n",
      "us_6                    float64\n",
      "us_7                    float64\n",
      "us_8                    float64\n",
      "us_9                    float64\n",
      "us_10                   float64\n",
      "us_11                   float64\n",
      "us_12                   float64\n",
      "us_13                   float64\n",
      "us_14                   float64\n",
      "us_15                   float64\n",
      "us_16                   float64\n",
      "us_17                   float64\n",
      "us_18                   float64\n",
      "us_19                   float64\n",
      "us_20                   float64\n",
      "dtypes: category(10), float16(9), float32(1), float64(20), int16(12), int32(2), int64(1), object(1)\n",
      "memory usage: 723.6+ MB\n"
     ]
    }
   ],
   "source": [
    "test_enc.info()"
   ]
  },
  {
   "cell_type": "code",
   "execution_count": 22,
   "metadata": {
    "scrolled": false
   },
   "outputs": [],
   "source": [
    "def extra_reduce_size(data):\n",
    "    float_names = list(data.select_dtypes(include='float64').columns)\n",
    "    data[float_names] = data[float_names].astype('float16')\n",
    "    data['duration'] = data['duration'].astype('int32')\n",
    "\n",
    "    float_to_inc = ['song_freq', 'artist_freq', 'language']\n",
    "    data[float_to_inc] = data[float_to_inc].astype('int16')\n",
    "\n",
    "    #train_enc.drop('msno', axis = 1, inplace = True)\n",
    "    return data\n",
    "\n",
    "train_enc = extra_reduce_size(train_enc)\n",
    "test_enc = extra_reduce_size(test_enc)\n"
   ]
  },
  {
   "cell_type": "code",
   "execution_count": 23,
   "metadata": {},
   "outputs": [],
   "source": [
    "#numeric = list(train_enc.select_dtypes(exclude='category').columns)\n",
    "#train_enc[numeric].min()"
   ]
  },
  {
   "cell_type": "markdown",
   "metadata": {},
   "source": [
    "## SVD Implementation of User-genre_id Features"
   ]
  },
  {
   "cell_type": "code",
   "execution_count": 24,
   "metadata": {},
   "outputs": [],
   "source": [
    "# Creating user-genre sparse matrix\n",
    "matrix = train_clean.drop(train_clean.columns.difference(['msno','genre_ids','target']),axis = 1)\n",
    "matrix = pd.pivot_table(train_clean,values = 'target', index = 'msno', columns = 'genre_ids', aggfunc= np.sum).fillna(0)\n",
    "user_genre = csc_matrix(matrix)\n"
   ]
  },
  {
   "cell_type": "code",
   "execution_count": 25,
   "metadata": {},
   "outputs": [
    {
     "name": "stdout",
     "output_type": "stream",
     "text": [
      "0.9679396048126867\n"
     ]
    },
    {
     "data": {
      "text/plain": [
       "[<matplotlib.lines.Line2D at 0x27a5e4facf8>]"
      ]
     },
     "execution_count": 25,
     "metadata": {},
     "output_type": "execute_result"
    },
    {
     "data": {
      "image/png": "[encoded data removed]",
      "text/plain": [
       "<Figure size 432x288 with 1 Axes>"
      ]
     },
     "metadata": {},
     "output_type": "display_data"
    }
   ],
   "source": [
    "# Initialize and fit SVD on user-song matrix\n",
    "svd = TruncatedSVD(n_components=5, n_iter=7, random_state=42)\n",
    "svd.fit(user_genre)\n",
    "\n",
    "# Total explained variation\n",
    "print(svd.explained_variance_ratio_.sum())\n",
    "\n",
    "# Plotting the explained varaiation against the number of components\n",
    "plt.plot(svd.singular_values_)"
   ]
  },
  {
   "cell_type": "code",
   "execution_count": 26,
   "metadata": {},
   "outputs": [],
   "source": [
    "# Extracting the components into data frame\n",
    "user_genre_reduced = svd.transform(user_genre)\n",
    "col_name = ['ug_'+str(i) for i in range(1,6)]\n",
    "user_genre_feat = pd.DataFrame(user_genre_reduced, columns = col_name)\n",
    "user_genre_feat['msno'] = matrix.index\n",
    "\n",
    "# maping the components into the training data set\n",
    "train_enc = train_enc.merge(user_genre_feat, how = 'left', on = 'msno')\n",
    "\n",
    "# maping the components into the test data set\n",
    "test_enc = cold_start(train_enc,test_enc,user_genre_feat)\n",
    "\n",
    "#train = train.merge(user_genre_feat, how = 'left', on = 'msno')\n",
    "#train_enc.info()\n",
    "\n"
   ]
  },
  {
   "cell_type": "markdown",
   "metadata": {},
   "source": [
    "## SVD Implementation of User-artist name Features"
   ]
  },
  {
   "cell_type": "code",
   "execution_count": 27,
   "metadata": {},
   "outputs": [
    {
     "data": {
      "text/html": [
       "<div>\n",
       "<style scoped>\n",
       "    .dataframe tbody tr th:only-of-type {\n",
       "        vertical-align: middle;\n",
       "    }\n",
       "\n",
       "    .dataframe tbody tr th {\n",
       "        vertical-align: top;\n",
       "    }\n",
       "\n",
       "    .dataframe thead th {\n",
       "        text-align: right;\n",
       "    }\n",
       "</style>\n",
       "<table border=\"1\" class=\"dataframe\">\n",
       "  <thead>\n",
       "    <tr style=\"text-align: right;\">\n",
       "      <th></th>\n",
       "      <th>target</th>\n",
       "      <th>msno_index</th>\n",
       "      <th>artist_index</th>\n",
       "    </tr>\n",
       "  </thead>\n",
       "  <tbody>\n",
       "    <tr>\n",
       "      <th>0</th>\n",
       "      <td>2</td>\n",
       "      <td>0</td>\n",
       "      <td>0</td>\n",
       "    </tr>\n",
       "    <tr>\n",
       "      <th>1</th>\n",
       "      <td>1</td>\n",
       "      <td>0</td>\n",
       "      <td>1</td>\n",
       "    </tr>\n",
       "    <tr>\n",
       "      <th>2</th>\n",
       "      <td>0</td>\n",
       "      <td>0</td>\n",
       "      <td>2</td>\n",
       "    </tr>\n",
       "    <tr>\n",
       "      <th>3</th>\n",
       "      <td>3</td>\n",
       "      <td>0</td>\n",
       "      <td>3</td>\n",
       "    </tr>\n",
       "    <tr>\n",
       "      <th>4</th>\n",
       "      <td>4</td>\n",
       "      <td>0</td>\n",
       "      <td>4</td>\n",
       "    </tr>\n",
       "  </tbody>\n",
       "</table>\n",
       "</div>"
      ],
      "text/plain": [
       "   target  msno_index  artist_index\n",
       "0       2           0             0\n",
       "1       1           0             1\n",
       "2       0           0             2\n",
       "3       3           0             3\n",
       "4       4           0             4"
      ]
     },
     "execution_count": 27,
     "metadata": {},
     "output_type": "execute_result"
    }
   ],
   "source": [
    "# Creating user-artist sparse matrix\n",
    "matrix = train_clean.drop(train_clean.columns.difference(['msno','artist_name','target']),axis = 1)\n",
    "matrix = matrix.groupby(['msno', 'artist_name'])['target'].sum()\n",
    "matrix = matrix.reset_index()\n",
    "\n",
    "# Unique songs and artist\n",
    "n_users = matrix.msno.unique().shape[0]\n",
    "n_artist = matrix.artist_name.unique().shape[0]\n",
    "\n",
    "# Converting msno and artist to numeric labels\n",
    "users = pd.DataFrame(matrix.msno.unique(), columns = ['msno'])\n",
    "users['index'] = users.index\n",
    "users.set_index('msno', inplace = True)\n",
    "users = users.to_dict()['index']\n",
    "matrix['msno_index'] =  matrix.msno.map(users)\n",
    "\n",
    "artist = pd.DataFrame(matrix.artist_name.unique(), columns = ['artist'])\n",
    "artist['index'] = artist.index\n",
    "artist.set_index('artist', inplace = True)\n",
    "artist = artist.to_dict()['index']\n",
    "matrix['artist_index'] =  matrix.artist_name.map(artist)\n",
    "\n",
    "# Dropping the actual msno and artist\n",
    "user_index = matrix.msno.unique()\n",
    "matrix= matrix.drop(['msno', 'artist_name'], axis = 1)\n",
    "matrix.head()\n",
    "\n",
    "#user_genre = csc_matrix(matrix)\n",
    "#matrix.head()"
   ]
  },
  {
   "cell_type": "code",
   "execution_count": 28,
   "metadata": {},
   "outputs": [
    {
     "name": "stdout",
     "output_type": "stream",
     "text": [
      "0.45846842453414877\n"
     ]
    },
    {
     "data": {
      "text/plain": [
       "[<matplotlib.lines.Line2D at 0x27a5ebbe358>]"
      ]
     },
     "execution_count": 28,
     "metadata": {},
     "output_type": "execute_result"
    },
    {
     "data": {
      "image/png": "[encoded data removed]",
      "text/plain": [
       "<Figure size 432x288 with 1 Axes>"
      ]
     },
     "metadata": {},
     "output_type": "display_data"
    }
   ],
   "source": [
    "# Creating user-genre sparse matrix\n",
    "user_artist = csc_matrix((matrix.target, (matrix.msno_index, matrix.artist_index)),(n_users,n_artist))\n",
    "\n",
    "# Initialize and fit SVD on user-song matrix\n",
    "svd = TruncatedSVD(n_components=12, n_iter=7, random_state=42)\n",
    "svd.fit(user_artist)\n",
    "\n",
    "# Total explained variation\n",
    "print(svd.explained_variance_ratio_.sum())\n",
    "\n",
    "# Plotting the explained varaiation against the number of components\n",
    "plt.plot(svd.singular_values_)"
   ]
  },
  {
   "cell_type": "code",
   "execution_count": 29,
   "metadata": {},
   "outputs": [],
   "source": [
    "# Extracting the components into data frame\n",
    "user_artist_reduced = svd.transform(user_artist)\n",
    "col_name = ['ua_'+str(i) for i in range(1,13)]\n",
    "user_artist_feat = pd.DataFrame(user_artist_reduced, columns = col_name)\n",
    "user_artist_feat['msno'] = user_index\n",
    "#train_enc.any()\n",
    "\n",
    "# maping the components into the training data set\n",
    "train_enc = train_enc.merge(user_artist_feat, how = 'left', on = 'msno')\n",
    "\n",
    "# maping the components into the testing data set\n",
    "test_enc = cold_start(train_enc,test_enc,user_artist_feat)\n",
    "\n",
    "\n",
    "#train = train.merge(user_artist_feat, how = 'left', on = 'msno')\n",
    "#train_enc.info()"
   ]
  },
  {
   "cell_type": "code",
   "execution_count": 30,
   "metadata": {
    "scrolled": false
   },
   "outputs": [],
   "source": [
    "float_names = list(train_enc.select_dtypes(include='float64').columns)\n",
    "train_enc[float_names] = train_enc[float_names].astype('float16')\n",
    "test_enc[float_names] = test_enc[float_names].astype('float16')"
   ]
  },
  {
   "cell_type": "code",
   "execution_count": 31,
   "metadata": {},
   "outputs": [
    {
     "name": "stdout",
     "output_type": "stream",
     "text": [
      "Memory consumed by training set  :   1214.987590789795 MB\n",
      "Memory consumed by testing set  :   518.7513332366943 MB\n"
     ]
    }
   ],
   "source": [
    "# Memory usage post resizing \n",
    "mem_train = train_enc.memory_usage(index=True).sum()\n",
    "mem_test = test_enc.memory_usage(index=True).sum()\n",
    "print(\"Memory consumed by training set  :   {} MB\" .format(mem_train/ 1024**2))\n",
    "print(\"Memory consumed by testing set  :   {} MB\" .format(mem_test/ 1024**2))"
   ]
  },
  {
   "cell_type": "code",
   "execution_count": 32,
   "metadata": {},
   "outputs": [
    {
     "name": "stdout",
     "output_type": "stream",
     "text": [
      "<class 'pandas.core.frame.DataFrame'>\n",
      "Int64Index: 7377418 entries, 0 to 7377417\n",
      "Data columns (total 73 columns):\n",
      "msno                    object\n",
      "song_id                 category\n",
      "source_system_tab       category\n",
      "source_screen_name      category\n",
      "source_type             category\n",
      "target                  int8\n",
      "song_length             float32\n",
      "genre_ids               category\n",
      "artist_name             category\n",
      "composer                category\n",
      "lyricist                category\n",
      "language                int16\n",
      "city                    int16\n",
      "bd                      int16\n",
      "registered_via          int16\n",
      "lyricist_count          int16\n",
      "artist_count            int16\n",
      "composer_count          int16\n",
      "genre_count             int16\n",
      "isrc_country            category\n",
      "isrc_year               int16\n",
      "song_freq               int16\n",
      "artist_freq             int16\n",
      "count_song_played       int32\n",
      "count_artist_played     int32\n",
      "duration                int32\n",
      "registration_year       int16\n",
      "expiration_year         int16\n",
      "expiration_month        int16\n",
      "age_of_song             int16\n",
      "song_type               category\n",
      "genre_ids_encoded       float16\n",
      "composer_encoded        float16\n",
      "artist_name_encoded     float16\n",
      "lyricist_encoded        float16\n",
      "isrc_country_encoded    float16\n",
      "us_1                    float16\n",
      "us_2                    float16\n",
      "us_3                    float16\n",
      "us_4                    float16\n",
      "us_5                    float16\n",
      "us_6                    float16\n",
      "us_7                    float16\n",
      "us_8                    float16\n",
      "us_9                    float16\n",
      "us_10                   float16\n",
      "us_11                   float16\n",
      "us_12                   float16\n",
      "us_13                   float16\n",
      "us_14                   float16\n",
      "us_15                   float16\n",
      "us_16                   float16\n",
      "us_17                   float16\n",
      "us_18                   float16\n",
      "us_19                   float16\n",
      "us_20                   float16\n",
      "ug_1                    float16\n",
      "ug_2                    float16\n",
      "ug_3                    float16\n",
      "ug_4                    float16\n",
      "ug_5                    float16\n",
      "ua_1                    float16\n",
      "ua_2                    float16\n",
      "ua_3                    float16\n",
      "ua_4                    float16\n",
      "ua_5                    float16\n",
      "ua_6                    float16\n",
      "ua_7                    float16\n",
      "ua_8                    float16\n",
      "ua_9                    float16\n",
      "ua_10                   float16\n",
      "ua_11                   float16\n",
      "ua_12                   float16\n",
      "dtypes: category(10), float16(42), float32(1), int16(15), int32(3), int8(1), object(1)\n",
      "memory usage: 1.2+ GB\n"
     ]
    }
   ],
   "source": [
    "train_enc.info()"
   ]
  },
  {
   "cell_type": "markdown",
   "metadata": {},
   "source": [
    "### Exporting the files for Final Modeling"
   ]
  },
  {
   "cell_type": "code",
   "execution_count": 33,
   "metadata": {},
   "outputs": [],
   "source": [
    "train_enc.to_csv('D:\\\\Abhishek\\\\Personal\\\\Springboard\\\\music_recom\\\\train_final.csv',index = False)\n",
    "test_enc.to_csv('D:\\\\Abhishek\\\\Personal\\\\Springboard\\\\music_recom\\\\test_final.csv',index = False)"
   ]
  }
 ],
 "metadata": {
  "kernelspec": {
   "display_name": "Python 3",
   "language": "python",
   "name": "python3"
  },
  "language_info": {
   "codemirror_mode": {
    "name": "ipython",
    "version": 3
   },
   "file_extension": ".py",
   "mimetype": "text/x-python",
   "name": "python",
   "nbconvert_exporter": "python",
   "pygments_lexer": "ipython3",
   "version": "3.7.3"
  }
 },
 "nbformat": 4,
 "nbformat_minor": 2
}

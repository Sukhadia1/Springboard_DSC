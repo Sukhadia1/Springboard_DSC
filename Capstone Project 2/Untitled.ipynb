{
 "cells": [
  {
   "cell_type": "code",
   "execution_count": 2,
   "metadata": {
    "scrolled": true
   },
   "outputs": [],
   "source": [
    "import pandas as pd\n",
    "import numpy as np\n",
    "import matplotlib.pyplot as plt\n",
    "import re\n",
    "import seaborn as sns\n",
    "import matplotlib as mpl\n",
    "import os\n",
    "from datetime import datetime\n",
    "import missingno as msno\n",
    "\n",
    "from sklearn import base\n",
    "from sklearn.model_selection import KFold\n",
    "\n",
    "from IPython.core.pylabtools import figsize\n",
    "from scipy import stats"
   ]
  },
  {
   "cell_type": "code",
   "execution_count": 3,
   "metadata": {},
   "outputs": [],
   "source": [
    "#Getting Working Directory\n",
    "os.getcwd()\n",
    "\n",
    "#Setting style and font size for graphs\n",
    "sns.set_style(\"whitegrid\")\n",
    "mpl.rcParams['font.size'] = 13"
   ]
  },
  {
   "cell_type": "code",
   "execution_count": 4,
   "metadata": {},
   "outputs": [
    {
     "name": "stdout",
     "output_type": "stream",
     "text": [
      "Wall time: 24.2 s\n"
     ]
    }
   ],
   "source": [
    "%%time\n",
    "#load original data into dataframe\n",
    "train_file ='D:\\\\Abhishek\\\\Personal\\\\Springboard\\\\music_recom\\\\train.csv'\n",
    "test_file ='D:\\\\Abhishek\\\\Personal\\\\Springboard\\\\music_recom\\\\test.csv'\n",
    "songs_file ='D:\\\\Abhishek\\\\Personal\\\\Springboard\\\\music_recom\\\\songs.csv'\n",
    "members_file ='D:\\\\Abhishek\\\\Personal\\\\Springboard\\\\music_recom\\\\members.csv'\n",
    "songs_ex_file ='D:\\\\Abhishek\\\\Personal\\\\Springboard\\\\music_recom\\\\song_extra_info.csv'\n",
    "train = pd.read_csv(train_file)#, na_values = '?')\n",
    "test = pd.read_csv(test_file)\n",
    "songs = pd.read_csv(songs_file)\n",
    "members = pd.read_csv(members_file)\n",
    "songs_ex = pd.read_csv(songs_ex_file)"
   ]
  },
  {
   "cell_type": "code",
   "execution_count": 60,
   "metadata": {},
   "outputs": [
    {
     "data": {
      "text/html": [
       "<div>\n",
       "<style scoped>\n",
       "    .dataframe tbody tr th:only-of-type {\n",
       "        vertical-align: middle;\n",
       "    }\n",
       "\n",
       "    .dataframe tbody tr th {\n",
       "        vertical-align: top;\n",
       "    }\n",
       "\n",
       "    .dataframe thead th {\n",
       "        text-align: right;\n",
       "    }\n",
       "</style>\n",
       "<table border=\"1\" class=\"dataframe\">\n",
       "  <thead>\n",
       "    <tr style=\"text-align: right;\">\n",
       "      <th></th>\n",
       "      <th>target</th>\n",
       "      <th>msno_index</th>\n",
       "      <th>song_index</th>\n",
       "    </tr>\n",
       "  </thead>\n",
       "  <tbody>\n",
       "    <tr>\n",
       "      <th>0</th>\n",
       "      <td>1</td>\n",
       "      <td>0</td>\n",
       "      <td>0</td>\n",
       "    </tr>\n",
       "    <tr>\n",
       "      <th>1</th>\n",
       "      <td>1</td>\n",
       "      <td>1</td>\n",
       "      <td>1</td>\n",
       "    </tr>\n",
       "    <tr>\n",
       "      <th>2</th>\n",
       "      <td>1</td>\n",
       "      <td>1</td>\n",
       "      <td>2</td>\n",
       "    </tr>\n",
       "    <tr>\n",
       "      <th>3</th>\n",
       "      <td>1</td>\n",
       "      <td>1</td>\n",
       "      <td>3</td>\n",
       "    </tr>\n",
       "    <tr>\n",
       "      <th>4</th>\n",
       "      <td>1</td>\n",
       "      <td>0</td>\n",
       "      <td>4</td>\n",
       "    </tr>\n",
       "    <tr>\n",
       "      <th>5</th>\n",
       "      <td>1</td>\n",
       "      <td>0</td>\n",
       "      <td>5</td>\n",
       "    </tr>\n",
       "    <tr>\n",
       "      <th>6</th>\n",
       "      <td>1</td>\n",
       "      <td>1</td>\n",
       "      <td>6</td>\n",
       "    </tr>\n",
       "    <tr>\n",
       "      <th>7</th>\n",
       "      <td>1</td>\n",
       "      <td>0</td>\n",
       "      <td>7</td>\n",
       "    </tr>\n",
       "    <tr>\n",
       "      <th>8</th>\n",
       "      <td>1</td>\n",
       "      <td>2</td>\n",
       "      <td>8</td>\n",
       "    </tr>\n",
       "    <tr>\n",
       "      <th>9</th>\n",
       "      <td>1</td>\n",
       "      <td>2</td>\n",
       "      <td>9</td>\n",
       "    </tr>\n",
       "    <tr>\n",
       "      <th>10</th>\n",
       "      <td>1</td>\n",
       "      <td>2</td>\n",
       "      <td>10</td>\n",
       "    </tr>\n",
       "    <tr>\n",
       "      <th>11</th>\n",
       "      <td>1</td>\n",
       "      <td>2</td>\n",
       "      <td>11</td>\n",
       "    </tr>\n",
       "    <tr>\n",
       "      <th>12</th>\n",
       "      <td>0</td>\n",
       "      <td>3</td>\n",
       "      <td>12</td>\n",
       "    </tr>\n",
       "    <tr>\n",
       "      <th>13</th>\n",
       "      <td>1</td>\n",
       "      <td>4</td>\n",
       "      <td>13</td>\n",
       "    </tr>\n",
       "    <tr>\n",
       "      <th>14</th>\n",
       "      <td>1</td>\n",
       "      <td>3</td>\n",
       "      <td>14</td>\n",
       "    </tr>\n",
       "    <tr>\n",
       "      <th>15</th>\n",
       "      <td>1</td>\n",
       "      <td>4</td>\n",
       "      <td>15</td>\n",
       "    </tr>\n",
       "    <tr>\n",
       "      <th>16</th>\n",
       "      <td>1</td>\n",
       "      <td>3</td>\n",
       "      <td>16</td>\n",
       "    </tr>\n",
       "    <tr>\n",
       "      <th>17</th>\n",
       "      <td>1</td>\n",
       "      <td>3</td>\n",
       "      <td>17</td>\n",
       "    </tr>\n",
       "    <tr>\n",
       "      <th>18</th>\n",
       "      <td>0</td>\n",
       "      <td>3</td>\n",
       "      <td>18</td>\n",
       "    </tr>\n",
       "    <tr>\n",
       "      <th>19</th>\n",
       "      <td>1</td>\n",
       "      <td>5</td>\n",
       "      <td>19</td>\n",
       "    </tr>\n",
       "  </tbody>\n",
       "</table>\n",
       "</div>"
      ],
      "text/plain": [
       "    target  msno_index  song_index\n",
       "0        1           0           0\n",
       "1        1           1           1\n",
       "2        1           1           2\n",
       "3        1           1           3\n",
       "4        1           0           4\n",
       "5        1           0           5\n",
       "6        1           1           6\n",
       "7        1           0           7\n",
       "8        1           2           8\n",
       "9        1           2           9\n",
       "10       1           2          10\n",
       "11       1           2          11\n",
       "12       0           3          12\n",
       "13       1           4          13\n",
       "14       1           3          14\n",
       "15       1           4          15\n",
       "16       1           3          16\n",
       "17       1           3          17\n",
       "18       0           3          18\n",
       "19       1           5          19"
      ]
     },
     "execution_count": 60,
     "metadata": {},
     "output_type": "execute_result"
    }
   ],
   "source": [
    "\n",
    "\n",
    "matrix = train[0:20].drop(train.columns.difference(['msno','song_id','target']),axis = 1)\n",
    "\n",
    "n_users = matrix.msno.unique().shape[0]\n",
    "n_items = matrix.song_id.unique().shape[0]\n",
    "\n",
    "users = pd.DataFrame(matrix.msno.unique(), columns = ['msno'])\n",
    "users['index'] = users.index\n",
    "users.set_index('msno', inplace = True)\n",
    "users = users.to_dict()['index']\n",
    "matrix['msno_index'] =  matrix.msno.map(users)\n",
    "\n",
    "songs = pd.DataFrame(matrix.song_id.unique(), columns = ['song'])\n",
    "songs['index'] = songs.index\n",
    "songs.set_index('song', inplace = True)\n",
    "songs = songs.to_dict()['index']\n",
    "matrix['song_index'] =  matrix.song_id.map(songs)\n",
    "\n",
    "#users = {users.msno: users.index}\n",
    "matrix= matrix.drop(['msno', 'song_id'], axis = 1)\n",
    "matrix"
   ]
  },
  {
   "cell_type": "code",
   "execution_count": 61,
   "metadata": {},
   "outputs": [
    {
     "name": "stdout",
     "output_type": "stream",
     "text": [
      "Pandas(Index=0, target=1, msno_index=0, song_index=0)\n",
      "Pandas(Index=1, target=1, msno_index=1, song_index=1)\n",
      "Pandas(Index=2, target=1, msno_index=1, song_index=2)\n",
      "Pandas(Index=3, target=1, msno_index=1, song_index=3)\n",
      "Pandas(Index=4, target=1, msno_index=0, song_index=4)\n",
      "Pandas(Index=5, target=1, msno_index=0, song_index=5)\n",
      "Pandas(Index=6, target=1, msno_index=1, song_index=6)\n",
      "Pandas(Index=7, target=1, msno_index=0, song_index=7)\n",
      "Pandas(Index=8, target=1, msno_index=2, song_index=8)\n",
      "Pandas(Index=9, target=1, msno_index=2, song_index=9)\n",
      "Pandas(Index=10, target=1, msno_index=2, song_index=10)\n",
      "Pandas(Index=11, target=1, msno_index=2, song_index=11)\n",
      "Pandas(Index=12, target=0, msno_index=3, song_index=12)\n",
      "Pandas(Index=13, target=1, msno_index=4, song_index=13)\n",
      "Pandas(Index=14, target=1, msno_index=3, song_index=14)\n",
      "Pandas(Index=15, target=1, msno_index=4, song_index=15)\n",
      "Pandas(Index=16, target=1, msno_index=3, song_index=16)\n",
      "Pandas(Index=17, target=1, msno_index=3, song_index=17)\n",
      "Pandas(Index=18, target=0, msno_index=3, song_index=18)\n",
      "Pandas(Index=19, target=1, msno_index=5, song_index=19)\n"
     ]
    }
   ],
   "source": [
    "data_matrix = np.zeros((n_users, n_items))\n",
    "for line in matrix.itertuples():\n",
    "    print(line)\n",
    "    data_matrix[line[2], line[3]] = line[1]"
   ]
  },
  {
   "cell_type": "code",
   "execution_count": 63,
   "metadata": {},
   "outputs": [],
   "source": [
    "U, S, Vt = np.linalg.svd(data_matrix)"
   ]
  },
  {
   "cell_type": "code",
   "execution_count": 64,
   "metadata": {},
   "outputs": [
    {
     "data": {
      "text/plain": [
       "array([[0., 0., 1., 0., 0., 0.],\n",
       "       [0., 1., 0., 0., 0., 0.],\n",
       "       [1., 0., 0., 0., 0., 0.],\n",
       "       [0., 0., 0., 1., 0., 0.],\n",
       "       [0., 0., 0., 0., 1., 0.],\n",
       "       [0., 0., 0., 0., 0., 1.]])"
      ]
     },
     "execution_count": 64,
     "metadata": {},
     "output_type": "execute_result"
    }
   ],
   "source": [
    "U"
   ]
  },
  {
   "cell_type": "code",
   "execution_count": 65,
   "metadata": {},
   "outputs": [
    {
     "data": {
      "text/plain": [
       "array([2.        , 2.        , 2.        , 1.73205081, 1.41421356,\n",
       "       1.        ])"
      ]
     },
     "execution_count": 65,
     "metadata": {},
     "output_type": "execute_result"
    }
   ],
   "source": [
    "S"
   ]
  },
  {
   "cell_type": "code",
   "execution_count": 67,
   "metadata": {},
   "outputs": [
    {
     "data": {
      "text/plain": [
       "array([[ 0.        ,  0.        ,  0.        ,  0.        ,  0.        ,\n",
       "         0.        ,  0.        ,  0.        ,  0.5       ,  0.5       ,\n",
       "         0.5       ,  0.5       ,  0.        ,  0.        ,  0.        ,\n",
       "         0.        ,  0.        ,  0.        ,  0.        ,  0.        ],\n",
       "       [ 0.        ,  0.5       ,  0.5       ,  0.5       ,  0.        ,\n",
       "         0.        ,  0.5       ,  0.        ,  0.        ,  0.        ,\n",
       "         0.        ,  0.        ,  0.        ,  0.        ,  0.        ,\n",
       "         0.        ,  0.        ,  0.        ,  0.        ,  0.        ],\n",
       "       [ 0.5       ,  0.        ,  0.        ,  0.        ,  0.5       ,\n",
       "         0.5       ,  0.        ,  0.5       ,  0.        ,  0.        ,\n",
       "         0.        ,  0.        ,  0.        ,  0.        ,  0.        ,\n",
       "         0.        ,  0.        ,  0.        ,  0.        ,  0.        ],\n",
       "       [ 0.        ,  0.        ,  0.        ,  0.        ,  0.        ,\n",
       "         0.        ,  0.        ,  0.        ,  0.        ,  0.        ,\n",
       "         0.        ,  0.        ,  0.        ,  0.        ,  0.57735027,\n",
       "         0.        ,  0.57735027,  0.57735027,  0.        ,  0.        ],\n",
       "       [ 0.        ,  0.        ,  0.        ,  0.        ,  0.        ,\n",
       "         0.        ,  0.        ,  0.        ,  0.        ,  0.        ,\n",
       "         0.        ,  0.        ,  0.        ,  0.70710678,  0.        ,\n",
       "         0.70710678,  0.        ,  0.        ,  0.        ,  0.        ],\n",
       "       [ 0.        ,  0.        ,  0.        ,  0.        ,  0.        ,\n",
       "         0.        ,  0.        ,  0.        ,  0.        ,  0.        ,\n",
       "         0.        ,  0.        ,  0.        ,  0.        ,  0.        ,\n",
       "         0.        ,  0.        ,  0.        ,  0.        ,  1.        ],\n",
       "       [ 0.        , -0.5       , -0.16666667, -0.16666667,  0.        ,\n",
       "         0.        ,  0.83333333,  0.        ,  0.        ,  0.        ,\n",
       "         0.        ,  0.        ,  0.        ,  0.        ,  0.        ,\n",
       "         0.        ,  0.        ,  0.        ,  0.        ,  0.        ],\n",
       "       [-0.5       ,  0.        ,  0.        ,  0.        , -0.16666667,\n",
       "        -0.16666667,  0.        ,  0.83333333,  0.        ,  0.        ,\n",
       "         0.        ,  0.        ,  0.        ,  0.        ,  0.        ,\n",
       "         0.        ,  0.        ,  0.        ,  0.        ,  0.        ],\n",
       "       [ 0.        ,  0.25      , -0.41666667,  0.08333333,  0.        ,\n",
       "         0.        ,  0.08333333,  0.        ,  0.75      , -0.25      ,\n",
       "        -0.25      , -0.25      ,  0.        ,  0.        ,  0.        ,\n",
       "         0.        ,  0.        ,  0.        ,  0.        ,  0.        ],\n",
       "       [ 0.        ,  0.25      , -0.41666667,  0.08333333,  0.        ,\n",
       "         0.        ,  0.08333333,  0.        , -0.25      ,  0.75      ,\n",
       "        -0.25      , -0.25      ,  0.        ,  0.        ,  0.        ,\n",
       "         0.        ,  0.        ,  0.        ,  0.        ,  0.        ],\n",
       "       [ 0.        ,  0.25      , -0.41666667,  0.08333333,  0.        ,\n",
       "         0.        ,  0.08333333,  0.        , -0.25      , -0.25      ,\n",
       "         0.75      , -0.25      ,  0.        ,  0.        ,  0.        ,\n",
       "         0.        ,  0.        ,  0.        ,  0.        ,  0.        ],\n",
       "       [ 0.        ,  0.25      , -0.41666667,  0.08333333,  0.        ,\n",
       "         0.        ,  0.08333333,  0.        , -0.25      , -0.25      ,\n",
       "        -0.25      ,  0.75      ,  0.        ,  0.        ,  0.        ,\n",
       "         0.        ,  0.        ,  0.        ,  0.        ,  0.        ],\n",
       "       [ 0.        ,  0.        ,  0.        ,  0.        ,  0.        ,\n",
       "         0.        ,  0.        ,  0.        ,  0.        ,  0.        ,\n",
       "         0.        ,  0.        ,  1.        ,  0.        ,  0.        ,\n",
       "         0.        ,  0.        ,  0.        ,  0.        ,  0.        ],\n",
       "       [ 0.35355339,  0.        ,  0.        ,  0.        , -0.58925565,\n",
       "         0.11785113,  0.        ,  0.11785113,  0.        ,  0.        ,\n",
       "         0.        ,  0.        ,  0.        ,  0.5       ,  0.        ,\n",
       "        -0.5       ,  0.        ,  0.        ,  0.        ,  0.        ],\n",
       "       [ 0.        ,  0.28867513,  0.09622504, -0.48112522,  0.        ,\n",
       "         0.        ,  0.09622504,  0.        ,  0.        ,  0.        ,\n",
       "         0.        ,  0.        ,  0.        ,  0.        ,  0.66666667,\n",
       "         0.        , -0.33333333, -0.33333333,  0.        ,  0.        ],\n",
       "       [ 0.35355339,  0.        ,  0.        ,  0.        , -0.58925565,\n",
       "         0.11785113,  0.        ,  0.11785113,  0.        ,  0.        ,\n",
       "         0.        ,  0.        ,  0.        , -0.5       ,  0.        ,\n",
       "         0.5       ,  0.        ,  0.        ,  0.        ,  0.        ],\n",
       "       [ 0.        ,  0.28867513,  0.09622504, -0.48112522,  0.        ,\n",
       "         0.        ,  0.09622504,  0.        ,  0.        ,  0.        ,\n",
       "         0.        ,  0.        ,  0.        ,  0.        , -0.33333333,\n",
       "         0.        ,  0.66666667, -0.33333333,  0.        ,  0.        ],\n",
       "       [ 0.        ,  0.28867513,  0.09622504, -0.48112522,  0.        ,\n",
       "         0.        ,  0.09622504,  0.        ,  0.        ,  0.        ,\n",
       "         0.        ,  0.        ,  0.        ,  0.        , -0.33333333,\n",
       "         0.        , -0.33333333,  0.66666667,  0.        ,  0.        ],\n",
       "       [ 0.        ,  0.        ,  0.        ,  0.        ,  0.        ,\n",
       "         0.        ,  0.        ,  0.        ,  0.        ,  0.        ,\n",
       "         0.        ,  0.        ,  0.        ,  0.        ,  0.        ,\n",
       "         0.        ,  0.        ,  0.        ,  1.        ,  0.        ],\n",
       "       [ 0.5       ,  0.        ,  0.        ,  0.        ,  0.16666667,\n",
       "        -0.83333333,  0.        ,  0.16666667,  0.        ,  0.        ,\n",
       "         0.        ,  0.        ,  0.        ,  0.        ,  0.        ,\n",
       "         0.        ,  0.        ,  0.        ,  0.        ,  0.        ]])"
      ]
     },
     "execution_count": 67,
     "metadata": {},
     "output_type": "execute_result"
    }
   ],
   "source": [
    "Vt"
   ]
  },
  {
   "cell_type": "code",
   "execution_count": 57,
   "metadata": {},
   "outputs": [
    {
     "data": {
      "text/plain": [
       "<6x20 sparse matrix of type '<class 'numpy.int64'>'\n",
       "\twith 20 stored elements in Compressed Sparse Column format>"
      ]
     },
     "execution_count": 57,
     "metadata": {},
     "output_type": "execute_result"
    }
   ],
   "source": [
    "from scipy.sparse import csc_matrix, vstack\n",
    "x = csc_matrix((matrix.target, (matrix.msno_index, matrix.song_index)),(n_users,n_items))\n",
    "x"
   ]
  },
  {
   "cell_type": "code",
   "execution_count": 58,
   "metadata": {},
   "outputs": [
    {
     "name": "stdout",
     "output_type": "stream",
     "text": [
      "  (0, 0)\t1\n",
      "  (1, 1)\t1\n",
      "  (1, 2)\t1\n",
      "  (1, 3)\t1\n",
      "  (0, 4)\t1\n",
      "  (0, 5)\t1\n",
      "  (1, 6)\t1\n",
      "  (0, 7)\t1\n",
      "  (2, 8)\t1\n",
      "  (2, 9)\t1\n",
      "  (2, 10)\t1\n",
      "  (2, 11)\t1\n",
      "  (3, 12)\t0\n",
      "  (4, 13)\t1\n",
      "  (3, 14)\t1\n",
      "  (4, 15)\t1\n",
      "  (3, 16)\t1\n",
      "  (3, 17)\t1\n",
      "  (3, 18)\t0\n",
      "  (5, 19)\t1\n"
     ]
    }
   ],
   "source": [
    "print(x)"
   ]
  },
  {
   "cell_type": "code",
   "execution_count": null,
   "metadata": {},
   "outputs": [],
   "source": []
  }
 ],
 "metadata": {
  "kernelspec": {
   "display_name": "Python 3",
   "language": "python",
   "name": "python3"
  },
  "language_info": {
   "codemirror_mode": {
    "name": "ipython",
    "version": 3
   },
   "file_extension": ".py",
   "mimetype": "text/x-python",
   "name": "python",
   "nbconvert_exporter": "python",
   "pygments_lexer": "ipython3",
   "version": "3.7.3"
  }
 },
 "nbformat": 4,
 "nbformat_minor": 2
}

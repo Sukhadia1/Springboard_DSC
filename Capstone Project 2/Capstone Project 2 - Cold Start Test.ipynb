{
 "cells": [
  {
   "cell_type": "code",
   "execution_count": 58,
   "metadata": {},
   "outputs": [],
   "source": [
    "import pandas as pd\n",
    "import numpy as np\n",
    "import matplotlib.pyplot as plt\n",
    "import re\n",
    "import seaborn as sns\n",
    "import matplotlib as mpl\n",
    "import os\n",
    "\n",
    "from IPython.core.pylabtools import figsize\n",
    "from scipy import stats\n",
    "\n",
    "from sklearn.model_selection import GridSearchCV\n",
    "from sklearn.model_selection import GridSearchCV\n",
    "from scipy.stats import uniform, randint\n",
    "from sklearn import base\n",
    "from sklearn.model_selection import KFold\n",
    "\n",
    "from IPython.core.pylabtools import figsize\n",
    "from scipy import stats"
   ]
  },
  {
   "cell_type": "code",
   "execution_count": 92,
   "metadata": {},
   "outputs": [],
   "source": [
    "#Getting Working Directory\n",
    "os.getcwd()\n",
    "\n",
    "#Setting style and font size for graphs\n",
    "sns.set_style(\"whitegrid\")\n",
    "mpl.rcParams['font.size'] = 13"
   ]
  },
  {
   "cell_type": "code",
   "execution_count": 93,
   "metadata": {},
   "outputs": [
    {
     "data": {
      "text/plain": [
       "(7377415, 38)"
      ]
     },
     "execution_count": 93,
     "metadata": {},
     "output_type": "execute_result"
    }
   ],
   "source": [
    "#load original data into dataframe\n",
    "file ='train_study.csv'\n",
    "df = pd.read_csv(file)\n",
    "df.shape"
   ]
  },
  {
   "cell_type": "code",
   "execution_count": 94,
   "metadata": {},
   "outputs": [
    {
     "name": "stdout",
     "output_type": "stream",
     "text": [
      "Memory consumed by training set  :   2138.8380432128906 MB\n"
     ]
    }
   ],
   "source": [
    "mem = df.memory_usage(index=True).sum()\n",
    "print(\"Memory consumed by training set  :   {} MB\" .format(mem/ 1024**2))"
   ]
  },
  {
   "cell_type": "code",
   "execution_count": 95,
   "metadata": {
    "scrolled": true
   },
   "outputs": [],
   "source": [
    "#df.drop('msno', axis=1, inplace = True)\n",
    "\n",
    "df['isrc_year'] = df.isrc_year.apply(lambda x: x if x != 'year_missing' else -1)\n",
    "df['isrc_year'] = df['isrc_year'].astype('int8')\n",
    "\n",
    "#Converting to categories\n",
    "cat_names = list(df.select_dtypes(include='object').columns)\n",
    "df[cat_names] = df[cat_names].astype('category')\n",
    "#df['language'] = df['language'].astype('category')\n",
    "\n",
    "int_names = list(df.select_dtypes(include='int64').columns)\n",
    "df[int_names] = df[int_names].astype('int32')\n",
    "\n",
    "int_names_8 = ['composer_artist_lyricist', 'composer_artist']\n",
    "df[int_names_8] = df[int_names_8].astype('uint8')\n",
    "\n",
    "\n",
    "float_names = list(df.select_dtypes(include='float64').columns)\n",
    "df[float_names] = df[float_names].astype('float32')\n",
    "\n",
    "float_names = list(df.select_dtypes(include='float32').columns)\n",
    "float_names.remove('song_length')\n",
    "df[float_names] = df[float_names].astype('float16')\n",
    "\n",
    "#ua = ['usr_1', 'usr_2', 'usr_3'] #, 'song_freq', 'ua_1', 'ua_2', 'ua_3','ua_4','ua_5','ua_6','ua_7','ua_8','ua_9','ua_10']\n",
    "#df.drop(ua, axis=1, inplace = True)\n",
    "#df.drop('artist_name_encoded', axis=1, inplace = True)\n",
    "\n",
    "#df.info()"
   ]
  },
  {
   "cell_type": "code",
   "execution_count": 96,
   "metadata": {},
   "outputs": [
    {
     "name": "stdout",
     "output_type": "stream",
     "text": [
      "<class 'pandas.core.frame.DataFrame'>\n",
      "RangeIndex: 7377415 entries, 0 to 7377414\n",
      "Data columns (total 38 columns):\n",
      "msno                        category\n",
      "song_id                     category\n",
      "source_system_tab           category\n",
      "source_screen_name          category\n",
      "source_type                 category\n",
      "target                      int32\n",
      "song_length                 float32\n",
      "genre_ids                   category\n",
      "artist_name                 category\n",
      "composer                    category\n",
      "lyricist                    category\n",
      "language                    float16\n",
      "city                        int32\n",
      "bd                          int32\n",
      "gender                      category\n",
      "registered_via              int32\n",
      "name                        category\n",
      "lyricist_count              int32\n",
      "artist_count                int32\n",
      "composer_count              int32\n",
      "genre_count                 int32\n",
      "isrc_country                category\n",
      "isrc_year                   int8\n",
      "duration                    float16\n",
      "registration_year           int32\n",
      "registration_month          int32\n",
      "registration_day            int32\n",
      "registration_weekday        int32\n",
      "expiration_year             int32\n",
      "expiration_month            int32\n",
      "expiration_day              int32\n",
      "expiration_weekday          int32\n",
      "song_freq                   float16\n",
      "artist_freq                 float16\n",
      "composer_artist_lyricist    uint8\n",
      "composer_artist             uint8\n",
      "count_song_played           int32\n",
      "count_artist_played         int32\n",
      "dtypes: category(12), float16(4), float32(1), int32(18), int8(1), uint8(2)\n",
      "memory usage: 848.3 MB\n"
     ]
    }
   ],
   "source": [
    "df.info()"
   ]
  },
  {
   "cell_type": "code",
   "execution_count": 97,
   "metadata": {},
   "outputs": [
    {
     "data": {
      "text/plain": [
       "(7377415, 38)"
      ]
     },
     "execution_count": 97,
     "metadata": {},
     "output_type": "execute_result"
    }
   ],
   "source": [
    "df.shape"
   ]
  },
  {
   "cell_type": "markdown",
   "metadata": {},
   "source": [
    "#### Train - Validation Split"
   ]
  },
  {
   "cell_type": "code",
   "execution_count": 98,
   "metadata": {},
   "outputs": [],
   "source": [
    "from sklearn.model_selection import train_test_split\n",
    "\n",
    "X  = df[:5500000]\n",
    "X_valid = df[5500000:]\n",
    "#X,X_valid = train_test_split(df, test_size = 0.5, random_state = 42)"
   ]
  },
  {
   "cell_type": "code",
   "execution_count": 99,
   "metadata": {},
   "outputs": [
    {
     "data": {
      "text/plain": [
       "(5500000, 38)"
      ]
     },
     "execution_count": 99,
     "metadata": {},
     "output_type": "execute_result"
    }
   ],
   "source": [
    "X.shape"
   ]
  },
  {
   "cell_type": "markdown",
   "metadata": {},
   "source": [
    "#### Creating Features (User-Song)"
   ]
  },
  {
   "cell_type": "code",
   "execution_count": 100,
   "metadata": {},
   "outputs": [
    {
     "data": {
      "text/html": [
       "<div>\n",
       "<style scoped>\n",
       "    .dataframe tbody tr th:only-of-type {\n",
       "        vertical-align: middle;\n",
       "    }\n",
       "\n",
       "    .dataframe tbody tr th {\n",
       "        vertical-align: top;\n",
       "    }\n",
       "\n",
       "    .dataframe thead th {\n",
       "        text-align: right;\n",
       "    }\n",
       "</style>\n",
       "<table border=\"1\" class=\"dataframe\">\n",
       "  <thead>\n",
       "    <tr style=\"text-align: right;\">\n",
       "      <th></th>\n",
       "      <th>target</th>\n",
       "      <th>msno_index</th>\n",
       "      <th>song_index</th>\n",
       "    </tr>\n",
       "  </thead>\n",
       "  <tbody>\n",
       "    <tr>\n",
       "      <th>0</th>\n",
       "      <td>1</td>\n",
       "      <td>0</td>\n",
       "      <td>0</td>\n",
       "    </tr>\n",
       "    <tr>\n",
       "      <th>1</th>\n",
       "      <td>1</td>\n",
       "      <td>1</td>\n",
       "      <td>1</td>\n",
       "    </tr>\n",
       "    <tr>\n",
       "      <th>2</th>\n",
       "      <td>1</td>\n",
       "      <td>1</td>\n",
       "      <td>2</td>\n",
       "    </tr>\n",
       "    <tr>\n",
       "      <th>3</th>\n",
       "      <td>1</td>\n",
       "      <td>1</td>\n",
       "      <td>3</td>\n",
       "    </tr>\n",
       "    <tr>\n",
       "      <th>4</th>\n",
       "      <td>1</td>\n",
       "      <td>0</td>\n",
       "      <td>4</td>\n",
       "    </tr>\n",
       "  </tbody>\n",
       "</table>\n",
       "</div>"
      ],
      "text/plain": [
       "   target  msno_index  song_index\n",
       "0       1           0           0\n",
       "1       1           1           1\n",
       "2       1           1           2\n",
       "3       1           1           3\n",
       "4       1           0           4"
      ]
     },
     "execution_count": 100,
     "metadata": {},
     "output_type": "execute_result"
    }
   ],
   "source": [
    "matrix = X.drop(X.columns.difference(['msno','song_id','target']),axis = 1)\n",
    "\n",
    "n_users = matrix.msno.unique().shape[0]\n",
    "n_songs = matrix.song_id.unique().shape[0]\n",
    "\n",
    "users = pd.DataFrame(matrix.msno.unique(), columns = ['msno'])\n",
    "users['index'] = users.index\n",
    "users.set_index('msno', inplace = True)\n",
    "users = users.to_dict()['index']\n",
    "matrix['msno_index'] =  matrix.msno.map(users)\n",
    "\n",
    "songs = pd.DataFrame(matrix.song_id.unique(), columns = ['song'])\n",
    "songs['index'] = songs.index\n",
    "songs.set_index('song', inplace = True)\n",
    "songs = songs.to_dict()['index']\n",
    "matrix['song_index'] =  matrix.song_id.map(songs)\n",
    "\n",
    "user_index = matrix.msno.unique()\n",
    "matrix= matrix.drop(['msno', 'song_id'], axis = 1)\n",
    "matrix.head()"
   ]
  },
  {
   "cell_type": "code",
   "execution_count": 101,
   "metadata": {},
   "outputs": [
    {
     "data": {
      "text/plain": [
       "<27352x306546 sparse matrix of type '<class 'numpy.int32'>'\n",
       "\twith 5500000 stored elements in Compressed Sparse Column format>"
      ]
     },
     "execution_count": 101,
     "metadata": {},
     "output_type": "execute_result"
    }
   ],
   "source": [
    "from scipy.sparse import csc_matrix\n",
    "user_song = csc_matrix((matrix.target, (matrix.msno_index, matrix.song_index)),(n_users,n_songs))\n",
    "user_song"
   ]
  },
  {
   "cell_type": "code",
   "execution_count": 102,
   "metadata": {},
   "outputs": [
    {
     "name": "stdout",
     "output_type": "stream",
     "text": [
      "0.1402015728982205\n"
     ]
    },
    {
     "data": {
      "text/plain": [
       "[<matplotlib.lines.Line2D at 0x1f458981898>]"
      ]
     },
     "execution_count": 102,
     "metadata": {},
     "output_type": "execute_result"
    },
    {
     "data": {
      "image/png": "[encoded data removed]",
      "text/plain": [
       "<Figure size 504x504 with 1 Axes>"
      ]
     },
     "metadata": {},
     "output_type": "display_data"
    }
   ],
   "source": [
    "from sklearn.decomposition import TruncatedSVD\n",
    "svd = TruncatedSVD(n_components=10, n_iter=7, random_state=42)\n",
    "svd.fit(user_song)\n",
    "print(svd.explained_variance_ratio_.sum())\n",
    "plt.plot(svd.singular_values_)"
   ]
  },
  {
   "cell_type": "code",
   "execution_count": 103,
   "metadata": {},
   "outputs": [
    {
     "data": {
      "text/plain": [
       "[FGtllVqz18RPiwJj/edr2gV78zirAiY/9SmYvia+kCg=, Xumu+NIjS6QYVxDS4/t3SawvJ7viT9hPKXmf0RtLNx8=, uHqAtShXTRXju5GE8ri3ITsVFepPf8jUoCF7ffNOuqE=, TJU0Gfvy7FB+r89bWovPKXTjuApTCiv3xg/tt5shR78=, 3g0bC24RD7QUeALY1IF/e8L6X3fHG298ZFIsCEG9T9Y=, ..., Psmis8wJZlw/owhMCL1ls7FTpG0Y4g3tkpnCzGA22Ro=, YWt3yOeVQKAQDMwuWGpCKFWKCrjmLK/nWThwJc2Yzlc=, 5urlYlQ3G0MDj9ChVQj6ghmCEa1MLhyKJEDljMfx+SQ=, u5ljEXEBcljDdtdu03C7u9Nl4PxLHN925DufFAMQ0QA=, PyyYHk2SK1Q8akDBGe+skzAxrUZdCbNZGgieYJkOzSk=]\n",
       "Length: 27352\n",
       "Categories (27352, object): [FGtllVqz18RPiwJj/edr2gV78zirAiY/9SmYvia+kCg=, Xumu+NIjS6QYVxDS4/t3SawvJ7viT9hPKXmf0RtLNx8=, uHqAtShXTRXju5GE8ri3ITsVFepPf8jUoCF7ffNOuqE=, TJU0Gfvy7FB+r89bWovPKXTjuApTCiv3xg/tt5shR78=, ..., YWt3yOeVQKAQDMwuWGpCKFWKCrjmLK/nWThwJc2Yzlc=, 5urlYlQ3G0MDj9ChVQj6ghmCEa1MLhyKJEDljMfx+SQ=, u5ljEXEBcljDdtdu03C7u9Nl4PxLHN925DufFAMQ0QA=, PyyYHk2SK1Q8akDBGe+skzAxrUZdCbNZGgieYJkOzSk=]"
      ]
     },
     "execution_count": 103,
     "metadata": {},
     "output_type": "execute_result"
    }
   ],
   "source": [
    "user_index"
   ]
  },
  {
   "cell_type": "code",
   "execution_count": 104,
   "metadata": {},
   "outputs": [
    {
     "name": "stdout",
     "output_type": "stream",
     "text": [
      "<class 'pandas.core.frame.DataFrame'>\n",
      "RangeIndex: 5500000 entries, 0 to 5499999\n",
      "Data columns (total 48 columns):\n",
      "msno                        object\n",
      "song_id                     category\n",
      "source_system_tab           category\n",
      "source_screen_name          category\n",
      "source_type                 category\n",
      "target                      int32\n",
      "song_length                 float32\n",
      "genre_ids                   category\n",
      "artist_name                 category\n",
      "composer                    category\n",
      "lyricist                    category\n",
      "language                    float16\n",
      "city                        int32\n",
      "bd                          int32\n",
      "gender                      category\n",
      "registered_via              int32\n",
      "name                        category\n",
      "lyricist_count              int32\n",
      "artist_count                int32\n",
      "composer_count              int32\n",
      "genre_count                 int32\n",
      "isrc_country                category\n",
      "isrc_year                   int8\n",
      "duration                    float16\n",
      "registration_year           int32\n",
      "registration_month          int32\n",
      "registration_day            int32\n",
      "registration_weekday        int32\n",
      "expiration_year             int32\n",
      "expiration_month            int32\n",
      "expiration_day              int32\n",
      "expiration_weekday          int32\n",
      "song_freq                   float16\n",
      "artist_freq                 float16\n",
      "composer_artist_lyricist    uint8\n",
      "composer_artist             uint8\n",
      "count_song_played           int32\n",
      "count_artist_played         int32\n",
      "us_1                        float64\n",
      "us_2                        float64\n",
      "us_3                        float64\n",
      "us_4                        float64\n",
      "us_5                        float64\n",
      "us_6                        float64\n",
      "us_7                        float64\n",
      "us_8                        float64\n",
      "us_9                        float64\n",
      "us_10                       float64\n",
      "dtypes: category(11), float16(4), float32(1), float64(10), int32(18), int8(1), object(1), uint8(2)\n",
      "memory usage: 1.1+ GB\n"
     ]
    }
   ],
   "source": [
    "user_song_reduced = svd.transform(user_song)\n",
    "col_name = ['us_'+str(i) for i in range(1,11)]\n",
    "user_song_feat = pd.DataFrame(user_song_reduced, columns = col_name)\n",
    "user_song_feat['msno'] = user_index\n",
    "\n",
    "global_avg = user_song_reduced.mean(axis=0)\n",
    "\n",
    "#train_enc.any()\n",
    "X_enc = X\n",
    "\n",
    "X_enc = X_enc.merge(user_song_feat, how = 'left', on = 'msno')\n",
    "X_enc.index = X.index\n",
    "X_enc.info()"
   ]
  },
  {
   "cell_type": "code",
   "execution_count": 105,
   "metadata": {
    "scrolled": true
   },
   "outputs": [
    {
     "data": {
      "text/html": [
       "<div>\n",
       "<style scoped>\n",
       "    .dataframe tbody tr th:only-of-type {\n",
       "        vertical-align: middle;\n",
       "    }\n",
       "\n",
       "    .dataframe tbody tr th {\n",
       "        vertical-align: top;\n",
       "    }\n",
       "\n",
       "    .dataframe thead th {\n",
       "        text-align: right;\n",
       "    }\n",
       "</style>\n",
       "<table border=\"1\" class=\"dataframe\">\n",
       "  <thead>\n",
       "    <tr style=\"text-align: right;\">\n",
       "      <th></th>\n",
       "      <th>msno</th>\n",
       "      <th>song_id</th>\n",
       "      <th>source_system_tab</th>\n",
       "      <th>source_screen_name</th>\n",
       "      <th>source_type</th>\n",
       "      <th>target</th>\n",
       "      <th>song_length</th>\n",
       "      <th>genre_ids</th>\n",
       "      <th>artist_name</th>\n",
       "      <th>composer</th>\n",
       "      <th>...</th>\n",
       "      <th>us_1</th>\n",
       "      <th>us_2</th>\n",
       "      <th>us_3</th>\n",
       "      <th>us_4</th>\n",
       "      <th>us_5</th>\n",
       "      <th>us_6</th>\n",
       "      <th>us_7</th>\n",
       "      <th>us_8</th>\n",
       "      <th>us_9</th>\n",
       "      <th>us_10</th>\n",
       "    </tr>\n",
       "  </thead>\n",
       "  <tbody>\n",
       "    <tr>\n",
       "      <th>5500000</th>\n",
       "      <td>o5aX6WqjLMIDK75c2riIpSvNgitb358m4yw3q41ZVzc=</td>\n",
       "      <td>KV8oVUZtLRECPbriR2F6PUwK1zB0cd3bc+4P6rmqAac=</td>\n",
       "      <td>discover</td>\n",
       "      <td>Online playlist more</td>\n",
       "      <td>online-playlist</td>\n",
       "      <td>1</td>\n",
       "      <td>284421.0</td>\n",
       "      <td>465</td>\n",
       "      <td>梁靜茹 (Fish Leong)</td>\n",
       "      <td>composer_missing</td>\n",
       "      <td>...</td>\n",
       "      <td>9.256365</td>\n",
       "      <td>-0.297824</td>\n",
       "      <td>-2.047562</td>\n",
       "      <td>-0.686130</td>\n",
       "      <td>3.333349</td>\n",
       "      <td>0.525384</td>\n",
       "      <td>-0.847806</td>\n",
       "      <td>-0.638967</td>\n",
       "      <td>1.239803</td>\n",
       "      <td>-0.529948</td>\n",
       "    </tr>\n",
       "    <tr>\n",
       "      <th>5500001</th>\n",
       "      <td>o5aX6WqjLMIDK75c2riIpSvNgitb358m4yw3q41ZVzc=</td>\n",
       "      <td>M9rAajz4dYuRhZ7jLvf9RRayVA3os61X/XXHEuW4giA=</td>\n",
       "      <td>discover</td>\n",
       "      <td>Online playlist more</td>\n",
       "      <td>online-playlist</td>\n",
       "      <td>1</td>\n",
       "      <td>265848.0</td>\n",
       "      <td>465</td>\n",
       "      <td>林俊傑 (JJ Lin)</td>\n",
       "      <td>JJ Lin</td>\n",
       "      <td>...</td>\n",
       "      <td>9.256365</td>\n",
       "      <td>-0.297824</td>\n",
       "      <td>-2.047562</td>\n",
       "      <td>-0.686130</td>\n",
       "      <td>3.333349</td>\n",
       "      <td>0.525384</td>\n",
       "      <td>-0.847806</td>\n",
       "      <td>-0.638967</td>\n",
       "      <td>1.239803</td>\n",
       "      <td>-0.529948</td>\n",
       "    </tr>\n",
       "    <tr>\n",
       "      <th>5500002</th>\n",
       "      <td>EBR1+Dr1bUF47Kpa4xK3LYLiHavXc8a7qOAuXaTEmf8=</td>\n",
       "      <td>BL6lAfWwGKth6fZVU/22IRFVPQ36v8SOjA/zgY9Tii8=</td>\n",
       "      <td>search</td>\n",
       "      <td>Search</td>\n",
       "      <td>song</td>\n",
       "      <td>1</td>\n",
       "      <td>311588.0</td>\n",
       "      <td>465</td>\n",
       "      <td>群星</td>\n",
       "      <td>陳家麗 /翁孝良</td>\n",
       "      <td>...</td>\n",
       "      <td>0.473069</td>\n",
       "      <td>-0.226131</td>\n",
       "      <td>-0.248547</td>\n",
       "      <td>-0.045558</td>\n",
       "      <td>0.017461</td>\n",
       "      <td>-0.219332</td>\n",
       "      <td>-0.095242</td>\n",
       "      <td>0.252370</td>\n",
       "      <td>0.052423</td>\n",
       "      <td>0.013006</td>\n",
       "    </tr>\n",
       "    <tr>\n",
       "      <th>5500003</th>\n",
       "      <td>MhZJkcYOrpqOJzHWfAlfEfGcQkD+qan/iNUo9cFdUVw=</td>\n",
       "      <td>aAoDgVo/aUVSDevLDajfNpS+HLKb4KUpMy1i+2dQMzg=</td>\n",
       "      <td>my library</td>\n",
       "      <td>Local playlist more</td>\n",
       "      <td>local-playlist</td>\n",
       "      <td>0</td>\n",
       "      <td>238422.0</td>\n",
       "      <td>458</td>\n",
       "      <td>王若琳 (Joanna Wang)</td>\n",
       "      <td>Ralph MacDonald| William Salter| Bill Withers|...</td>\n",
       "      <td>...</td>\n",
       "      <td>3.849646</td>\n",
       "      <td>1.465602</td>\n",
       "      <td>-1.897536</td>\n",
       "      <td>0.440228</td>\n",
       "      <td>-1.731038</td>\n",
       "      <td>-2.279508</td>\n",
       "      <td>0.071265</td>\n",
       "      <td>-0.101991</td>\n",
       "      <td>0.088671</td>\n",
       "      <td>0.138951</td>\n",
       "    </tr>\n",
       "    <tr>\n",
       "      <th>5500004</th>\n",
       "      <td>MhZJkcYOrpqOJzHWfAlfEfGcQkD+qan/iNUo9cFdUVw=</td>\n",
       "      <td>kUMG87ZpsdHv0bKkC89kiQ0MVWCMpV7LgEDaJ7uEi0w=</td>\n",
       "      <td>my library</td>\n",
       "      <td>Local playlist more</td>\n",
       "      <td>local-playlist</td>\n",
       "      <td>0</td>\n",
       "      <td>187480.0</td>\n",
       "      <td>465</td>\n",
       "      <td>Various Artists</td>\n",
       "      <td>VIP</td>\n",
       "      <td>...</td>\n",
       "      <td>3.849646</td>\n",
       "      <td>1.465602</td>\n",
       "      <td>-1.897536</td>\n",
       "      <td>0.440228</td>\n",
       "      <td>-1.731038</td>\n",
       "      <td>-2.279508</td>\n",
       "      <td>0.071265</td>\n",
       "      <td>-0.101991</td>\n",
       "      <td>0.088671</td>\n",
       "      <td>0.138951</td>\n",
       "    </tr>\n",
       "  </tbody>\n",
       "</table>\n",
       "<p>5 rows × 48 columns</p>\n",
       "</div>"
      ],
      "text/plain": [
       "                                                 msno  \\\n",
       "5500000  o5aX6WqjLMIDK75c2riIpSvNgitb358m4yw3q41ZVzc=   \n",
       "5500001  o5aX6WqjLMIDK75c2riIpSvNgitb358m4yw3q41ZVzc=   \n",
       "5500002  EBR1+Dr1bUF47Kpa4xK3LYLiHavXc8a7qOAuXaTEmf8=   \n",
       "5500003  MhZJkcYOrpqOJzHWfAlfEfGcQkD+qan/iNUo9cFdUVw=   \n",
       "5500004  MhZJkcYOrpqOJzHWfAlfEfGcQkD+qan/iNUo9cFdUVw=   \n",
       "\n",
       "                                              song_id source_system_tab  \\\n",
       "5500000  KV8oVUZtLRECPbriR2F6PUwK1zB0cd3bc+4P6rmqAac=          discover   \n",
       "5500001  M9rAajz4dYuRhZ7jLvf9RRayVA3os61X/XXHEuW4giA=          discover   \n",
       "5500002  BL6lAfWwGKth6fZVU/22IRFVPQ36v8SOjA/zgY9Tii8=            search   \n",
       "5500003  aAoDgVo/aUVSDevLDajfNpS+HLKb4KUpMy1i+2dQMzg=        my library   \n",
       "5500004  kUMG87ZpsdHv0bKkC89kiQ0MVWCMpV7LgEDaJ7uEi0w=        my library   \n",
       "\n",
       "           source_screen_name      source_type  target  song_length genre_ids  \\\n",
       "5500000  Online playlist more  online-playlist       1     284421.0       465   \n",
       "5500001  Online playlist more  online-playlist       1     265848.0       465   \n",
       "5500002                Search             song       1     311588.0       465   \n",
       "5500003   Local playlist more   local-playlist       0     238422.0       458   \n",
       "5500004   Local playlist more   local-playlist       0     187480.0       465   \n",
       "\n",
       "               artist_name                                           composer  \\\n",
       "5500000   梁靜茹 (Fish Leong)                                   composer_missing   \n",
       "5500001       林俊傑 (JJ Lin)                                             JJ Lin   \n",
       "5500002                 群星                                           陳家麗 /翁孝良   \n",
       "5500003  王若琳 (Joanna Wang)  Ralph MacDonald| William Salter| Bill Withers|...   \n",
       "5500004    Various Artists                                                VIP   \n",
       "\n",
       "         ...      us_1      us_2      us_3      us_4      us_5      us_6  \\\n",
       "5500000  ...  9.256365 -0.297824 -2.047562 -0.686130  3.333349  0.525384   \n",
       "5500001  ...  9.256365 -0.297824 -2.047562 -0.686130  3.333349  0.525384   \n",
       "5500002  ...  0.473069 -0.226131 -0.248547 -0.045558  0.017461 -0.219332   \n",
       "5500003  ...  3.849646  1.465602 -1.897536  0.440228 -1.731038 -2.279508   \n",
       "5500004  ...  3.849646  1.465602 -1.897536  0.440228 -1.731038 -2.279508   \n",
       "\n",
       "             us_7      us_8      us_9     us_10  \n",
       "5500000 -0.847806 -0.638967  1.239803 -0.529948  \n",
       "5500001 -0.847806 -0.638967  1.239803 -0.529948  \n",
       "5500002 -0.095242  0.252370  0.052423  0.013006  \n",
       "5500003  0.071265 -0.101991  0.088671  0.138951  \n",
       "5500004  0.071265 -0.101991  0.088671  0.138951  \n",
       "\n",
       "[5 rows x 48 columns]"
      ]
     },
     "execution_count": 105,
     "metadata": {},
     "output_type": "execute_result"
    }
   ],
   "source": [
    "X_valid_enc = X_valid\n",
    "\n",
    "X_valid_enc = X_valid_enc.merge(user_song_feat, how = 'left', on = 'msno')\n",
    "X_valid_enc.index = X_valid.index\n",
    "X_valid_enc.sort_index().head()"
   ]
  },
  {
   "cell_type": "code",
   "execution_count": 106,
   "metadata": {},
   "outputs": [
    {
     "data": {
      "text/plain": [
       "139439"
      ]
     },
     "execution_count": 106,
     "metadata": {},
     "output_type": "execute_result"
    }
   ],
   "source": [
    "diff = list(set(df.msno.iloc[X_valid.index])-set(df.msno.iloc[X.index]))\n",
    "diff_index = df[df.msno.isin(diff)].index\n",
    "len(diff_index)"
   ]
  },
  {
   "cell_type": "code",
   "execution_count": 107,
   "metadata": {
    "scrolled": true
   },
   "outputs": [],
   "source": [
    "#X_valid.index.sort_values()\n",
    "#X.index.sort_values()\n",
    "#diff_index.sort_values()"
   ]
  },
  {
   "cell_type": "code",
   "execution_count": 108,
   "metadata": {},
   "outputs": [],
   "source": [
    "us = ['us_1','us_2','us_3','us_4','us_5','us_6','us_7','us_8', 'us_9','us_10']\n",
    "X_valid_enc.loc[diff_index, us] = global_avg - 2"
   ]
  },
  {
   "cell_type": "code",
   "execution_count": 109,
   "metadata": {},
   "outputs": [],
   "source": [
    "class KFoldTargetEncoderTrain(base.BaseEstimator, base.TransformerMixin):\n",
    "\n",
    "    def __init__(self, colnames,targetName,smoothing=5,n_fold=5,verbosity=True,discardOriginal_col=False):\n",
    "\n",
    "        self.colnames = colnames\n",
    "        self.targetName = targetName\n",
    "        self.n_fold = n_fold\n",
    "        self.verbosity = verbosity\n",
    "        self.discardOriginal_col = discardOriginal_col\n",
    "        self.smoothing = smoothing\n",
    "\n",
    "    def fit(self, X, y=None):\n",
    "        return self\n",
    "\n",
    "\n",
    "    def transform(self,X):\n",
    "\n",
    "        assert(type(self.targetName) == str)\n",
    "        assert(type(self.colnames) == str)\n",
    "        assert(self.colnames in X.columns)\n",
    "        assert(self.targetName in X.columns)\n",
    "\n",
    "        mean_of_target = X[self.targetName].mean()\n",
    "        \n",
    "        \n",
    "        kf = KFold(n_splits = self.n_fold)\n",
    "\n",
    "        #Naming the column\n",
    "        col_mean_name = self.colnames + '_' + 'encoded'\n",
    "        X[col_mean_name] = np.nan\n",
    "\n",
    "        \n",
    "        for tr_ind, val_ind in kf.split(X):\n",
    "            X_tr, X_val = X.iloc[tr_ind], X.iloc[val_ind]\n",
    "            #print(tr_ind,val_ind) \n",
    "              \n",
    "            enc = X_tr.groupby(self.colnames)[self.targetName].agg(['count', 'mean'])\n",
    "            counts = enc['count']\n",
    "            means = enc['mean']\n",
    "            smooth = (counts * means + self.smoothing * mean_of_target) / (counts + self.smoothing)\n",
    "\n",
    "            X.loc[X.index[val_ind], col_mean_name] = X_val[self.colnames].map(smooth)\n",
    "\n",
    "            X[col_mean_name].fillna(mean_of_target, inplace = True)\n",
    "\n",
    "        if self.verbosity:\n",
    "\n",
    "            encoded_feature = X[col_mean_name].values\n",
    "            print('Correlation between the new feature, {} and, {} is {}.'.format(col_mean_name,\n",
    "                                                                                      self.targetName,\n",
    "                                                                                      np.corrcoef(X[self.targetName].values, encoded_feature)[0][1]))\n",
    "        if self.discardOriginal_col:\n",
    "            X = X.drop(self.colnames, axis=1)\n",
    "            \n",
    "\n",
    "        return X"
   ]
  },
  {
   "cell_type": "code",
   "execution_count": 110,
   "metadata": {},
   "outputs": [
    {
     "name": "stdout",
     "output_type": "stream",
     "text": [
      "Correlation between the new feature, genre_ids_encoded and, target is -0.005051561495131033.\n",
      "Correlation between the new feature, composer_encoded and, target is 0.1242257876484534.\n",
      "Correlation between the new feature, artist_name_encoded and, target is 0.12611694127279027.\n",
      "Correlation between the new feature, lyricist_encoded and, target is 0.09275389845924073.\n",
      "Correlation between the new feature, name_encoded and, target is 0.15910448012070819.\n",
      "Correlation between the new feature, isrc_country_encoded and, target is -0.02802329720677416.\n"
     ]
    }
   ],
   "source": [
    "target_encod_col = ['genre_ids', 'composer', 'artist_name', 'lyricist', 'name', 'isrc_country']\n",
    "for col in target_encod_col:\n",
    "    targetc = KFoldTargetEncoderTrain(col,'target',n_fold=5, discardOriginal_col=False )\n",
    "    X_enc = targetc.fit_transform(X_enc)"
   ]
  },
  {
   "cell_type": "code",
   "execution_count": 111,
   "metadata": {},
   "outputs": [],
   "source": [
    "class KFoldTargetEncoderTest(base.BaseEstimator, base.TransformerMixin):\n",
    "    \n",
    "    def __init__(self,train,colNames,encodedName,verbosity=True):\n",
    "        \n",
    "        self.train = train\n",
    "        self.colNames = colNames\n",
    "        self.encodedName = encodedName\n",
    "        self.verbosity = verbosity\n",
    "        \n",
    "    def fit(self, X, y=None):\n",
    "        return self\n",
    "\n",
    "    def transform(self,X):\n",
    "\n",
    "\n",
    "        mean = self.train[[self.colNames,self.encodedName]].groupby(self.colNames).mean().reset_index()\n",
    "        global_mean = mean[self.encodedName].mean()\n",
    "        mean[self.encodedName].fillna(global_mean,inplace=True)\n",
    "        \n",
    "        dd = {}\n",
    "        for index, row in mean.iterrows():\n",
    "            dd[row[self.colNames]] = row[self.encodedName]\n",
    "\n",
    "        \n",
    "        X[self.encodedName] = X[self.colNames].map(dd)\n",
    "        #X = X.replace({self.encodedName: dd})\n",
    "        \n",
    "        if self.verbosity:\n",
    "            print('Done:',(self.colNames))\n",
    "\n",
    "        return X"
   ]
  },
  {
   "cell_type": "code",
   "execution_count": 112,
   "metadata": {},
   "outputs": [
    {
     "name": "stdout",
     "output_type": "stream",
     "text": [
      "Done: genre_ids\n",
      "Done: composer\n",
      "Done: artist_name\n",
      "Done: lyricist\n",
      "Done: name\n",
      "Done: isrc_country\n"
     ]
    }
   ],
   "source": [
    "encoded_columns = ['genre_ids_encoded', 'composer_encoded', 'artist_name_encoded', 'lyricist_encoded', 'name_encoded', 'isrc_country_encoded']\n",
    "#X_enc[['genre_ids', 'composer','genre_ids_encoded','composer_encoded']].groupby(['genre_ids','composer']).mean()\n",
    "#X_enc[encoded_columns]\n",
    "for col, col_encod in zip(target_encod_col,encoded_columns):\n",
    "    targetc = KFoldTargetEncoderTest(X_enc,col,col_encod)\n",
    "    X_valid_enc = targetc.fit_transform(X_valid_enc)\n",
    " "
   ]
  },
  {
   "cell_type": "code",
   "execution_count": 113,
   "metadata": {},
   "outputs": [
    {
     "data": {
      "text/plain": [
       "(1877415, 54)"
      ]
     },
     "execution_count": 113,
     "metadata": {},
     "output_type": "execute_result"
    }
   ],
   "source": [
    "X_valid_enc.shape"
   ]
  },
  {
   "cell_type": "code",
   "execution_count": 114,
   "metadata": {},
   "outputs": [],
   "source": [
    "drop_col = ['msno','song_id']\n",
    "X_enc.drop(drop_col, axis=1, inplace = True)\n",
    "X_enc.drop(target_encod_col, axis=1, inplace = True)\n",
    "\n",
    "X_valid_enc.drop(drop_col, axis=1, inplace = True)\n",
    "X_valid_enc.drop(target_encod_col, axis=1, inplace = True)\n",
    "\n",
    "#Converting to categories\n",
    "float_names = list(X_enc.select_dtypes(include='float64').columns)\n",
    "X_enc[float_names] = X_enc[float_names].astype('float16')\n",
    "X_valid_enc[float_names] = X_valid_enc[float_names].astype('float16')"
   ]
  },
  {
   "cell_type": "code",
   "execution_count": 115,
   "metadata": {},
   "outputs": [],
   "source": [
    "# Separating Numeric and Non_numeric Data\n",
    "numeric = X_enc.select_dtypes(exclude = 'category')\n",
    "categorical = X_enc.select_dtypes(include = 'category')\n",
    "\n",
    "#Creating Dummy variables for Categorical Data using One Hot Encoding\n",
    "dummies = pd.get_dummies(categorical,drop_first = True)\n",
    "\n",
    "numeric_valid = X_valid_enc.select_dtypes(exclude = 'category')\n",
    "categorical_valid = X_valid_enc.select_dtypes(include = 'category')\n",
    "\n",
    "#Creating Dummy variables for Categorical Data using One Hot Encoding\n",
    "dummies_valid = pd.get_dummies(categorical_valid,drop_first = True)"
   ]
  },
  {
   "cell_type": "code",
   "execution_count": 116,
   "metadata": {
    "scrolled": false
   },
   "outputs": [],
   "source": [
    "#numeric.skew()"
   ]
  },
  {
   "cell_type": "code",
   "execution_count": 117,
   "metadata": {},
   "outputs": [
    {
     "name": "stderr",
     "output_type": "stream",
     "text": [
      "C:\\ProgramData\\Anaconda3\\lib\\site-packages\\pandas\\core\\generic.py:6130: SettingWithCopyWarning: \n",
      "A value is trying to be set on a copy of a slice from a DataFrame\n",
      "\n",
      "See the caveats in the documentation: http://pandas.pydata.org/pandas-docs/stable/indexing.html#indexing-view-versus-copy\n",
      "  self._update_inplace(new_data)\n"
     ]
    }
   ],
   "source": [
    "#Creating our Feature and Target Data Set: X, y respectively\n",
    "\n",
    "data_x = pd.concat([numeric,dummies],axis=1).drop('target', axis = 1)\n",
    "data_y = X_enc.target\n",
    "\n",
    "data_x_valid = pd.concat([numeric_valid,dummies_valid],axis=1).drop('target', axis = 1)\n",
    "data_y_valid = X_valid_enc.target\n",
    "\n",
    "#Splitting Data into Training and Test Data Set\n",
    "from sklearn.model_selection import train_test_split\n",
    "\n",
    "X_train,X_test, y_train, y_test = train_test_split(data_x, data_y, test_size = 0.2, random_state = 42)\n",
    "\n",
    "\n",
    "mean_length = X_train.song_length.mean()\n",
    "data_x_valid.song_length.fillna(mean_length, inplace = True)\n",
    "X_train.song_length.fillna(mean_length, inplace = True)\n",
    "X_test.song_length.fillna(mean_length, inplace = True)"
   ]
  },
  {
   "cell_type": "code",
   "execution_count": 118,
   "metadata": {},
   "outputs": [
    {
     "data": {
      "text/plain": [
       "(5500000, 83)"
      ]
     },
     "execution_count": 118,
     "metadata": {},
     "output_type": "execute_result"
    }
   ],
   "source": [
    "data_x.shape"
   ]
  },
  {
   "cell_type": "code",
   "execution_count": 119,
   "metadata": {},
   "outputs": [
    {
     "data": {
      "text/plain": [
       "(1877415, 83)"
      ]
     },
     "execution_count": 119,
     "metadata": {},
     "output_type": "execute_result"
    }
   ],
   "source": [
    "data_x_valid.shape"
   ]
  },
  {
   "cell_type": "code",
   "execution_count": 120,
   "metadata": {},
   "outputs": [
    {
     "name": "stderr",
     "output_type": "stream",
     "text": [
      "C:\\ProgramData\\Anaconda3\\lib\\site-packages\\ipykernel_launcher.py:1: SettingWithCopyWarning: \n",
      "A value is trying to be set on a copy of a slice from a DataFrame.\n",
      "Try using .loc[row_indexer,col_indexer] = value instead\n",
      "\n",
      "See the caveats in the documentation: http://pandas.pydata.org/pandas-docs/stable/indexing.html#indexing-view-versus-copy\n",
      "  \"\"\"Entry point for launching an IPython kernel.\n",
      "C:\\ProgramData\\Anaconda3\\lib\\site-packages\\ipykernel_launcher.py:2: SettingWithCopyWarning: \n",
      "A value is trying to be set on a copy of a slice from a DataFrame.\n",
      "Try using .loc[row_indexer,col_indexer] = value instead\n",
      "\n",
      "See the caveats in the documentation: http://pandas.pydata.org/pandas-docs/stable/indexing.html#indexing-view-versus-copy\n",
      "  \n",
      "C:\\ProgramData\\Anaconda3\\lib\\site-packages\\pandas\\core\\frame.py:3391: SettingWithCopyWarning: \n",
      "A value is trying to be set on a copy of a slice from a DataFrame.\n",
      "Try using .loc[row_indexer,col_indexer] = value instead\n",
      "\n",
      "See the caveats in the documentation: http://pandas.pydata.org/pandas-docs/stable/indexing.html#indexing-view-versus-copy\n",
      "  self[k1] = value[k2]\n"
     ]
    }
   ],
   "source": [
    "X_train['language'] = X_train['language'].astype('int16')\n",
    "X_test['language'] = X_test['language'].astype('int16')\n",
    "data_x_valid['language'] = data_x_valid['language'].astype('int16')\n",
    "\n",
    "\n",
    "int_names = list(X_train.select_dtypes(include='int32').columns)\n",
    "X_train[int_names] = X_train[int_names].astype('int16')\n",
    "X_test[int_names] = X_test[int_names].astype('int16')\n",
    "data_x_valid[int_names] = data_x_valid[int_names].astype('int16')\n"
   ]
  },
  {
   "cell_type": "code",
   "execution_count": 121,
   "metadata": {},
   "outputs": [
    {
     "name": "stdout",
     "output_type": "stream",
     "text": [
      "Memory consumed by training set  :   549.6978759765625 MB\n",
      "Memory consumed by validation set  :   220.22450351715088 MB\n"
     ]
    }
   ],
   "source": [
    "mem = X_train.memory_usage(index=True).sum()\n",
    "mem2 = data_x_valid.memory_usage(index=True).sum()\n",
    "print(\"Memory consumed by training set  :   {} MB\" .format(mem/ 1024**2))\n",
    "print(\"Memory consumed by validation set  :   {} MB\" .format(mem2/ 1024**2))"
   ]
  },
  {
   "cell_type": "markdown",
   "metadata": {},
   "source": [
    "There are two types of error, False Positive and False Negative. Predicting that a patient will not get readmitted but actually patient gets readmitted. This is false negative. Predicting that a patient will get readmitted but in actually he will not os called false positive. For an hospital, a false negative error is not desirable. They can still live with a false positive error. So in below models we will look at reducing false negative error. \n",
    "\n",
    "High Recall for class 'Readmitted', Better the model\n"
   ]
  },
  {
   "cell_type": "markdown",
   "metadata": {},
   "source": [
    "Ensuring that we have the same fractions of all class in both train and test data set. Let's Calculate the fraction"
   ]
  },
  {
   "cell_type": "markdown",
   "metadata": {},
   "source": [
    "### Random Forest Classifier"
   ]
  },
  {
   "cell_type": "code",
   "execution_count": 37,
   "metadata": {},
   "outputs": [],
   "source": [
    "# Base Line Evaluation\n",
    "from sklearn.ensemble import RandomForestClassifier\n",
    "from sklearn.metrics import classification_report, balanced_accuracy_score, plot_roc_curve\n",
    "from sklearn.metrics import precision_score, recall_score, roc_auc_score, roc_curve\n",
    "from sklearn.metrics import plot_confusion_matrix, precision_recall_fscore_support,log_loss\n",
    "class_names = ['Not Listened', 'Listened']"
   ]
  },
  {
   "cell_type": "code",
   "execution_count": 38,
   "metadata": {},
   "outputs": [],
   "source": [
    "def auc_curve(y_test,y_pred_test,auc_test):\n",
    "    fpr,tpr, threshold = roc_curve(y_test, y_pred_test)\n",
    "    _ = plt.plot(fpr, tpr, color='darkorange', label='ROC curve (area = %0.4f)' %auc_test )\n",
    "    _ = plt.plot([0, 1], [0, 1], color='navy', lw=2, linestyle='--')\n",
    "    _ = plt.xlim([0.0, 1.0])\n",
    "    _ = plt.ylim([0.0, 1.05])\n",
    "    _ = plt.xlabel('False Positive Rate')\n",
    "    _ = plt.ylabel('True Positive Rate')\n",
    "    _ = plt.title('Receiver operating characteristic example')\n",
    "    _ = plt.legend(loc=\"lower right\")\n"
   ]
  },
  {
   "cell_type": "code",
   "execution_count": 39,
   "metadata": {},
   "outputs": [
    {
     "name": "stderr",
     "output_type": "stream",
     "text": [
      "[Parallel(n_jobs=2)]: Using backend ThreadingBackend with 2 concurrent workers.\n"
     ]
    },
    {
     "name": "stdout",
     "output_type": "stream",
     "text": [
      "building tree 1 of 100building tree 2 of 100\n",
      "\n",
      "building tree 3 of 100\n",
      "building tree 4 of 100\n",
      "building tree 5 of 100\n",
      "building tree 6 of 100\n",
      "building tree 7 of 100\n",
      "building tree 8 of 100\n",
      "building tree 9 of 100\n",
      "building tree 10 of 100\n",
      "building tree 11 of 100\n",
      "building tree 12 of 100\n",
      "building tree 13 of 100\n",
      "building tree 14 of 100\n",
      "building tree 15 of 100\n",
      "building tree 16 of 100\n",
      "building tree 17 of 100\n",
      "building tree 18 of 100\n",
      "building tree 19 of 100\n",
      "building tree 20 of 100\n",
      "building tree 21 of 100\n",
      "building tree 22 of 100\n"
     ]
    },
    {
     "name": "stderr",
     "output_type": "stream",
     "text": [
      "[Parallel(n_jobs=2)]: Done  21 tasks      | elapsed:  8.5min\n"
     ]
    },
    {
     "name": "stdout",
     "output_type": "stream",
     "text": [
      "building tree 23 of 100\n",
      "building tree 24 of 100\n",
      "building tree 25 of 100\n",
      "building tree 26 of 100\n",
      "building tree 27 of 100\n",
      "building tree 28 of 100\n",
      "building tree 29 of 100\n",
      "building tree 30 of 100\n",
      "building tree 31 of 100\n",
      "building tree 32 of 100\n",
      "building tree 33 of 100\n",
      "building tree 34 of 100\n",
      "building tree 35 of 100\n",
      "building tree 36 of 100\n",
      "building tree 37 of 100\n",
      "building tree 38 of 100\n",
      "building tree 39 of 100\n",
      "building tree 40 of 100\n",
      "building tree 41 of 100\n",
      "building tree 42 of 100\n",
      "building tree 43 of 100\n",
      "building tree 44 of 100\n",
      "building tree 45 of 100\n",
      "building tree 46 of 100\n",
      "building tree 47 of 100\n",
      "building tree 48 of 100\n",
      "building tree 49 of 100\n",
      "building tree 50 of 100\n",
      "building tree 51 of 100\n",
      "building tree 52 of 100\n",
      "building tree 53 of 100\n",
      "building tree 54 of 100\n",
      "building tree 55 of 100\n",
      "building tree 56 of 100\n",
      "building tree 57 of 100\n",
      "building tree 58 of 100\n",
      "building tree 59 of 100\n",
      "building tree 60 of 100\n",
      "building tree 61 of 100\n",
      "building tree 62 of 100\n",
      "building tree 63 of 100\n",
      "building tree 64 of 100\n",
      "building tree 65 of 100\n",
      "building tree 66 of 100\n",
      "building tree 67 of 100\n",
      "building tree 68 of 100\n",
      "building tree 69 of 100\n",
      "building tree 70 of 100\n",
      "building tree 71 of 100\n",
      "building tree 72 of 100\n",
      "building tree 73 of 100\n",
      "building tree 74 of 100\n",
      "building tree 75 of 100\n",
      "building tree 76 of 100\n",
      "building tree 77 of 100\n",
      "building tree 78 of 100\n",
      "building tree 79 of 100\n",
      "building tree 80 of 100\n",
      "building tree 81 of 100\n",
      "building tree 82 of 100\n",
      "building tree 83 of 100\n",
      "building tree 84 of 100\n",
      "building tree 85 of 100\n",
      "building tree 86 of 100\n",
      "building tree 87 of 100\n",
      "building tree 88 of 100\n",
      "building tree 89 of 100\n",
      "building tree 90 of 100\n",
      "building tree 91 of 100\n",
      "building tree 92 of 100\n",
      "building tree 93 of 100\n",
      "building tree 94 of 100\n",
      "building tree 95 of 100\n"
     ]
    },
    {
     "name": "stderr",
     "output_type": "stream",
     "text": [
      "[Parallel(n_jobs=2)]: Done  94 tasks      | elapsed: 36.2min\n"
     ]
    },
    {
     "name": "stdout",
     "output_type": "stream",
     "text": [
      "building tree 96 of 100\n",
      "building tree 97 of 100\n",
      "building tree 98 of 100\n",
      "building tree 99 of 100\n",
      "building tree 100 of 100\n"
     ]
    },
    {
     "name": "stderr",
     "output_type": "stream",
     "text": [
      "[Parallel(n_jobs=2)]: Done 100 out of 100 | elapsed: 38.5min finished\n"
     ]
    },
    {
     "data": {
      "text/plain": [
       "RandomForestClassifier(bootstrap=True, ccp_alpha=0.0, class_weight=None,\n",
       "                       criterion='gini', max_depth=15, max_features='auto',\n",
       "                       max_leaf_nodes=None, max_samples=None,\n",
       "                       min_impurity_decrease=0.0, min_impurity_split=None,\n",
       "                       min_samples_leaf=1, min_samples_split=2,\n",
       "                       min_weight_fraction_leaf=0.0, n_estimators=100, n_jobs=2,\n",
       "                       oob_score=False, random_state=42, verbose=4,\n",
       "                       warm_start=False)"
      ]
     },
     "execution_count": 39,
     "metadata": {},
     "output_type": "execute_result"
    }
   ],
   "source": [
    "rf = RandomForestClassifier(max_depth = 15, random_state = 42, n_jobs = 2, verbose = 4)\n",
    "\n",
    "rf.fit(X_train,y_train)"
   ]
  },
  {
   "cell_type": "code",
   "execution_count": 40,
   "metadata": {
    "scrolled": true
   },
   "outputs": [
    {
     "name": "stderr",
     "output_type": "stream",
     "text": [
      "[Parallel(n_jobs=2)]: Using backend ThreadingBackend with 2 concurrent workers.\n",
      "[Parallel(n_jobs=2)]: Done  21 tasks      | elapsed:    3.0s\n",
      "[Parallel(n_jobs=2)]: Done  94 tasks      | elapsed:   13.3s\n",
      "[Parallel(n_jobs=2)]: Done 100 out of 100 | elapsed:   14.1s finished\n",
      "[Parallel(n_jobs=2)]: Using backend ThreadingBackend with 2 concurrent workers.\n",
      "[Parallel(n_jobs=2)]: Done  21 tasks      | elapsed:   12.7s\n",
      "[Parallel(n_jobs=2)]: Done  94 tasks      | elapsed:   53.9s\n",
      "[Parallel(n_jobs=2)]: Done 100 out of 100 | elapsed:   57.3s finished\n",
      "[Parallel(n_jobs=2)]: Using backend ThreadingBackend with 2 concurrent workers.\n",
      "[Parallel(n_jobs=2)]: Done  21 tasks      | elapsed:    3.0s\n",
      "[Parallel(n_jobs=2)]: Done  94 tasks      | elapsed:   13.0s\n",
      "[Parallel(n_jobs=2)]: Done 100 out of 100 | elapsed:   13.9s finished\n",
      "[Parallel(n_jobs=2)]: Using backend ThreadingBackend with 2 concurrent workers.\n",
      "[Parallel(n_jobs=2)]: Done  21 tasks      | elapsed:   12.2s\n",
      "[Parallel(n_jobs=2)]: Done  94 tasks      | elapsed:   52.5s\n",
      "[Parallel(n_jobs=2)]: Done 100 out of 100 | elapsed:   55.8s finished\n",
      "[Parallel(n_jobs=2)]: Using backend ThreadingBackend with 2 concurrent workers.\n",
      "[Parallel(n_jobs=2)]: Done  21 tasks      | elapsed:   12.4s\n",
      "[Parallel(n_jobs=2)]: Done  94 tasks      | elapsed:   53.5s\n",
      "[Parallel(n_jobs=2)]: Done 100 out of 100 | elapsed:   56.9s finished\n"
     ]
    },
    {
     "name": "stdout",
     "output_type": "stream",
     "text": [
      "Training accuracy: 0.7200\n"
     ]
    },
    {
     "name": "stderr",
     "output_type": "stream",
     "text": [
      "[Parallel(n_jobs=2)]: Using backend ThreadingBackend with 2 concurrent workers.\n",
      "[Parallel(n_jobs=2)]: Done  21 tasks      | elapsed:    3.0s\n",
      "[Parallel(n_jobs=2)]: Done  94 tasks      | elapsed:   13.2s\n",
      "[Parallel(n_jobs=2)]: Done 100 out of 100 | elapsed:   14.0s finished\n"
     ]
    },
    {
     "name": "stdout",
     "output_type": "stream",
     "text": [
      "Test accuracy    : 0.7101\n",
      "Training AUC Score: 0.8017\n",
      "Testing AUC Score: 0.7871\n",
      "Classification Report - Training\n",
      "              precision    recall  f1-score   support\n",
      "\n",
      "           0       0.71      0.67      0.69   2040742\n",
      "           1       0.73      0.76      0.74   2359258\n",
      "\n",
      "    accuracy                           0.72   4400000\n",
      "   macro avg       0.72      0.72      0.72   4400000\n",
      "weighted avg       0.72      0.72      0.72   4400000\n",
      "\n",
      "Classification Report - Testing\n",
      "              precision    recall  f1-score   support\n",
      "\n",
      "Not Listened       0.70      0.66      0.68    509896\n",
      "    Listened       0.72      0.75      0.74    590104\n",
      "\n",
      "    accuracy                           0.71   1100000\n",
      "   macro avg       0.71      0.71      0.71   1100000\n",
      "weighted avg       0.71      0.71      0.71   1100000\n",
      "\n"
     ]
    },
    {
     "name": "stderr",
     "output_type": "stream",
     "text": [
      "[Parallel(n_jobs=2)]: Using backend ThreadingBackend with 2 concurrent workers.\n",
      "[Parallel(n_jobs=2)]: Done  21 tasks      | elapsed:    3.0s\n",
      "[Parallel(n_jobs=2)]: Done  94 tasks      | elapsed:   13.3s\n",
      "[Parallel(n_jobs=2)]: Done 100 out of 100 | elapsed:   14.1s finished\n"
     ]
    },
    {
     "data": {
      "image/png": "[encoded data removed]",
      "text/plain": [
       "<Figure size 432x288 with 2 Axes>"
      ]
     },
     "metadata": {},
     "output_type": "display_data"
    },
    {
     "data": {
      "image/png": "[encoded data removed]",
      "text/plain": [
       "<Figure size 432x288 with 1 Axes>"
      ]
     },
     "metadata": {},
     "output_type": "display_data"
    }
   ],
   "source": [
    "# Base Line Evaluation\n",
    "\n",
    "#Predicting for testing and trainig data sets\n",
    "y_test_proba = rf.predict_proba(X_test)[:,1]\n",
    "y_train_proba = rf.predict_proba(X_train)[:,1]\n",
    "\n",
    "y_pred_test = rf.predict(X_test)\n",
    "y_pred_train = rf.predict(X_train)\n",
    "\n",
    "#Accuracy Score\n",
    "print(\"Training accuracy: %0.4f\" %rf.score(X_train, y_train))\n",
    "print(\"Test accuracy    : %0.4f\" %rf.score(X_test, y_test))\n",
    "#print(\"Test log loss    : %0.4f\" %log_loss(y_train, lr.predict_proba(X_train)))\n",
    "#AUC Score\n",
    "auc_train = roc_auc_score(y_train,y_train_proba)\n",
    "auc_test = roc_auc_score(y_test,y_test_proba)\n",
    "\n",
    "print('Training AUC Score: %0.4f' %auc_train)  \n",
    "print('Testing AUC Score: %0.4f' %auc_test)          \n",
    "\n",
    "print('Classification Report - Training')\n",
    "print(classification_report(y_train,y_pred_train))\n",
    "\n",
    "print('Classification Report - Testing')\n",
    "print(classification_report(y_test,y_pred_test,target_names = class_names))\n",
    "\n",
    "plot_confusion_matrix(rf, X_test, y_test,  cmap=plt.cm.Blues, normalize = 'true') #display_labels=class_names,\n",
    "plt.show()\n",
    "auc_curve(y_test,y_test_proba,auc_test)\n"
   ]
  },
  {
   "cell_type": "code",
   "execution_count": 41,
   "metadata": {
    "scrolled": true
   },
   "outputs": [
    {
     "name": "stdout",
     "output_type": "stream",
     "text": [
      "<class 'pandas.core.frame.DataFrame'>\n",
      "Int64Index: 4400000 entries, 1748203 to 1692743\n",
      "Data columns (total 83 columns):\n",
      "song_length                                float32\n",
      "language                                   int16\n",
      "city                                       int16\n",
      "bd                                         int16\n",
      "registered_via                             int16\n",
      "lyricist_count                             int16\n",
      "artist_count                               int16\n",
      "composer_count                             int16\n",
      "genre_count                                int16\n",
      "isrc_year                                  int8\n",
      "duration                                   float16\n",
      "registration_year                          int16\n",
      "registration_month                         int16\n",
      "registration_day                           int16\n",
      "registration_weekday                       int16\n",
      "expiration_year                            int16\n",
      "expiration_month                           int16\n",
      "expiration_day                             int16\n",
      "expiration_weekday                         int16\n",
      "song_freq                                  float16\n",
      "artist_freq                                float16\n",
      "composer_artist_lyricist                   uint8\n",
      "composer_artist                            uint8\n",
      "count_song_played                          int16\n",
      "count_artist_played                        int16\n",
      "us_1                                       float16\n",
      "us_2                                       float16\n",
      "us_3                                       float16\n",
      "us_4                                       float16\n",
      "us_5                                       float16\n",
      "us_6                                       float16\n",
      "us_7                                       float16\n",
      "us_8                                       float16\n",
      "us_9                                       float16\n",
      "us_10                                      float16\n",
      "genre_ids_encoded                          float16\n",
      "composer_encoded                           float16\n",
      "artist_name_encoded                        float16\n",
      "lyricist_encoded                           float16\n",
      "name_encoded                               float16\n",
      "isrc_country_encoded                       float16\n",
      "source_system_tab_explore                  uint8\n",
      "source_system_tab_listen with              uint8\n",
      "source_system_tab_my library               uint8\n",
      "source_system_tab_notification             uint8\n",
      "source_system_tab_radio                    uint8\n",
      "source_system_tab_search                   uint8\n",
      "source_system_tab_settings                 uint8\n",
      "source_system_tab_system_tab_missing       uint8\n",
      "source_screen_name_Artist more             uint8\n",
      "source_screen_name_Concert                 uint8\n",
      "source_screen_name_Discover Chart          uint8\n",
      "source_screen_name_Discover Feature        uint8\n",
      "source_screen_name_Discover Genre          uint8\n",
      "source_screen_name_Discover New            uint8\n",
      "source_screen_name_Explore                 uint8\n",
      "source_screen_name_Local playlist more     uint8\n",
      "source_screen_name_My library              uint8\n",
      "source_screen_name_My library_Search       uint8\n",
      "source_screen_name_Online playlist more    uint8\n",
      "source_screen_name_Others profile more     uint8\n",
      "source_screen_name_Payment                 uint8\n",
      "source_screen_name_Radio                   uint8\n",
      "source_screen_name_Search                  uint8\n",
      "source_screen_name_Search Home             uint8\n",
      "source_screen_name_Search Trends           uint8\n",
      "source_screen_name_Self profile more       uint8\n",
      "source_screen_name_Unknown                 uint8\n",
      "source_screen_name_screen_name_missing     uint8\n",
      "source_type_artist                         uint8\n",
      "source_type_listen-with                    uint8\n",
      "source_type_local-library                  uint8\n",
      "source_type_local-playlist                 uint8\n",
      "source_type_my-daily-playlist              uint8\n",
      "source_type_online-playlist                uint8\n",
      "source_type_radio                          uint8\n",
      "source_type_song                           uint8\n",
      "source_type_song-based-playlist            uint8\n",
      "source_type_source_type_missing            uint8\n",
      "source_type_top-hits-for-artist            uint8\n",
      "source_type_topic-article-playlist         uint8\n",
      "gender_gender_missing                      uint8\n",
      "gender_male                                uint8\n",
      "dtypes: float16(19), float32(1), int16(18), int8(1), uint8(44)\n",
      "memory usage: 549.7 MB\n"
     ]
    }
   ],
   "source": [
    "X_train.info()"
   ]
  },
  {
   "cell_type": "code",
   "execution_count": 42,
   "metadata": {
    "scrolled": false
   },
   "outputs": [
    {
     "name": "stdout",
     "output_type": "stream",
     "text": [
      "Top 20 Feature Importance\n"
     ]
    },
    {
     "data": {
      "image/png": "[encoded data removed]",
      "text/plain": [
       "<Figure size 504x504 with 1 Axes>"
      ]
     },
     "metadata": {},
     "output_type": "display_data"
    }
   ],
   "source": [
    "figsize(7,7)\n",
    "import seaborn as sns\n",
    "coefficients = rf.feature_importances_\n",
    "coef = pd.DataFrame(coefficients, index = X_train.columns, columns = ['Feature Importance'])\n",
    "coef.sort_values('Feature Importance', ascending = False, inplace = True)\n",
    "print(\"Top 20 Feature Importance\")\n",
    "_ = sns.barplot(data = coef[:20], x = 'Feature Importance', y = coef[:20].index, orient = 'h')\n",
    "#_ = plt.barh(coef[:20].index, coef['Feature Importance'][:20])"
   ]
  },
  {
   "cell_type": "code",
   "execution_count": 122,
   "metadata": {},
   "outputs": [
    {
     "data": {
      "text/plain": [
       "139439"
      ]
     },
     "execution_count": 122,
     "metadata": {},
     "output_type": "execute_result"
    }
   ],
   "source": [
    "#diff = list(set(df.msno.iloc[X_test.index])-set(df.msno.iloc[X_train.index]))\n",
    "#diff_index = X[X.msno.isin(diff)].index\n",
    "len(diff_index)"
   ]
  },
  {
   "cell_type": "code",
   "execution_count": 123,
   "metadata": {},
   "outputs": [
    {
     "name": "stderr",
     "output_type": "stream",
     "text": [
      "[Parallel(n_jobs=2)]: Using backend ThreadingBackend with 2 concurrent workers.\n",
      "[Parallel(n_jobs=2)]: Done  21 tasks      | elapsed:    5.1s\n",
      "[Parallel(n_jobs=2)]: Done  94 tasks      | elapsed:   22.0s\n",
      "[Parallel(n_jobs=2)]: Done 100 out of 100 | elapsed:   23.5s finished\n"
     ]
    }
   ],
   "source": [
    "y_pred_valid = rf.predict(data_x_valid)\n",
    "\n"
   ]
  },
  {
   "cell_type": "code",
   "execution_count": 125,
   "metadata": {},
   "outputs": [
    {
     "name": "stderr",
     "output_type": "stream",
     "text": [
      "C:\\ProgramData\\Anaconda3\\lib\\site-packages\\ipykernel_launcher.py:5: SettingWithCopyWarning: \n",
      "A value is trying to be set on a copy of a slice from a DataFrame.\n",
      "Try using .loc[row_indexer,col_indexer] = value instead\n",
      "\n",
      "See the caveats in the documentation: http://pandas.pydata.org/pandas-docs/stable/indexing.html#indexing-view-versus-copy\n",
      "  \"\"\"\n"
     ]
    },
    {
     "data": {
      "text/plain": [
       "1    0.628117\n",
       "0    0.371883\n",
       "Name: accuracy, dtype: float64"
      ]
     },
     "execution_count": 125,
     "metadata": {},
     "output_type": "execute_result"
    }
   ],
   "source": [
    "data_x_valid['target'] = data_y_valid\n",
    "data_x_valid['pred'] = y_pred_valid\n",
    "cold_start = data_x_valid#[data_x_valid.index.isin(diff_index)]\n",
    "\n",
    "cold_start['accuracy'] = np.where(cold_start['pred'] == cold_start['target'], 1, 0)\n",
    "cold_start.accuracy.value_counts(normalize=True)"
   ]
  },
  {
   "cell_type": "code",
   "execution_count": null,
   "metadata": {},
   "outputs": [],
   "source": [
    "Results - This model (Doc to Vec)"
   ]
  },
  {
   "cell_type": "code",
   "execution_count": null,
   "metadata": {},
   "outputs": [],
   "source": []
  },
  {
   "cell_type": "code",
   "execution_count": null,
   "metadata": {},
   "outputs": [],
   "source": []
  },
  {
   "cell_type": "code",
   "execution_count": null,
   "metadata": {},
   "outputs": [],
   "source": []
  },
  {
   "cell_type": "code",
   "execution_count": 18,
   "metadata": {},
   "outputs": [],
   "source": [
    "def rf_classifier(X_train, X_test, n_trees):\n",
    "    rf = RandomForestClassifier(n_jobs = 4, max_depth = n_trees, random_state = 42)\n",
    "\n",
    "    rf.fit(X_train,y_train)\n",
    "\n",
    "    y_pred_test = rf.predict(X_test)\n",
    "    y_pred_train = rf.predict(X_train)\n",
    "    \n",
    "    y_test_proba = rf.predict_proba(X_test)[:,1]\n",
    "    y_train_proba = rf.predict_proba(X_train)[:,1]\n",
    "\n",
    "\n",
    "    #Accuracy Score\n",
    "    auc_train = roc_auc_score(y_train,y_train_proba)\n",
    "    auc_test = roc_auc_score(y_test,y_test_proba)\n",
    "    #loss_train = log_loss(y_train, rf.predict_proba(X_train))\n",
    "    #loss_test = log_loss(y_test, rf.predict_proba(X_test))\n",
    "    \n",
    "    return auc_train, auc_test\n",
    "    #return loss_train, loss_test"
   ]
  },
  {
   "cell_type": "markdown",
   "metadata": {},
   "source": [
    "### Hyper-parameter Tuning"
   ]
  },
  {
   "cell_type": "code",
   "execution_count": 19,
   "metadata": {
    "scrolled": false
   },
   "outputs": [
    {
     "name": "stdout",
     "output_type": "stream",
     "text": [
      "10\n"
     ]
    },
    {
     "ename": "MemoryError",
     "evalue": "",
     "output_type": "error",
     "traceback": [
      "\u001b[1;31m---------------------------------------------------------------------------\u001b[0m",
      "\u001b[1;31mMemoryError\u001b[0m                               Traceback (most recent call last)",
      "\u001b[1;32m<ipython-input-19-7eb4091ecfce>\u001b[0m in \u001b[0;36m<module>\u001b[1;34m\u001b[0m\n\u001b[0;32m     11\u001b[0m \u001b[1;32mfor\u001b[0m \u001b[0mi\u001b[0m \u001b[1;32min\u001b[0m \u001b[0mmax_depths\u001b[0m\u001b[1;33m:\u001b[0m\u001b[1;33m\u001b[0m\u001b[1;33m\u001b[0m\u001b[0m\n\u001b[0;32m     12\u001b[0m     \u001b[0mprint\u001b[0m\u001b[1;33m(\u001b[0m\u001b[0mi\u001b[0m\u001b[1;33m)\u001b[0m\u001b[1;33m\u001b[0m\u001b[1;33m\u001b[0m\u001b[0m\n\u001b[1;32m---> 13\u001b[1;33m     \u001b[0mtrain\u001b[0m\u001b[1;33m,\u001b[0m \u001b[0mtest\u001b[0m \u001b[1;33m=\u001b[0m \u001b[0mrf_classifier\u001b[0m\u001b[1;33m(\u001b[0m\u001b[0mX_train\u001b[0m\u001b[1;33m,\u001b[0m \u001b[0mX_test\u001b[0m\u001b[1;33m,\u001b[0m \u001b[0mi\u001b[0m\u001b[1;33m)\u001b[0m\u001b[1;33m\u001b[0m\u001b[1;33m\u001b[0m\u001b[0m\n\u001b[0m\u001b[0;32m     14\u001b[0m     \u001b[0mtrain_auc\u001b[0m\u001b[1;33m.\u001b[0m\u001b[0mappend\u001b[0m\u001b[1;33m(\u001b[0m\u001b[0mtrain\u001b[0m\u001b[1;33m)\u001b[0m\u001b[1;33m\u001b[0m\u001b[1;33m\u001b[0m\u001b[0m\n\u001b[0;32m     15\u001b[0m     \u001b[0mtest_auc\u001b[0m\u001b[1;33m.\u001b[0m\u001b[0mappend\u001b[0m\u001b[1;33m(\u001b[0m\u001b[0mtest\u001b[0m\u001b[1;33m)\u001b[0m\u001b[1;33m\u001b[0m\u001b[1;33m\u001b[0m\u001b[0m\n",
      "\u001b[1;32m<ipython-input-18-3ba3d915b58d>\u001b[0m in \u001b[0;36mrf_classifier\u001b[1;34m(X_train, X_test, n_trees)\u001b[0m\n\u001b[0;32m      2\u001b[0m     \u001b[0mrf\u001b[0m \u001b[1;33m=\u001b[0m \u001b[0mRandomForestClassifier\u001b[0m\u001b[1;33m(\u001b[0m\u001b[0mn_jobs\u001b[0m \u001b[1;33m=\u001b[0m \u001b[1;36m4\u001b[0m\u001b[1;33m,\u001b[0m \u001b[0mmax_depth\u001b[0m \u001b[1;33m=\u001b[0m \u001b[0mn_trees\u001b[0m\u001b[1;33m,\u001b[0m \u001b[0mrandom_state\u001b[0m \u001b[1;33m=\u001b[0m \u001b[1;36m42\u001b[0m\u001b[1;33m)\u001b[0m\u001b[1;33m\u001b[0m\u001b[1;33m\u001b[0m\u001b[0m\n\u001b[0;32m      3\u001b[0m \u001b[1;33m\u001b[0m\u001b[0m\n\u001b[1;32m----> 4\u001b[1;33m     \u001b[0mrf\u001b[0m\u001b[1;33m.\u001b[0m\u001b[0mfit\u001b[0m\u001b[1;33m(\u001b[0m\u001b[0mX_train\u001b[0m\u001b[1;33m,\u001b[0m\u001b[0my_train\u001b[0m\u001b[1;33m)\u001b[0m\u001b[1;33m\u001b[0m\u001b[1;33m\u001b[0m\u001b[0m\n\u001b[0m\u001b[0;32m      5\u001b[0m \u001b[1;33m\u001b[0m\u001b[0m\n\u001b[0;32m      6\u001b[0m     \u001b[0my_pred_test\u001b[0m \u001b[1;33m=\u001b[0m \u001b[0mrf\u001b[0m\u001b[1;33m.\u001b[0m\u001b[0mpredict\u001b[0m\u001b[1;33m(\u001b[0m\u001b[0mX_test\u001b[0m\u001b[1;33m)\u001b[0m\u001b[1;33m\u001b[0m\u001b[1;33m\u001b[0m\u001b[0m\n",
      "\u001b[1;32mC:\\ProgramData\\Anaconda3\\lib\\site-packages\\sklearn\\ensemble\\_forest.py\u001b[0m in \u001b[0;36mfit\u001b[1;34m(self, X, y, sample_weight)\u001b[0m\n\u001b[0;32m    293\u001b[0m         \"\"\"\n\u001b[0;32m    294\u001b[0m         \u001b[1;31m# Validate or convert input data\u001b[0m\u001b[1;33m\u001b[0m\u001b[1;33m\u001b[0m\u001b[1;33m\u001b[0m\u001b[0m\n\u001b[1;32m--> 295\u001b[1;33m         \u001b[0mX\u001b[0m \u001b[1;33m=\u001b[0m \u001b[0mcheck_array\u001b[0m\u001b[1;33m(\u001b[0m\u001b[0mX\u001b[0m\u001b[1;33m,\u001b[0m \u001b[0maccept_sparse\u001b[0m\u001b[1;33m=\u001b[0m\u001b[1;34m\"csc\"\u001b[0m\u001b[1;33m,\u001b[0m \u001b[0mdtype\u001b[0m\u001b[1;33m=\u001b[0m\u001b[0mDTYPE\u001b[0m\u001b[1;33m)\u001b[0m\u001b[1;33m\u001b[0m\u001b[1;33m\u001b[0m\u001b[0m\n\u001b[0m\u001b[0;32m    296\u001b[0m         \u001b[0my\u001b[0m \u001b[1;33m=\u001b[0m \u001b[0mcheck_array\u001b[0m\u001b[1;33m(\u001b[0m\u001b[0my\u001b[0m\u001b[1;33m,\u001b[0m \u001b[0maccept_sparse\u001b[0m\u001b[1;33m=\u001b[0m\u001b[1;34m'csc'\u001b[0m\u001b[1;33m,\u001b[0m \u001b[0mensure_2d\u001b[0m\u001b[1;33m=\u001b[0m\u001b[1;32mFalse\u001b[0m\u001b[1;33m,\u001b[0m \u001b[0mdtype\u001b[0m\u001b[1;33m=\u001b[0m\u001b[1;32mNone\u001b[0m\u001b[1;33m)\u001b[0m\u001b[1;33m\u001b[0m\u001b[1;33m\u001b[0m\u001b[0m\n\u001b[0;32m    297\u001b[0m         \u001b[1;32mif\u001b[0m \u001b[0msample_weight\u001b[0m \u001b[1;32mis\u001b[0m \u001b[1;32mnot\u001b[0m \u001b[1;32mNone\u001b[0m\u001b[1;33m:\u001b[0m\u001b[1;33m\u001b[0m\u001b[1;33m\u001b[0m\u001b[0m\n",
      "\u001b[1;32mC:\\ProgramData\\Anaconda3\\lib\\site-packages\\sklearn\\utils\\validation.py\u001b[0m in \u001b[0;36mcheck_array\u001b[1;34m(array, accept_sparse, accept_large_sparse, dtype, order, copy, force_all_finite, ensure_2d, allow_nd, ensure_min_samples, ensure_min_features, warn_on_dtype, estimator)\u001b[0m\n\u001b[0;32m    529\u001b[0m                     \u001b[0marray\u001b[0m \u001b[1;33m=\u001b[0m \u001b[0marray\u001b[0m\u001b[1;33m.\u001b[0m\u001b[0mastype\u001b[0m\u001b[1;33m(\u001b[0m\u001b[0mdtype\u001b[0m\u001b[1;33m,\u001b[0m \u001b[0mcasting\u001b[0m\u001b[1;33m=\u001b[0m\u001b[1;34m\"unsafe\"\u001b[0m\u001b[1;33m,\u001b[0m \u001b[0mcopy\u001b[0m\u001b[1;33m=\u001b[0m\u001b[1;32mFalse\u001b[0m\u001b[1;33m)\u001b[0m\u001b[1;33m\u001b[0m\u001b[1;33m\u001b[0m\u001b[0m\n\u001b[0;32m    530\u001b[0m                 \u001b[1;32melse\u001b[0m\u001b[1;33m:\u001b[0m\u001b[1;33m\u001b[0m\u001b[1;33m\u001b[0m\u001b[0m\n\u001b[1;32m--> 531\u001b[1;33m                     \u001b[0marray\u001b[0m \u001b[1;33m=\u001b[0m \u001b[0mnp\u001b[0m\u001b[1;33m.\u001b[0m\u001b[0masarray\u001b[0m\u001b[1;33m(\u001b[0m\u001b[0marray\u001b[0m\u001b[1;33m,\u001b[0m \u001b[0morder\u001b[0m\u001b[1;33m=\u001b[0m\u001b[0morder\u001b[0m\u001b[1;33m,\u001b[0m \u001b[0mdtype\u001b[0m\u001b[1;33m=\u001b[0m\u001b[0mdtype\u001b[0m\u001b[1;33m)\u001b[0m\u001b[1;33m\u001b[0m\u001b[1;33m\u001b[0m\u001b[0m\n\u001b[0m\u001b[0;32m    532\u001b[0m             \u001b[1;32mexcept\u001b[0m \u001b[0mComplexWarning\u001b[0m\u001b[1;33m:\u001b[0m\u001b[1;33m\u001b[0m\u001b[1;33m\u001b[0m\u001b[0m\n\u001b[0;32m    533\u001b[0m                 raise ValueError(\"Complex data not supported\\n\"\n",
      "\u001b[1;32mC:\\ProgramData\\Anaconda3\\lib\\site-packages\\numpy\\core\\numeric.py\u001b[0m in \u001b[0;36masarray\u001b[1;34m(a, dtype, order)\u001b[0m\n\u001b[0;32m    536\u001b[0m \u001b[1;33m\u001b[0m\u001b[0m\n\u001b[0;32m    537\u001b[0m     \"\"\"\n\u001b[1;32m--> 538\u001b[1;33m     \u001b[1;32mreturn\u001b[0m \u001b[0marray\u001b[0m\u001b[1;33m(\u001b[0m\u001b[0ma\u001b[0m\u001b[1;33m,\u001b[0m \u001b[0mdtype\u001b[0m\u001b[1;33m,\u001b[0m \u001b[0mcopy\u001b[0m\u001b[1;33m=\u001b[0m\u001b[1;32mFalse\u001b[0m\u001b[1;33m,\u001b[0m \u001b[0morder\u001b[0m\u001b[1;33m=\u001b[0m\u001b[0morder\u001b[0m\u001b[1;33m)\u001b[0m\u001b[1;33m\u001b[0m\u001b[1;33m\u001b[0m\u001b[0m\n\u001b[0m\u001b[0;32m    539\u001b[0m \u001b[1;33m\u001b[0m\u001b[0m\n\u001b[0;32m    540\u001b[0m \u001b[1;33m\u001b[0m\u001b[0m\n",
      "\u001b[1;31mMemoryError\u001b[0m: "
     ]
    }
   ],
   "source": [
    "\n",
    "\n",
    "n_trees = [20, 50, 100, 200, 500]\n",
    "max_depths = [10, 15, 20, 25]\n",
    "min_samples_split = [2, 10, 30,50, 75]\n",
    "min_samples_leaf = [1, 2, 10, 35, 50, 75]\n",
    "max_features = [4,5,6, 10, 15, 20]\n",
    "\n",
    "\n",
    "train_auc = []\n",
    "test_auc  = []\n",
    "\n",
    "for i in max_depths:\n",
    "    print(i)\n",
    "    train, test = rf_classifier(X_train, X_test, i)\n",
    "    train_auc.append(train)\n",
    "    test_auc.append(test)\n",
    "\n",
    "_ = plt.plot(max_depth, train_auc, 'r', label = 'Training')\n",
    "_ = plt.plot(max_depth, test_auc, 'b', label = 'Test')\n",
    "_ = plt.xlabel('Max_depth')\n",
    "_ = plt.ylabel('AUC Score')\n"
   ]
  },
  {
   "cell_type": "code",
   "execution_count": 91,
   "metadata": {
    "scrolled": false
   },
   "outputs": [
    {
     "data": {
      "image/png": "[encoded data removed]",
      "text/plain": [
       "<Figure size 504x504 with 1 Axes>"
      ]
     },
     "metadata": {},
     "output_type": "display_data"
    }
   ],
   "source": [
    "#_ = plt.plot(n_trees, train_auc, 'r', label = 'Training')\n",
    "_ = plt.plot(n_trees, test_auc, 'b', label = 'Test')\n",
    "_ = plt.xlabel('Number of Trees')\n",
    "_ = plt.ylabel('Test AUC Score')\n",
    "_ = plt.axvline(x = 300, color = 'r', linestyle = '--', linewidth = 1.25)"
   ]
  },
  {
   "cell_type": "code",
   "execution_count": 50,
   "metadata": {
    "scrolled": true
   },
   "outputs": [
    {
     "name": "stdout",
     "output_type": "stream",
     "text": [
      "Fitting 5 folds for each of 150 candidates, totalling 750 fits\n"
     ]
    },
    {
     "name": "stderr",
     "output_type": "stream",
     "text": [
      "[Parallel(n_jobs=4)]: Using backend LokyBackend with 4 concurrent workers.\n",
      "[Parallel(n_jobs=4)]: Done  33 tasks      | elapsed:  4.5min\n",
      "[Parallel(n_jobs=4)]: Done 154 tasks      | elapsed: 20.9min\n",
      "[Parallel(n_jobs=4)]: Done 357 tasks      | elapsed: 44.6min\n",
      "[Parallel(n_jobs=4)]: Done 640 tasks      | elapsed: 97.1min\n",
      "[Parallel(n_jobs=4)]: Done 750 out of 750 | elapsed: 107.5min finished\n"
     ]
    },
    {
     "name": "stdout",
     "output_type": "stream",
     "text": [
      "{'max_depth': 18, 'max_features': 15, 'min_samples_split': 27}\n",
      "0.685164570688306\n"
     ]
    }
   ],
   "source": [
    "from sklearn.model_selection import RandomizedSearchCV\n",
    "from sklearn.model_selection import GridSearchCV\n",
    "\n",
    "#n_trees = randint(100,150)\n",
    "max_depths = randint(15,20)\n",
    "min_samples_split = randint(20,100)\n",
    "max_features = randint(15,30)\n",
    "\n",
    "param_grid = {'max_depth': max_depths, 'min_samples_split': min_samples_split,\n",
    "              'max_features':max_features } #'n_estimators':n_trees\n",
    "\n",
    "rf = RandomForestClassifier(n_jobs = 4)\n",
    "\n",
    "cv = RandomizedSearchCV(rf, param_distributions = param_grid, random_state=42, \n",
    "                        n_iter=150, cv=5, verbose=2, n_jobs=4, scoring = 'roc_auc')\n",
    "\n",
    "cv.fit(X_train,y_train)\n",
    "\n",
    "print(cv.best_params_)\n",
    "print(cv.best_score_)"
   ]
  },
  {
   "cell_type": "code",
   "execution_count": 116,
   "metadata": {},
   "outputs": [
    {
     "name": "stdout",
     "output_type": "stream",
     "text": [
      "[ 6  9 12 15 18 21 24]\n"
     ]
    }
   ],
   "source": [
    "n_trees = [75, 100, 125, 150, 175, 200]\n",
    "max_depths = [10, 12, 14, 15, 16, 20]\n",
    "min_samples_split = [2, 30,50, 75, 100, 150]\n",
    "min_samples_leaf = [2, 35, 50, 75, 100, 150]\n",
    "max_features = np.arange(6,25,3)\n",
    "print(max_features)"
   ]
  },
  {
   "cell_type": "code",
   "execution_count": 99,
   "metadata": {
    "scrolled": false
   },
   "outputs": [
    {
     "name": "stderr",
     "output_type": "stream",
     "text": [
      "[Parallel(n_jobs=4)]: Using backend ThreadingBackend with 4 concurrent workers.\n"
     ]
    },
    {
     "name": "stdout",
     "output_type": "stream",
     "text": [
      "building tree 1 of 300building tree 2 of 300building tree 3 of 300\n",
      "\n",
      "building tree 4 of 300\n",
      "\n",
      "building tree 5 of 300\n",
      "building tree 6 of 300\n",
      "building tree 7 of 300\n",
      "building tree 8 of 300\n",
      "building tree 9 of 300\n",
      "building tree 10 of 300\n",
      "building tree 11 of 300\n",
      "building tree 12 of 300\n",
      "building tree 13 of 300\n",
      "building tree 14 of 300\n",
      "building tree 15 of 300\n",
      "building tree 16 of 300\n",
      "building tree 17 of 300\n",
      "building tree 18 of 300\n",
      "building tree 19 of 300\n",
      "building tree 20 of 300\n",
      "building tree 21 of 300\n",
      "building tree 22 of 300\n",
      "building tree 23 of 300\n",
      "building tree 24 of 300\n",
      "building tree 25 of 300\n",
      "building tree 26 of 300\n",
      "building tree 27 of 300\n",
      "building tree 28 of 300\n",
      "building tree 29 of 300\n",
      "building tree 30 of 300\n",
      "building tree 31 of 300\n",
      "building tree 32 of 300\n",
      "building tree 33 of 300\n",
      "building tree 34 of 300\n",
      "building tree 35 of 300\n",
      "building tree 36 of 300\n",
      "building tree 37 of 300\n",
      "building tree 38 of 300\n",
      "building tree 39 of 300\n",
      "building tree 40 of 300\n"
     ]
    },
    {
     "name": "stderr",
     "output_type": "stream",
     "text": [
      "[Parallel(n_jobs=4)]: Done  33 tasks      | elapsed:    2.1s\n"
     ]
    },
    {
     "name": "stdout",
     "output_type": "stream",
     "text": [
      "building tree 41 of 300\n",
      "building tree 42 of 300\n",
      "building tree 43 of 300\n",
      "building tree 44 of 300\n",
      "building tree 45 of 300\n",
      "building tree 46 of 300\n",
      "building tree 47 of 300\n",
      "building tree 48 of 300\n",
      "building tree 49 of 300\n",
      "building tree 50 of 300\n",
      "building tree 51 of 300\n",
      "building tree 52 of 300\n",
      "building tree 53 of 300\n",
      "building tree 54 of 300\n",
      "building tree 55 of 300\n",
      "building tree 56 of 300\n",
      "building tree 57 of 300\n",
      "building tree 58 of 300\n",
      "building tree 59 of 300\n",
      "building tree 60 of 300\n",
      "building tree 61 of 300\n",
      "building tree 62 of 300\n",
      "building tree 63 of 300\n",
      "building tree 64 of 300\n",
      "building tree 65 of 300\n",
      "building tree 66 of 300\n",
      "building tree 67 of 300\n",
      "building tree 68 of 300\n",
      "building tree 69 of 300\n",
      "building tree 70 of 300\n",
      "building tree 71 of 300\n",
      "building tree 72 of 300\n",
      "building tree 73 of 300\n",
      "building tree 74 of 300\n",
      "building tree 75 of 300\n",
      "building tree 76 of 300\n",
      "building tree 77 of 300\n",
      "building tree 78 of 300\n",
      "building tree 79 of 300\n",
      "building tree 80 of 300\n",
      "building tree 81 of 300\n",
      "building tree 82 of 300\n",
      "building tree 83 of 300\n",
      "building tree 84 of 300\n",
      "building tree 85 of 300\n",
      "building tree 86 of 300\n",
      "building tree 87 of 300\n",
      "building tree 88 of 300\n",
      "building tree 89 of 300\n",
      "building tree 90 of 300\n",
      "building tree 91 of 300\n",
      "building tree 92 of 300\n",
      "building tree 93 of 300\n",
      "building tree 94 of 300\n",
      "building tree 95 of 300\n",
      "building tree 96 of 300\n",
      "building tree 97 of 300\n",
      "building tree 98 of 300\n",
      "building tree 99 of 300\n",
      "building tree 100 of 300\n",
      "building tree 101 of 300\n",
      "building tree 102 of 300\n",
      "building tree 103 of 300\n",
      "building tree 104 of 300\n",
      "building tree 105 of 300\n",
      "building tree 106 of 300\n",
      "building tree 107 of 300\n",
      "building tree 108 of 300\n",
      "building tree 109 of 300\n",
      "building tree 110 of 300\n",
      "building tree 111 of 300\n",
      "building tree 112 of 300\n",
      "building tree 113 of 300\n",
      "building tree 114 of 300\n",
      "building tree 115 of 300\n",
      "building tree 116 of 300\n",
      "building tree 117 of 300\n",
      "building tree 118 of 300\n",
      "building tree 119 of 300\n",
      "building tree 120 of 300\n",
      "building tree 121 of 300\n",
      "building tree 122 of 300\n",
      "building tree 123 of 300\n",
      "building tree 124 of 300\n",
      "building tree 125 of 300\n",
      "building tree 126 of 300\n",
      "building tree 127 of 300\n",
      "building tree 128 of 300\n",
      "building tree 129 of 300\n",
      "building tree 130 of 300\n",
      "building tree 131 of 300\n",
      "building tree 132 of 300\n",
      "building tree 133 of 300\n",
      "building tree 134 of 300\n",
      "building tree 135 of 300\n",
      "building tree 136 of 300\n",
      "building tree 137 of 300\n",
      "building tree 138 of 300\n",
      "building tree 139 of 300\n",
      "building tree 140 of 300\n",
      "building tree 141 of 300\n",
      "building tree 142 of 300\n",
      "building tree 143 of 300\n",
      "building tree 144 of 300\n",
      "building tree 145 of 300\n",
      "building tree 146 of 300\n",
      "building tree 147 of 300\n",
      "building tree 148 of 300\n",
      "building tree 149 of 300\n",
      "building tree 150 of 300\n",
      "building tree 151 of 300\n",
      "building tree 152 of 300\n",
      "building tree 153 of 300\n",
      "building tree 154 of 300\n",
      "building tree 155 of 300\n",
      "building tree 156 of 300\n",
      "building tree 157 of 300\n"
     ]
    },
    {
     "name": "stderr",
     "output_type": "stream",
     "text": [
      "[Parallel(n_jobs=4)]: Done 154 tasks      | elapsed:    9.5s\n"
     ]
    },
    {
     "name": "stdout",
     "output_type": "stream",
     "text": [
      "building tree 158 of 300\n",
      "building tree 159 of 300\n",
      "building tree 160 of 300\n",
      "building tree 161 of 300\n",
      "building tree 162 of 300\n",
      "building tree 163 of 300\n",
      "building tree 164 of 300\n",
      "building tree 165 of 300\n",
      "building tree 166 of 300\n",
      "building tree 167 of 300\n",
      "building tree 168 of 300\n",
      "building tree 169 of 300\n",
      "building tree 170 of 300\n",
      "building tree 171 of 300\n",
      "building tree 172 of 300\n",
      "building tree 173 of 300\n",
      "building tree 174 of 300\n",
      "building tree 175 of 300\n",
      "building tree 176 of 300\n",
      "building tree 177 of 300\n",
      "building tree 178 of 300\n",
      "building tree 179 of 300\n",
      "building tree 180 of 300\n",
      "building tree 181 of 300\n",
      "building tree 182 of 300\n",
      "building tree 183 of 300\n",
      "building tree 184 of 300\n",
      "building tree 185 of 300\n",
      "building tree 186 of 300\n",
      "building tree 187 of 300\n",
      "building tree 188 of 300\n",
      "building tree 189 of 300\n",
      "building tree 190 of 300\n",
      "building tree 191 of 300\n",
      "building tree 192 of 300\n",
      "building tree 193 of 300\n",
      "building tree 194 of 300\n",
      "building tree 195 of 300\n",
      "building tree 196 of 300\n",
      "building tree 197 of 300\n",
      "building tree 198 of 300\n",
      "building tree 199 of 300\n",
      "building tree 200 of 300\n",
      "building tree 201 of 300\n",
      "building tree 202 of 300\n",
      "building tree 203 of 300\n",
      "building tree 204 of 300\n",
      "building tree 205 of 300\n",
      "building tree 206 of 300\n",
      "building tree 207 of 300\n",
      "building tree 208 of 300\n",
      "building tree 209 of 300\n",
      "building tree 210 of 300\n",
      "building tree 211 of 300\n",
      "building tree 212 of 300\n",
      "building tree 213 of 300\n",
      "building tree 214 of 300\n",
      "building tree 215 of 300\n",
      "building tree 216 of 300\n",
      "building tree 217 of 300\n",
      "building tree 218 of 300\n",
      "building tree 219 of 300\n",
      "building tree 220 of 300\n",
      "building tree 221 of 300\n",
      "building tree 222 of 300\n",
      "building tree 223 of 300\n",
      "building tree 224 of 300\n",
      "building tree 225 of 300\n",
      "building tree 226 of 300\n",
      "building tree 227 of 300\n",
      "building tree 228 of 300\n",
      "building tree 229 of 300\n",
      "building tree 230 of 300\n",
      "building tree 231 of 300\n",
      "building tree 232 of 300\n",
      "building tree 233 of 300\n",
      "building tree 234 of 300\n",
      "building tree 235 of 300\n",
      "building tree 236 of 300\n",
      "building tree 237 of 300\n",
      "building tree 238 of 300\n",
      "building tree 239 of 300\n",
      "building tree 240 of 300\n",
      "building tree 241 of 300\n",
      "building tree 242 of 300\n",
      "building tree 243 of 300\n",
      "building tree 244 of 300\n",
      "building tree 245 of 300\n",
      "building tree 246 of 300\n",
      "building tree 247 of 300\n",
      "building tree 248 of 300\n",
      "building tree 249 of 300\n",
      "building tree 250 of 300\n",
      "building tree 251 of 300\n",
      "building tree 252 of 300\n",
      "building tree 253 of 300\n",
      "building tree 254 of 300\n",
      "building tree 255 of 300\n",
      "building tree 256 of 300\n",
      "building tree 257 of 300\n",
      "building tree 258 of 300\n",
      "building tree 259 of 300\n",
      "building tree 260 of 300\n",
      "building tree 261 of 300\n",
      "building tree 262 of 300\n",
      "building tree 263 of 300\n",
      "building tree 264 of 300\n",
      "building tree 265 of 300\n",
      "building tree 266 of 300\n",
      "building tree 267 of 300\n",
      "building tree 268 of 300\n",
      "building tree 269 of 300\n",
      "building tree 270 of 300\n",
      "building tree 271 of 300\n",
      "building tree 272 of 300\n",
      "building tree 273 of 300\n",
      "building tree 274 of 300\n",
      "building tree 275 of 300\n",
      "building tree 276 of 300\n",
      "building tree 277 of 300\n",
      "building tree 278 of 300\n",
      "building tree 279 of 300\n",
      "building tree 280 of 300\n",
      "building tree 281 of 300\n",
      "building tree 282 of 300\n",
      "building tree 283 of 300\n",
      "building tree 284 of 300\n",
      "building tree 285 of 300\n",
      "building tree 286 of 300\n",
      "building tree 287 of 300\n",
      "building tree 288 of 300\n",
      "building tree 289 of 300\n",
      "building tree 290 of 300\n",
      "building tree 291 of 300\n",
      "building tree 292 of 300\n",
      "building tree 293 of 300\n",
      "building tree 294 of 300\n",
      "building tree 295 of 300\n",
      "building tree 296 of 300\n",
      "building tree 297 of 300\n",
      "building tree 298 of 300\n",
      "building tree 299 of 300\n",
      "building tree 300 of 300\n"
     ]
    },
    {
     "name": "stderr",
     "output_type": "stream",
     "text": [
      "[Parallel(n_jobs=4)]: Done 300 out of 300 | elapsed:   18.5s finished\n",
      "[Parallel(n_jobs=4)]: Using backend ThreadingBackend with 4 concurrent workers.\n",
      "[Parallel(n_jobs=4)]: Done  33 tasks      | elapsed:    0.0s\n",
      "[Parallel(n_jobs=4)]: Done 154 tasks      | elapsed:    0.2s\n",
      "[Parallel(n_jobs=4)]: Done 300 out of 300 | elapsed:    0.5s finished\n",
      "[Parallel(n_jobs=4)]: Using backend ThreadingBackend with 4 concurrent workers.\n",
      "[Parallel(n_jobs=4)]: Done  33 tasks      | elapsed:    0.1s\n",
      "[Parallel(n_jobs=4)]: Done 154 tasks      | elapsed:    0.7s\n",
      "[Parallel(n_jobs=4)]: Done 300 out of 300 | elapsed:    1.4s finished\n",
      "[Parallel(n_jobs=4)]: Using backend ThreadingBackend with 4 concurrent workers.\n",
      "[Parallel(n_jobs=4)]: Done  33 tasks      | elapsed:    0.0s\n",
      "[Parallel(n_jobs=4)]: Done 154 tasks      | elapsed:    0.2s\n",
      "[Parallel(n_jobs=4)]: Done 300 out of 300 | elapsed:    0.5s finished\n",
      "[Parallel(n_jobs=4)]: Using backend ThreadingBackend with 4 concurrent workers.\n",
      "[Parallel(n_jobs=4)]: Done  33 tasks      | elapsed:    0.1s\n",
      "[Parallel(n_jobs=4)]: Done 154 tasks      | elapsed:    0.7s\n",
      "[Parallel(n_jobs=4)]: Done 300 out of 300 | elapsed:    1.4s finished\n",
      "[Parallel(n_jobs=4)]: Using backend ThreadingBackend with 4 concurrent workers.\n",
      "[Parallel(n_jobs=4)]: Done  33 tasks      | elapsed:    0.1s\n",
      "[Parallel(n_jobs=4)]: Done 154 tasks      | elapsed:    0.6s\n",
      "[Parallel(n_jobs=4)]: Done 300 out of 300 | elapsed:    1.3s finished\n",
      "[Parallel(n_jobs=4)]: Using backend ThreadingBackend with 4 concurrent workers.\n",
      "[Parallel(n_jobs=4)]: Done  33 tasks      | elapsed:    0.0s\n"
     ]
    },
    {
     "name": "stdout",
     "output_type": "stream",
     "text": [
      "Training accuracy: 0.7406\n"
     ]
    },
    {
     "name": "stderr",
     "output_type": "stream",
     "text": [
      "[Parallel(n_jobs=4)]: Done 154 tasks      | elapsed:    0.2s\n",
      "[Parallel(n_jobs=4)]: Done 300 out of 300 | elapsed:    0.5s finished\n"
     ]
    },
    {
     "name": "stdout",
     "output_type": "stream",
     "text": [
      "Test accuracy    : 0.6349\n",
      "Training AUC Score: 0.8337\n",
      "Testing AUC Score: 0.6878\n",
      "Classification Report - Training\n",
      "              precision    recall  f1-score   support\n",
      "\n",
      "           0       0.72      0.84      0.78     37271\n",
      "           1       0.78      0.63      0.69     32806\n",
      "\n",
      "    accuracy                           0.74     70077\n",
      "   macro avg       0.75      0.73      0.73     70077\n",
      "weighted avg       0.75      0.74      0.74     70077\n",
      "\n",
      "Classification Report - Testing\n",
      "                precision    recall  f1-score   support\n",
      "\n",
      "Not Readmitted       0.63      0.74      0.68     15937\n",
      "    Readmitted       0.64      0.52      0.57     14096\n",
      "\n",
      "      accuracy                           0.63     30033\n",
      "     macro avg       0.64      0.63      0.63     30033\n",
      "  weighted avg       0.64      0.63      0.63     30033\n",
      "\n"
     ]
    },
    {
     "name": "stderr",
     "output_type": "stream",
     "text": [
      "[Parallel(n_jobs=4)]: Using backend ThreadingBackend with 4 concurrent workers.\n",
      "[Parallel(n_jobs=4)]: Done  33 tasks      | elapsed:    0.0s\n",
      "[Parallel(n_jobs=4)]: Done 154 tasks      | elapsed:    0.2s\n",
      "[Parallel(n_jobs=4)]: Done 300 out of 300 | elapsed:    0.5s finished\n"
     ]
    },
    {
     "data": {
      "image/png": "[encoded data removed]",
      "text/plain": [
       "<Figure size 504x504 with 2 Axes>"
      ]
     },
     "metadata": {},
     "output_type": "display_data"
    },
    {
     "data": {
      "image/png": "[encoded data removed]",
      "text/plain": [
       "<Figure size 504x504 with 1 Axes>"
      ]
     },
     "metadata": {},
     "output_type": "display_data"
    }
   ],
   "source": [
    "#best_lr = cv.best_estimator_\n",
    "\n",
    "#best_lr.fit(X_train,y_train)\n",
    "\n",
    "best_lr = RandomForestClassifier(n_jobs = 4, n_estimators = 300, max_features = 15,\n",
    "                               max_depth = 18, min_samples_split = 27, random_state = 42, verbose = 2)\n",
    "best_lr.fit(X_train, y_train)\n",
    "#Predicting for testing and trainig data sets\n",
    "y_test_proba = best_lr.predict_proba(X_test)[:,1]\n",
    "y_train_proba = best_lr.predict_proba(X_train)[:,1]\n",
    "\n",
    "y_pred_test = best_lr.predict(X_test)\n",
    "y_pred_train = best_lr.predict(X_train)\n",
    "\n",
    "#Accuracy Score\n",
    "print(\"Training accuracy: %0.4f\" %best_lr.score(X_train, y_train))\n",
    "print(\"Test accuracy    : %0.4f\" %best_lr.score(X_test, y_test))\n",
    "#print(\"Test log loss    : %0.4f\" %log_loss(y_train, lr.predict_proba(X_train)))\n",
    "#AUC Score\n",
    "auc_train = roc_auc_score(y_train,y_train_proba)\n",
    "auc_test = roc_auc_score(y_test,y_test_proba)\n",
    "\n",
    "print('Training AUC Score: %0.4f' %auc_train)  \n",
    "print('Testing AUC Score: %0.4f' %auc_test)          \n",
    "\n",
    "print('Classification Report - Training')\n",
    "print(classification_report(y_train,y_pred_train))\n",
    "\n",
    "print('Classification Report - Testing')\n",
    "print(classification_report(y_test,y_pred_test,target_names = class_names))\n",
    "\n",
    "plot_confusion_matrix(best_lr, X_test, y_test,  cmap=plt.cm.Blues, normalize = 'true') #display_labels=class_names,\n",
    "plt.show()\n",
    "auc_curve(y_test,y_test_proba,auc_test)\n"
   ]
  },
  {
   "cell_type": "code",
   "execution_count": 94,
   "metadata": {},
   "outputs": [
    {
     "name": "stdout",
     "output_type": "stream",
     "text": [
      "Top 25 Feature Importance\n"
     ]
    },
    {
     "data": {
      "image/png": "[encoded data removed]",
      "text/plain": [
       "<Figure size 504x504 with 1 Axes>"
      ]
     },
     "metadata": {},
     "output_type": "display_data"
    }
   ],
   "source": [
    "figsize(7,7)\n",
    "\n",
    "coefficients = best_lr.feature_importances_\n",
    "coef = pd.DataFrame(coefficients, index = X_train.columns, columns = ['Feature Importance'])\n",
    "coef.sort_values('Feature Importance', ascending = False, inplace = True)\n",
    "print(\"Top 25 Feature Importance\")\n",
    "_ = sns.barplot(data = coef[0:25], x = 'Feature Importance', y = coef[0:25].index, orient = 'h')\n",
    "#_ = plt.barh(coef[:20].index, coef['Feature Importance'][:20])"
   ]
  },
  {
   "cell_type": "code",
   "execution_count": null,
   "metadata": {},
   "outputs": [],
   "source": []
  }
 ],
 "metadata": {
  "kernelspec": {
   "display_name": "Python 3",
   "language": "python",
   "name": "python3"
  },
  "language_info": {
   "codemirror_mode": {
    "name": "ipython",
    "version": 3
   },
   "file_extension": ".py",
   "mimetype": "text/x-python",
   "name": "python",
   "nbconvert_exporter": "python",
   "pygments_lexer": "ipython3",
   "version": "3.7.3"
  }
 },
 "nbformat": 4,
 "nbformat_minor": 2
}

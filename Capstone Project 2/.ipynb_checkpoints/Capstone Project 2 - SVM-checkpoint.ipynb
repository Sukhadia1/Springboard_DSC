{
 "cells": [
  {
   "cell_type": "code",
   "execution_count": 1,
   "metadata": {},
   "outputs": [],
   "source": [
    "import pandas as pd\n",
    "import numpy as np\n",
    "import matplotlib.pyplot as plt\n",
    "import re\n",
    "import seaborn as sns\n",
    "import matplotlib as mpl\n",
    "import os\n",
    "\n",
    "from IPython.core.pylabtools import figsize\n",
    "from scipy import stats\n",
    "\n",
    "from sklearn.model_selection import train_test_split"
   ]
  },
  {
   "cell_type": "code",
   "execution_count": 2,
   "metadata": {},
   "outputs": [],
   "source": [
    "#Getting Working Directory\n",
    "os.getcwd()\n",
    "\n",
    "#Setting style and font size for graphs\n",
    "sns.set_style(\"whitegrid\")\n",
    "mpl.rcParams['font.size'] = 13"
   ]
  },
  {
   "cell_type": "code",
   "execution_count": 3,
   "metadata": {},
   "outputs": [
    {
     "data": {
      "text/plain": [
       "(7377418, 73)"
      ]
     },
     "execution_count": 3,
     "metadata": {},
     "output_type": "execute_result"
    }
   ],
   "source": [
    "#load original data into dataframe\n",
    "file ='D:\\\\Abhishek\\\\Personal\\\\Springboard\\\\music_recom\\\\train_final.csv'\n",
    "\n",
    "df = pd.read_csv(file)\n",
    "df.shape"
   ]
  },
  {
   "cell_type": "code",
   "execution_count": 4,
   "metadata": {},
   "outputs": [
    {
     "name": "stdout",
     "output_type": "stream",
     "text": [
      "<class 'pandas.core.frame.DataFrame'>\n",
      "RangeIndex: 7377418 entries, 0 to 7377417\n",
      "Data columns (total 73 columns):\n",
      "msno                    object\n",
      "song_id                 object\n",
      "source_system_tab       object\n",
      "source_screen_name      object\n",
      "source_type             object\n",
      "target                  int64\n",
      "song_length             float64\n",
      "genre_ids               object\n",
      "artist_name             object\n",
      "composer                object\n",
      "lyricist                object\n",
      "language                int64\n",
      "city                    int64\n",
      "bd                      int64\n",
      "registered_via          int64\n",
      "lyricist_count          int64\n",
      "artist_count            int64\n",
      "composer_count          int64\n",
      "genre_count             int64\n",
      "isrc_country            object\n",
      "isrc_year               int64\n",
      "song_freq               int64\n",
      "artist_freq             int64\n",
      "count_song_played       int64\n",
      "count_artist_played     int64\n",
      "duration                int64\n",
      "registration_year       int64\n",
      "expiration_year         int64\n",
      "expiration_month        int64\n",
      "age_of_song             int64\n",
      "song_type               object\n",
      "genre_ids_encoded       float64\n",
      "composer_encoded        float64\n",
      "artist_name_encoded     float64\n",
      "lyricist_encoded        float64\n",
      "isrc_country_encoded    float64\n",
      "us_1                    float64\n",
      "us_2                    float64\n",
      "us_3                    float64\n",
      "us_4                    float64\n",
      "us_5                    float64\n",
      "us_6                    float64\n",
      "us_7                    float64\n",
      "us_8                    float64\n",
      "us_9                    float64\n",
      "us_10                   float64\n",
      "us_11                   float64\n",
      "us_12                   float64\n",
      "us_13                   float64\n",
      "us_14                   float64\n",
      "us_15                   float64\n",
      "us_16                   float64\n",
      "us_17                   float64\n",
      "us_18                   float64\n",
      "us_19                   float64\n",
      "us_20                   float64\n",
      "ug_1                    float64\n",
      "ug_2                    float64\n",
      "ug_3                    float64\n",
      "ug_4                    float64\n",
      "ug_5                    float64\n",
      "ua_1                    float64\n",
      "ua_2                    float64\n",
      "ua_3                    float64\n",
      "ua_4                    float64\n",
      "ua_5                    float64\n",
      "ua_6                    float64\n",
      "ua_7                    float64\n",
      "ua_8                    float64\n",
      "ua_9                    float64\n",
      "ua_10                   float64\n",
      "ua_11                   float64\n",
      "ua_12                   float64\n",
      "dtypes: float64(43), int64(19), object(11)\n",
      "memory usage: 4.0+ GB\n"
     ]
    }
   ],
   "source": [
    "# Converting IDs to Object class\n",
    "df.info()"
   ]
  },
  {
   "cell_type": "code",
   "execution_count": 5,
   "metadata": {},
   "outputs": [
    {
     "name": "stdout",
     "output_type": "stream",
     "text": [
      "<class 'pandas.core.frame.DataFrame'>\n",
      "RangeIndex: 7377418 entries, 0 to 7377417\n",
      "Data columns (total 66 columns):\n",
      "source_system_tab       category\n",
      "source_screen_name      category\n",
      "source_type             category\n",
      "target                  int16\n",
      "song_length             float32\n",
      "language                int8\n",
      "city                    int8\n",
      "bd                      int8\n",
      "registered_via          int8\n",
      "lyricist_count          int8\n",
      "artist_count            int8\n",
      "composer_count          int8\n",
      "genre_count             int8\n",
      "isrc_year               int16\n",
      "song_freq               int16\n",
      "artist_freq             int16\n",
      "count_song_played       int32\n",
      "count_artist_played     int32\n",
      "duration                int16\n",
      "registration_year       int16\n",
      "expiration_year         int16\n",
      "expiration_month        int16\n",
      "age_of_song             int16\n",
      "song_type               category\n",
      "genre_ids_encoded       float16\n",
      "composer_encoded        float16\n",
      "artist_name_encoded     float16\n",
      "lyricist_encoded        float16\n",
      "isrc_country_encoded    float16\n",
      "us_1                    float16\n",
      "us_2                    float16\n",
      "us_3                    float16\n",
      "us_4                    float16\n",
      "us_5                    float16\n",
      "us_6                    float16\n",
      "us_7                    float16\n",
      "us_8                    float16\n",
      "us_9                    float16\n",
      "us_10                   float16\n",
      "us_11                   float16\n",
      "us_12                   float16\n",
      "us_13                   float16\n",
      "us_14                   float16\n",
      "us_15                   float16\n",
      "us_16                   float16\n",
      "us_17                   float16\n",
      "us_18                   float16\n",
      "us_19                   float16\n",
      "us_20                   float16\n",
      "ug_1                    float16\n",
      "ug_2                    float16\n",
      "ug_3                    float16\n",
      "ug_4                    float16\n",
      "ug_5                    float16\n",
      "ua_1                    float16\n",
      "ua_2                    float16\n",
      "ua_3                    float16\n",
      "ua_4                    float16\n",
      "ua_5                    float16\n",
      "ua_6                    float16\n",
      "ua_7                    float16\n",
      "ua_8                    float16\n",
      "ua_9                    float16\n",
      "ua_10                   float16\n",
      "ua_11                   float16\n",
      "ua_12                   float16\n",
      "dtypes: category(4), float16(42), float32(1), int16(9), int32(2), int8(8)\n",
      "memory usage: 886.5 MB\n"
     ]
    }
   ],
   "source": [
    "drop_col = ['msno','song_id','genre_ids', 'composer', 'artist_name', 'lyricist', 'isrc_country']\n",
    "df.drop(drop_col, axis=1, inplace = True)\n",
    "\n",
    "# Converting to categories\n",
    "cat_names = list(df.select_dtypes(include='object').columns)\n",
    "df[cat_names] = df[cat_names].astype('category')\n",
    "\n",
    "# Converting int64 to int32 type\n",
    "int32 = ['count_artist_played', 'count_song_played']\n",
    "df[int32] = df[int32].astype('int32')\n",
    "\n",
    "int8 = ['language','bd','city', 'genre_count', 'lyricist_count','composer_count','artist_count','registered_via']\n",
    "df[int8] = df[int8].astype('int8')\n",
    "\n",
    "# Converting int64 to int16 type\n",
    "int64 = list(df.select_dtypes(include='int64').columns)\n",
    "df[int64] = df[int64].astype('int16')\n",
    "\n",
    "# Converting float64 to float32 and float16 type\n",
    "float_names = list(df.select_dtypes(include='float64').columns)\n",
    "float_names.remove('song_length')\n",
    "df[float_names] = df[float_names].astype('float16')\n",
    "df['song_length'] = df['song_length'].astype('float32')\n",
    "\n",
    "df.info()"
   ]
  },
  {
   "cell_type": "code",
   "execution_count": 6,
   "metadata": {},
   "outputs": [],
   "source": [
    "# Separating Numeric and Non_numeric Data\n",
    "numeric = df.select_dtypes(exclude = 'category')\n",
    "categorical = df.select_dtypes(include = 'category')\n",
    "\n",
    "#Creating Dummy variables for Categorical Data using One Hot Encoding\n",
    "dummies = pd.get_dummies(categorical,drop_first = True)"
   ]
  },
  {
   "cell_type": "code",
   "execution_count": 7,
   "metadata": {
    "scrolled": true
   },
   "outputs": [
    {
     "data": {
      "text/plain": [
       "target                  -0.014069\n",
       "song_length             18.502491\n",
       "language                 0.759153\n",
       "city                     0.662659\n",
       "bd                       0.296442\n",
       "registered_via          -0.583351\n",
       "lyricist_count           3.627084\n",
       "artist_count            14.121884\n",
       "composer_count           2.964516\n",
       "genre_count              6.403820\n",
       "isrc_year               -3.137981\n",
       "song_freq                1.803287\n",
       "artist_freq              0.481882\n",
       "count_song_played        2.223863\n",
       "count_artist_played      2.615692\n",
       "duration                 0.845635\n",
       "registration_year       -0.919095\n",
       "expiration_year         -3.832665\n",
       "expiration_month        -1.613647\n",
       "age_of_song              3.161995\n",
       "genre_ids_encoded             NaN\n",
       "composer_encoded              NaN\n",
       "artist_name_encoded           NaN\n",
       "lyricist_encoded              NaN\n",
       "isrc_country_encoded          NaN\n",
       "us_1                          NaN\n",
       "us_2                          NaN\n",
       "us_3                          NaN\n",
       "us_4                          NaN\n",
       "us_5                          NaN\n",
       "                          ...    \n",
       "us_8                          NaN\n",
       "us_9                          NaN\n",
       "us_10                         NaN\n",
       "us_11                         NaN\n",
       "us_12                         NaN\n",
       "us_13                         NaN\n",
       "us_14                         NaN\n",
       "us_15                         NaN\n",
       "us_16                         NaN\n",
       "us_17                         NaN\n",
       "us_18                         NaN\n",
       "us_19                         NaN\n",
       "us_20                         NaN\n",
       "ug_1                          NaN\n",
       "ug_2                          NaN\n",
       "ug_3                          NaN\n",
       "ug_4                          NaN\n",
       "ug_5                          NaN\n",
       "ua_1                          NaN\n",
       "ua_2                          NaN\n",
       "ua_3                          NaN\n",
       "ua_4                          NaN\n",
       "ua_5                          NaN\n",
       "ua_6                          NaN\n",
       "ua_7                          NaN\n",
       "ua_8                          NaN\n",
       "ua_9                          NaN\n",
       "ua_10                         NaN\n",
       "ua_11                         NaN\n",
       "ua_12                         NaN\n",
       "Length: 62, dtype: float64"
      ]
     },
     "execution_count": 7,
     "metadata": {},
     "output_type": "execute_result"
    }
   ],
   "source": [
    "numeric.skew()"
   ]
  },
  {
   "cell_type": "code",
   "execution_count": 8,
   "metadata": {},
   "outputs": [],
   "source": [
    "#Creating our Feature and Target Data Set: X, y respectively\n",
    "X = pd.concat([numeric,dummies],axis=1).drop('target', axis = 1)\n",
    "y = df.target\n",
    "\n",
    "#Splitting Data into Training and Test Data Set\n",
    "X_train,X_test, y_train, y_test = train_test_split(X, y, test_size = 0.5, random_state = 42)\n"
   ]
  },
  {
   "cell_type": "code",
   "execution_count": 9,
   "metadata": {},
   "outputs": [
    {
     "name": "stdout",
     "output_type": "stream",
     "text": [
      "<class 'pandas.core.frame.DataFrame'>\n",
      "Int64Index: 3688709 entries, 288797 to 6413414\n",
      "Columns: 102 entries, song_length to song_type_short\n",
      "dtypes: float16(42), float32(1), int16(8), int32(2), int8(8), uint8(41)\n",
      "memory usage: 594.5 MB\n"
     ]
    }
   ],
   "source": [
    "X_train.info()"
   ]
  },
  {
   "cell_type": "markdown",
   "metadata": {},
   "source": [
    "There are two types of error, False Positive and False Negative. Predicting that a song will not be listened again but actually song gets listened again. This is false negative. Predicting that a song will be listened again but in actually song is not listened again is called false positive. For us both type of error are important"
   ]
  },
  {
   "cell_type": "markdown",
   "metadata": {},
   "source": [
    "## Normalization"
   ]
  },
  {
   "cell_type": "code",
   "execution_count": 14,
   "metadata": {},
   "outputs": [],
   "source": [
    "# data normalization with sklearn\n",
    "from sklearn.preprocessing import MinMaxScaler\n",
    "\n",
    "# Copy of Data set\n",
    "X_train_norm = X_train.copy()\n",
    "X_test_norm = X_test.copy()\n",
    "\n",
    "numeric = numeric.drop('target', axis = 1)\n",
    "for i in numeric:\n",
    "    \n",
    "    # fit on training data column\n",
    "    scale = MinMaxScaler().fit(X_train_norm[[i]])\n",
    "    \n",
    "    # transform the training data column\n",
    "    X_train_norm[i] = scale.transform(X_train_norm[[i]])\n",
    "    \n",
    "    # transform the testing data column\n",
    "    X_test_norm[i] = scale.transform(X_test_norm[[i]])\n"
   ]
  },
  {
   "cell_type": "code",
   "execution_count": 15,
   "metadata": {},
   "outputs": [],
   "source": [
    "float_names = list(X_train_norm.select_dtypes(include='float64').columns)\n",
    "X_train_norm[float_names] = X_train_norm[float_names].astype('float16')\n",
    "X_test_norm[float_names] = X_test_norm[float_names].astype('float16')\n",
    "\n",
    "float_names = list(X_train_norm.select_dtypes(include='float32').columns)\n",
    "X_train_norm[float_names] = X_train_norm[float_names].astype('float16')\n",
    "X_test_norm[float_names] = X_test_norm[float_names].astype('float16')"
   ]
  },
  {
   "cell_type": "markdown",
   "metadata": {},
   "source": [
    "### Support Vector Machines"
   ]
  },
  {
   "cell_type": "code",
   "execution_count": 16,
   "metadata": {},
   "outputs": [],
   "source": [
    "# Base Line Evaluation\n",
    "from sklearn.svm import LinearSVC\n",
    "from sklearn.metrics import classification_report, balanced_accuracy_score, plot_roc_curve\n",
    "from sklearn.metrics import precision_score, recall_score, roc_auc_score, roc_curve\n",
    "from sklearn.metrics import plot_confusion_matrix, precision_recall_fscore_support,log_loss\n",
    "class_names = ['Not Listened', 'Listened']"
   ]
  },
  {
   "cell_type": "code",
   "execution_count": 17,
   "metadata": {},
   "outputs": [],
   "source": [
    "def auc_curve(y_test,y_pred_test,auc_test):\n",
    "    fpr,tpr, threshold = roc_curve(y_test, y_pred_test)\n",
    "    _ = plt.plot(fpr, tpr, color='darkorange', label='ROC curve (area = %0.4f)' %auc_test )\n",
    "    _ = plt.plot([0, 1], [0, 1], color='navy', lw=2, linestyle='--')\n",
    "    _ = plt.xlim([0.0, 1.0])\n",
    "    _ = plt.ylim([0.0, 1.05])\n",
    "    _ = plt.xlabel('False Positive Rate')\n",
    "    _ = plt.ylabel('True Positive Rate')\n",
    "    _ = plt.title('Receiver operating characteristic example')\n",
    "    _ = plt.legend(loc=\"lower right\")\n"
   ]
  },
  {
   "cell_type": "code",
   "execution_count": 18,
   "metadata": {
    "scrolled": false
   },
   "outputs": [
    {
     "name": "stdout",
     "output_type": "stream",
     "text": [
      "[LibLinear]Training accuracy: 0.6560263\n",
      "Test accuracy    : 0.6566284\n",
      "Training AUC Score: 0.7117681\n",
      "Testing AUC Score: 0.7125103\n",
      "Classification Report - Training\n",
      "              precision    recall  f1-score   support\n",
      "\n",
      "           0       0.66      0.63      0.65   1830920\n",
      "           1       0.65      0.68      0.67   1857789\n",
      "\n",
      "    accuracy                           0.66   3688709\n",
      "   macro avg       0.66      0.66      0.66   3688709\n",
      "weighted avg       0.66      0.66      0.66   3688709\n",
      "\n",
      "Classification Report - Testing\n",
      "              precision    recall  f1-score   support\n",
      "\n",
      "Not Listened       0.66      0.63      0.65   1831842\n",
      "    Listened       0.65      0.68      0.67   1856867\n",
      "\n",
      "    accuracy                           0.66   3688709\n",
      "   macro avg       0.66      0.66      0.66   3688709\n",
      "weighted avg       0.66      0.66      0.66   3688709\n",
      "\n"
     ]
    },
    {
     "data": {
      "image/png": "[encoded data removed]",
      "text/plain": [
       "<Figure size 432x288 with 2 Axes>"
      ]
     },
     "metadata": {},
     "output_type": "display_data"
    },
    {
     "data": {
      "image/png": "[encoded data removed]",
      "text/plain": [
       "<Figure size 432x288 with 1 Axes>"
      ]
     },
     "metadata": {},
     "output_type": "display_data"
    }
   ],
   "source": [
    "# Base Line Evaluation\n",
    "\n",
    "svm = LinearSVC(dual = False, verbose = 4)#, class_weight = 'balanced')\n",
    "\n",
    "svm.fit(X_train_norm,y_train)\n",
    "\n",
    "#Predicting for testing and trainig data sets\n",
    "y_test_proba = svm.decision_function(X_test_norm)\n",
    "y_train_proba = svm.decision_function(X_train_norm)\n",
    "\n",
    "y_pred_test = svm.predict(X_test_norm)\n",
    "y_pred_train = svm.predict(X_train_norm)\n",
    "\n",
    "#Accuracy Score\n",
    "print(\"Training accuracy: %0.7f\" %svm.score(X_train_norm, y_train))\n",
    "print(\"Test accuracy    : %0.7f\" %svm.score(X_test_norm, y_test))\n",
    "#print(\"Test log loss    : %0.4f\" %log_loss(y_train, lr.predict_proba(X_train)))\n",
    "#AUC Score\n",
    "auc_train = roc_auc_score(y_train,y_train_proba)\n",
    "auc_test = roc_auc_score(y_test,y_test_proba)\n",
    "\n",
    "print('Training AUC Score: %0.7f' %auc_train)  \n",
    "print('Testing AUC Score: %0.7f' %auc_test)          \n",
    "\n",
    "print('Classification Report - Training')\n",
    "print(classification_report(y_train,y_pred_train))\n",
    "\n",
    "print('Classification Report - Testing')\n",
    "print(classification_report(y_test,y_pred_test,target_names = class_names))\n",
    "\n",
    "plot_confusion_matrix(svm, X_test_norm, y_test,  cmap=plt.cm.Blues, normalize = 'true') #display_labels=class_names,\n",
    "plt.show()\n",
    "auc_curve(y_test,y_test_proba,auc_test)\n"
   ]
  },
  {
   "cell_type": "code",
   "execution_count": 14,
   "metadata": {},
   "outputs": [
    {
     "name": "stdout",
     "output_type": "stream",
     "text": [
      "Top 5:\n",
      "                   Coefficient\n",
      "us_3                  0.426403\n",
      "us_1                  0.491930\n",
      "ug_1                  0.682871\n",
      "count_song_played     0.892494\n",
      "expiration_year       2.258697\n",
      "\n",
      "Bottom 5:\n",
      "                      Coefficient\n",
      "song_length             -1.196208\n",
      "isrc_country_encoded    -0.822923\n",
      "ua_3                    -0.560514\n",
      "ug_4                    -0.522763\n",
      "genre_ids_encoded       -0.503024\n",
      "ua_7                    -0.408180\n"
     ]
    }
   ],
   "source": [
    "coefficients = svm.coef_[0]\n",
    "coef = pd.DataFrame(coefficients, index = X_train.columns, columns = ['Coefficient'])\n",
    "coef.sort_values('Coefficient', inplace = True)\n",
    "print(\"Top 5:\")\n",
    "print(coef[-5:] )\n",
    "\n",
    "print(\"\\nBottom 5:\")\n",
    "print(coef[:6])"
   ]
  },
  {
   "cell_type": "code",
   "execution_count": null,
   "metadata": {},
   "outputs": [],
   "source": []
  },
  {
   "cell_type": "code",
   "execution_count": null,
   "metadata": {},
   "outputs": [],
   "source": [
    "#load original data into dataframe\n",
    "file2 ='D:\\\\Abhishek\\\\Personal\\\\Springboard\\\\music_recom\\\\test_final.csv'\n",
    "\n",
    "df_test = pd.read_csv(file2)\n",
    "df_test.shape"
   ]
  },
  {
   "cell_type": "code",
   "execution_count": null,
   "metadata": {},
   "outputs": [],
   "source": [
    "ids = df_test.id\n",
    "drop_col = ['msno','song_id','genre_ids', 'composer', 'artist_name', 'lyricist', 'isrc_country']\n",
    "df_test.drop(drop_col, axis=1, inplace = True)\n",
    "\n",
    "# Converting to categories\n",
    "cat_names = list(df_test.select_dtypes(include='object').columns)\n",
    "df_test[cat_names] = df_test[cat_names].astype('category')\n",
    "\n",
    "# Converting int64 to int32 type\n",
    "int32 = ['count_artist_played', 'count_song_played']\n",
    "df_test[int32] = df_test[int32].astype('int32')\n",
    "\n",
    "int8 = ['language','bd','city', 'genre_count', 'lyricist_count','composer_count','artist_count','registered_via']\n",
    "df_test[int8] = df_test[int8].astype('int8')\n",
    "\n",
    "# Converting int64 to int16 type\n",
    "int64 = list(df_test.select_dtypes(include='int64').columns)\n",
    "df_test[int64] = df_test[int64].astype('int16')\n",
    "\n",
    "# Converting float64 to float32 and float16 type\n",
    "float_names = list(df_test.select_dtypes(include='float64').columns)\n",
    "float_names.remove('song_length')\n",
    "df_test[float_names] = df_test[float_names].astype('float16')\n",
    "df_test['song_length'] = df_test['song_length'].astype('float32')\n",
    "\n",
    "df_test.info()"
   ]
  },
  {
   "cell_type": "code",
   "execution_count": null,
   "metadata": {},
   "outputs": [],
   "source": [
    "# Separating Numeric and Non_numeric Data\n",
    "numeric = df.select_dtypes(exclude = 'category')\n",
    "categorical = df.select_dtypes(include = 'category')\n",
    "\n",
    "#Creating Dummy variables for Categorical Data using One Hot Encoding\n",
    "dummies = pd.get_dummies(categorical,drop_first = True)"
   ]
  },
  {
   "cell_type": "code",
   "execution_count": null,
   "metadata": {},
   "outputs": [],
   "source": [
    "numeric.columns"
   ]
  },
  {
   "cell_type": "code",
   "execution_count": null,
   "metadata": {},
   "outputs": [],
   "source": [
    "# Copy of Data set\n",
    "X_valid_norm = X_valid.copy()\n",
    "\n",
    "for i in numeric:\n",
    "    \n",
    "    # fit on training data column\n",
    "    scale = MinMaxScaler().fit(X_valid_norm[[i]])\n",
    "    \n",
    "    # transform the training data column\n",
    "    X_valid_norm[i] = scale.transform(X_valid_norm[[i]])\n",
    "    \n",
    "    "
   ]
  },
  {
   "cell_type": "code",
   "execution_count": null,
   "metadata": {},
   "outputs": [],
   "source": [
    "float_names = list(X_train_norm.select_dtypes(include='float64').columns)\n",
    "X_valid_norm[float_names] = X_train_norm[float_names].astype('float16')\n",
    "\n",
    "float_names = list(X_train_norm.select_dtypes(include='float32').columns)\n",
    "X_valid_norm[float_names] = X_train_norm[float_names].astype('float16')"
   ]
  },
  {
   "cell_type": "code",
   "execution_count": null,
   "metadata": {},
   "outputs": [],
   "source": [
    "y_valid_pred_test = svm.predict(X_valid_norm)"
   ]
  },
  {
   "cell_type": "code",
   "execution_count": null,
   "metadata": {},
   "outputs": [],
   "source": [
    "subm = pd.DataFrame()\n",
    "subm['id'] = ids\n",
    "subm['target'] = y_valid_pred_test\n",
    "subm.to_csv('D:\\\\Abhishek\\\\Personal\\\\Springboard\\\\music_recom\\\\valid_final.csv', index=False)"
   ]
  }
 ],
 "metadata": {
  "kernelspec": {
   "display_name": "Python 3",
   "language": "python",
   "name": "python3"
  },
  "language_info": {
   "codemirror_mode": {
    "name": "ipython",
    "version": 3
   },
   "file_extension": ".py",
   "mimetype": "text/x-python",
   "name": "python",
   "nbconvert_exporter": "python",
   "pygments_lexer": "ipython3",
   "version": "3.7.3"
  }
 },
 "nbformat": 4,
 "nbformat_minor": 2
}

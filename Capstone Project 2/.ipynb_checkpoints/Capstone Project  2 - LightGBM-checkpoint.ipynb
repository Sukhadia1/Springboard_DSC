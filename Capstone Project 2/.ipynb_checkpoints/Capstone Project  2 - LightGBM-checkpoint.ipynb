{
 "cells": [
  {
   "cell_type": "code",
   "execution_count": 8,
   "metadata": {},
   "outputs": [],
   "source": [
    "import pandas as pd\n",
    "import numpy as np\n",
    "import matplotlib.pyplot as plt\n",
    "import re\n",
    "import seaborn as sns\n",
    "import matplotlib as mpl\n",
    "import os\n",
    "import lightgbm as lgb\n",
    "\n",
    "from IPython.core.pylabtools import figsize\n",
    "from scipy import stats"
   ]
  },
  {
   "cell_type": "code",
   "execution_count": 9,
   "metadata": {},
   "outputs": [],
   "source": [
    "#Getting Working Directory\n",
    "os.getcwd()\n",
    "\n",
    "#Setting style and font size for graphs\n",
    "sns.set_style(\"whitegrid\")\n",
    "mpl.rcParams['font.size'] = 13"
   ]
  },
  {
   "cell_type": "code",
   "execution_count": 15,
   "metadata": {},
   "outputs": [
    {
     "data": {
      "text/plain": [
       "(7377415, 70)"
      ]
     },
     "execution_count": 15,
     "metadata": {},
     "output_type": "execute_result"
    }
   ],
   "source": [
    "#load original data into dataframe\n",
    "file ='D:\\\\Abhishek\\\\Personal\\\\Springboard\\\\music_recom\\\\train_final.csv'\n",
    "\n",
    "df = pd.read_csv(file)\n",
    "df.shape"
   ]
  },
  {
   "cell_type": "code",
   "execution_count": 16,
   "metadata": {
    "scrolled": false
   },
   "outputs": [
    {
     "name": "stdout",
     "output_type": "stream",
     "text": [
      "<class 'pandas.core.frame.DataFrame'>\n",
      "RangeIndex: 7377415 entries, 0 to 7377414\n",
      "Data columns (total 66 columns):\n",
      "source_system_tab           category\n",
      "source_screen_name          category\n",
      "source_type                 category\n",
      "target                      int16\n",
      "song_length                 float32\n",
      "language                    float16\n",
      "city                        int16\n",
      "bd                          int16\n",
      "gender                      category\n",
      "registered_via              int16\n",
      "lyricist_count              int16\n",
      "artist_count                int16\n",
      "composer_count              int16\n",
      "genre_count                 int16\n",
      "isrc_year                   int8\n",
      "duration                    int16\n",
      "registration_year           int16\n",
      "registration_month          int16\n",
      "registration_day            int16\n",
      "registration_weekday        int16\n",
      "expiration_year             int16\n",
      "expiration_month            int16\n",
      "expiration_day              int16\n",
      "expiration_weekday          int16\n",
      "song_freq                   int16\n",
      "composer_artist_lyricist    uint8\n",
      "composer_artist             uint8\n",
      "count_song_played           int16\n",
      "count_artist_played         int16\n",
      "genre_ids_encoded           float16\n",
      "artist_freq                 float16\n",
      "composer_encoded            float16\n",
      "artist_name_encoded         float16\n",
      "lyricist_encoded            float16\n",
      "name_encoded                float16\n",
      "isrc_country_encoded        float16\n",
      "us_1                        float16\n",
      "us_2                        float16\n",
      "us_3                        float16\n",
      "us_4                        float16\n",
      "us_5                        float16\n",
      "us_6                        float16\n",
      "us_7                        float16\n",
      "us_8                        float16\n",
      "us_9                        float16\n",
      "us_10                       float16\n",
      "us_11                       float16\n",
      "us_12                       float16\n",
      "us_13                       float16\n",
      "us_14                       float16\n",
      "us_15                       float16\n",
      "ug_1                        float16\n",
      "ug_2                        float16\n",
      "ug_3                        float16\n",
      "ug_4                        float16\n",
      "ug_5                        float16\n",
      "ua_1                        float16\n",
      "ua_2                        float16\n",
      "ua_3                        float16\n",
      "ua_4                        float16\n",
      "ua_5                        float16\n",
      "ua_6                        float16\n",
      "ua_7                        float16\n",
      "ua_8                        float16\n",
      "ua_9                        float16\n",
      "ua_10                       float16\n",
      "dtypes: category(4), float16(38), float32(1), int16(20), int8(1), uint8(2)\n",
      "memory usage: 893.5 MB\n"
     ]
    }
   ],
   "source": [
    "drop_col = ['msno','song_id','genre_ids', 'composer', 'artist_name', 'lyricist', 'isrc_country']\n",
    "df.drop(drop_col, axis=1, inplace = True)\n",
    "\n",
    "# Converting to categories\n",
    "cat_names = list(df.select_dtypes(include='object').columns)\n",
    "df[cat_names] = df[cat_names].astype('category')\n",
    "\n",
    "# Converting int64 to int32 type\n",
    "int32 = ['count_artist_played', 'count_song_played']\n",
    "df[int32] = df[int32].astype('int32')\n",
    "\n",
    "int8 = ['language','bd','city', 'genre_count', 'lyricist_count','composer_count','artist_count','registered_via']\n",
    "df[int8] = df[int8].astype('int8')\n",
    "\n",
    "# Converting int64 to int16 type\n",
    "int64 = list(df.select_dtypes(include='int64').columns)\n",
    "df[int64] = df[int64].astype('int16')\n",
    "\n",
    "# Converting float64 to float32 and float16 type\n",
    "float_names = list(df.select_dtypes(include='float64').columns)\n",
    "float_names.remove('song_length')\n",
    "df[float_names] = df[float_names].astype('float16')\n",
    "df['song_length'] = df['song_length'].astype('float32')\n",
    "\n",
    "df.info()"
   ]
  },
  {
   "cell_type": "code",
   "execution_count": 17,
   "metadata": {},
   "outputs": [],
   "source": [
    "# Separating Numeric and Non_numeric Data\n",
    "numeric = df.select_dtypes(exclude = 'category')\n",
    "categorical = df.select_dtypes(include = 'category')\n",
    "\n",
    "#Creating Dummy variables for Categorical Data using One Hot Encoding\n",
    "dummies = pd.get_dummies(categorical,drop_first = True)"
   ]
  },
  {
   "cell_type": "code",
   "execution_count": 21,
   "metadata": {},
   "outputs": [
    {
     "name": "stderr",
     "output_type": "stream",
     "text": [
      "C:\\ProgramData\\Anaconda3\\lib\\site-packages\\pandas\\core\\generic.py:6130: SettingWithCopyWarning: \n",
      "A value is trying to be set on a copy of a slice from a DataFrame\n",
      "\n",
      "See the caveats in the documentation: http://pandas.pydata.org/pandas-docs/stable/indexing.html#indexing-view-versus-copy\n",
      "  self._update_inplace(new_data)\n"
     ]
    }
   ],
   "source": [
    "#Creating our Feature and Target Data Set: X, y respectively\n",
    "X = pd.concat([numeric,dummies],axis=1).drop('target', axis = 1)\n",
    "y = df.target\n",
    "\n",
    "#Splitting Data into Training and Test Data Set\n",
    "X_train,X_test, y_train, y_test = train_test_split(X, y, test_size = 0.5, random_state = 42)"
   ]
  },
  {
   "cell_type": "code",
   "execution_count": 22,
   "metadata": {},
   "outputs": [
    {
     "data": {
      "text/plain": [
       "(3688707, 103)"
      ]
     },
     "execution_count": 22,
     "metadata": {},
     "output_type": "execute_result"
    }
   ],
   "source": [
    "X_train.shape"
   ]
  },
  {
   "cell_type": "code",
   "execution_count": 23,
   "metadata": {},
   "outputs": [
    {
     "name": "stdout",
     "output_type": "stream",
     "text": [
      "<class 'pandas.core.frame.DataFrame'>\n",
      "Int64Index: 3688707 entries, 1069668 to 6413414\n",
      "Columns: 103 entries, song_length to gender_male\n",
      "dtypes: float16(38), float32(1), int16(19), int8(1), uint8(44)\n",
      "memory usage: 601.5 MB\n"
     ]
    }
   ],
   "source": [
    "X_train.info()"
   ]
  },
  {
   "cell_type": "markdown",
   "metadata": {},
   "source": [
    "There are two types of error, False Positive and False Negative. Predicting that a song will not be listened again but actually song gets listened again. This is false negative. Predicting that a song will be listened again but in actually song is not listened again is called false positive. For us both type of error are important"
   ]
  },
  {
   "cell_type": "markdown",
   "metadata": {},
   "source": [
    "## Normalization"
   ]
  },
  {
   "cell_type": "code",
   "execution_count": null,
   "metadata": {},
   "outputs": [],
   "source": [
    "# data normalization with sklearn\n",
    "from sklearn.preprocessing import MinMaxScaler\n",
    "\n",
    "# fit scaler on training data\n",
    "norm = MinMaxScaler().fit(X_train)\n",
    "\n",
    "# transform training data\n",
    "X_train_norm = norm.transform(X_train)\n",
    "\n",
    "# transform testing dataabs\n",
    "X_test_norm = norm.transform(X_test)\n"
   ]
  },
  {
   "cell_type": "markdown",
   "metadata": {},
   "source": [
    "### LightGB Classifier"
   ]
  },
  {
   "cell_type": "code",
   "execution_count": 24,
   "metadata": {},
   "outputs": [],
   "source": [
    "# Base Line Evaluation\n",
    "from sklearn.metrics import classification_report, balanced_accuracy_score, plot_roc_curve\n",
    "from sklearn.metrics import precision_score, recall_score, roc_auc_score, roc_curve\n",
    "from sklearn.metrics import plot_confusion_matrix, precision_recall_fscore_support,log_loss\n",
    "class_names = ['Not Listened', 'Listened']"
   ]
  },
  {
   "cell_type": "code",
   "execution_count": 25,
   "metadata": {},
   "outputs": [],
   "source": [
    "def auc_curve(y_test,y_pred_test,auc_test):\n",
    "    fpr,tpr, threshold = roc_curve(y_test, y_pred_test)\n",
    "    _ = plt.plot(fpr, tpr, color='darkorange', label='ROC curve (area = %0.4f)' %auc_test )\n",
    "    _ = plt.plot([0, 1], [0, 1], color='navy', lw=2, linestyle='--')\n",
    "    _ = plt.xlim([0.0, 1.0])\n",
    "    _ = plt.ylim([0.0, 1.05])\n",
    "    _ = plt.xlabel('False Positive Rate')\n",
    "    _ = plt.ylabel('True Positive Rate')\n",
    "    _ = plt.title('Receiver operating characteristic example')\n",
    "    _ = plt.legend(loc=\"lower right\")\n"
   ]
  },
  {
   "cell_type": "code",
   "execution_count": 39,
   "metadata": {
    "scrolled": false
   },
   "outputs": [
    {
     "name": "stdout",
     "output_type": "stream",
     "text": [
      "Training accuracy: 0.6950\n",
      "Test accuracy    : 0.6946\n",
      "Training AUC Score: 0.766734449\n",
      "Testing AUC Score: 0.766161850\n",
      "Classification Report - Training\n",
      "              precision    recall  f1-score   support\n",
      "\n",
      "           0       0.69      0.70      0.70   1832448\n",
      "           1       0.70      0.69      0.69   1856259\n",
      "\n",
      "    accuracy                           0.70   3688707\n",
      "   macro avg       0.70      0.70      0.70   3688707\n",
      "weighted avg       0.70      0.70      0.70   3688707\n",
      "\n",
      "Classification Report - Testing\n",
      "              precision    recall  f1-score   support\n",
      "\n",
      "Not Listened       0.69      0.70      0.69   1830311\n",
      "    Listened       0.70      0.69      0.69   1858397\n",
      "\n",
      "    accuracy                           0.69   3688708\n",
      "   macro avg       0.69      0.69      0.69   3688708\n",
      "weighted avg       0.69      0.69      0.69   3688708\n",
      "\n"
     ]
    },
    {
     "data": {
      "image/png": "[encoded data removed]",
      "text/plain": [
       "<Figure size 432x288 with 2 Axes>"
      ]
     },
     "metadata": {},
     "output_type": "display_data"
    },
    {
     "data": {
      "image/png": "[encoded data removed]",
      "text/plain": [
       "<Figure size 432x288 with 1 Axes>"
      ]
     },
     "metadata": {},
     "output_type": "display_data"
    }
   ],
   "source": [
    "# Base Line Evaluation\n",
    "dtrain = lgb.Dataset(data = X_train, label = y_train)\n",
    "dtest = lgb.Dataset(data = X_test, label = y_test)\n",
    "\n",
    "\n",
    "lg = lgb.LGBMClassifier(objective = 'binary', metric = 'binary_logloss', random_state = 42, n_jobs = 4, verbose = 3)\n",
    "lg.fit(X_train_norm,y_train)\n",
    "\n",
    "#Predicting for testing and trainig data sets\n",
    "y_test_proba = lg.predict_proba(X_test_norm)[:,1]\n",
    "y_train_proba = lg.predict_proba(X_train_norm)[:,1]\n",
    "\n",
    "y_pred_test = lg.predict(X_test_norm)\n",
    "y_pred_train = lg.predict(X_train_norm)\n",
    "\n",
    "    #Accuracy Score\n",
    "print(\"Training accuracy: %0.4f\" %lg.score(X_train_norm, y_train))\n",
    "print(\"Test accuracy    : %0.4f\" %lg.score(X_test_norm, y_test))\n",
    "#print(\"Test log loss    : %0.4f\" %log_loss(y_train, lr.predict_proba(X_train)))\n",
    "#AUC Score\n",
    "auc_train = roc_auc_score(y_train,y_train_proba)\n",
    "auc_test = roc_auc_score(y_test,y_test_proba)\n",
    "\n",
    "print('Training AUC Score: %0.9f' %auc_train)  \n",
    "print('Testing AUC Score: %0.9f' %auc_test)          \n",
    "\n",
    "print('Classification Report - Training')\n",
    "print(classification_report(y_train,y_pred_train))\n",
    "\n",
    "print('Classification Report - Testing')\n",
    "print(classification_report(y_test,y_pred_test,target_names = class_names))\n",
    "\n",
    "plot_confusion_matrix(lg, X_test_norm, y_test,  cmap=plt.cm.Blues, normalize = 'true') #display_labels=class_names,\n",
    "plt.show()\n",
    "auc_curve(y_test,y_test_proba,auc_test)\n"
   ]
  },
  {
   "cell_type": "code",
   "execution_count": null,
   "metadata": {
    "scrolled": false
   },
   "outputs": [],
   "source": [
    "figsize(7,7)\n",
    "import seaborn as sns\n",
    "\n",
    "coefficients = xg.feature_importances_\n",
    "coef = pd.DataFrame(coefficients, index = X_train.columns, columns = ['Feature Importance'])\n",
    "coef.sort_values('Feature Importance', ascending = False, inplace = True)\n",
    "print(\"Top 20 Important Features\")\n",
    "\n",
    "_ = sns.barplot(data = coef[:20], x = 'Feature Importance', y = coef[:20].index, orient = 'h')\n",
    "\n"
   ]
  },
  {
   "cell_type": "code",
   "execution_count": null,
   "metadata": {},
   "outputs": [],
   "source": []
  }
 ],
 "metadata": {
  "kernelspec": {
   "display_name": "Python 3",
   "language": "python",
   "name": "python3"
  },
  "language_info": {
   "codemirror_mode": {
    "name": "ipython",
    "version": 3
   },
   "file_extension": ".py",
   "mimetype": "text/x-python",
   "name": "python",
   "nbconvert_exporter": "python",
   "pygments_lexer": "ipython3",
   "version": "3.7.3"
  }
 },
 "nbformat": 4,
 "nbformat_minor": 2
}

{
 "cells": [
  {
   "cell_type": "markdown",
   "metadata": {},
   "source": [
    "\n",
    "\n",
    "# Extracting Latent Features"
   ]
  },
  {
   "cell_type": "markdown",
   "metadata": {},
   "source": [
    "## Importing pakages "
   ]
  },
  {
   "cell_type": "code",
   "execution_count": 1,
   "metadata": {},
   "outputs": [],
   "source": [
    "#Packages for data manipulation and visualization\n",
    "import pandas as pd\n",
    "import numpy as np\n",
    "import matplotlib.pyplot as plt\n",
    "import seaborn as sns\n",
    "import matplotlib as mpl\n",
    "import os\n",
    "from datetime import datetime\n",
    "from scipy import stats\n",
    "from scipy.sparse import csc_matrix\n",
    "\n",
    "#Packages for splitting data\n",
    "from sklearn import base\n",
    "from sklearn.model_selection import KFold\n",
    "\n",
    "#Packages for controlling figure size\n",
    "from IPython.core.pylabtools import figsize\n"
   ]
  },
  {
   "cell_type": "code",
   "execution_count": 2,
   "metadata": {},
   "outputs": [],
   "source": [
    "#Getting Working Directory\n",
    "os.getcwd()\n",
    "\n",
    "#Setting style and font size for graphs\n",
    "sns.set_style(\"whitegrid\")\n",
    "mpl.rcParams['font.size'] = 13"
   ]
  },
  {
   "cell_type": "markdown",
   "metadata": {},
   "source": [
    "## Importing Clean Data from the CSV file "
   ]
  },
  {
   "cell_type": "code",
   "execution_count": 3,
   "metadata": {},
   "outputs": [],
   "source": [
    "#Setting the file path\n",
    "train_file ='D:\\\\Abhishek\\\\Personal\\\\Springboard\\\\music_recom\\\\train_cleaned.csv'\n",
    "test_file ='D:\\\\Abhishek\\\\Personal\\\\Springboard\\\\music_recom\\\\test_cleaned.csv'\n",
    "\n",
    "#Reading the csv file to pandas dataframe\n",
    "train_clean = pd.read_csv(train_file)\n",
    "test_clean = pd.read_csv(test_file)"
   ]
  },
  {
   "cell_type": "markdown",
   "metadata": {},
   "source": [
    "## Checking the Data. \n",
    "Number of columns, whether it was imported correctly, number of missing values etc."
   ]
  },
  {
   "cell_type": "code",
   "execution_count": 4,
   "metadata": {},
   "outputs": [
    {
     "name": "stdout",
     "output_type": "stream",
     "text": [
      "Train Shape (7377418, 37)\n",
      "Test Shape (2556790, 37)\n"
     ]
    }
   ],
   "source": [
    "#Check shape of the dataset and number of columns\n",
    "print(\"Train Shape\", train_clean.shape)\n",
    "print(\"Test Shape\", test_clean.shape)"
   ]
  },
  {
   "cell_type": "code",
   "execution_count": 5,
   "metadata": {
    "scrolled": true
   },
   "outputs": [
    {
     "name": "stdout",
     "output_type": "stream",
     "text": [
      "<class 'pandas.core.frame.DataFrame'>\n",
      "RangeIndex: 7377418 entries, 0 to 7377417\n",
      "Data columns (total 37 columns):\n",
      "msno                        object\n",
      "song_id                     object\n",
      "source_system_tab           object\n",
      "source_screen_name          object\n",
      "source_type                 object\n",
      "target                      int64\n",
      "song_length                 float64\n",
      "genre_ids                   object\n",
      "artist_name                 object\n",
      "composer                    object\n",
      "lyricist                    object\n",
      "language                    float64\n",
      "city                        int64\n",
      "bd                          int64\n",
      "gender                      object\n",
      "registered_via              int64\n",
      "lyricist_count              int64\n",
      "artist_count                int64\n",
      "composer_count              int64\n",
      "genre_count                 int64\n",
      "isrc_country                object\n",
      "isrc_year                   int64\n",
      "song_freq                   float64\n",
      "artist_freq                 float64\n",
      "composer_artist_lyricist    int64\n",
      "composer_artist             int64\n",
      "count_song_played           int64\n",
      "count_artist_played         int64\n",
      "duration                    float64\n",
      "registration_year           int64\n",
      "expiration_year             int64\n",
      "registration_month          int64\n",
      "expiration_month            int64\n",
      "registration_day            int64\n",
      "expiration_day              int64\n",
      "age_of_song                 int64\n",
      "song_type                   object\n",
      "dtypes: float64(5), int64(20), object(12)\n",
      "memory usage: 2.0+ GB\n"
     ]
    }
   ],
   "source": [
    "train_clean.info()"
   ]
  },
  {
   "cell_type": "markdown",
   "metadata": {},
   "source": [
    "## Target Encoding"
   ]
  },
  {
   "cell_type": "markdown",
   "metadata": {},
   "source": [
    "### Features with more than 25 categories will be target encoded. Rest will one-hot encoding"
   ]
  },
  {
   "cell_type": "code",
   "execution_count": 6,
   "metadata": {},
   "outputs": [],
   "source": [
    "# Defining class to target encoding of training data\n",
    "class KFoldTargetEncoderTrain(base.BaseEstimator, base.TransformerMixin):\n",
    "\n",
    "    def __init__(self, colnames,targetName,smoothing=5,n_fold=5,verbosity=True,discardOriginal_col=False):\n",
    "\n",
    "        self.colnames = colnames\n",
    "        self.targetName = targetName\n",
    "        self.n_fold = n_fold\n",
    "        self.verbosity = verbosity\n",
    "        self.discardOriginal_col = discardOriginal_col\n",
    "        self.smoothing = smoothing\n",
    "\n",
    "    def fit(self, X, y=None):\n",
    "        return self\n",
    "\n",
    "\n",
    "    def transform(self,X):\n",
    "\n",
    "        assert(type(self.targetName) == str)\n",
    "        assert(type(self.colnames) == str)\n",
    "        assert(self.colnames in X.columns)\n",
    "        assert(self.targetName in X.columns)\n",
    "\n",
    "        mean_of_target = X[self.targetName].mean()\n",
    "        \n",
    "        \n",
    "        # Spliting the data into kfolds\n",
    "        kf = KFold(n_splits = self.n_fold)\n",
    "\n",
    "        # Naming the column\n",
    "        col_mean_name = self.colnames + '_' + 'encoded'\n",
    "        X[col_mean_name] = np.nan\n",
    "\n",
    "        \n",
    "        for tr_ind, val_ind in kf.split(X):\n",
    "            X_tr, X_val = X.iloc[tr_ind], X.iloc[val_ind]\n",
    "            #print(tr_ind,val_ind) \n",
    "            \n",
    "            # creating target values\n",
    "            enc = X_tr.groupby(self.colnames)[self.targetName].agg(['count', 'mean'])\n",
    "            counts = enc['count']\n",
    "            means = enc['mean']\n",
    "            \n",
    "            # Applying smoothing to counter low frequency samples\n",
    "            smooth = (counts * means + self.smoothing * mean_of_target) / (counts + self.smoothing)\n",
    "\n",
    "            X.loc[X.index[val_ind], col_mean_name] = X_val[self.colnames].map(smooth)\n",
    "\n",
    "            # If variable not found then fill with global mean\n",
    "            X[col_mean_name].fillna(mean_of_target, inplace = True)\n",
    "\n",
    "        if self.verbosity:\n",
    "\n",
    "            encoded_feature = X[col_mean_name].values\n",
    "            print('Correlation between the new feature, {} and, {} is {}.'.format(col_mean_name,\n",
    "                                                                                      self.targetName,\n",
    "                                                                                      np.corrcoef(X[self.targetName].values, encoded_feature)[0][1]))\n",
    "        # Droping the original column\n",
    "        if self.discardOriginal_col:\n",
    "            X = X.drop(self.colnames, axis=1)\n",
    "            \n",
    "\n",
    "        return X"
   ]
  },
  {
   "cell_type": "code",
   "execution_count": 7,
   "metadata": {},
   "outputs": [],
   "source": [
    "class KFoldTargetEncoderTest(base.BaseEstimator, base.TransformerMixin):\n",
    "    \n",
    "    def __init__(self,train,colNames,encodedName,verbosity=True):\n",
    "        \n",
    "        self.train = train\n",
    "        self.colNames = colNames\n",
    "        self.encodedName = encodedName\n",
    "        self.verbosity = verbosity\n",
    "        \n",
    "    def fit(self, X, y=None):\n",
    "        return self\n",
    "\n",
    "    def transform(self,X):\n",
    "\n",
    "\n",
    "        mean = self.train[[self.colNames,self.encodedName]].groupby(self.colNames).mean().reset_index()\n",
    "        global_mean = mean[self.encodedName].mean()\n",
    "        mean[self.encodedName].fillna(global_mean,inplace=True)\n",
    "        \n",
    "        dd = {}\n",
    "        for index, row in mean.iterrows():\n",
    "            dd[row[self.colNames]] = row[self.encodedName]\n",
    "\n",
    "        \n",
    "        X[self.encodedName] = X[self.colNames].map(dd)\n",
    "        X[self.encodedName].fillna(global_mean, inplace = True)\n",
    "        #X = X.replace({self.encodedName: dd})\n",
    "        \n",
    "        if self.verbosity:\n",
    "            print('Done:',(self.colNames))\n",
    "\n",
    "        return X"
   ]
  },
  {
   "cell_type": "code",
   "execution_count": 8,
   "metadata": {},
   "outputs": [
    {
     "name": "stdout",
     "output_type": "stream",
     "text": [
      "Correlation between the new feature, genre_ids_encoded and, target is -0.02021206771320489.\n",
      "Correlation between the new feature, composer_encoded and, target is 0.10282564772309626.\n",
      "Correlation between the new feature, artist_name_encoded and, target is 0.10598778158865219.\n",
      "Correlation between the new feature, lyricist_encoded and, target is 0.07321287042731096.\n",
      "Correlation between the new feature, isrc_country_encoded and, target is -0.04529379547490228.\n"
     ]
    }
   ],
   "source": [
    "# Encoding Training Data\n",
    "target_encod_col = ['genre_ids', 'composer', 'artist_name', 'lyricist', 'isrc_country']\n",
    "train_enc = train_clean\n",
    "for col in target_encod_col:\n",
    "    targetc = KFoldTargetEncoderTrain(col,'target',n_fold=5, discardOriginal_col=False )\n",
    "    train_enc = targetc.fit_transform(train_enc)"
   ]
  },
  {
   "cell_type": "code",
   "execution_count": 9,
   "metadata": {},
   "outputs": [
    {
     "name": "stdout",
     "output_type": "stream",
     "text": [
      "Done: genre_ids\n",
      "Done: composer\n",
      "Done: artist_name\n",
      "Done: lyricist\n",
      "Done: isrc_country\n"
     ]
    }
   ],
   "source": [
    "# Encoding Testing Data\n",
    "test_enc = test_clean\n",
    "encoded_name = ['genre_ids_encoded', 'composer_encoded', 'artist_name_encoded', 'lyricist_encoded', 'isrc_country_encoded']\n",
    "for col in target_encod_col:\n",
    "    targetc = KFoldTargetEncoderTest(train_enc,col,col+'_encoded' )\n",
    "    test_enc = targetc.fit_transform(test_enc)\n",
    "    \n",
    "#train_enc = train_enc.drop(target_encod_col,axis=1)"
   ]
  },
  {
   "cell_type": "markdown",
   "metadata": {},
   "source": [
    "#### Resizing the data for efficient use of memory¶"
   ]
  },
  {
   "cell_type": "code",
   "execution_count": 10,
   "metadata": {},
   "outputs": [
    {
     "name": "stdout",
     "output_type": "stream",
     "text": [
      "Memory consumed by training set  :   2363.9798431396484 MB\n",
      "Memory consumed by training set  :   819.2839813232422 MB\n"
     ]
    }
   ],
   "source": [
    "# Memory used before resize\n",
    "mem_train = train_enc.memory_usage(index=True).sum()\n",
    "mem_test = test_enc.memory_usage(index=True).sum()\n",
    "print(\"Memory consumed by training set  :   {} MB\" .format(mem_train/ 1024**2))\n",
    "print(\"Memory consumed by training set  :   {} MB\" .format(mem_test/ 1024**2))"
   ]
  },
  {
   "cell_type": "code",
   "execution_count": 11,
   "metadata": {},
   "outputs": [],
   "source": [
    "def reduce_size(train, istrain = True):\n",
    "    drop_col = ['registration_day', 'expiration_day', \n",
    "                'registration_month', 'composer_artist_lyricist', 'composer_artist', 'gender']\n",
    "    train = train.drop(drop_col,axis=1)\n",
    "\n",
    "    # Selecting string columns\n",
    "    cat_names = list(train.select_dtypes(include='object').columns)\n",
    "\n",
    "    #Converting to categories\n",
    "    train[cat_names] = train[cat_names].astype('category')\n",
    "\n",
    "    int_names = list(train.select_dtypes(include='int64').columns)\n",
    "    int_names.remove('count_artist_played')\n",
    "    int_names.remove('count_song_played')\n",
    "    if (istrain == False):\n",
    "        int_names = int_names[1:]\n",
    "    train[int_names] = train[int_names].astype('int16')\n",
    "    train[['count_artist_played', 'count_song_played']] = train[['count_artist_played', 'count_song_played']].astype('int32')\n",
    "    \n",
    "    if istrain:\n",
    "        int_8_col = ['target']\n",
    "        train[int_8_col] = train[int_8_col].astype('int8')\n",
    "\n",
    "\n",
    "    float_names = list(train.select_dtypes(include='float64').columns)\n",
    "    if (istrain == False):\n",
    "        float_names = float_names + ['genre_ids_encoded', 'composer_encoded', 'artist_name_encoded', 'lyricist_encoded', 'isrc_country_encoded']\n",
    "    \n",
    "    float_names.remove('song_length')\n",
    "    train[float_names] = train[float_names].astype('float16')\n",
    "    train['song_length'] = train['song_length'].astype('float32')\n",
    "    \n",
    "    return train\n",
    "\n",
    "train_enc = reduce_size(train_enc)\n",
    "test_enc = reduce_size(test_enc, istrain = False)"
   ]
  },
  {
   "cell_type": "code",
   "execution_count": 12,
   "metadata": {},
   "outputs": [
    {
     "name": "stdout",
     "output_type": "stream",
     "text": [
      "Memory consumed by training set  :   583.2634429931641 MB\n",
      "Memory consumed by testing set  :   220.11709785461426 MB\n"
     ]
    }
   ],
   "source": [
    "# Memory usage post resizing \n",
    "mem_train = train_enc.memory_usage(index=True).sum()\n",
    "mem_test = test_enc.memory_usage(index=True).sum()\n",
    "print(\"Memory consumed by training set  :   {} MB\" .format(mem_train/ 1024**2))\n",
    "print(\"Memory consumed by testing set  :   {} MB\" .format(mem_test/ 1024**2))"
   ]
  },
  {
   "cell_type": "code",
   "execution_count": 13,
   "metadata": {},
   "outputs": [
    {
     "data": {
      "text/plain": [
       "id                      2.556789e+06\n",
       "song_length             7.356917e+06\n",
       "language                5.900000e+01\n",
       "city                    2.200000e+01\n",
       "bd                      1.070000e+02\n",
       "registered_via          1.600000e+01\n",
       "lyricist_count          2.300000e+01\n",
       "artist_count            2.500000e+01\n",
       "composer_count          2.300000e+01\n",
       "genre_count             8.000000e+00\n",
       "isrc_year               2.017000e+03\n",
       "song_freq               2.788000e+03\n",
       "artist_freq             3.532000e+03\n",
       "count_song_played       1.397300e+04\n",
       "count_artist_played     3.036160e+05\n",
       "duration                5.148000e+03\n",
       "registration_year       2.017000e+03\n",
       "expiration_year         2.020000e+03\n",
       "expiration_month        1.200000e+01\n",
       "age_of_song             9.900000e+01\n",
       "genre_ids_encoded       6.894531e-01\n",
       "composer_encoded        8.735352e-01\n",
       "artist_name_encoded     9.340820e-01\n",
       "lyricist_encoded        8.237305e-01\n",
       "isrc_country_encoded    6.591797e-01\n",
       "dtype: float64"
      ]
     },
     "execution_count": 13,
     "metadata": {},
     "output_type": "execute_result"
    }
   ],
   "source": [
    "numeric = list(test_enc.select_dtypes(exclude='category').columns)\n",
    "test_enc[numeric].max()"
   ]
  },
  {
   "cell_type": "code",
   "execution_count": 14,
   "metadata": {},
   "outputs": [
    {
     "data": {
      "text/html": [
       "<div>\n",
       "<style scoped>\n",
       "    .dataframe tbody tr th:only-of-type {\n",
       "        vertical-align: middle;\n",
       "    }\n",
       "\n",
       "    .dataframe tbody tr th {\n",
       "        vertical-align: top;\n",
       "    }\n",
       "\n",
       "    .dataframe thead th {\n",
       "        text-align: right;\n",
       "    }\n",
       "</style>\n",
       "<table border=\"1\" class=\"dataframe\">\n",
       "  <thead>\n",
       "    <tr style=\"text-align: right;\">\n",
       "      <th></th>\n",
       "      <th>id</th>\n",
       "      <th>msno</th>\n",
       "      <th>song_id</th>\n",
       "      <th>source_system_tab</th>\n",
       "      <th>source_screen_name</th>\n",
       "      <th>source_type</th>\n",
       "      <th>song_length</th>\n",
       "      <th>genre_ids</th>\n",
       "      <th>artist_name</th>\n",
       "      <th>composer</th>\n",
       "      <th>...</th>\n",
       "      <th>registration_year</th>\n",
       "      <th>expiration_year</th>\n",
       "      <th>expiration_month</th>\n",
       "      <th>age_of_song</th>\n",
       "      <th>song_type</th>\n",
       "      <th>genre_ids_encoded</th>\n",
       "      <th>composer_encoded</th>\n",
       "      <th>artist_name_encoded</th>\n",
       "      <th>lyricist_encoded</th>\n",
       "      <th>isrc_country_encoded</th>\n",
       "    </tr>\n",
       "  </thead>\n",
       "  <tbody>\n",
       "    <tr>\n",
       "      <th>0</th>\n",
       "      <td>0</td>\n",
       "      <td>V8ruy7SGk7tDm3zA51DPpn6qutt+vmKMBKa21dp54uM=</td>\n",
       "      <td>WmHKgKMlp1lQMecNdNvDMkvIycZYHnFwDT72I5sIssc=</td>\n",
       "      <td>my library</td>\n",
       "      <td>Local playlist more</td>\n",
       "      <td>local-library</td>\n",
       "      <td>224130.0</td>\n",
       "      <td>458</td>\n",
       "      <td>梁文音 (Rachel Liang)</td>\n",
       "      <td>Qi Zheng Zhang</td>\n",
       "      <td>...</td>\n",
       "      <td>2016</td>\n",
       "      <td>2017</td>\n",
       "      <td>9</td>\n",
       "      <td>3</td>\n",
       "      <td>long</td>\n",
       "      <td>0.548828</td>\n",
       "      <td>0.502930</td>\n",
       "      <td>0.517090</td>\n",
       "      <td>0.468750</td>\n",
       "      <td>0.526367</td>\n",
       "    </tr>\n",
       "    <tr>\n",
       "      <th>1</th>\n",
       "      <td>1</td>\n",
       "      <td>V8ruy7SGk7tDm3zA51DPpn6qutt+vmKMBKa21dp54uM=</td>\n",
       "      <td>y/rsZ9DC7FwK5F2PK2D5mj+aOBUJAjuu3dZ14NgE0vM=</td>\n",
       "      <td>my library</td>\n",
       "      <td>Local playlist more</td>\n",
       "      <td>local-library</td>\n",
       "      <td>320470.0</td>\n",
       "      <td>465</td>\n",
       "      <td>林俊傑 (JJ Lin)</td>\n",
       "      <td>林俊傑</td>\n",
       "      <td>...</td>\n",
       "      <td>2016</td>\n",
       "      <td>2017</td>\n",
       "      <td>9</td>\n",
       "      <td>7</td>\n",
       "      <td>long</td>\n",
       "      <td>0.506836</td>\n",
       "      <td>0.576172</td>\n",
       "      <td>0.582520</td>\n",
       "      <td>0.617188</td>\n",
       "      <td>0.526367</td>\n",
       "    </tr>\n",
       "    <tr>\n",
       "      <th>2</th>\n",
       "      <td>2</td>\n",
       "      <td>/uQAlrAkaczV+nWCd2sPF2ekvXPRipV7q0l+gbLuxjw=</td>\n",
       "      <td>8eZLFOdGVdXBSqoAv5nsLigeH2BvKXzTQYtUM53I0k4=</td>\n",
       "      <td>discover</td>\n",
       "      <td>source_screen_name_missing</td>\n",
       "      <td>song-based-playlist</td>\n",
       "      <td>315899.0</td>\n",
       "      <td>2022</td>\n",
       "      <td>Yu Takahashi (高橋優)</td>\n",
       "      <td>Yu Takahashi</td>\n",
       "      <td>...</td>\n",
       "      <td>2016</td>\n",
       "      <td>2016</td>\n",
       "      <td>11</td>\n",
       "      <td>7</td>\n",
       "      <td>long</td>\n",
       "      <td>0.424072</td>\n",
       "      <td>0.295166</td>\n",
       "      <td>0.302979</td>\n",
       "      <td>0.295166</td>\n",
       "      <td>0.401855</td>\n",
       "    </tr>\n",
       "    <tr>\n",
       "      <th>3</th>\n",
       "      <td>3</td>\n",
       "      <td>1a6oo/iXKatxQx4eS9zTVD+KlSVaAFbTIqVvwLC1Y0k=</td>\n",
       "      <td>ztCf8thYsS4YN3GcIL/bvoxLm/T5mYBVKOO4C9NiVfQ=</td>\n",
       "      <td>radio</td>\n",
       "      <td>Radio</td>\n",
       "      <td>radio</td>\n",
       "      <td>285210.0</td>\n",
       "      <td>465</td>\n",
       "      <td>U2</td>\n",
       "      <td>The Edge| Adam Clayton| Larry Mullen| Jr.</td>\n",
       "      <td>...</td>\n",
       "      <td>2007</td>\n",
       "      <td>2017</td>\n",
       "      <td>4</td>\n",
       "      <td>15</td>\n",
       "      <td>long</td>\n",
       "      <td>0.506836</td>\n",
       "      <td>0.254150</td>\n",
       "      <td>0.330566</td>\n",
       "      <td>0.468750</td>\n",
       "      <td>0.466064</td>\n",
       "    </tr>\n",
       "    <tr>\n",
       "      <th>4</th>\n",
       "      <td>4</td>\n",
       "      <td>1a6oo/iXKatxQx4eS9zTVD+KlSVaAFbTIqVvwLC1Y0k=</td>\n",
       "      <td>MKVMpslKcQhMaFEgcEQhEfi5+RZhMYlU3eRDpySrH8Y=</td>\n",
       "      <td>radio</td>\n",
       "      <td>Radio</td>\n",
       "      <td>radio</td>\n",
       "      <td>197590.0</td>\n",
       "      <td>873</td>\n",
       "      <td>Yoga Mr Sound</td>\n",
       "      <td>Neuromancer</td>\n",
       "      <td>...</td>\n",
       "      <td>2007</td>\n",
       "      <td>2017</td>\n",
       "      <td>4</td>\n",
       "      <td>6</td>\n",
       "      <td>long</td>\n",
       "      <td>0.447754</td>\n",
       "      <td>0.483887</td>\n",
       "      <td>0.302490</td>\n",
       "      <td>0.468750</td>\n",
       "      <td>0.439209</td>\n",
       "    </tr>\n",
       "  </tbody>\n",
       "</table>\n",
       "<p>5 rows × 36 columns</p>\n",
       "</div>"
      ],
      "text/plain": [
       "   id                                          msno  \\\n",
       "0   0  V8ruy7SGk7tDm3zA51DPpn6qutt+vmKMBKa21dp54uM=   \n",
       "1   1  V8ruy7SGk7tDm3zA51DPpn6qutt+vmKMBKa21dp54uM=   \n",
       "2   2  /uQAlrAkaczV+nWCd2sPF2ekvXPRipV7q0l+gbLuxjw=   \n",
       "3   3  1a6oo/iXKatxQx4eS9zTVD+KlSVaAFbTIqVvwLC1Y0k=   \n",
       "4   4  1a6oo/iXKatxQx4eS9zTVD+KlSVaAFbTIqVvwLC1Y0k=   \n",
       "\n",
       "                                        song_id source_system_tab  \\\n",
       "0  WmHKgKMlp1lQMecNdNvDMkvIycZYHnFwDT72I5sIssc=        my library   \n",
       "1  y/rsZ9DC7FwK5F2PK2D5mj+aOBUJAjuu3dZ14NgE0vM=        my library   \n",
       "2  8eZLFOdGVdXBSqoAv5nsLigeH2BvKXzTQYtUM53I0k4=          discover   \n",
       "3  ztCf8thYsS4YN3GcIL/bvoxLm/T5mYBVKOO4C9NiVfQ=             radio   \n",
       "4  MKVMpslKcQhMaFEgcEQhEfi5+RZhMYlU3eRDpySrH8Y=             radio   \n",
       "\n",
       "           source_screen_name          source_type  song_length genre_ids  \\\n",
       "0         Local playlist more        local-library     224130.0       458   \n",
       "1         Local playlist more        local-library     320470.0       465   \n",
       "2  source_screen_name_missing  song-based-playlist     315899.0      2022   \n",
       "3                       Radio                radio     285210.0       465   \n",
       "4                       Radio                radio     197590.0       873   \n",
       "\n",
       "          artist_name                                   composer  ...  \\\n",
       "0  梁文音 (Rachel Liang)                             Qi Zheng Zhang  ...   \n",
       "1        林俊傑 (JJ Lin)                                        林俊傑  ...   \n",
       "2  Yu Takahashi (高橋優)                               Yu Takahashi  ...   \n",
       "3                  U2  The Edge| Adam Clayton| Larry Mullen| Jr.  ...   \n",
       "4       Yoga Mr Sound                                Neuromancer  ...   \n",
       "\n",
       "  registration_year  expiration_year  expiration_month  age_of_song  \\\n",
       "0              2016             2017                 9            3   \n",
       "1              2016             2017                 9            7   \n",
       "2              2016             2016                11            7   \n",
       "3              2007             2017                 4           15   \n",
       "4              2007             2017                 4            6   \n",
       "\n",
       "   song_type  genre_ids_encoded  composer_encoded  artist_name_encoded  \\\n",
       "0       long           0.548828          0.502930             0.517090   \n",
       "1       long           0.506836          0.576172             0.582520   \n",
       "2       long           0.424072          0.295166             0.302979   \n",
       "3       long           0.506836          0.254150             0.330566   \n",
       "4       long           0.447754          0.483887             0.302490   \n",
       "\n",
       "   lyricist_encoded isrc_country_encoded  \n",
       "0          0.468750             0.526367  \n",
       "1          0.617188             0.526367  \n",
       "2          0.295166             0.401855  \n",
       "3          0.468750             0.466064  \n",
       "4          0.468750             0.439209  \n",
       "\n",
       "[5 rows x 36 columns]"
      ]
     },
     "execution_count": 14,
     "metadata": {},
     "output_type": "execute_result"
    }
   ],
   "source": [
    "test_enc.head()"
   ]
  },
  {
   "cell_type": "markdown",
   "metadata": {},
   "source": [
    "## Using SVD Decomposition to extract User-Song Features"
   ]
  },
  {
   "cell_type": "code",
   "execution_count": 15,
   "metadata": {},
   "outputs": [],
   "source": [
    "# Function to replace new users_songs with global average.\n",
    "\n",
    "def cold_start(train_data, test_data, feature_data):\n",
    "    \n",
    "    # Global Average\n",
    "    global_avg = list(feature_data.mean(axis=0))\n",
    "    \n",
    "    # Merging the new features\n",
    "    test_data = test_data.merge(feature_data, how = 'left', on = 'msno')\n",
    "    \n",
    "    \n",
    "    # Finding users that are present in test data and absent in train data\n",
    "    diff = list(set(test_data.msno) - set(train_data.msno))\n",
    "    diff_index = test_data[test_data.msno.isin(diff)].index\n",
    "    \n",
    "    # Feature Column Names\n",
    "    cols = list(feature_data.columns)\n",
    "    cols.remove('msno')\n",
    "    \n",
    "    # Replacing the missing user values with global average\n",
    "    test_data.loc[diff_index, cols] = global_avg\n",
    "    \n",
    "    return test_data"
   ]
  },
  {
   "cell_type": "code",
   "execution_count": 16,
   "metadata": {
    "scrolled": true
   },
   "outputs": [
    {
     "data": {
      "text/html": [
       "<div>\n",
       "<style scoped>\n",
       "    .dataframe tbody tr th:only-of-type {\n",
       "        vertical-align: middle;\n",
       "    }\n",
       "\n",
       "    .dataframe tbody tr th {\n",
       "        vertical-align: top;\n",
       "    }\n",
       "\n",
       "    .dataframe thead th {\n",
       "        text-align: right;\n",
       "    }\n",
       "</style>\n",
       "<table border=\"1\" class=\"dataframe\">\n",
       "  <thead>\n",
       "    <tr style=\"text-align: right;\">\n",
       "      <th></th>\n",
       "      <th>target</th>\n",
       "      <th>msno_index</th>\n",
       "      <th>song_index</th>\n",
       "    </tr>\n",
       "  </thead>\n",
       "  <tbody>\n",
       "    <tr>\n",
       "      <th>0</th>\n",
       "      <td>1</td>\n",
       "      <td>0</td>\n",
       "      <td>0</td>\n",
       "    </tr>\n",
       "    <tr>\n",
       "      <th>1</th>\n",
       "      <td>1</td>\n",
       "      <td>1</td>\n",
       "      <td>1</td>\n",
       "    </tr>\n",
       "    <tr>\n",
       "      <th>2</th>\n",
       "      <td>1</td>\n",
       "      <td>1</td>\n",
       "      <td>2</td>\n",
       "    </tr>\n",
       "    <tr>\n",
       "      <th>3</th>\n",
       "      <td>1</td>\n",
       "      <td>1</td>\n",
       "      <td>3</td>\n",
       "    </tr>\n",
       "    <tr>\n",
       "      <th>4</th>\n",
       "      <td>1</td>\n",
       "      <td>0</td>\n",
       "      <td>4</td>\n",
       "    </tr>\n",
       "  </tbody>\n",
       "</table>\n",
       "</div>"
      ],
      "text/plain": [
       "   target  msno_index  song_index\n",
       "0       1           0           0\n",
       "1       1           1           1\n",
       "2       1           1           2\n",
       "3       1           1           3\n",
       "4       1           0           4"
      ]
     },
     "execution_count": 16,
     "metadata": {},
     "output_type": "execute_result"
    }
   ],
   "source": [
    "# Creating matrix of user id and song _id with target as values\n",
    "matrix = train_enc.drop(train_enc.columns.difference(['msno','song_id','target']),axis = 1)\n",
    "\n",
    "# Unique songs and users\n",
    "n_users = matrix.msno.unique().shape[0]\n",
    "n_songs = matrix.song_id.unique().shape[0]\n",
    "\n",
    "# Converting msno and song ids to numeric labels\n",
    "users = pd.DataFrame(matrix.msno.unique(), columns = ['msno'])\n",
    "users['index'] = users.index\n",
    "users.set_index('msno', inplace = True)\n",
    "users = users.to_dict()['index']\n",
    "matrix['msno_index'] =  matrix.msno.map(users)\n",
    "\n",
    "songs = pd.DataFrame(matrix.song_id.unique(), columns = ['song'])\n",
    "songs['index'] = songs.index\n",
    "songs.set_index('song', inplace = True)\n",
    "songs = songs.to_dict()['index']\n",
    "matrix['song_index'] =  matrix.song_id.map(songs)\n",
    "\n",
    "# Dropping the actual msno and song ids\n",
    "matrix= matrix.drop(['msno', 'song_id'], axis = 1)\n",
    "matrix.head()"
   ]
  },
  {
   "cell_type": "code",
   "execution_count": 17,
   "metadata": {},
   "outputs": [
    {
     "data": {
      "text/plain": [
       "TruncatedSVD(algorithm='randomized', n_components=20, n_iter=7, random_state=42,\n",
       "             tol=0.0)"
      ]
     },
     "execution_count": 17,
     "metadata": {},
     "output_type": "execute_result"
    }
   ],
   "source": [
    "# Import SVD Library\n",
    "from sklearn.decomposition import TruncatedSVD\n",
    "\n",
    "# creating memory efficient column sparse matrix for use in svd decomposition\n",
    "user_song = csc_matrix((matrix.target, (matrix.msno_index, matrix.song_index)),(n_users,n_songs))\n",
    "\n",
    "# Initialize and fit SVD on user-song matrix\n",
    "svd = TruncatedSVD(n_components=20, n_iter=7, random_state=42)\n",
    "svd.fit(user_song)"
   ]
  },
  {
   "cell_type": "code",
   "execution_count": 18,
   "metadata": {},
   "outputs": [
    {
     "name": "stdout",
     "output_type": "stream",
     "text": [
      "Total Explained Variation: 0.1702441027400643\n"
     ]
    },
    {
     "data": {
      "image/png": "[encoded data removed]",
      "text/plain": [
       "<Figure size 432x288 with 1 Axes>"
      ]
     },
     "metadata": {},
     "output_type": "display_data"
    }
   ],
   "source": [
    "# Total explained variation\n",
    "print(\"Total Explained Variation:\", svd.explained_variance_ratio_.sum())\n",
    "\n",
    "# Plotting the explained varaiation against the number of components\n",
    "_ = plt.plot(svd.singular_values_)\n",
    "\n",
    "#print(svd.singular_values_)"
   ]
  },
  {
   "cell_type": "code",
   "execution_count": 19,
   "metadata": {},
   "outputs": [],
   "source": [
    "# Extracting the components into data frame\n",
    "user_song_reduced = svd.transform(user_song)\n",
    "col_name = ['us_'+str(i) for i in range(1,21)]\n",
    "user_song_feat = pd.DataFrame(user_song_reduced, columns = col_name)\n",
    "user_song_feat['msno'] = train_enc.msno.unique()\n",
    "\n",
    "# maping the components into the training data set\n",
    "train_enc = train_enc.merge(user_song_feat, how = 'left', on = 'msno')\n",
    "#train_clean = train_clean.merge(user_song_feat, how = 'left', on = 'msno')"
   ]
  },
  {
   "cell_type": "code",
   "execution_count": 20,
   "metadata": {},
   "outputs": [],
   "source": [
    "# Maping components into testing data set\n",
    "test_enc = cold_start(train_enc,test_enc,user_song_feat)"
   ]
  },
  {
   "cell_type": "code",
   "execution_count": 21,
   "metadata": {},
   "outputs": [
    {
     "name": "stdout",
     "output_type": "stream",
     "text": [
      "<class 'pandas.core.frame.DataFrame'>\n",
      "Int64Index: 2556790 entries, 0 to 2556789\n",
      "Data columns (total 56 columns):\n",
      "id                      int64\n",
      "msno                    object\n",
      "song_id                 category\n",
      "source_system_tab       category\n",
      "source_screen_name      category\n",
      "source_type             category\n",
      "song_length             float32\n",
      "genre_ids               category\n",
      "artist_name             category\n",
      "composer                category\n",
      "lyricist                category\n",
      "language                float16\n",
      "city                    int16\n",
      "bd                      int16\n",
      "registered_via          int16\n",
      "lyricist_count          int16\n",
      "artist_count            int16\n",
      "composer_count          int16\n",
      "genre_count             int16\n",
      "isrc_country            category\n",
      "isrc_year               int16\n",
      "song_freq               float16\n",
      "artist_freq             float16\n",
      "count_song_played       int32\n",
      "count_artist_played     int32\n",
      "duration                float16\n",
      "registration_year       int16\n",
      "expiration_year         int16\n",
      "expiration_month        int16\n",
      "age_of_song             int16\n",
      "song_type               category\n",
      "genre_ids_encoded       float16\n",
      "composer_encoded        float16\n",
      "artist_name_encoded     float16\n",
      "lyricist_encoded        float16\n",
      "isrc_country_encoded    float16\n",
      "us_1                    float64\n",
      "us_2                    float64\n",
      "us_3                    float64\n",
      "us_4                    float64\n",
      "us_5                    float64\n",
      "us_6                    float64\n",
      "us_7                    float64\n",
      "us_8                    float64\n",
      "us_9                    float64\n",
      "us_10                   float64\n",
      "us_11                   float64\n",
      "us_12                   float64\n",
      "us_13                   float64\n",
      "us_14                   float64\n",
      "us_15                   float64\n",
      "us_16                   float64\n",
      "us_17                   float64\n",
      "us_18                   float64\n",
      "us_19                   float64\n",
      "us_20                   float64\n",
      "dtypes: category(10), float16(9), float32(1), float64(20), int16(12), int32(2), int64(1), object(1)\n",
      "memory usage: 723.6+ MB\n"
     ]
    }
   ],
   "source": [
    "test_enc.info()"
   ]
  },
  {
   "cell_type": "code",
   "execution_count": 22,
   "metadata": {
    "scrolled": false
   },
   "outputs": [],
   "source": [
    "def extra_reduce_size(data):\n",
    "    float_names = list(data.select_dtypes(include='float64').columns)\n",
    "    data[float_names] = data[float_names].astype('float16')\n",
    "    data['duration'] = data['duration'].astype('int32')\n",
    "\n",
    "    float_to_inc = ['song_freq', 'artist_freq', 'language']\n",
    "    data[float_to_inc] = data[float_to_inc].astype('int16')\n",
    "\n",
    "    #train_enc.drop('msno', axis = 1, inplace = True)\n",
    "    return data\n",
    "\n",
    "train_enc = extra_reduce_size(train_enc)\n",
    "test_enc = extra_reduce_size(test_enc)\n"
   ]
  },
  {
   "cell_type": "code",
   "execution_count": 23,
   "metadata": {},
   "outputs": [],
   "source": [
    "#numeric = list(train_enc.select_dtypes(exclude='category').columns)\n",
    "#train_enc[numeric].min()"
   ]
  },
  {
   "cell_type": "markdown",
   "metadata": {},
   "source": [
    "### SVD Implementation of User-genre_id Features"
   ]
  },
  {
   "cell_type": "code",
   "execution_count": 24,
   "metadata": {},
   "outputs": [],
   "source": [
    "# Creating user-genre sparse matrix\n",
    "matrix = train_clean.drop(train_clean.columns.difference(['msno','genre_ids','target']),axis = 1)\n",
    "matrix = pd.pivot_table(train_clean,values = 'target', index = 'msno', columns = 'genre_ids', aggfunc= np.sum).fillna(0)\n",
    "user_genre = csc_matrix(matrix)\n"
   ]
  },
  {
   "cell_type": "code",
   "execution_count": 25,
   "metadata": {},
   "outputs": [
    {
     "name": "stdout",
     "output_type": "stream",
     "text": [
      "0.9679396048126867\n"
     ]
    },
    {
     "data": {
      "text/plain": [
       "[<matplotlib.lines.Line2D at 0x27a5e4facf8>]"
      ]
     },
     "execution_count": 25,
     "metadata": {},
     "output_type": "execute_result"
    },
    {
     "data": {
      "image/png": "[encoded data removed]",
      "text/plain": [
       "<Figure size 432x288 with 1 Axes>"
      ]
     },
     "metadata": {},
     "output_type": "display_data"
    }
   ],
   "source": [
    "# Initialize and fit SVD on user-song matrix\n",
    "svd = TruncatedSVD(n_components=5, n_iter=7, random_state=42)\n",
    "svd.fit(user_genre)\n",
    "\n",
    "# Total explained variation\n",
    "print(svd.explained_variance_ratio_.sum())\n",
    "\n",
    "# Plotting the explained varaiation against the number of components\n",
    "plt.plot(svd.singular_values_)"
   ]
  },
  {
   "cell_type": "code",
   "execution_count": 26,
   "metadata": {},
   "outputs": [],
   "source": [
    "# Extracting the components into data frame\n",
    "user_genre_reduced = svd.transform(user_genre)\n",
    "col_name = ['ug_'+str(i) for i in range(1,6)]\n",
    "user_genre_feat = pd.DataFrame(user_genre_reduced, columns = col_name)\n",
    "user_genre_feat['msno'] = matrix.index\n",
    "\n",
    "# maping the components into the training data set\n",
    "train_enc = train_enc.merge(user_genre_feat, how = 'left', on = 'msno')\n",
    "\n",
    "# maping the components into the test data set\n",
    "test_enc = cold_start(train_enc,test_enc,user_genre_feat)\n",
    "\n",
    "#train = train.merge(user_genre_feat, how = 'left', on = 'msno')\n",
    "#train_enc.info()\n",
    "\n"
   ]
  },
  {
   "cell_type": "markdown",
   "metadata": {},
   "source": [
    "### SVD Implementation of User-artist name Features"
   ]
  },
  {
   "cell_type": "code",
   "execution_count": 27,
   "metadata": {},
   "outputs": [
    {
     "data": {
      "text/html": [
       "<div>\n",
       "<style scoped>\n",
       "    .dataframe tbody tr th:only-of-type {\n",
       "        vertical-align: middle;\n",
       "    }\n",
       "\n",
       "    .dataframe tbody tr th {\n",
       "        vertical-align: top;\n",
       "    }\n",
       "\n",
       "    .dataframe thead th {\n",
       "        text-align: right;\n",
       "    }\n",
       "</style>\n",
       "<table border=\"1\" class=\"dataframe\">\n",
       "  <thead>\n",
       "    <tr style=\"text-align: right;\">\n",
       "      <th></th>\n",
       "      <th>target</th>\n",
       "      <th>msno_index</th>\n",
       "      <th>artist_index</th>\n",
       "    </tr>\n",
       "  </thead>\n",
       "  <tbody>\n",
       "    <tr>\n",
       "      <th>0</th>\n",
       "      <td>2</td>\n",
       "      <td>0</td>\n",
       "      <td>0</td>\n",
       "    </tr>\n",
       "    <tr>\n",
       "      <th>1</th>\n",
       "      <td>1</td>\n",
       "      <td>0</td>\n",
       "      <td>1</td>\n",
       "    </tr>\n",
       "    <tr>\n",
       "      <th>2</th>\n",
       "      <td>0</td>\n",
       "      <td>0</td>\n",
       "      <td>2</td>\n",
       "    </tr>\n",
       "    <tr>\n",
       "      <th>3</th>\n",
       "      <td>3</td>\n",
       "      <td>0</td>\n",
       "      <td>3</td>\n",
       "    </tr>\n",
       "    <tr>\n",
       "      <th>4</th>\n",
       "      <td>4</td>\n",
       "      <td>0</td>\n",
       "      <td>4</td>\n",
       "    </tr>\n",
       "  </tbody>\n",
       "</table>\n",
       "</div>"
      ],
      "text/plain": [
       "   target  msno_index  artist_index\n",
       "0       2           0             0\n",
       "1       1           0             1\n",
       "2       0           0             2\n",
       "3       3           0             3\n",
       "4       4           0             4"
      ]
     },
     "execution_count": 27,
     "metadata": {},
     "output_type": "execute_result"
    }
   ],
   "source": [
    "# Creating user-artist sparse matrix\n",
    "matrix = train_clean.drop(train_clean.columns.difference(['msno','artist_name','target']),axis = 1)\n",
    "matrix = matrix.groupby(['msno', 'artist_name'])['target'].sum()\n",
    "matrix = matrix.reset_index()\n",
    "\n",
    "# Unique songs and artist\n",
    "n_users = matrix.msno.unique().shape[0]\n",
    "n_artist = matrix.artist_name.unique().shape[0]\n",
    "\n",
    "# Converting msno and artist to numeric labels\n",
    "users = pd.DataFrame(matrix.msno.unique(), columns = ['msno'])\n",
    "users['index'] = users.index\n",
    "users.set_index('msno', inplace = True)\n",
    "users = users.to_dict()['index']\n",
    "matrix['msno_index'] =  matrix.msno.map(users)\n",
    "\n",
    "artist = pd.DataFrame(matrix.artist_name.unique(), columns = ['artist'])\n",
    "artist['index'] = artist.index\n",
    "artist.set_index('artist', inplace = True)\n",
    "artist = artist.to_dict()['index']\n",
    "matrix['artist_index'] =  matrix.artist_name.map(artist)\n",
    "\n",
    "# Dropping the actual msno and artist\n",
    "user_index = matrix.msno.unique()\n",
    "matrix= matrix.drop(['msno', 'artist_name'], axis = 1)\n",
    "matrix.head()\n",
    "\n",
    "#user_genre = csc_matrix(matrix)\n",
    "#matrix.head()"
   ]
  },
  {
   "cell_type": "code",
   "execution_count": 28,
   "metadata": {},
   "outputs": [
    {
     "name": "stdout",
     "output_type": "stream",
     "text": [
      "0.45846842453414877\n"
     ]
    },
    {
     "data": {
      "text/plain": [
       "[<matplotlib.lines.Line2D at 0x27a5ebbe358>]"
      ]
     },
     "execution_count": 28,
     "metadata": {},
     "output_type": "execute_result"
    },
    {
     "data": {
      "image/png": "[encoded data removed]",
      "text/plain": [
       "<Figure size 432x288 with 1 Axes>"
      ]
     },
     "metadata": {},
     "output_type": "display_data"
    }
   ],
   "source": [
    "# Creating user-genre sparse matrix\n",
    "user_artist = csc_matrix((matrix.target, (matrix.msno_index, matrix.artist_index)),(n_users,n_artist))\n",
    "\n",
    "# Initialize and fit SVD on user-song matrix\n",
    "svd = TruncatedSVD(n_components=12, n_iter=7, random_state=42)\n",
    "svd.fit(user_artist)\n",
    "\n",
    "# Total explained variation\n",
    "print(svd.explained_variance_ratio_.sum())\n",
    "\n",
    "# Plotting the explained varaiation against the number of components\n",
    "plt.plot(svd.singular_values_)"
   ]
  },
  {
   "cell_type": "code",
   "execution_count": 29,
   "metadata": {},
   "outputs": [],
   "source": [
    "# Extracting the components into data frame\n",
    "user_artist_reduced = svd.transform(user_artist)\n",
    "col_name = ['ua_'+str(i) for i in range(1,13)]\n",
    "user_artist_feat = pd.DataFrame(user_artist_reduced, columns = col_name)\n",
    "user_artist_feat['msno'] = user_index\n",
    "#train_enc.any()\n",
    "\n",
    "# maping the components into the training data set\n",
    "train_enc = train_enc.merge(user_artist_feat, how = 'left', on = 'msno')\n",
    "\n",
    "# maping the components into the testing data set\n",
    "test_enc = cold_start(train_enc,test_enc,user_artist_feat)\n",
    "\n",
    "\n",
    "#train = train.merge(user_artist_feat, how = 'left', on = 'msno')\n",
    "#train_enc.info()"
   ]
  },
  {
   "cell_type": "code",
   "execution_count": 30,
   "metadata": {
    "scrolled": false
   },
   "outputs": [],
   "source": [
    "float_names = list(train_enc.select_dtypes(include='float64').columns)\n",
    "train_enc[float_names] = train_enc[float_names].astype('float16')\n",
    "test_enc[float_names] = test_enc[float_names].astype('float16')"
   ]
  },
  {
   "cell_type": "code",
   "execution_count": 31,
   "metadata": {},
   "outputs": [
    {
     "name": "stdout",
     "output_type": "stream",
     "text": [
      "Memory consumed by training set  :   1214.987590789795 MB\n",
      "Memory consumed by testing set  :   518.7513332366943 MB\n"
     ]
    }
   ],
   "source": [
    "# Memory usage post resizing \n",
    "mem_train = train_enc.memory_usage(index=True).sum()\n",
    "mem_test = test_enc.memory_usage(index=True).sum()\n",
    "print(\"Memory consumed by training set  :   {} MB\" .format(mem_train/ 1024**2))\n",
    "print(\"Memory consumed by testing set  :   {} MB\" .format(mem_test/ 1024**2))"
   ]
  },
  {
   "cell_type": "code",
   "execution_count": 32,
   "metadata": {},
   "outputs": [
    {
     "name": "stdout",
     "output_type": "stream",
     "text": [
      "<class 'pandas.core.frame.DataFrame'>\n",
      "Int64Index: 7377418 entries, 0 to 7377417\n",
      "Data columns (total 73 columns):\n",
      "msno                    object\n",
      "song_id                 category\n",
      "source_system_tab       category\n",
      "source_screen_name      category\n",
      "source_type             category\n",
      "target                  int8\n",
      "song_length             float32\n",
      "genre_ids               category\n",
      "artist_name             category\n",
      "composer                category\n",
      "lyricist                category\n",
      "language                int16\n",
      "city                    int16\n",
      "bd                      int16\n",
      "registered_via          int16\n",
      "lyricist_count          int16\n",
      "artist_count            int16\n",
      "composer_count          int16\n",
      "genre_count             int16\n",
      "isrc_country            category\n",
      "isrc_year               int16\n",
      "song_freq               int16\n",
      "artist_freq             int16\n",
      "count_song_played       int32\n",
      "count_artist_played     int32\n",
      "duration                int32\n",
      "registration_year       int16\n",
      "expiration_year         int16\n",
      "expiration_month        int16\n",
      "age_of_song             int16\n",
      "song_type               category\n",
      "genre_ids_encoded       float16\n",
      "composer_encoded        float16\n",
      "artist_name_encoded     float16\n",
      "lyricist_encoded        float16\n",
      "isrc_country_encoded    float16\n",
      "us_1                    float16\n",
      "us_2                    float16\n",
      "us_3                    float16\n",
      "us_4                    float16\n",
      "us_5                    float16\n",
      "us_6                    float16\n",
      "us_7                    float16\n",
      "us_8                    float16\n",
      "us_9                    float16\n",
      "us_10                   float16\n",
      "us_11                   float16\n",
      "us_12                   float16\n",
      "us_13                   float16\n",
      "us_14                   float16\n",
      "us_15                   float16\n",
      "us_16                   float16\n",
      "us_17                   float16\n",
      "us_18                   float16\n",
      "us_19                   float16\n",
      "us_20                   float16\n",
      "ug_1                    float16\n",
      "ug_2                    float16\n",
      "ug_3                    float16\n",
      "ug_4                    float16\n",
      "ug_5                    float16\n",
      "ua_1                    float16\n",
      "ua_2                    float16\n",
      "ua_3                    float16\n",
      "ua_4                    float16\n",
      "ua_5                    float16\n",
      "ua_6                    float16\n",
      "ua_7                    float16\n",
      "ua_8                    float16\n",
      "ua_9                    float16\n",
      "ua_10                   float16\n",
      "ua_11                   float16\n",
      "ua_12                   float16\n",
      "dtypes: category(10), float16(42), float32(1), int16(15), int32(3), int8(1), object(1)\n",
      "memory usage: 1.2+ GB\n"
     ]
    }
   ],
   "source": [
    "train_enc.info()"
   ]
  },
  {
   "cell_type": "markdown",
   "metadata": {},
   "source": [
    "### Exporting the files for Final Modeling"
   ]
  },
  {
   "cell_type": "code",
   "execution_count": 33,
   "metadata": {},
   "outputs": [],
   "source": [
    "train_enc.to_csv('D:\\\\Abhishek\\\\Personal\\\\Springboard\\\\music_recom\\\\train_final.csv',index = False)\n",
    "test_enc.to_csv('D:\\\\Abhishek\\\\Personal\\\\Springboard\\\\music_recom\\\\test_final.csv',index = False)"
   ]
  }
 ],
 "metadata": {
  "kernelspec": {
   "display_name": "Python 3",
   "language": "python",
   "name": "python3"
  },
  "language_info": {
   "codemirror_mode": {
    "name": "ipython",
    "version": 3
   },
   "file_extension": ".py",
   "mimetype": "text/x-python",
   "name": "python",
   "nbconvert_exporter": "python",
   "pygments_lexer": "ipython3",
   "version": "3.7.3"
  }
 },
 "nbformat": 4,
 "nbformat_minor": 2
}

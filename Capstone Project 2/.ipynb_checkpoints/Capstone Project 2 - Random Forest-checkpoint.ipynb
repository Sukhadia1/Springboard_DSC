{
 "cells": [
  {
   "cell_type": "code",
   "execution_count": 1,
   "metadata": {},
   "outputs": [],
   "source": [
    "import pandas as pd\n",
    "import numpy as np\n",
    "import matplotlib.pyplot as plt\n",
    "import re\n",
    "import seaborn as sns\n",
    "import matplotlib as mpl\n",
    "import os\n",
    "\n",
    "from IPython.core.pylabtools import figsize\n",
    "from scipy import stats\n",
    "\n",
    "from sklearn.model_selection import train_test_split\n",
    "\n",
    "from sklearn.model_selection import GridSearchCV\n",
    "from sklearn.model_selection import GridSearchCV\n",
    "from scipy.stats import uniform, randint"
   ]
  },
  {
   "cell_type": "code",
   "execution_count": 2,
   "metadata": {},
   "outputs": [],
   "source": [
    "#Getting Working Directory\n",
    "os.getcwd()\n",
    "\n",
    "#Setting style and font size for graphs\n",
    "sns.set_style(\"whitegrid\")\n",
    "mpl.rcParams['font.size'] = 13"
   ]
  },
  {
   "cell_type": "code",
   "execution_count": 3,
   "metadata": {},
   "outputs": [
    {
     "data": {
      "text/plain": [
       "(7377418, 73)"
      ]
     },
     "execution_count": 3,
     "metadata": {},
     "output_type": "execute_result"
    }
   ],
   "source": [
    "#load original data into dataframe\n",
    "file ='D:\\\\Abhishek\\\\Personal\\\\Springboard\\\\music_recom\\\\train_final.csv'\n",
    "\n",
    "df = pd.read_csv(file)\n",
    "df.shape"
   ]
  },
  {
   "cell_type": "code",
   "execution_count": 4,
   "metadata": {},
   "outputs": [
    {
     "name": "stdout",
     "output_type": "stream",
     "text": [
      "<class 'pandas.core.frame.DataFrame'>\n",
      "RangeIndex: 7377418 entries, 0 to 7377417\n",
      "Data columns (total 73 columns):\n",
      "msno                    object\n",
      "song_id                 object\n",
      "source_system_tab       object\n",
      "source_screen_name      object\n",
      "source_type             object\n",
      "target                  int64\n",
      "song_length             float64\n",
      "genre_ids               object\n",
      "artist_name             object\n",
      "composer                object\n",
      "lyricist                object\n",
      "language                int64\n",
      "city                    int64\n",
      "bd                      int64\n",
      "registered_via          int64\n",
      "lyricist_count          int64\n",
      "artist_count            int64\n",
      "composer_count          int64\n",
      "genre_count             int64\n",
      "isrc_country            object\n",
      "isrc_year               int64\n",
      "song_freq               int64\n",
      "artist_freq             int64\n",
      "count_song_played       int64\n",
      "count_artist_played     int64\n",
      "duration                int64\n",
      "registration_year       int64\n",
      "expiration_year         int64\n",
      "expiration_month        int64\n",
      "age_of_song             int64\n",
      "song_type               object\n",
      "genre_ids_encoded       float64\n",
      "composer_encoded        float64\n",
      "artist_name_encoded     float64\n",
      "lyricist_encoded        float64\n",
      "isrc_country_encoded    float64\n",
      "us_1                    float64\n",
      "us_2                    float64\n",
      "us_3                    float64\n",
      "us_4                    float64\n",
      "us_5                    float64\n",
      "us_6                    float64\n",
      "us_7                    float64\n",
      "us_8                    float64\n",
      "us_9                    float64\n",
      "us_10                   float64\n",
      "us_11                   float64\n",
      "us_12                   float64\n",
      "us_13                   float64\n",
      "us_14                   float64\n",
      "us_15                   float64\n",
      "us_16                   float64\n",
      "us_17                   float64\n",
      "us_18                   float64\n",
      "us_19                   float64\n",
      "us_20                   float64\n",
      "ug_1                    float64\n",
      "ug_2                    float64\n",
      "ug_3                    float64\n",
      "ug_4                    float64\n",
      "ug_5                    float64\n",
      "ua_1                    float64\n",
      "ua_2                    float64\n",
      "ua_3                    float64\n",
      "ua_4                    float64\n",
      "ua_5                    float64\n",
      "ua_6                    float64\n",
      "ua_7                    float64\n",
      "ua_8                    float64\n",
      "ua_9                    float64\n",
      "ua_10                   float64\n",
      "ua_11                   float64\n",
      "ua_12                   float64\n",
      "dtypes: float64(43), int64(19), object(11)\n",
      "memory usage: 4.0+ GB\n"
     ]
    }
   ],
   "source": [
    "# Converting IDs to Object class\n",
    "df.info()"
   ]
  },
  {
   "cell_type": "code",
   "execution_count": 5,
   "metadata": {
    "scrolled": true
   },
   "outputs": [
    {
     "name": "stdout",
     "output_type": "stream",
     "text": [
      "<class 'pandas.core.frame.DataFrame'>\n",
      "RangeIndex: 7377418 entries, 0 to 7377417\n",
      "Data columns (total 66 columns):\n",
      "source_system_tab       category\n",
      "source_screen_name      category\n",
      "source_type             category\n",
      "target                  int16\n",
      "song_length             float32\n",
      "language                int8\n",
      "city                    int8\n",
      "bd                      int8\n",
      "registered_via          int8\n",
      "lyricist_count          int8\n",
      "artist_count            int8\n",
      "composer_count          int8\n",
      "genre_count             int8\n",
      "isrc_year               int16\n",
      "song_freq               int16\n",
      "artist_freq             int16\n",
      "count_song_played       int32\n",
      "count_artist_played     int32\n",
      "duration                int16\n",
      "registration_year       int16\n",
      "expiration_year         int16\n",
      "expiration_month        int16\n",
      "age_of_song             int16\n",
      "song_type               category\n",
      "genre_ids_encoded       float16\n",
      "composer_encoded        float16\n",
      "artist_name_encoded     float16\n",
      "lyricist_encoded        float16\n",
      "isrc_country_encoded    float16\n",
      "us_1                    float16\n",
      "us_2                    float16\n",
      "us_3                    float16\n",
      "us_4                    float16\n",
      "us_5                    float16\n",
      "us_6                    float16\n",
      "us_7                    float16\n",
      "us_8                    float16\n",
      "us_9                    float16\n",
      "us_10                   float16\n",
      "us_11                   float16\n",
      "us_12                   float16\n",
      "us_13                   float16\n",
      "us_14                   float16\n",
      "us_15                   float16\n",
      "us_16                   float16\n",
      "us_17                   float16\n",
      "us_18                   float16\n",
      "us_19                   float16\n",
      "us_20                   float16\n",
      "ug_1                    float16\n",
      "ug_2                    float16\n",
      "ug_3                    float16\n",
      "ug_4                    float16\n",
      "ug_5                    float16\n",
      "ua_1                    float16\n",
      "ua_2                    float16\n",
      "ua_3                    float16\n",
      "ua_4                    float16\n",
      "ua_5                    float16\n",
      "ua_6                    float16\n",
      "ua_7                    float16\n",
      "ua_8                    float16\n",
      "ua_9                    float16\n",
      "ua_10                   float16\n",
      "ua_11                   float16\n",
      "ua_12                   float16\n",
      "dtypes: category(4), float16(42), float32(1), int16(9), int32(2), int8(8)\n",
      "memory usage: 886.5 MB\n"
     ]
    }
   ],
   "source": [
    "drop_col = ['msno','song_id','genre_ids', 'composer', 'artist_name', 'lyricist', 'isrc_country']\n",
    "df.drop(drop_col, axis=1, inplace = True)\n",
    "\n",
    "# Converting to categories\n",
    "cat_names = list(df.select_dtypes(include='object').columns)\n",
    "df[cat_names] = df[cat_names].astype('category')\n",
    "\n",
    "# Converting int64 to int32 type\n",
    "int32 = ['count_artist_played', 'count_song_played']\n",
    "df[int32] = df[int32].astype('int32')\n",
    "\n",
    "int8 = ['language','bd','city', 'genre_count', 'lyricist_count','composer_count','artist_count','registered_via']\n",
    "df[int8] = df[int8].astype('int8')\n",
    "\n",
    "# Converting int64 to int16 type\n",
    "int64 = list(df.select_dtypes(include='int64').columns)\n",
    "df[int64] = df[int64].astype('int16')\n",
    "\n",
    "# Converting float64 to float32 and float16 type\n",
    "float_names = list(df.select_dtypes(include='float64').columns)\n",
    "float_names.remove('song_length')\n",
    "df[float_names] = df[float_names].astype('float16')\n",
    "df['song_length'] = df['song_length'].astype('float32')\n",
    "\n",
    "df.info()"
   ]
  },
  {
   "cell_type": "code",
   "execution_count": 6,
   "metadata": {},
   "outputs": [],
   "source": [
    "# Separating Numeric and Non_numeric Data\n",
    "numeric = df.select_dtypes(exclude = 'category')\n",
    "categorical = df.select_dtypes(include = 'category')\n",
    "\n",
    "#Creating Dummy variables for Categorical Data using One Hot Encoding\n",
    "dummies = pd.get_dummies(categorical,drop_first = True)"
   ]
  },
  {
   "cell_type": "code",
   "execution_count": 7,
   "metadata": {
    "scrolled": false
   },
   "outputs": [],
   "source": [
    "#numeric.skew()"
   ]
  },
  {
   "cell_type": "code",
   "execution_count": 8,
   "metadata": {},
   "outputs": [],
   "source": [
    "#Creating our Feature and Target Data Set: X, y respectively\n",
    "X = pd.concat([numeric,dummies],axis=1).drop('target', axis = 1)\n",
    "y = df.target\n",
    "\n",
    "#Splitting Data into Training and Test Data Set\n",
    "X_train,X_test, y_train, y_test = train_test_split(X, y, test_size = 0.5, random_state = 42)"
   ]
  },
  {
   "cell_type": "code",
   "execution_count": 9,
   "metadata": {},
   "outputs": [
    {
     "name": "stdout",
     "output_type": "stream",
     "text": [
      "<class 'pandas.core.frame.DataFrame'>\n",
      "Int64Index: 3688709 entries, 288797 to 6413414\n",
      "Columns: 102 entries, song_length to song_type_short\n",
      "dtypes: float16(42), float32(1), int16(8), int32(2), int8(8), uint8(41)\n",
      "memory usage: 594.5 MB\n"
     ]
    }
   ],
   "source": [
    "X_train.info()"
   ]
  },
  {
   "cell_type": "markdown",
   "metadata": {},
   "source": [
    "There are two types of error, False Positive and False Negative. Predicting that a song will not be listened again but actually song gets listened again. This is false negative. Predicting that a song will be listened again but in actually song is not listened again is called false positive. For us both type of error are important"
   ]
  },
  {
   "cell_type": "markdown",
   "metadata": {},
   "source": [
    "## Normalization"
   ]
  },
  {
   "cell_type": "code",
   "execution_count": 10,
   "metadata": {},
   "outputs": [],
   "source": [
    "# data normalization with sklearn\n",
    "from sklearn.preprocessing import MinMaxScaler\n",
    "\n",
    "# fit scaler on training data\n",
    "norm = MinMaxScaler().fit(X_train)\n",
    "\n",
    "# transform training data\n",
    "X_train_norm = norm.transform(X_train)\n",
    "\n",
    "# transform testing dataabs\n",
    "X_test_norm = norm.transform(X_test)\n"
   ]
  },
  {
   "cell_type": "markdown",
   "metadata": {},
   "source": [
    "### Random Forest Classifier"
   ]
  },
  {
   "cell_type": "code",
   "execution_count": 11,
   "metadata": {},
   "outputs": [],
   "source": [
    "# Base Line Evaluation\n",
    "from sklearn.ensemble import RandomForestClassifier\n",
    "from sklearn.metrics import classification_report, balanced_accuracy_score, plot_roc_curve\n",
    "from sklearn.metrics import precision_score, recall_score, roc_auc_score, roc_curve\n",
    "from sklearn.metrics import plot_confusion_matrix, precision_recall_fscore_support,log_loss\n",
    "class_names = ['Not Listened', 'Listened']"
   ]
  },
  {
   "cell_type": "code",
   "execution_count": 12,
   "metadata": {},
   "outputs": [],
   "source": [
    "def auc_curve(y_test,y_pred_test,auc_test):\n",
    "    fpr,tpr, threshold = roc_curve(y_test, y_pred_test)\n",
    "    _ = plt.plot(fpr, tpr, color='darkorange', label='ROC curve (area = %0.4f)' %auc_test )\n",
    "    _ = plt.plot([0, 1], [0, 1], color='navy', lw=2, linestyle='--')\n",
    "    _ = plt.xlim([0.0, 1.0])\n",
    "    _ = plt.ylim([0.0, 1.05])\n",
    "    _ = plt.xlabel('False Positive Rate')\n",
    "    _ = plt.ylabel('True Positive Rate')\n",
    "    _ = plt.title('Receiver operating characteristic example')\n",
    "    _ = plt.legend(loc=\"lower right\")\n"
   ]
  },
  {
   "cell_type": "code",
   "execution_count": 13,
   "metadata": {
    "scrolled": false
   },
   "outputs": [
    {
     "name": "stderr",
     "output_type": "stream",
     "text": [
      "[Parallel(n_jobs=4)]: Using backend ThreadingBackend with 4 concurrent workers.\n"
     ]
    },
    {
     "name": "stdout",
     "output_type": "stream",
     "text": [
      "building tree 1 of 100\n",
      "building tree 2 of 100\n",
      "building tree 3 of 100\n",
      "building tree 4 of 100\n",
      "building tree 5 of 100\n",
      "building tree 6 of 100\n",
      "building tree 7 of 100\n",
      "building tree 8 of 100\n",
      "building tree 9 of 100\n",
      "building tree 10 of 100\n",
      "building tree 11 of 100\n",
      "building tree 12 of 100\n",
      "building tree 13 of 100\n",
      "building tree 14 of 100\n",
      "building tree 15 of 100\n",
      "building tree 16 of 100\n",
      "building tree 17 of 100\n",
      "building tree 18 of 100\n",
      "building tree 19 of 100\n",
      "building tree 20 of 100\n",
      "building tree 21 of 100\n",
      "building tree 22 of 100\n",
      "building tree 23 of 100\n",
      "building tree 24 of 100\n",
      "building tree 25 of 100\n",
      "building tree 26 of 100\n",
      "building tree 27 of 100\n",
      "building tree 28 of 100\n"
     ]
    },
    {
     "name": "stderr",
     "output_type": "stream",
     "text": [
      "[Parallel(n_jobs=4)]: Done  24 tasks      | elapsed:  5.6min\n"
     ]
    },
    {
     "name": "stdout",
     "output_type": "stream",
     "text": [
      "building tree 29 of 100\n",
      "building tree 30 of 100\n",
      "building tree 31 of 100\n",
      "building tree 32 of 100\n",
      "building tree 33 of 100\n",
      "building tree 34 of 100\n",
      "building tree 35 of 100\n",
      "building tree 36 of 100\n",
      "building tree 37 of 100\n",
      "building tree 38 of 100\n",
      "building tree 39 of 100\n",
      "building tree 40 of 100\n",
      "building tree 41 of 100\n",
      "building tree 42 of 100\n",
      "building tree 43 of 100\n",
      "building tree 44 of 100\n",
      "building tree 45 of 100\n",
      "building tree 46 of 100\n",
      "building tree 47 of 100\n",
      "building tree 48 of 100\n",
      "building tree 49 of 100\n",
      "building tree 50 of 100\n",
      "building tree 51 of 100\n",
      "building tree 52 of 100\n",
      "building tree 53 of 100\n",
      "building tree 54 of 100\n",
      "building tree 55 of 100\n",
      "building tree 56 of 100\n",
      "building tree 57 of 100\n",
      "building tree 58 of 100\n",
      "building tree 59 of 100\n",
      "building tree 60 of 100\n",
      "building tree 61 of 100\n",
      "building tree 62 of 100\n",
      "building tree 63 of 100\n",
      "building tree 64 of 100\n",
      "building tree 65 of 100\n",
      "building tree 66 of 100\n",
      "building tree 67 of 100\n",
      "building tree 68 of 100\n",
      "building tree 69 of 100\n",
      "building tree 70 of 100\n",
      "building tree 71 of 100\n",
      "building tree 72 of 100\n",
      "building tree 73 of 100\n",
      "building tree 74 of 100\n",
      "building tree 75 of 100\n",
      "building tree 76 of 100\n",
      "building tree 77 of 100\n",
      "building tree 78 of 100\n",
      "building tree 79 of 100\n",
      "building tree 80 of 100\n",
      "building tree 81 of 100\n",
      "building tree 82 of 100\n",
      "building tree 83 of 100\n",
      "building tree 84 of 100\n",
      "building tree 85 of 100\n",
      "building tree 86 of 100\n",
      "building tree 87 of 100\n",
      "building tree 88 of 100\n",
      "building tree 89 of 100\n",
      "building tree 90 of 100\n",
      "building tree 91 of 100\n",
      "building tree 92 of 100\n",
      "building tree 93 of 100\n",
      "building tree 94 of 100\n",
      "building tree 95 of 100\n",
      "building tree 96 of 100\n",
      "building tree 97 of 100\n",
      "building tree 98 of 100\n",
      "building tree 99 of 100\n",
      "building tree 100 of 100\n"
     ]
    },
    {
     "name": "stderr",
     "output_type": "stream",
     "text": [
      "[Parallel(n_jobs=4)]: Done 100 out of 100 | elapsed: 23.3min finished\n",
      "[Parallel(n_jobs=4)]: Using backend ThreadingBackend with 4 concurrent workers.\n",
      "[Parallel(n_jobs=4)]: Done  24 tasks      | elapsed:   12.0s\n",
      "[Parallel(n_jobs=4)]: Done 100 out of 100 | elapsed:   51.3s finished\n",
      "[Parallel(n_jobs=4)]: Using backend ThreadingBackend with 4 concurrent workers.\n",
      "[Parallel(n_jobs=4)]: Done  24 tasks      | elapsed:   12.1s\n",
      "[Parallel(n_jobs=4)]: Done 100 out of 100 | elapsed:   51.2s finished\n",
      "[Parallel(n_jobs=4)]: Using backend ThreadingBackend with 4 concurrent workers.\n",
      "[Parallel(n_jobs=4)]: Done  24 tasks      | elapsed:   12.0s\n",
      "[Parallel(n_jobs=4)]: Done 100 out of 100 | elapsed:   51.1s finished\n",
      "[Parallel(n_jobs=4)]: Using backend ThreadingBackend with 4 concurrent workers.\n",
      "[Parallel(n_jobs=4)]: Done  24 tasks      | elapsed:   12.1s\n",
      "[Parallel(n_jobs=4)]: Done 100 out of 100 | elapsed:   51.1s finished\n",
      "[Parallel(n_jobs=4)]: Using backend ThreadingBackend with 4 concurrent workers.\n",
      "[Parallel(n_jobs=4)]: Done  24 tasks      | elapsed:   12.1s\n",
      "[Parallel(n_jobs=4)]: Done 100 out of 100 | elapsed:   50.9s finished\n"
     ]
    },
    {
     "name": "stdout",
     "output_type": "stream",
     "text": [
      "Training accuracy: 0.7249\n"
     ]
    },
    {
     "name": "stderr",
     "output_type": "stream",
     "text": [
      "[Parallel(n_jobs=4)]: Using backend ThreadingBackend with 4 concurrent workers.\n",
      "[Parallel(n_jobs=4)]: Done  24 tasks      | elapsed:   12.1s\n",
      "[Parallel(n_jobs=4)]: Done 100 out of 100 | elapsed:   51.2s finished\n"
     ]
    },
    {
     "name": "stdout",
     "output_type": "stream",
     "text": [
      "Test accuracy    : 0.7099\n",
      "Training AUC Score: 0.8050\n",
      "Testing AUC Score: 0.7856\n",
      "Classification Report - Training\n",
      "              precision    recall  f1-score   support\n",
      "\n",
      "           0       0.72      0.73      0.73   1830920\n",
      "           1       0.73      0.72      0.72   1857789\n",
      "\n",
      "    accuracy                           0.72   3688709\n",
      "   macro avg       0.73      0.72      0.72   3688709\n",
      "weighted avg       0.73      0.72      0.72   3688709\n",
      "\n",
      "Classification Report - Testing\n",
      "              precision    recall  f1-score   support\n",
      "\n",
      "Not Listened       0.70      0.72      0.71   1831842\n",
      "    Listened       0.72      0.70      0.71   1856867\n",
      "\n",
      "    accuracy                           0.71   3688709\n",
      "   macro avg       0.71      0.71      0.71   3688709\n",
      "weighted avg       0.71      0.71      0.71   3688709\n",
      "\n"
     ]
    },
    {
     "name": "stderr",
     "output_type": "stream",
     "text": [
      "[Parallel(n_jobs=4)]: Using backend ThreadingBackend with 4 concurrent workers.\n",
      "[Parallel(n_jobs=4)]: Done  24 tasks      | elapsed:   11.8s\n",
      "[Parallel(n_jobs=4)]: Done 100 out of 100 | elapsed:   50.5s finished\n"
     ]
    },
    {
     "data": {
      "image/png": "[encoded data removed]",
      "text/plain": [
       "<Figure size 432x288 with 2 Axes>"
      ]
     },
     "metadata": {},
     "output_type": "display_data"
    },
    {
     "data": {
      "image/png": "[encoded data removed]",
      "text/plain": [
       "<Figure size 432x288 with 1 Axes>"
      ]
     },
     "metadata": {},
     "output_type": "display_data"
    }
   ],
   "source": [
    "# Base Line Evaluation\n",
    "rf = RandomForestClassifier(max_depth = 15, random_state = 42, n_jobs = 4, verbose = 3)\n",
    "\n",
    "rf.fit(X_train_norm,y_train)\n",
    "\n",
    "#Predicting for testing and trainig data sets\n",
    "y_test_proba = rf.predict_proba(X_test_norm)[:,1]\n",
    "y_train_proba = rf.predict_proba(X_train_norm)[:,1]\n",
    "\n",
    "y_pred_test = rf.predict(X_test_norm)\n",
    "y_pred_train = rf.predict(X_train_norm)\n",
    "\n",
    "#Accuracy Score\n",
    "print(\"Training accuracy: %0.4f\" %rf.score(X_train_norm, y_train))\n",
    "print(\"Test accuracy    : %0.4f\" %rf.score(X_test_norm, y_test))\n",
    "#print(\"Test log loss    : %0.4f\" %log_loss(y_train, lr.predict_proba(X_train)))\n",
    "#AUC Score\n",
    "auc_train = roc_auc_score(y_train,y_train_proba)\n",
    "auc_test = roc_auc_score(y_test,y_test_proba)\n",
    "\n",
    "print('Training AUC Score: %0.4f' %auc_train)  \n",
    "print('Testing AUC Score: %0.4f' %auc_test)          \n",
    "\n",
    "print('Classification Report - Training')\n",
    "print(classification_report(y_train,y_pred_train))\n",
    "\n",
    "print('Classification Report - Testing')\n",
    "print(classification_report(y_test,y_pred_test,target_names = class_names))\n",
    "\n",
    "plot_confusion_matrix(rf, X_test_norm, y_test,  cmap=plt.cm.Blues, normalize = 'true') #display_labels=class_names,\n",
    "plt.show()\n",
    "auc_curve(y_test,y_test_proba,auc_test)\n"
   ]
  },
  {
   "cell_type": "code",
   "execution_count": 14,
   "metadata": {
    "scrolled": false
   },
   "outputs": [
    {
     "name": "stdout",
     "output_type": "stream",
     "text": [
      "Top 20 Feature Importance\n"
     ]
    },
    {
     "data": {
      "image/png": "[encoded data removed]",
      "text/plain": [
       "<Figure size 504x504 with 1 Axes>"
      ]
     },
     "metadata": {},
     "output_type": "display_data"
    }
   ],
   "source": [
    "figsize(7,7)\n",
    "import seaborn as sns\n",
    "coefficients = rf.feature_importances_\n",
    "coef = pd.DataFrame(coefficients, index = X_train.columns, columns = ['Feature Importance'])\n",
    "coef.sort_values('Feature Importance', ascending = False, inplace = True)\n",
    "print(\"Top 20 Feature Importance\")\n",
    "_ = sns.barplot(data = coef[:20], x = 'Feature Importance', y = coef[:20].index, orient = 'h')\n",
    "#_ = plt.barh(coef[:20].index, coef['Feature Importance'][:20])"
   ]
  },
  {
   "cell_type": "code",
   "execution_count": null,
   "metadata": {},
   "outputs": [],
   "source": []
  }
 ],
 "metadata": {
  "kernelspec": {
   "display_name": "Python 3",
   "language": "python",
   "name": "python3"
  },
  "language_info": {
   "codemirror_mode": {
    "name": "ipython",
    "version": 3
   },
   "file_extension": ".py",
   "mimetype": "text/x-python",
   "name": "python",
   "nbconvert_exporter": "python",
   "pygments_lexer": "ipython3",
   "version": "3.7.3"
  }
 },
 "nbformat": 4,
 "nbformat_minor": 2
}

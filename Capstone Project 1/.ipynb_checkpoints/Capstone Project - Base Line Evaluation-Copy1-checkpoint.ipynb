{
 "cells": [
  {
   "cell_type": "code",
   "execution_count": 63,
   "metadata": {},
   "outputs": [],
   "source": [
    "import pandas as pd\n",
    "import numpy as np\n",
    "import matplotlib.pyplot as plt\n",
    "import re\n",
    "import seaborn as sns\n",
    "import matplotlib as mpl\n",
    "import os\n",
    "\n",
    "from IPython.core.pylabtools import figsize\n",
    "from scipy import stats"
   ]
  },
  {
   "cell_type": "code",
   "execution_count": 64,
   "metadata": {},
   "outputs": [],
   "source": [
    "#Getting Working Directory\n",
    "os.getcwd()\n",
    "\n",
    "#Setting style and font size for graphs\n",
    "sns.set_style(\"whitegrid\")\n",
    "mpl.rcParams['font.size'] = 13"
   ]
  },
  {
   "cell_type": "code",
   "execution_count": 65,
   "metadata": {},
   "outputs": [
    {
     "data": {
      "text/plain": [
       "(96551, 35)"
      ]
     },
     "execution_count": 65,
     "metadata": {},
     "output_type": "execute_result"
    }
   ],
   "source": [
    "#load original data into dataframe\n",
    "file ='df_clean2.csv'\n",
    "df_clean2 = pd.read_csv(file)\n",
    "df_clean2.shape"
   ]
  },
  {
   "cell_type": "code",
   "execution_count": 66,
   "metadata": {},
   "outputs": [
    {
     "name": "stdout",
     "output_type": "stream",
     "text": [
      "<class 'pandas.core.frame.DataFrame'>\n",
      "RangeIndex: 96551 entries, 0 to 96550\n",
      "Data columns (total 35 columns):\n",
      "race                        96551 non-null object\n",
      "gender                      96551 non-null object\n",
      "age                         96551 non-null object\n",
      "admission_type_id           96551 non-null int64\n",
      "discharge_disposition_id    96551 non-null int64\n",
      "admission_source_id         96551 non-null int64\n",
      "time_in_hospital            96551 non-null int64\n",
      "num_lab_procedures          96551 non-null int64\n",
      "num_procedures              96551 non-null int64\n",
      "num_medications             96551 non-null int64\n",
      "number_outpatient           96551 non-null int64\n",
      "number_emergency            96551 non-null int64\n",
      "number_inpatient            96551 non-null int64\n",
      "diag_1                      96551 non-null object\n",
      "diag_2                      96551 non-null object\n",
      "diag_3                      96551 non-null object\n",
      "number_diagnoses            96551 non-null int64\n",
      "max_glu_serum               96551 non-null object\n",
      "A1Cresult                   96551 non-null object\n",
      "metformin                   96551 non-null object\n",
      "repaglinide                 96551 non-null object\n",
      "nateglinide                 96551 non-null object\n",
      "chlorpropamide              96551 non-null object\n",
      "glimepiride                 96551 non-null object\n",
      "glipizide                   96551 non-null object\n",
      "glyburide                   96551 non-null object\n",
      "pioglitazone                96551 non-null object\n",
      "rosiglitazone               96551 non-null object\n",
      "acarbose                    96551 non-null object\n",
      "insulin                     96551 non-null object\n",
      "glyburide-metformin         96551 non-null object\n",
      "change                      96551 non-null object\n",
      "diabetesMed                 96551 non-null object\n",
      "readmitted                  96551 non-null object\n",
      "visit_num                   96551 non-null object\n",
      "dtypes: int64(11), object(24)\n",
      "memory usage: 25.8+ MB\n"
     ]
    }
   ],
   "source": [
    "df_clean2.info()"
   ]
  },
  {
   "cell_type": "code",
   "execution_count": 67,
   "metadata": {},
   "outputs": [],
   "source": [
    "# Converting IDs to Object class\n",
    "ids = ['admission_type_id', 'discharge_disposition_id', 'admission_source_id' ]\n",
    "\n",
    "df_clean2[ids] = df_clean2[ids].astype('object')"
   ]
  },
  {
   "cell_type": "code",
   "execution_count": 68,
   "metadata": {},
   "outputs": [],
   "source": [
    "#Encoding Age. To retain the ordinal nature of age \n",
    "age_dict = {'[70-80)': 75,'[80-90)': 85, '[90-100)':100, '[60-70)': 65, '[50-60)': 55, '[40-50)': 45, '[30-40)':35,\n",
    "           '[20-30)': 25, '[10-20)': 15, '[0-10)': 5}\n",
    "df_clean2.age = df_clean2.age.map(age_dict)\n",
    "\n",
    "#Encoding Gender\n",
    "gender_dict = {'Female': 0, 'Male': 1}\n",
    "df_clean2.gender = df_clean2.gender.map(gender_dict)\n",
    "\n",
    "#Visit_num Encoding as Number. '>3' was considered as 4 for simplification purposes\n",
    "visit_num_dict = {'1.0': 1, '2.0': 2, '3.0': 3, '>3': 4}\n",
    "df_clean2.visit_num = df_clean2.visit_num.map(visit_num_dict)\n",
    "\n",
    "#Target Variable Encoding\n",
    "readmitted_dict = {'NO': 0, '>30': 0, '<30': 1}\n",
    "df_clean2.readmitted = df_clean2.readmitted.map(readmitted_dict)\n",
    "\n",
    "\n",
    "#Encoding Change\n",
    "change_dict = {'No': 0, 'Ch': 1}\n",
    "df_clean2.change = df_clean2.change.map(change_dict)\n",
    "\n",
    "#Encoding diabetesMed\n",
    "diab_dict = {'No': 0, 'Yes': 1}\n",
    "df_clean2.diabetesMed = df_clean2.diabetesMed.map(diab_dict)\n"
   ]
  },
  {
   "cell_type": "code",
   "execution_count": 69,
   "metadata": {},
   "outputs": [],
   "source": [
    "# Separating Numeric and Non_numeric Data\n",
    "numeric = df_clean2.select_dtypes(exclude = 'object')\n",
    "categorical = df_clean2.select_dtypes(include = 'object')\n",
    "\n",
    "#Creating Dummy variables for Categorical Data using One Hot Encoding\n",
    "dummies = pd.get_dummies(categorical,drop_first = True)"
   ]
  },
  {
   "cell_type": "code",
   "execution_count": 70,
   "metadata": {},
   "outputs": [],
   "source": [
    "#Creating our Feature and Target Data Set: X, y respectively\n",
    "\n",
    "X = pd.concat([numeric,dummies],axis=1).drop('readmitted', axis = 1)\n",
    "y = df_clean2.readmitted\n",
    "\n",
    "#Splitting Data into Training and Test Data Set\n",
    "from sklearn.model_selection import train_test_split\n",
    "\n",
    "X_train,X_test, y_train, y_test = train_test_split(X, y, test_size = 0.3, random_state = 42)"
   ]
  },
  {
   "cell_type": "markdown",
   "metadata": {},
   "source": [
    "There are two types of error, False Positive and False Negative. Predicting that a patient will not get readmitted but actually patient gets readmitted. This is false negative. Predicting that a patient will get readmitted but in actually he will not os called false positive. For an hospital, a false negative error is not desirable. They can still live with a false positive error. So in below models we will look at reducing false negative error. \n",
    "\n",
    "High Recall for class '<30', Better the model\n"
   ]
  },
  {
   "cell_type": "markdown",
   "metadata": {},
   "source": [
    "Ensuring that we have the same fractions of all class in both train and test data set. Let's Calculate the fraction"
   ]
  },
  {
   "cell_type": "code",
   "execution_count": 71,
   "metadata": {},
   "outputs": [
    {
     "data": {
      "text/plain": [
       "(67585, 93)"
      ]
     },
     "execution_count": 71,
     "metadata": {},
     "output_type": "execute_result"
    }
   ],
   "source": [
    "X_train.shape"
   ]
  },
  {
   "cell_type": "code",
   "execution_count": 72,
   "metadata": {},
   "outputs": [
    {
     "data": {
      "text/plain": [
       "0    0.892529\n",
       "1    0.107471\n",
       "Name: readmitted, dtype: float64"
      ]
     },
     "execution_count": 72,
     "metadata": {},
     "output_type": "execute_result"
    }
   ],
   "source": [
    "y_test.value_counts(normalize = True)"
   ]
  },
  {
   "cell_type": "markdown",
   "metadata": {},
   "source": [
    "### Logistic Regression"
   ]
  },
  {
   "cell_type": "markdown",
   "metadata": {},
   "source": [
    "#### One Versus Rest Non-Balanced"
   ]
  },
  {
   "cell_type": "code",
   "execution_count": 73,
   "metadata": {},
   "outputs": [],
   "source": [
    "# Base Line Evaluation\n",
    "from sklearn.linear_model import LogisticRegression\n",
    "from sklearn.metrics import classification_report, balanced_accuracy_score\n",
    "from sklearn.metrics import precision_score, recall_score, roc_auc_score\n",
    "from sklearn.metrics import plot_confusion_matrix, precision_recall_fscore_support\n",
    "class_names = ['NO', 'Yes']#, '<30']"
   ]
  },
  {
   "cell_type": "code",
   "execution_count": 74,
   "metadata": {},
   "outputs": [
    {
     "name": "stdout",
     "output_type": "stream",
     "text": [
      "OVR training accuracy: 0.8926536953466006\n",
      "OVR test accuracy    : 0.8924601256645722\n",
      "OVR training Balanced accuracy: -3.31499038652705e-05\n",
      "OVR test Balanced accuracy    : -7.736046106832095e-05\n",
      "Classification Report - Training\n",
      "              precision    recall  f1-score   support\n",
      "\n",
      "          NO       0.89      1.00      0.94     60332\n",
      "         Yes       0.00      0.00      0.00      7253\n",
      "\n",
      "    accuracy                           0.89     67585\n",
      "   macro avg       0.45      0.50      0.47     67585\n",
      "weighted avg       0.80      0.89      0.84     67585\n",
      "\n",
      "Classification Report - Testing\n",
      "              precision    recall  f1-score   support\n",
      "\n",
      "          NO       0.89      1.00      0.94     25853\n",
      "         Yes       0.00      0.00      0.00      3113\n",
      "\n",
      "    accuracy                           0.89     28966\n",
      "   macro avg       0.45      0.50      0.47     28966\n",
      "weighted avg       0.80      0.89      0.84     28966\n",
      "\n"
     ]
    },
    {
     "data": {
      "text/plain": [
       "<sklearn.metrics._plot.confusion_matrix.ConfusionMatrixDisplay at 0x1c6805b2208>"
      ]
     },
     "execution_count": 74,
     "metadata": {},
     "output_type": "execute_result"
    },
    {
     "data": {
      "image/png": "[encoded data removed]",
      "text/plain": [
       "<Figure size 432x288 with 2 Axes>"
      ]
     },
     "metadata": {},
     "output_type": "display_data"
    }
   ],
   "source": [
    "# Base Line Evaluation\n",
    "from sklearn.linear_model import LogisticRegression\n",
    "from sklearn.metrics import classification_report, balanced_accuracy_score\n",
    "from sklearn.metrics import precision_score, recall_score, roc_auc_score\n",
    "from sklearn.metrics import plot_confusion_matrix, precision_recall_fscore_support\n",
    "\n",
    "\n",
    "#One Vs All\n",
    "clf_ovr = LogisticRegression(multi_class= 'ovr',max_iter = 4000)\n",
    "\n",
    "ovr = clf_ovr.fit(X_train,y_train)\n",
    "\n",
    "#Predicting for testing and trainig data sets\n",
    "y_pred_test = clf_ovr.predict(X_test)\n",
    "y_pred_train = clf_ovr.predict(X_train)\n",
    "\n",
    "#Accuracy Score\n",
    "print(\"OVR training accuracy:\", clf_ovr.score(X_train, y_train))\n",
    "print(\"OVR test accuracy    :\", clf_ovr.score(X_test, y_test))\n",
    "\n",
    "#Balanced Accuracy Score\n",
    "print(\"OVR training Balanced accuracy:\", balanced_accuracy_score(y_train, y_pred_train, adjusted=True))\n",
    "print(\"OVR test Balanced accuracy    :\", balanced_accuracy_score(y_test, y_pred_test, adjusted = True))\n",
    "                                                                            \n",
    "print('Classification Report - Training')\n",
    "print(classification_report(y_train,y_pred_train,target_names = class_names))\n",
    "\n",
    "print('Classification Report - Testing')\n",
    "print(classification_report(y_test,y_pred_test,target_names = class_names))\n",
    "\n",
    "plot_confusion_matrix(clf_ovr, X_test, y_test, display_labels=class_names, cmap=plt.cm.Blues, normalize = 'true')\n"
   ]
  },
  {
   "cell_type": "markdown",
   "metadata": {},
   "source": [
    "#### One Versus Rest - Balanced"
   ]
  },
  {
   "cell_type": "code",
   "execution_count": 75,
   "metadata": {},
   "outputs": [
    {
     "name": "stdout",
     "output_type": "stream",
     "text": [
      "OVR training accuracy: 0.6396981578752682\n",
      "OVR test accuracy    : 0.6401643305944901\n",
      "OVR training Balanced accuracy: 0.21877946121721292\n",
      "OVR test Balanced accuracy    : 0.2122809073400478\n",
      "Classification Report - Training\n",
      "              precision    recall  f1-score   support\n",
      "\n",
      "          NO       0.93      0.65      0.76     60332\n",
      "         Yes       0.16      0.57      0.25      7253\n",
      "\n",
      "    accuracy                           0.64     67585\n",
      "   macro avg       0.54      0.61      0.51     67585\n",
      "weighted avg       0.84      0.64      0.71     67585\n",
      "\n",
      "Classification Report - Testing\n",
      "              precision    recall  f1-score   support\n",
      "\n",
      "          NO       0.93      0.65      0.76     25853\n",
      "         Yes       0.16      0.56      0.25      3113\n",
      "\n",
      "    accuracy                           0.64     28966\n",
      "   macro avg       0.54      0.61      0.51     28966\n",
      "weighted avg       0.84      0.64      0.71     28966\n",
      "\n"
     ]
    },
    {
     "data": {
      "text/plain": [
       "<sklearn.metrics._plot.confusion_matrix.ConfusionMatrixDisplay at 0x1c6806b6048>"
      ]
     },
     "execution_count": 75,
     "metadata": {},
     "output_type": "execute_result"
    },
    {
     "data": {
      "image/png": "[encoded data removed]",
      "text/plain": [
       "<Figure size 432x288 with 2 Axes>"
      ]
     },
     "metadata": {},
     "output_type": "display_data"
    }
   ],
   "source": [
    "#Using Balanced Class Weight\n",
    "clf_ovr = LogisticRegression(max_iter = 4000, class_weight = 'balanced')\n",
    "\n",
    "ovr = clf_ovr.fit(X_train,y_train)\n",
    "\n",
    "#Predicting\n",
    "y_pred_test = clf_ovr.predict(X_test)\n",
    "y_pred_train = clf_ovr.predict(X_train)\n",
    "\n",
    "print(\"OVR training accuracy:\", clf_ovr.score(X_train, y_train))\n",
    "print(\"OVR test accuracy    :\", clf_ovr.score(X_test, y_test))\n",
    "print(\"OVR training Balanced accuracy:\", balanced_accuracy_score(y_train, y_pred_train, adjusted=True))\n",
    "print(\"OVR test Balanced accuracy    :\", balanced_accuracy_score(y_test, y_pred_test, adjusted = True))\n",
    "\n",
    "print('Classification Report - Training')\n",
    "print(classification_report(y_train,y_pred_train,target_names = class_names))\n",
    "\n",
    "print('Classification Report - Testing')\n",
    "print(classification_report(y_test,y_pred_test,target_names = class_names))\n",
    "\n",
    "plot_confusion_matrix(clf_ovr, X_test, y_test, display_labels=class_names, cmap=plt.cm.Blues, normalize = 'true')\n"
   ]
  },
  {
   "cell_type": "markdown",
   "metadata": {},
   "source": [
    "#### Multi-nomial - Balanced "
   ]
  },
  {
   "cell_type": "code",
   "execution_count": 11,
   "metadata": {},
   "outputs": [
    {
     "name": "stdout",
     "output_type": "stream",
     "text": [
      "OVR training Balanced accuracy: 0.1603828880876064\n",
      "OVR test Balanced accuracy    : 0.1594026348800095\n",
      "Classification Report - Training\n",
      "              precision    recall  f1-score   support\n",
      "\n",
      "          NO       0.65      0.60      0.62     36648\n",
      "         >30       0.45      0.33      0.38     23684\n",
      "         <30       0.17      0.39      0.24      7253\n",
      "\n",
      "    accuracy                           0.48     67585\n",
      "   macro avg       0.42      0.44      0.41     67585\n",
      "weighted avg       0.53      0.48      0.50     67585\n",
      "\n",
      "Classification Report - Testing\n",
      "              precision    recall  f1-score   support\n",
      "\n",
      "          NO       0.65      0.60      0.63     15675\n",
      "         >30       0.45      0.33      0.38     10178\n",
      "         <30       0.17      0.39      0.24      3113\n",
      "\n",
      "    accuracy                           0.48     28966\n",
      "   macro avg       0.42      0.44      0.41     28966\n",
      "weighted avg       0.53      0.48      0.50     28966\n",
      "\n"
     ]
    },
    {
     "data": {
      "text/plain": [
       "<sklearn.metrics._plot.confusion_matrix.ConfusionMatrixDisplay at 0x1a24e1c6fd0>"
      ]
     },
     "execution_count": 11,
     "metadata": {},
     "output_type": "execute_result"
    },
    {
     "data": {
      "image/png": "[encoded data removed]",
      "text/plain": [
       "<Figure size 432x288 with 2 Axes>"
      ]
     },
     "metadata": {},
     "output_type": "display_data"
    }
   ],
   "source": [
    "#Multi-Class Logistic Regression\n",
    "clf_mn = LogisticRegression(multi_class= 'multinomial', solver= 'lbfgs', max_iter = 5000, class_weight = 'balanced')\n",
    "\n",
    "mn = clf_mn.fit(X_train,y_train)\n",
    "\n",
    "#Predicting\n",
    "y_pred_test = clf_mn.predict(X_test)\n",
    "y_pred_train = clf_mn.predict(X_train)\n",
    "\n",
    "print(\"Multinomial training Balanced accuracy:\", balanced_accuracy_score(y_train, y_pred_train, adjusted=True))\n",
    "print(\"Multinomial test Balanced accuracy    :\", balanced_accuracy_score(y_test, y_pred_test, adjusted = True))\n",
    "                                                                       \n",
    "print('Classification Report - Training')\n",
    "print(classification_report(y_train,y_pred_train,target_names = class_names))\n",
    "\n",
    "print('Classification Report - Testing')\n",
    "print(classification_report(y_test,y_pred_test,target_names = class_names))\n",
    "\n",
    "plot_confusion_matrix(clf_mn, X_test, y_test, display_labels=class_names, cmap=plt.cm.Blues, normalize = 'true')\n"
   ]
  },
  {
   "cell_type": "markdown",
   "metadata": {},
   "source": [
    "#### Under and Over Sampling"
   ]
  },
  {
   "cell_type": "code",
   "execution_count": 82,
   "metadata": {},
   "outputs": [],
   "source": [
    "from imblearn.under_sampling import RandomUnderSampler\n",
    "from imblearn.over_sampling import RandomOverSampler\n",
    "rus = RandomUnderSampler(random_state = 42)\n",
    "\n",
    "ros = RandomOverSampler(random_state = 42)\n",
    "\n",
    "X_train_us, y_train_us = rus.fit_resample(X_train,y_train)\n",
    "X_train_os, y_train_os = ros.fit_resample(X_train,y_train)"
   ]
  },
  {
   "cell_type": "code",
   "execution_count": 77,
   "metadata": {},
   "outputs": [
    {
     "data": {
      "text/plain": [
       "1    7253\n",
       "0    7253\n",
       "Name: readmitted, dtype: int64"
      ]
     },
     "execution_count": 77,
     "metadata": {},
     "output_type": "execute_result"
    }
   ],
   "source": [
    "y_train_us.value_counts()"
   ]
  },
  {
   "cell_type": "code",
   "execution_count": 78,
   "metadata": {},
   "outputs": [
    {
     "data": {
      "text/plain": [
       "(14506, 93)"
      ]
     },
     "execution_count": 78,
     "metadata": {},
     "output_type": "execute_result"
    }
   ],
   "source": [
    "X_train_us.shape"
   ]
  },
  {
   "cell_type": "markdown",
   "metadata": {},
   "source": [
    "#### Multi-Nomial Under Sample"
   ]
  },
  {
   "cell_type": "code",
   "execution_count": 85,
   "metadata": {},
   "outputs": [
    {
     "name": "stdout",
     "output_type": "stream",
     "text": [
      "Multinomial training accuracy: 0.610368123535089\n",
      "Multinomial test accuracy    : 0.6380584133121591\n",
      "Multinomial training Balanced accuracy: 0.2207362470701777\n",
      "Multinomial test Balanced accuracy    : 0.20624822029625145\n",
      "Classification Report - Training\n",
      "              precision    recall  f1-score   support\n",
      "\n",
      "          NO       0.60      0.65      0.63      7253\n",
      "         Yes       0.62      0.57      0.59      7253\n",
      "\n",
      "    accuracy                           0.61     14506\n",
      "   macro avg       0.61      0.61      0.61     14506\n",
      "weighted avg       0.61      0.61      0.61     14506\n",
      "\n",
      "Classification Report - Testing\n",
      "              precision    recall  f1-score   support\n",
      "\n",
      "          NO       0.92      0.65      0.76     25853\n",
      "         Yes       0.16      0.56      0.25      3113\n",
      "\n",
      "    accuracy                           0.64     28966\n",
      "   macro avg       0.54      0.60      0.51     28966\n",
      "weighted avg       0.84      0.64      0.71     28966\n",
      "\n"
     ]
    },
    {
     "data": {
      "text/plain": [
       "<sklearn.metrics._plot.confusion_matrix.ConfusionMatrixDisplay at 0x1c680a83048>"
      ]
     },
     "execution_count": 85,
     "metadata": {},
     "output_type": "execute_result"
    },
    {
     "data": {
      "image/png": "[encoded data removed]",
      "text/plain": [
       "<Figure size 432x288 with 2 Axes>"
      ]
     },
     "metadata": {},
     "output_type": "display_data"
    }
   ],
   "source": [
    "from sklearn.metrics import accuracy_score\n",
    "\n",
    "clf_mn_us = LogisticRegression(max_iter = 5000)#, class_weight = 'balanced')multi_class= 'multinomial', solver= 'lbfgs',\n",
    "\n",
    "mn = clf_mn_us.fit(X_train_us,y_train_us)\n",
    "\n",
    "#Predicting\n",
    "y_pred_test_us = clf_mn_us.predict(X_test)\n",
    "y_pred_train_us = clf_mn_us.predict(X_train_us)\n",
    "\n",
    "print(\"Multinomial training accuracy:\", accuracy_score(y_train_us, y_pred_train_us))\n",
    "print(\"Multinomial test accuracy    :\", accuracy_score(y_test, y_pred_test_us))\n",
    "\n",
    "print(\"Multinomial training Balanced accuracy:\", balanced_accuracy_score(y_train_us, y_pred_train_us, adjusted=True))\n",
    "print(\"Multinomial test Balanced accuracy    :\", balanced_accuracy_score(y_test, y_pred_test_us, adjusted = True))\n",
    "                                                                       \n",
    "print('Classification Report - Training')\n",
    "print(classification_report(y_train_us,y_pred_train_us,target_names = class_names))\n",
    "\n",
    "print('Classification Report - Testing')\n",
    "print(classification_report(y_test,y_pred_test_us,target_names = class_names))\n",
    "\n",
    "plot_confusion_matrix(clf_mn_us, X_test, y_test, display_labels=class_names, cmap=plt.cm.Blues, normalize = 'true')\n"
   ]
  },
  {
   "cell_type": "markdown",
   "metadata": {},
   "source": [
    "#### Multi Nomial OverSampling\n"
   ]
  },
  {
   "cell_type": "code",
   "execution_count": 84,
   "metadata": {},
   "outputs": [
    {
     "name": "stdout",
     "output_type": "stream",
     "text": [
      "Multinomial training accuracy: 0.6110356029967513\n",
      "Multinomial test accuracy    : 0.6380584133121591\n",
      "Multinomial training Balanced accuracy: 0.2220712059935026\n",
      "Multinomial test Balanced accuracy    : 0.20795345559276557\n",
      "Classification Report - Training\n",
      "              precision    recall  f1-score   support\n",
      "\n",
      "          NO       0.60      0.65      0.63     60332\n",
      "         Yes       0.62      0.57      0.60     60332\n",
      "\n",
      "    accuracy                           0.61    120664\n",
      "   macro avg       0.61      0.61      0.61    120664\n",
      "weighted avg       0.61      0.61      0.61    120664\n",
      "\n",
      "Classification Report - Testing\n",
      "              precision    recall  f1-score   support\n",
      "\n",
      "          NO       0.92      0.65      0.76     25853\n",
      "         Yes       0.16      0.56      0.25      3113\n",
      "\n",
      "    accuracy                           0.64     28966\n",
      "   macro avg       0.54      0.60      0.51     28966\n",
      "weighted avg       0.84      0.64      0.71     28966\n",
      "\n"
     ]
    },
    {
     "data": {
      "text/plain": [
       "<sklearn.metrics._plot.confusion_matrix.ConfusionMatrixDisplay at 0x1c680b17898>"
      ]
     },
     "execution_count": 84,
     "metadata": {},
     "output_type": "execute_result"
    },
    {
     "data": {
      "image/png": "[encoded data removed]",
      "text/plain": [
       "<Figure size 432x288 with 2 Axes>"
      ]
     },
     "metadata": {},
     "output_type": "display_data"
    }
   ],
   "source": [
    "clf_mn_os = LogisticRegression( max_iter = 7000)#, class_weight = 'balanced')multi_class= 'multinomial', solver= 'lbfgs',\n",
    "\n",
    "mn = clf_mn_os.fit(X_train_os,y_train_os)\n",
    "\n",
    "#Predicting\n",
    "y_pred_test_os = clf_mn_os.predict(X_test)\n",
    "y_pred_train_os = clf_mn_os.predict(X_train_os)\n",
    "\n",
    "print(\"Multinomial training accuracy:\", accuracy_score(y_train_os, y_pred_train_os))\n",
    "print(\"Multinomial test accuracy    :\", accuracy_score(y_test, y_pred_test_us))\n",
    "\n",
    "print(\"Multinomial training Balanced accuracy:\", balanced_accuracy_score(y_train_os, y_pred_train_os, adjusted=True))\n",
    "print(\"Multinomial test Balanced accuracy    :\", balanced_accuracy_score(y_test, y_pred_test_os, adjusted = True))\n",
    "                                                                       \n",
    "print('Classification Report - Training')\n",
    "print(classification_report(y_train_os,y_pred_train_os,target_names = class_names))\n",
    "\n",
    "print('Classification Report - Testing')\n",
    "print(classification_report(y_test,y_pred_test_os,target_names = class_names))\n",
    "\n",
    "plot_confusion_matrix(clf_mn_os, X_test, y_test, display_labels=class_names, cmap=plt.cm.Blues)\n"
   ]
  },
  {
   "cell_type": "markdown",
   "metadata": {},
   "source": [
    "### Support Vector Machines"
   ]
  },
  {
   "cell_type": "code",
   "execution_count": 20,
   "metadata": {},
   "outputs": [
    {
     "name": "stdout",
     "output_type": "stream",
     "text": [
      "OVR training accuracy: 0.5637493526670119\n",
      "OVR test accuracy    : 0.5637989366843886\n",
      "OVR training Balanced accuracy: 0.11592046103965846\n",
      "OVR test Balanced accuracy    : 0.11807243840230118\n",
      "Classification Report - Training\n",
      "              precision    recall  f1-score   support\n",
      "\n",
      "          NO       0.61      0.79      0.69     36648\n",
      "         >30       0.49      0.36      0.41     23684\n",
      "         <30       0.21      0.08      0.12      7253\n",
      "\n",
      "    accuracy                           0.56     67585\n",
      "   macro avg       0.44      0.41      0.41     67585\n",
      "weighted avg       0.53      0.56      0.53     67585\n",
      "\n",
      "Classification Report - Testing\n",
      "              precision    recall  f1-score   support\n",
      "\n",
      "          NO       0.61      0.79      0.69     15675\n",
      "         >30       0.49      0.36      0.41     10178\n",
      "         <30       0.22      0.08      0.12      3113\n",
      "\n",
      "    accuracy                           0.56     28966\n",
      "   macro avg       0.44      0.41      0.41     28966\n",
      "weighted avg       0.53      0.56      0.53     28966\n",
      "\n"
     ]
    },
    {
     "data": {
      "text/plain": [
       "<sklearn.metrics._plot.confusion_matrix.ConfusionMatrixDisplay at 0x1a24fd31a58>"
      ]
     },
     "execution_count": 20,
     "metadata": {},
     "output_type": "execute_result"
    },
    {
     "data": {
      "image/png": "[encoded data removed]",
      "text/plain": [
       "<Figure size 432x288 with 2 Axes>"
      ]
     },
     "metadata": {},
     "output_type": "display_data"
    }
   ],
   "source": [
    "from sklearn.svm import LinearSVC\n",
    "\n",
    "clf_svm = LinearSVC(dual = False, class_weight = 'balanced')\n",
    "\n",
    "clf_svm.fit(X_train,y_train)\n",
    "\n",
    "y_pred_test = clf_svm.predict(X_test)\n",
    "y_pred_train = clf_svm.predict(X_train)\n",
    "\n",
    "print(\"OVR training accuracy:\", clf_svm.score(X_train, y_train))\n",
    "print(\"OVR test accuracy    :\", clf_svm.score(X_test, y_test))\n",
    "\n",
    "print(\"OVR training Balanced accuracy:\", balanced_accuracy_score(y_train, y_pred_train, adjusted=True))\n",
    "print(\"OVR test Balanced accuracy    :\", balanced_accuracy_score(y_test, y_pred_test, adjusted = True))\n",
    "\n",
    "print('Classification Report - Training')\n",
    "print(classification_report(y_train,y_pred_train,target_names = class_names))\n",
    "\n",
    "print('Classification Report - Testing')\n",
    "print(classification_report(y_test,y_pred_test,target_names = class_names))\n",
    "\n",
    "plot_confusion_matrix(clf_svm, X_test, y_test, display_labels=class_names, cmap=plt.cm.Blues, normalize = 'true')"
   ]
  },
  {
   "cell_type": "markdown",
   "metadata": {},
   "source": [
    "### SVM Under Sample"
   ]
  },
  {
   "cell_type": "code",
   "execution_count": 39,
   "metadata": {},
   "outputs": [
    {
     "name": "stdout",
     "output_type": "stream",
     "text": [
      "SVM training Balanced accuracy: 0.11388391010616307\n",
      "SVM test Balanced accuracy    : 0.11807243840230118\n",
      "Classification Report - Training\n",
      "              precision    recall  f1-score   support\n",
      "\n",
      "          NO       0.41      0.79      0.54      7253\n",
      "         >30       0.40      0.35      0.37      7253\n",
      "         <30       0.50      0.08      0.14      7253\n",
      "\n",
      "    accuracy                           0.41     21759\n",
      "   macro avg       0.44      0.41      0.35     21759\n",
      "weighted avg       0.44      0.41      0.35     21759\n",
      "\n",
      "Classification Report - Testing\n",
      "              precision    recall  f1-score   support\n",
      "\n",
      "          NO       0.61      0.79      0.69     15675\n",
      "         >30       0.49      0.36      0.41     10178\n",
      "         <30       0.22      0.08      0.12      3113\n",
      "\n",
      "    accuracy                           0.56     28966\n",
      "   macro avg       0.44      0.41      0.41     28966\n",
      "weighted avg       0.53      0.56      0.53     28966\n",
      "\n"
     ]
    },
    {
     "data": {
      "text/plain": [
       "<sklearn.metrics._plot.confusion_matrix.ConfusionMatrixDisplay at 0x1a24ff47a58>"
      ]
     },
     "execution_count": 39,
     "metadata": {},
     "output_type": "execute_result"
    },
    {
     "data": {
      "image/png": "[encoded data removed]",
      "text/plain": [
       "<Figure size 432x288 with 2 Axes>"
      ]
     },
     "metadata": {},
     "output_type": "display_data"
    }
   ],
   "source": [
    "clf_svm_us = LinearSVC(dual = False, class_weight = 'balanced')\n",
    "\n",
    "clf_svm_us.fit(X_train,y_train)\n",
    "\n",
    "y_pred_test_us = clf_svm_us.predict(X_test)\n",
    "y_pred_train_us = clf_svm_us.predict(X_train_us)\n",
    "\n",
    "print(\"SVM training Balanced accuracy:\", balanced_accuracy_score(y_train_us, y_pred_train_us, adjusted=True))\n",
    "print(\"SVM test Balanced accuracy    :\", balanced_accuracy_score(y_test, y_pred_test_us, adjusted = True))\n",
    "\n",
    "print('Classification Report - Training')\n",
    "print(classification_report(y_train_us,y_pred_train_us,target_names = class_names))\n",
    "\n",
    "print('Classification Report - Testing')\n",
    "print(classification_report(y_test,y_pred_test_us,target_names = class_names))\n",
    "\n",
    "plot_confusion_matrix(clf_svm_us, X_test, y_test, display_labels=class_names, cmap=plt.cm.Blues, normalize = 'true')"
   ]
  },
  {
   "cell_type": "code",
   "execution_count": 17,
   "metadata": {},
   "outputs": [
    {
     "name": "stdout",
     "output_type": "stream",
     "text": [
      "SVM training Balanced accuracy: 0.1203476315215019\n",
      "SVM test Balanced accuracy    : 0.11807243840230118\n",
      "Classification Report - Training\n",
      "              precision    recall  f1-score   support\n",
      "\n",
      "          NO       0.40      0.79      0.53     36648\n",
      "         >30       0.41      0.33      0.37     36648\n",
      "         <30       0.56      0.12      0.19     36648\n",
      "\n",
      "    accuracy                           0.41    109944\n",
      "   macro avg       0.46      0.41      0.36    109944\n",
      "weighted avg       0.46      0.41      0.36    109944\n",
      "\n",
      "Classification Report - Testing\n",
      "              precision    recall  f1-score   support\n",
      "\n",
      "          NO       0.61      0.79      0.69     15675\n",
      "         >30       0.49      0.36      0.41     10178\n",
      "         <30       0.22      0.08      0.12      3113\n",
      "\n",
      "    accuracy                           0.56     28966\n",
      "   macro avg       0.44      0.41      0.41     28966\n",
      "weighted avg       0.53      0.56      0.53     28966\n",
      "\n"
     ]
    },
    {
     "data": {
      "text/plain": [
       "<sklearn.metrics._plot.confusion_matrix.ConfusionMatrixDisplay at 0x24094fcca20>"
      ]
     },
     "execution_count": 17,
     "metadata": {},
     "output_type": "execute_result"
    },
    {
     "data": {
      "image/png": "[encoded data removed]",
      "text/plain": [
       "<Figure size 432x288 with 2 Axes>"
      ]
     },
     "metadata": {},
     "output_type": "display_data"
    }
   ],
   "source": [
    "from sklearn.svm import LinearSVC\n",
    "\n",
    "clf_svm_os = LinearSVC(dual = False, class_weight = 'balanced')\n",
    "\n",
    "clf_svm_os.fit(X_train,y_train)\n",
    "\n",
    "y_pred_test_os = clf_svm_os.predict(X_test)\n",
    "y_pred_train_os = clf_svm_os.predict(X_train_os)\n",
    "\n",
    "print(\"SVM training Balanced accuracy:\", balanced_accuracy_score(y_train_os, y_pred_train_os, adjusted=True))\n",
    "print(\"SVM test Balanced accuracy    :\", balanced_accuracy_score(y_test, y_pred_test_os, adjusted = True))\n",
    "\n",
    "print('Classification Report - Training')\n",
    "print(classification_report(y_train_os,y_pred_train_os,target_names = class_names))\n",
    "\n",
    "print('Classification Report - Testing')\n",
    "print(classification_report(y_test,y_pred_test_os,target_names = class_names))\n",
    "\n",
    "plot_confusion_matrix(clf_svm_os, X_test, y_test, display_labels=class_names, cmap=plt.cm.Blues, normalize = 'true')"
   ]
  },
  {
   "cell_type": "code",
   "execution_count": 38,
   "metadata": {},
   "outputs": [
    {
     "data": {
      "text/plain": [
       "array([0, 1, 1, ..., 0, 1, 1], dtype=int64)"
      ]
     },
     "execution_count": 38,
     "metadata": {},
     "output_type": "execute_result"
    }
   ],
   "source": [
    "y_pred_test_os"
   ]
  },
  {
   "cell_type": "markdown",
   "metadata": {},
   "source": [
    "### KNN Classification"
   ]
  },
  {
   "cell_type": "code",
   "execution_count": 24,
   "metadata": {},
   "outputs": [
    {
     "name": "stdout",
     "output_type": "stream",
     "text": [
      "OVR training accuracy: 0.6548938373899534\n",
      "OVR test accuracy    : 0.5268935993923911\n",
      "OVR training Balanced accuracy: 0.2203227810288785\n",
      "OVR test Balanced accuracy    : 0.046696371076098385\n",
      "Classification Report - Training\n",
      "              precision    recall  f1-score   support\n",
      "\n",
      "          NO       0.65      0.88      0.75     36648\n",
      "         >30       0.66      0.49      0.56     23684\n",
      "         <30       0.64      0.08      0.14      7253\n",
      "\n",
      "    accuracy                           0.65     67585\n",
      "   macro avg       0.65      0.48      0.48     67585\n",
      "weighted avg       0.65      0.65      0.62     67585\n",
      "\n",
      "Classification Report - Testing\n",
      "              precision    recall  f1-score   support\n",
      "\n",
      "          NO       0.57      0.78      0.66     15675\n",
      "         >30       0.42      0.30      0.35     10178\n",
      "         <30       0.18      0.02      0.04      3113\n",
      "\n",
      "    accuracy                           0.53     28966\n",
      "   macro avg       0.39      0.36      0.35     28966\n",
      "weighted avg       0.47      0.53      0.48     28966\n",
      "\n"
     ]
    },
    {
     "data": {
      "text/plain": [
       "<sklearn.metrics._plot.confusion_matrix.ConfusionMatrixDisplay at 0x1a24fff1198>"
      ]
     },
     "execution_count": 24,
     "metadata": {},
     "output_type": "execute_result"
    },
    {
     "data": {
      "image/png": "[encoded data removed]",
      "text/plain": [
       "<Figure size 432x288 with 2 Axes>"
      ]
     },
     "metadata": {},
     "output_type": "display_data"
    }
   ],
   "source": [
    "from sklearn.neighbors import KNeighborsClassifier\n",
    "\n",
    "clf_knn = KNeighborsClassifier()\n",
    "\n",
    "clf_knn.fit(X_train,y_train)\n",
    "\n",
    "y_pred_test = clf_knn.predict(X_test)\n",
    "y_pred_train = clf_knn.predict(X_train)\n",
    "\n",
    "print(\"OVR training accuracy:\", clf_knn.score(X_train, y_train))\n",
    "print(\"OVR test accuracy    :\", clf_knn.score(X_test, y_test))\n",
    "\n",
    "print(\"OVR training Balanced accuracy:\", balanced_accuracy_score(y_train, y_pred_train, adjusted=True))\n",
    "print(\"OVR test Balanced accuracy    :\", balanced_accuracy_score(y_test, y_pred_test, adjusted = True))\n",
    "\n",
    "print('Classification Report - Training')\n",
    "print(classification_report(y_train,y_pred_train,target_names = class_names))\n",
    "\n",
    "print('Classification Report - Testing')\n",
    "print(classification_report(y_test,y_pred_test,target_names = class_names))\n",
    "\n",
    "plot_confusion_matrix(clf_knn, X_test, y_test, display_labels=class_names, cmap=plt.cm.Blues, normalize = 'true')"
   ]
  },
  {
   "cell_type": "markdown",
   "metadata": {},
   "source": [
    "#### KNN Under Sample"
   ]
  },
  {
   "cell_type": "code",
   "execution_count": 25,
   "metadata": {},
   "outputs": [
    {
     "name": "stdout",
     "output_type": "stream",
     "text": [
      "OVR training accuracy: 0.5753940898019211\n",
      "OVR test accuracy    : 0.4333356348822758\n",
      "OVR training Balanced accuracy: 0.36309113470288146\n",
      "OVR test Balanced accuracy    : 0.057047341026838554\n",
      "Classification Report - Training\n",
      "              precision    recall  f1-score   support\n",
      "\n",
      "          NO       0.53      0.75      0.62      7253\n",
      "         >30       0.58      0.56      0.57      7253\n",
      "         <30       0.67      0.42      0.52      7253\n",
      "\n",
      "    accuracy                           0.58     21759\n",
      "   macro avg       0.59      0.58      0.57     21759\n",
      "weighted avg       0.59      0.58      0.57     21759\n",
      "\n",
      "Classification Report - Testing\n",
      "              precision    recall  f1-score   support\n",
      "\n",
      "          NO       0.58      0.53      0.55     15675\n",
      "         >30       0.39      0.34      0.37     10178\n",
      "         <30       0.13      0.24      0.17      3113\n",
      "\n",
      "    accuracy                           0.43     28966\n",
      "   macro avg       0.37      0.37      0.36     28966\n",
      "weighted avg       0.47      0.43      0.45     28966\n",
      "\n"
     ]
    },
    {
     "data": {
      "text/plain": [
       "<sklearn.metrics._plot.confusion_matrix.ConfusionMatrixDisplay at 0x1a250628470>"
      ]
     },
     "execution_count": 25,
     "metadata": {},
     "output_type": "execute_result"
    },
    {
     "data": {
      "image/png": "[encoded data removed]",
      "text/plain": [
       "<Figure size 432x288 with 2 Axes>"
      ]
     },
     "metadata": {},
     "output_type": "display_data"
    }
   ],
   "source": [
    "clf_knn_us = KNeighborsClassifier()\n",
    "\n",
    "clf_knn_us.fit(X_train_us,y_train_us)\n",
    "\n",
    "y_pred_test_us = clf_knn_us.predict(X_test)\n",
    "y_pred_train_us = clf_knn_us.predict(X_train_us)\n",
    "\n",
    "print(\"OVR training accuracy:\", clf_knn_us.score(X_train_us, y_train_us))\n",
    "print(\"OVR test accuracy    :\", clf_knn_us.score(X_test, y_test))\n",
    "\n",
    "print(\"OVR training Balanced accuracy:\", balanced_accuracy_score(y_train_us, y_pred_train_us, adjusted=True))\n",
    "print(\"OVR test Balanced accuracy    :\", balanced_accuracy_score(y_test, y_pred_test_us, adjusted = True))\n",
    "\n",
    "print('Classification Report - Training')\n",
    "print(classification_report(y_train_us,y_pred_train_us,target_names = class_names))\n",
    "\n",
    "print('Classification Report - Testing')\n",
    "print(classification_report(y_test,y_pred_test_us,target_names = class_names))\n",
    "\n",
    "plot_confusion_matrix(clf_knn_us, X_test, y_test, display_labels=class_names, cmap=plt.cm.Blues, normalize = 'true')"
   ]
  },
  {
   "cell_type": "code",
   "execution_count": null,
   "metadata": {},
   "outputs": [],
   "source": []
  }
 ],
 "metadata": {
  "kernelspec": {
   "display_name": "Python 3",
   "language": "python",
   "name": "python3"
  },
  "language_info": {
   "codemirror_mode": {
    "name": "ipython",
    "version": 3
   },
   "file_extension": ".py",
   "mimetype": "text/x-python",
   "name": "python",
   "nbconvert_exporter": "python",
   "pygments_lexer": "ipython3",
   "version": "3.7.3"
  }
 },
 "nbformat": 4,
 "nbformat_minor": 2
}

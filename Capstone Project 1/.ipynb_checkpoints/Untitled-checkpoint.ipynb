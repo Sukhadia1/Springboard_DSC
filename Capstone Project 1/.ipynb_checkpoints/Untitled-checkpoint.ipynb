{
 "cells": [
  {
   "cell_type": "code",
   "execution_count": 7,
   "metadata": {},
   "outputs": [],
   "source": [
    "import pandas as pd\n",
    "import numpy as np\n",
    "import matplotlib.pyplot as plt\n",
    "import re\n",
    "import seaborn as sns\n",
    "import matplotlib as mpl\n",
    "import os\n",
    "\n",
    "from IPython.core.pylabtools import figsize\n",
    "from scipy import stats\n",
    "import statsmodels.api as sm\n",
    "from statsmodels.formula.api import ols"
   ]
  },
  {
   "cell_type": "code",
   "execution_count": 11,
   "metadata": {},
   "outputs": [],
   "source": [
    "#Getting Working Directory\n",
    "os.getcwd()\n",
    "\n",
    "#Setting style and font size for graphs\n",
    "sns.set_style(\"whitegrid\")\n",
    "mpl.rcParams['font.size'] = 13"
   ]
  },
  {
   "cell_type": "code",
   "execution_count": 16,
   "metadata": {},
   "outputs": [
    {
     "data": {
      "text/plain": [
       "(96551, 35)"
      ]
     },
     "execution_count": 16,
     "metadata": {},
     "output_type": "execute_result"
    }
   ],
   "source": [
    "#load original data into dataframe\n",
    "file ='df_clean2.csv'\n",
    "df_clean2 = pd.read_csv(file)\n",
    "df_clean2.shape"
   ]
  },
  {
   "cell_type": "code",
   "execution_count": 17,
   "metadata": {},
   "outputs": [],
   "source": [
    "df_clean2.admission_type_id = df_clean2.admission_type_id.astype('object')\n",
    "df_clean2.discharge_disposition_id = df_clean2.discharge_disposition_id.astype('object')\n",
    "df_clean2.admission_source_id = df_clean2.admission_source_id.astype('object')\n",
    "\n",
    "#Encoding Age. To retain the ordinal nature of age \n",
    "age_dict = {'[70-80)': 75,'[80-90)': 85, '[90-100)':100, '[60-70)': 65, '[50-60)': 55, '[40-50)': 45, '[30-40)':35,\n",
    "           '[20-30)': 25, '[10-20)': 15, '[0-10)': 5}\n",
    "df_clean2.age = df_clean2.age.map(age_dict)\n",
    "\n",
    "#Visit_num Encoding as Number. '>3' was considered as 4 for simplification purposes\n",
    "visit_num_dict = {'1.0': 1, '2.0': 2, '3.0': 3, '>3': 4}\n",
    "df_clean2.visit_num = df_clean2.visit_num.map(visit_num_dict)\n"
   ]
  },
  {
   "cell_type": "code",
   "execution_count": 18,
   "metadata": {},
   "outputs": [],
   "source": [
    "numeric = df_clean2.select_dtypes(exclude = 'object')\n",
    "categorical = df_clean2.select_dtypes(include = 'object')"
   ]
  },
  {
   "cell_type": "code",
   "execution_count": 25,
   "metadata": {},
   "outputs": [
    {
     "name": "stdout",
     "output_type": "stream",
     "text": [
      "<class 'pandas.core.frame.DataFrame'>\n",
      "RangeIndex: 96551 entries, 0 to 96550\n",
      "Data columns (total 11 columns):\n",
      "age                   96551 non-null int64\n",
      "time_in_hospital      96551 non-null int64\n",
      "num_lab_procedures    96551 non-null int64\n",
      "num_procedures        96551 non-null int64\n",
      "num_medications       96551 non-null int64\n",
      "number_outpatient     96551 non-null int64\n",
      "number_emergency      96551 non-null int64\n",
      "number_inpatient      96551 non-null int64\n",
      "number_diagnoses      96551 non-null int64\n",
      "visit_num             96551 non-null int64\n",
      "readmitted            96551 non-null object\n",
      "dtypes: int64(10), object(1)\n",
      "memory usage: 8.1+ MB\n"
     ]
    },
    {
     "name": "stderr",
     "output_type": "stream",
     "text": [
      "C:\\ProgramData\\Anaconda3\\lib\\site-packages\\ipykernel_launcher.py:1: SettingWithCopyWarning: \n",
      "A value is trying to be set on a copy of a slice from a DataFrame.\n",
      "Try using .loc[row_indexer,col_indexer] = value instead\n",
      "\n",
      "See the caveats in the documentation: http://pandas.pydata.org/pandas-docs/stable/indexing.html#indexing-view-versus-copy\n",
      "  \"\"\"Entry point for launching an IPython kernel.\n"
     ]
    }
   ],
   "source": [
    "numeric['readmitted'] = categorical.readmitted\n",
    "numeric.info()"
   ]
  },
  {
   "cell_type": "code",
   "execution_count": 22,
   "metadata": {},
   "outputs": [
    {
     "data": {
      "text/html": [
       "<table class=\"simpletable\">\n",
       "<caption>OLS Regression Results</caption>\n",
       "<tr>\n",
       "  <th>Dep. Variable:</th>           <td>age</td>       <th>  R-squared:         </th>  <td>   0.003</td>  \n",
       "</tr>\n",
       "<tr>\n",
       "  <th>Model:</th>                   <td>OLS</td>       <th>  Adj. R-squared:    </th>  <td>   0.003</td>  \n",
       "</tr>\n",
       "<tr>\n",
       "  <th>Method:</th>             <td>Least Squares</td>  <th>  F-statistic:       </th>  <td>   145.6</td>  \n",
       "</tr>\n",
       "<tr>\n",
       "  <th>Date:</th>             <td>Thu, 30 Apr 2020</td> <th>  Prob (F-statistic):</th>  <td>7.32e-64</td>  \n",
       "</tr>\n",
       "<tr>\n",
       "  <th>Time:</th>                 <td>00:02:29</td>     <th>  Log-Likelihood:    </th> <td>-4.0522e+05</td>\n",
       "</tr>\n",
       "<tr>\n",
       "  <th>No. Observations:</th>      <td> 96551</td>      <th>  AIC:               </th>  <td>8.105e+05</td> \n",
       "</tr>\n",
       "<tr>\n",
       "  <th>Df Residuals:</th>          <td> 96548</td>      <th>  BIC:               </th>  <td>8.105e+05</td> \n",
       "</tr>\n",
       "<tr>\n",
       "  <th>Df Model:</th>              <td>     2</td>      <th>                     </th>      <td> </td>     \n",
       "</tr>\n",
       "<tr>\n",
       "  <th>Covariance Type:</th>      <td>nonrobust</td>    <th>                     </th>      <td> </td>     \n",
       "</tr>\n",
       "</table>\n",
       "<table class=\"simpletable\">\n",
       "<tr>\n",
       "            <td></td>              <th>coef</th>     <th>std err</th>      <th>t</th>      <th>P>|t|</th>  <th>[0.025</th>    <th>0.975]</th>  \n",
       "</tr>\n",
       "<tr>\n",
       "  <th>Intercept</th>            <td>   67.8584</td> <td>    0.158</td> <td>  429.445</td> <td> 0.000</td> <td>   67.549</td> <td>   68.168</td>\n",
       "</tr>\n",
       "<tr>\n",
       "  <th>C(readmitted)[T.>30]</th> <td>   -0.9737</td> <td>    0.181</td> <td>   -5.392</td> <td> 0.000</td> <td>   -1.328</td> <td>   -0.620</td>\n",
       "</tr>\n",
       "<tr>\n",
       "  <th>C(readmitted)[T.NO]</th>  <td>   -2.4279</td> <td>    0.173</td> <td>  -14.037</td> <td> 0.000</td> <td>   -2.767</td> <td>   -2.089</td>\n",
       "</tr>\n",
       "</table>\n",
       "<table class=\"simpletable\">\n",
       "<tr>\n",
       "  <th>Omnibus:</th>       <td>4419.352</td> <th>  Durbin-Watson:     </th> <td>   1.984</td>\n",
       "</tr>\n",
       "<tr>\n",
       "  <th>Prob(Omnibus):</th>  <td> 0.000</td>  <th>  Jarque-Bera (JB):  </th> <td>5110.463</td>\n",
       "</tr>\n",
       "<tr>\n",
       "  <th>Skew:</th>           <td>-0.530</td>  <th>  Prob(JB):          </th> <td>    0.00</td>\n",
       "</tr>\n",
       "<tr>\n",
       "  <th>Kurtosis:</th>       <td> 3.382</td>  <th>  Cond. No.          </th> <td>    6.52</td>\n",
       "</tr>\n",
       "</table><br/><br/>Warnings:<br/>[1] Standard Errors assume that the covariance matrix of the errors is correctly specified."
      ],
      "text/plain": [
       "<class 'statsmodels.iolib.summary.Summary'>\n",
       "\"\"\"\n",
       "                            OLS Regression Results                            \n",
       "==============================================================================\n",
       "Dep. Variable:                    age   R-squared:                       0.003\n",
       "Model:                            OLS   Adj. R-squared:                  0.003\n",
       "Method:                 Least Squares   F-statistic:                     145.6\n",
       "Date:                Thu, 30 Apr 2020   Prob (F-statistic):           7.32e-64\n",
       "Time:                        00:02:29   Log-Likelihood:            -4.0522e+05\n",
       "No. Observations:               96551   AIC:                         8.105e+05\n",
       "Df Residuals:                   96548   BIC:                         8.105e+05\n",
       "Df Model:                           2                                         \n",
       "Covariance Type:            nonrobust                                         \n",
       "========================================================================================\n",
       "                           coef    std err          t      P>|t|      [0.025      0.975]\n",
       "----------------------------------------------------------------------------------------\n",
       "Intercept               67.8584      0.158    429.445      0.000      67.549      68.168\n",
       "C(readmitted)[T.>30]    -0.9737      0.181     -5.392      0.000      -1.328      -0.620\n",
       "C(readmitted)[T.NO]     -2.4279      0.173    -14.037      0.000      -2.767      -2.089\n",
       "==============================================================================\n",
       "Omnibus:                     4419.352   Durbin-Watson:                   1.984\n",
       "Prob(Omnibus):                  0.000   Jarque-Bera (JB):             5110.463\n",
       "Skew:                          -0.530   Prob(JB):                         0.00\n",
       "Kurtosis:                       3.382   Cond. No.                         6.52\n",
       "==============================================================================\n",
       "\n",
       "Warnings:\n",
       "[1] Standard Errors assume that the covariance matrix of the errors is correctly specified.\n",
       "\"\"\""
      ]
     },
     "execution_count": 22,
     "metadata": {},
     "output_type": "execute_result"
    }
   ],
   "source": [
    "results = ols('age ~ C(readmitted)', data=numeric).fit()\n",
    "results.summary()"
   ]
  },
  {
   "cell_type": "code",
   "execution_count": 39,
   "metadata": {},
   "outputs": [
    {
     "data": {
      "text/html": [
       "<div>\n",
       "<style scoped>\n",
       "    .dataframe tbody tr th:only-of-type {\n",
       "        vertical-align: middle;\n",
       "    }\n",
       "\n",
       "    .dataframe tbody tr th {\n",
       "        vertical-align: top;\n",
       "    }\n",
       "\n",
       "    .dataframe thead th {\n",
       "        text-align: right;\n",
       "    }\n",
       "</style>\n",
       "<table border=\"1\" class=\"dataframe\">\n",
       "  <thead>\n",
       "    <tr style=\"text-align: right;\">\n",
       "      <th></th>\n",
       "      <th>age</th>\n",
       "      <th>time_in_hospital</th>\n",
       "      <th>visit_num</th>\n",
       "      <th>num_procedures</th>\n",
       "      <th>num_medications</th>\n",
       "      <th>number_outpatient</th>\n",
       "      <th>number_emergency</th>\n",
       "      <th>number_inpatient</th>\n",
       "      <th>number_diagnoses</th>\n",
       "      <th>num_lab_procedures</th>\n",
       "    </tr>\n",
       "    <tr>\n",
       "      <th>readmitted</th>\n",
       "      <th></th>\n",
       "      <th></th>\n",
       "      <th></th>\n",
       "      <th></th>\n",
       "      <th></th>\n",
       "      <th></th>\n",
       "      <th></th>\n",
       "      <th></th>\n",
       "      <th></th>\n",
       "      <th></th>\n",
       "    </tr>\n",
       "  </thead>\n",
       "  <tbody>\n",
       "    <tr>\n",
       "      <th>&lt;30</th>\n",
       "      <td>67.858383</td>\n",
       "      <td>4.755547</td>\n",
       "      <td>1.705865</td>\n",
       "      <td>1.287575</td>\n",
       "      <td>16.688211</td>\n",
       "      <td>0.352981</td>\n",
       "      <td>0.177407</td>\n",
       "      <td>0.811017</td>\n",
       "      <td>7.668049</td>\n",
       "      <td>44.023828</td>\n",
       "    </tr>\n",
       "    <tr>\n",
       "      <th>&gt;30</th>\n",
       "      <td>66.884709</td>\n",
       "      <td>4.465802</td>\n",
       "      <td>1.589953</td>\n",
       "      <td>1.251166</td>\n",
       "      <td>16.133867</td>\n",
       "      <td>0.402605</td>\n",
       "      <td>0.176717</td>\n",
       "      <td>0.668094</td>\n",
       "      <td>7.624860</td>\n",
       "      <td>43.603597</td>\n",
       "    </tr>\n",
       "    <tr>\n",
       "      <th>NO</th>\n",
       "      <td>65.430499</td>\n",
       "      <td>4.209812</td>\n",
       "      <td>1.306863</td>\n",
       "      <td>1.384840</td>\n",
       "      <td>15.401009</td>\n",
       "      <td>0.242436</td>\n",
       "      <td>0.089081</td>\n",
       "      <td>0.332913</td>\n",
       "      <td>7.169505</td>\n",
       "      <td>41.861514</td>\n",
       "    </tr>\n",
       "  </tbody>\n",
       "</table>\n",
       "</div>"
      ],
      "text/plain": [
       "                  age  time_in_hospital  visit_num  num_procedures  \\\n",
       "readmitted                                                           \n",
       "<30         67.858383          4.755547   1.705865        1.287575   \n",
       ">30         66.884709          4.465802   1.589953        1.251166   \n",
       "NO          65.430499          4.209812   1.306863        1.384840   \n",
       "\n",
       "            num_medications  number_outpatient  number_emergency  \\\n",
       "readmitted                                                         \n",
       "<30               16.688211           0.352981          0.177407   \n",
       ">30               16.133867           0.402605          0.176717   \n",
       "NO                15.401009           0.242436          0.089081   \n",
       "\n",
       "            number_inpatient  number_diagnoses  num_lab_procedures  \n",
       "readmitted                                                          \n",
       "<30                 0.811017          7.668049           44.023828  \n",
       ">30                 0.668094          7.624860           43.603597  \n",
       "NO                  0.332913          7.169505           41.861514  "
      ]
     },
     "execution_count": 39,
     "metadata": {},
     "output_type": "execute_result"
    }
   ],
   "source": [
    "col = ['age','time_in_hospital','visit_num','num_procedures','num_medications','number_outpatient','number_emergency',\n",
    "      'number_inpatient','number_diagnoses', 'num_lab_procedures']\n",
    "\n",
    "numeric.groupby('readmitted')[col].mean()"
   ]
  },
  {
   "cell_type": "code",
   "execution_count": null,
   "metadata": {},
   "outputs": [],
   "source": []
  }
 ],
 "metadata": {
  "kernelspec": {
   "display_name": "Python 3",
   "language": "python",
   "name": "python3"
  },
  "language_info": {
   "codemirror_mode": {
    "name": "ipython",
    "version": 3
   },
   "file_extension": ".py",
   "mimetype": "text/x-python",
   "name": "python",
   "nbconvert_exporter": "python",
   "pygments_lexer": "ipython3",
   "version": "3.7.3"
  }
 },
 "nbformat": 4,
 "nbformat_minor": 2
}

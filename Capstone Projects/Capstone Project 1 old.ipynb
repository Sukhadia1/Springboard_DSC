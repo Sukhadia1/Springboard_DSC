{
 "cells": [
  {
   "cell_type": "markdown",
   "metadata": {},
   "source": [
    "### Importing required pakages "
   ]
  },
  {
   "cell_type": "code",
   "execution_count": 2,
   "metadata": {},
   "outputs": [],
   "source": [
    "import pandas as pd\n",
    "import numpy as np\n",
    "import matplotlib.pyplot as plt\n",
    "import re\n",
    "import seaborn as sns\n",
    "from collections import Counter\n"
   ]
  },
  {
   "cell_type": "code",
   "execution_count": 3,
   "metadata": {},
   "outputs": [
    {
     "data": {
      "text/plain": [
       "'D:\\\\Abhishek\\\\Personal\\\\Springboard\\\\Springboard_DSC\\\\Capstone Projects'"
      ]
     },
     "execution_count": 3,
     "metadata": {},
     "output_type": "execute_result"
    }
   ],
   "source": [
    "import os\n",
    "os.getcwd()"
   ]
  },
  {
   "cell_type": "markdown",
   "metadata": {},
   "source": [
    "### Importing Data from the CSV file\n",
    "Missing values in the file are represented by '?'. "
   ]
  },
  {
   "cell_type": "code",
   "execution_count": 4,
   "metadata": {},
   "outputs": [
    {
     "name": "stdout",
     "output_type": "stream",
     "text": [
      "Wall time: 527 ms\n"
     ]
    },
    {
     "name": "stderr",
     "output_type": "stream",
     "text": [
      "<string>:2: DtypeWarning: Columns (10) have mixed types. Specify dtype option on import or set low_memory=False.\n"
     ]
    }
   ],
   "source": [
    "%%time\n",
    "#load original data into dataframe\n",
    "file ='D:\\\\Abhishek\\\\Personal\\\\Springboard\\\\dataset_diabetes\\\\diabetic_data.csv'\n",
    "df1 = pd.read_csv(file, na_values = '?')"
   ]
  },
  {
   "cell_type": "markdown",
   "metadata": {},
   "source": [
    "### Understanding the Data. \n",
    "Number of columns, whether it was imported correctly, number of missing values etc."
   ]
  },
  {
   "cell_type": "code",
   "execution_count": 5,
   "metadata": {},
   "outputs": [
    {
     "name": "stdout",
     "output_type": "stream",
     "text": [
      "<class 'pandas.core.frame.DataFrame'>\n",
      "RangeIndex: 101766 entries, 0 to 101765\n",
      "Data columns (total 50 columns):\n",
      "encounter_id                101766 non-null int64\n",
      "patient_nbr                 101766 non-null int64\n",
      "race                        99493 non-null object\n",
      "gender                      101766 non-null object\n",
      "age                         101766 non-null object\n",
      "weight                      3197 non-null object\n",
      "admission_type_id           101766 non-null int64\n",
      "discharge_disposition_id    101766 non-null int64\n",
      "admission_source_id         101766 non-null int64\n",
      "time_in_hospital            101766 non-null int64\n",
      "payer_code                  61510 non-null object\n",
      "medical_specialty           51817 non-null object\n",
      "num_lab_procedures          101766 non-null int64\n",
      "num_procedures              101766 non-null int64\n",
      "num_medications             101766 non-null int64\n",
      "number_outpatient           101766 non-null int64\n",
      "number_emergency            101766 non-null int64\n",
      "number_inpatient            101766 non-null int64\n",
      "diag_1                      101745 non-null object\n",
      "diag_2                      101408 non-null object\n",
      "diag_3                      100343 non-null object\n",
      "number_diagnoses            101766 non-null int64\n",
      "max_glu_serum               101766 non-null object\n",
      "A1Cresult                   101766 non-null object\n",
      "metformin                   101766 non-null object\n",
      "repaglinide                 101766 non-null object\n",
      "nateglinide                 101766 non-null object\n",
      "chlorpropamide              101766 non-null object\n",
      "glimepiride                 101766 non-null object\n",
      "acetohexamide               101766 non-null object\n",
      "glipizide                   101766 non-null object\n",
      "glyburide                   101766 non-null object\n",
      "tolbutamide                 101766 non-null object\n",
      "pioglitazone                101766 non-null object\n",
      "rosiglitazone               101766 non-null object\n",
      "acarbose                    101766 non-null object\n",
      "miglitol                    101766 non-null object\n",
      "troglitazone                101766 non-null object\n",
      "tolazamide                  101766 non-null object\n",
      "examide                     101766 non-null object\n",
      "citoglipton                 101766 non-null object\n",
      "insulin                     101766 non-null object\n",
      "glyburide-metformin         101766 non-null object\n",
      "glipizide-metformin         101766 non-null object\n",
      "glimepiride-pioglitazone    101766 non-null object\n",
      "metformin-rosiglitazone     101766 non-null object\n",
      "metformin-pioglitazone      101766 non-null object\n",
      "change                      101766 non-null object\n",
      "diabetesMed                 101766 non-null object\n",
      "readmitted                  101766 non-null object\n",
      "dtypes: int64(13), object(37)\n",
      "memory usage: 38.8+ MB\n"
     ]
    },
    {
     "data": {
      "text/plain": [
       "(101766, 50)"
      ]
     },
     "execution_count": 5,
     "metadata": {},
     "output_type": "execute_result"
    }
   ],
   "source": [
    "#check shape of the dataset and its columns\n",
    "df1.info()\n",
    "df1.shape"
   ]
  },
  {
   "cell_type": "code",
   "execution_count": 6,
   "metadata": {
    "scrolled": true
   },
   "outputs": [
    {
     "data": {
      "text/html": [
       "<div>\n",
       "<style scoped>\n",
       "    .dataframe tbody tr th:only-of-type {\n",
       "        vertical-align: middle;\n",
       "    }\n",
       "\n",
       "    .dataframe tbody tr th {\n",
       "        vertical-align: top;\n",
       "    }\n",
       "\n",
       "    .dataframe thead th {\n",
       "        text-align: right;\n",
       "    }\n",
       "</style>\n",
       "<table border=\"1\" class=\"dataframe\">\n",
       "  <thead>\n",
       "    <tr style=\"text-align: right;\">\n",
       "      <th></th>\n",
       "      <th>encounter_id</th>\n",
       "      <th>patient_nbr</th>\n",
       "      <th>race</th>\n",
       "      <th>gender</th>\n",
       "      <th>age</th>\n",
       "      <th>weight</th>\n",
       "      <th>admission_type_id</th>\n",
       "      <th>discharge_disposition_id</th>\n",
       "      <th>admission_source_id</th>\n",
       "      <th>time_in_hospital</th>\n",
       "      <th>...</th>\n",
       "      <th>citoglipton</th>\n",
       "      <th>insulin</th>\n",
       "      <th>glyburide-metformin</th>\n",
       "      <th>glipizide-metformin</th>\n",
       "      <th>glimepiride-pioglitazone</th>\n",
       "      <th>metformin-rosiglitazone</th>\n",
       "      <th>metformin-pioglitazone</th>\n",
       "      <th>change</th>\n",
       "      <th>diabetesMed</th>\n",
       "      <th>readmitted</th>\n",
       "    </tr>\n",
       "  </thead>\n",
       "  <tbody>\n",
       "    <tr>\n",
       "      <th>0</th>\n",
       "      <td>2278392</td>\n",
       "      <td>8222157</td>\n",
       "      <td>Caucasian</td>\n",
       "      <td>Female</td>\n",
       "      <td>[0-10)</td>\n",
       "      <td>NaN</td>\n",
       "      <td>6</td>\n",
       "      <td>25</td>\n",
       "      <td>1</td>\n",
       "      <td>1</td>\n",
       "      <td>...</td>\n",
       "      <td>No</td>\n",
       "      <td>No</td>\n",
       "      <td>No</td>\n",
       "      <td>No</td>\n",
       "      <td>No</td>\n",
       "      <td>No</td>\n",
       "      <td>No</td>\n",
       "      <td>No</td>\n",
       "      <td>No</td>\n",
       "      <td>NO</td>\n",
       "    </tr>\n",
       "    <tr>\n",
       "      <th>1</th>\n",
       "      <td>149190</td>\n",
       "      <td>55629189</td>\n",
       "      <td>Caucasian</td>\n",
       "      <td>Female</td>\n",
       "      <td>[10-20)</td>\n",
       "      <td>NaN</td>\n",
       "      <td>1</td>\n",
       "      <td>1</td>\n",
       "      <td>7</td>\n",
       "      <td>3</td>\n",
       "      <td>...</td>\n",
       "      <td>No</td>\n",
       "      <td>Up</td>\n",
       "      <td>No</td>\n",
       "      <td>No</td>\n",
       "      <td>No</td>\n",
       "      <td>No</td>\n",
       "      <td>No</td>\n",
       "      <td>Ch</td>\n",
       "      <td>Yes</td>\n",
       "      <td>&gt;30</td>\n",
       "    </tr>\n",
       "    <tr>\n",
       "      <th>2</th>\n",
       "      <td>64410</td>\n",
       "      <td>86047875</td>\n",
       "      <td>AfricanAmerican</td>\n",
       "      <td>Female</td>\n",
       "      <td>[20-30)</td>\n",
       "      <td>NaN</td>\n",
       "      <td>1</td>\n",
       "      <td>1</td>\n",
       "      <td>7</td>\n",
       "      <td>2</td>\n",
       "      <td>...</td>\n",
       "      <td>No</td>\n",
       "      <td>No</td>\n",
       "      <td>No</td>\n",
       "      <td>No</td>\n",
       "      <td>No</td>\n",
       "      <td>No</td>\n",
       "      <td>No</td>\n",
       "      <td>No</td>\n",
       "      <td>Yes</td>\n",
       "      <td>NO</td>\n",
       "    </tr>\n",
       "    <tr>\n",
       "      <th>3</th>\n",
       "      <td>500364</td>\n",
       "      <td>82442376</td>\n",
       "      <td>Caucasian</td>\n",
       "      <td>Male</td>\n",
       "      <td>[30-40)</td>\n",
       "      <td>NaN</td>\n",
       "      <td>1</td>\n",
       "      <td>1</td>\n",
       "      <td>7</td>\n",
       "      <td>2</td>\n",
       "      <td>...</td>\n",
       "      <td>No</td>\n",
       "      <td>Up</td>\n",
       "      <td>No</td>\n",
       "      <td>No</td>\n",
       "      <td>No</td>\n",
       "      <td>No</td>\n",
       "      <td>No</td>\n",
       "      <td>Ch</td>\n",
       "      <td>Yes</td>\n",
       "      <td>NO</td>\n",
       "    </tr>\n",
       "    <tr>\n",
       "      <th>4</th>\n",
       "      <td>16680</td>\n",
       "      <td>42519267</td>\n",
       "      <td>Caucasian</td>\n",
       "      <td>Male</td>\n",
       "      <td>[40-50)</td>\n",
       "      <td>NaN</td>\n",
       "      <td>1</td>\n",
       "      <td>1</td>\n",
       "      <td>7</td>\n",
       "      <td>1</td>\n",
       "      <td>...</td>\n",
       "      <td>No</td>\n",
       "      <td>Steady</td>\n",
       "      <td>No</td>\n",
       "      <td>No</td>\n",
       "      <td>No</td>\n",
       "      <td>No</td>\n",
       "      <td>No</td>\n",
       "      <td>Ch</td>\n",
       "      <td>Yes</td>\n",
       "      <td>NO</td>\n",
       "    </tr>\n",
       "  </tbody>\n",
       "</table>\n",
       "<p>5 rows × 50 columns</p>\n",
       "</div>"
      ],
      "text/plain": [
       "   encounter_id  patient_nbr             race  gender      age weight  \\\n",
       "0       2278392      8222157        Caucasian  Female   [0-10)    NaN   \n",
       "1        149190     55629189        Caucasian  Female  [10-20)    NaN   \n",
       "2         64410     86047875  AfricanAmerican  Female  [20-30)    NaN   \n",
       "3        500364     82442376        Caucasian    Male  [30-40)    NaN   \n",
       "4         16680     42519267        Caucasian    Male  [40-50)    NaN   \n",
       "\n",
       "   admission_type_id  discharge_disposition_id  admission_source_id  \\\n",
       "0                  6                        25                    1   \n",
       "1                  1                         1                    7   \n",
       "2                  1                         1                    7   \n",
       "3                  1                         1                    7   \n",
       "4                  1                         1                    7   \n",
       "\n",
       "   time_in_hospital  ... citoglipton insulin  glyburide-metformin  \\\n",
       "0                 1  ...          No      No                   No   \n",
       "1                 3  ...          No      Up                   No   \n",
       "2                 2  ...          No      No                   No   \n",
       "3                 2  ...          No      Up                   No   \n",
       "4                 1  ...          No  Steady                   No   \n",
       "\n",
       "   glipizide-metformin  glimepiride-pioglitazone  metformin-rosiglitazone  \\\n",
       "0                   No                        No                       No   \n",
       "1                   No                        No                       No   \n",
       "2                   No                        No                       No   \n",
       "3                   No                        No                       No   \n",
       "4                   No                        No                       No   \n",
       "\n",
       "   metformin-pioglitazone  change diabetesMed readmitted  \n",
       "0                      No      No          No         NO  \n",
       "1                      No      Ch         Yes        >30  \n",
       "2                      No      No         Yes         NO  \n",
       "3                      No      Ch         Yes         NO  \n",
       "4                      No      Ch         Yes         NO  \n",
       "\n",
       "[5 rows x 50 columns]"
      ]
     },
     "execution_count": 6,
     "metadata": {},
     "output_type": "execute_result"
    }
   ],
   "source": [
    "#Checking if the data was imported correctly\n",
    "df1.head()"
   ]
  },
  {
   "cell_type": "code",
   "execution_count": 7,
   "metadata": {},
   "outputs": [
    {
     "data": {
      "text/plain": [
       "'Caucasian'"
      ]
     },
     "execution_count": 7,
     "metadata": {},
     "output_type": "execute_result"
    }
   ],
   "source": [
    "len(df1['weight'].unique())\n",
    "df1.race.mode()[0]"
   ]
  },
  {
   "cell_type": "markdown",
   "metadata": {},
   "source": [
    "Converting the objects to categories. This would help save memory space."
   ]
  },
  {
   "cell_type": "markdown",
   "metadata": {},
   "source": [
    "## Missing Value Analysis"
   ]
  },
  {
   "cell_type": "markdown",
   "metadata": {},
   "source": [
    "### Finding our features with missing value"
   ]
  },
  {
   "cell_type": "code",
   "execution_count": 8,
   "metadata": {},
   "outputs": [
    {
     "data": {
      "text/plain": [
       "'Missing Value Table'"
      ]
     },
     "metadata": {},
     "output_type": "display_data"
    },
    {
     "data": {
      "text/html": [
       "<div>\n",
       "<style scoped>\n",
       "    .dataframe tbody tr th:only-of-type {\n",
       "        vertical-align: middle;\n",
       "    }\n",
       "\n",
       "    .dataframe tbody tr th {\n",
       "        vertical-align: top;\n",
       "    }\n",
       "\n",
       "    .dataframe thead th {\n",
       "        text-align: right;\n",
       "    }\n",
       "</style>\n",
       "<table border=\"1\" class=\"dataframe\">\n",
       "  <thead>\n",
       "    <tr style=\"text-align: right;\">\n",
       "      <th></th>\n",
       "      <th>feature_name</th>\n",
       "      <th>null_values</th>\n",
       "      <th>%missing</th>\n",
       "      <th>category_count</th>\n",
       "    </tr>\n",
       "  </thead>\n",
       "  <tbody>\n",
       "    <tr>\n",
       "      <th>0</th>\n",
       "      <td>weight</td>\n",
       "      <td>98569</td>\n",
       "      <td>96.86</td>\n",
       "      <td>10</td>\n",
       "    </tr>\n",
       "    <tr>\n",
       "      <th>1</th>\n",
       "      <td>medical_specialty</td>\n",
       "      <td>49949</td>\n",
       "      <td>49.08</td>\n",
       "      <td>73</td>\n",
       "    </tr>\n",
       "    <tr>\n",
       "      <th>2</th>\n",
       "      <td>payer_code</td>\n",
       "      <td>40256</td>\n",
       "      <td>39.56</td>\n",
       "      <td>18</td>\n",
       "    </tr>\n",
       "    <tr>\n",
       "      <th>3</th>\n",
       "      <td>race</td>\n",
       "      <td>2273</td>\n",
       "      <td>2.23</td>\n",
       "      <td>6</td>\n",
       "    </tr>\n",
       "    <tr>\n",
       "      <th>4</th>\n",
       "      <td>diag_3</td>\n",
       "      <td>1423</td>\n",
       "      <td>1.40</td>\n",
       "      <td>790</td>\n",
       "    </tr>\n",
       "    <tr>\n",
       "      <th>5</th>\n",
       "      <td>diag_2</td>\n",
       "      <td>358</td>\n",
       "      <td>0.35</td>\n",
       "      <td>749</td>\n",
       "    </tr>\n",
       "    <tr>\n",
       "      <th>6</th>\n",
       "      <td>diag_1</td>\n",
       "      <td>21</td>\n",
       "      <td>0.02</td>\n",
       "      <td>717</td>\n",
       "    </tr>\n",
       "  </tbody>\n",
       "</table>\n",
       "</div>"
      ],
      "text/plain": [
       "        feature_name null_values  %missing category_count\n",
       "0             weight       98569     96.86             10\n",
       "1  medical_specialty       49949     49.08             73\n",
       "2         payer_code       40256     39.56             18\n",
       "3               race        2273      2.23              6\n",
       "4             diag_3        1423      1.40            790\n",
       "5             diag_2         358      0.35            749\n",
       "6             diag_1          21      0.02            717"
      ]
     },
     "metadata": {},
     "output_type": "display_data"
    },
    {
     "name": "stdout",
     "output_type": "stream",
     "text": [
      "\n",
      "\n"
     ]
    },
    {
     "data": {
      "text/plain": [
       "'Single Category Features'"
      ]
     },
     "metadata": {},
     "output_type": "display_data"
    },
    {
     "data": {
      "text/html": [
       "<div>\n",
       "<style scoped>\n",
       "    .dataframe tbody tr th:only-of-type {\n",
       "        vertical-align: middle;\n",
       "    }\n",
       "\n",
       "    .dataframe tbody tr th {\n",
       "        vertical-align: top;\n",
       "    }\n",
       "\n",
       "    .dataframe thead th {\n",
       "        text-align: right;\n",
       "    }\n",
       "</style>\n",
       "<table border=\"1\" class=\"dataframe\">\n",
       "  <thead>\n",
       "    <tr style=\"text-align: right;\">\n",
       "      <th></th>\n",
       "      <th>feature_name</th>\n",
       "      <th>null_values</th>\n",
       "      <th>%missing</th>\n",
       "      <th>category_count</th>\n",
       "    </tr>\n",
       "  </thead>\n",
       "  <tbody>\n",
       "    <tr>\n",
       "      <th>0</th>\n",
       "      <td>examide</td>\n",
       "      <td>0</td>\n",
       "      <td>0.0</td>\n",
       "      <td>1</td>\n",
       "    </tr>\n",
       "    <tr>\n",
       "      <th>1</th>\n",
       "      <td>citoglipton</td>\n",
       "      <td>0</td>\n",
       "      <td>0.0</td>\n",
       "      <td>1</td>\n",
       "    </tr>\n",
       "  </tbody>\n",
       "</table>\n",
       "</div>"
      ],
      "text/plain": [
       "  feature_name null_values  %missing category_count\n",
       "0      examide           0       0.0              1\n",
       "1  citoglipton           0       0.0              1"
      ]
     },
     "metadata": {},
     "output_type": "display_data"
    }
   ],
   "source": [
    "# Creating a empty table to store Missing Values Count\n",
    "m_table = pd.DataFrame(columns = ['feature_name', 'null_values', '%missing', 'category_count'])\n",
    "\n",
    "#Counting the missing values and appending it to m_table\n",
    "for col in df1.columns:\n",
    "    null_value = len(df1) - df1[col].count()\n",
    "    missing = round((null_value/len(df1))*100,2)\n",
    "    count = len(df1[col].unique())\n",
    "    m_table = m_table.append(pd.Series([col, null_value, missing,count],index = m_table.columns),ignore_index=True)\n",
    "\n",
    "#Displaying features which has missing values in descending order\n",
    "missing = m_table[m_table.null_values != 0].sort_values(by = '%missing',ascending = False).reset_index(drop = True)\n",
    "display('Missing Value Table')\n",
    "display(missing)\n",
    "print('\\n')\n",
    "\n",
    "#Displaying features having only single category\n",
    "c_count = m_table[m_table.category_count == 1].sort_values(by = '%missing',ascending = False).reset_index(drop = True)\n",
    "display('Single Category Features')\n",
    "display(c_count)"
   ]
  },
  {
   "cell_type": "markdown",
   "metadata": {},
   "source": [
    "#### 6 features have missing values.\n",
    "1) Weight have ~97% missing values. There is poor interpretability of the missing values, so it is best to drop this column. \n",
    "\n",
    "2) medical_speciality and payer_code have 40-50% missing values. I have decided to drop it but there are ways to deal with it. I will experiment and use this columns to see if it increases the accuracy of the model. Method to include these columns would be to create a separate category of 'missing'. \n",
    "\n",
    "3) race, diag_3, diag_2, diag_1  have only <=2% missing values, so missing rows can be dropped or be replace with mode of the column values. \n",
    "\n",
    "5) When all diag are missing, then also it is a bad data. So secondly, removing all rows where where all 3 diag are missing\n",
    "\n",
    "6) A missing first diagnosis while data have diagnosis second and third, is also a bad data. But second and third diagnosis can give us some idea about the readmission. So we  can either keep this missing values under \"missing\" category or just ignore the rows. I am going with first one.  \n",
    "\n",
    "7) For the remaining missing values of Race, it is repalced by mode i.e. Caucasian. \n",
    "\n",
    "8) In gender, there are values like \"Unknown/Invalid\" which are missing. These columns are also dropped\n",
    "\n",
    "\n"
   ]
  },
  {
   "cell_type": "code",
   "execution_count": 9,
   "metadata": {},
   "outputs": [
    {
     "data": {
      "text/plain": [
       "(101762, 47)"
      ]
     },
     "execution_count": 9,
     "metadata": {},
     "output_type": "execute_result"
    }
   ],
   "source": [
    "# Droping weight, medical_speciality and payer_code\n",
    "drop_col1 = ['weight', 'medical_specialty','payer_code']\n",
    "df_clean =df1.drop(drop_col1,axis = 1)\n",
    "\n",
    "# Droping rows with missing values in all 4 columns of race, diag_3, diag_2 and diag_1\n",
    "drop_col2 = ['diag_1','diag_2', 'diag_3']\n",
    "df_clean = df_clean.dropna(subset = drop_col2, how = 'all')\n",
    "\n",
    "# Replacing missing values of 'diag_1, diag_2, diag_3' with Missing = 'M'\n",
    "values = {'diag_1': '0', 'diag_2': '0', 'diag_3': '0'}\n",
    "df_clean = df_clean.fillna(value = values)\n",
    "\n",
    "# Droping rows with gender value  as 'Unknown/Invalid'\n",
    "df_clean = df_clean[df_clean.gender != 'Unknown/Invalid']\n",
    "\n",
    "# Replacing missing values of 'race' with mode \n",
    "df_clean = df_clean.fillna(value={'race': df1.race.mode()[0]})\n",
    "\n",
    "#df_clean.info()\n",
    "df_clean.shape"
   ]
  },
  {
   "cell_type": "markdown",
   "metadata": {},
   "source": [
    "Following code will see if there are any more missing values or not"
   ]
  },
  {
   "cell_type": "code",
   "execution_count": 10,
   "metadata": {},
   "outputs": [
    {
     "data": {
      "text/plain": [
       "'Missing Value Table'"
      ]
     },
     "metadata": {},
     "output_type": "display_data"
    },
    {
     "data": {
      "text/html": [
       "<div>\n",
       "<style scoped>\n",
       "    .dataframe tbody tr th:only-of-type {\n",
       "        vertical-align: middle;\n",
       "    }\n",
       "\n",
       "    .dataframe tbody tr th {\n",
       "        vertical-align: top;\n",
       "    }\n",
       "\n",
       "    .dataframe thead th {\n",
       "        text-align: right;\n",
       "    }\n",
       "</style>\n",
       "<table border=\"1\" class=\"dataframe\">\n",
       "  <thead>\n",
       "    <tr style=\"text-align: right;\">\n",
       "      <th></th>\n",
       "      <th>feature_name</th>\n",
       "      <th>null_values</th>\n",
       "      <th>%missing</th>\n",
       "      <th>category_count</th>\n",
       "    </tr>\n",
       "  </thead>\n",
       "  <tbody>\n",
       "    <tr>\n",
       "      <th>0</th>\n",
       "      <td>encounter_id</td>\n",
       "      <td>0</td>\n",
       "      <td>0.0</td>\n",
       "      <td>101762</td>\n",
       "    </tr>\n",
       "    <tr>\n",
       "      <th>1</th>\n",
       "      <td>patient_nbr</td>\n",
       "      <td>0</td>\n",
       "      <td>0.0</td>\n",
       "      <td>71514</td>\n",
       "    </tr>\n",
       "    <tr>\n",
       "      <th>2</th>\n",
       "      <td>race</td>\n",
       "      <td>0</td>\n",
       "      <td>0.0</td>\n",
       "      <td>5</td>\n",
       "    </tr>\n",
       "    <tr>\n",
       "      <th>3</th>\n",
       "      <td>gender</td>\n",
       "      <td>0</td>\n",
       "      <td>0.0</td>\n",
       "      <td>2</td>\n",
       "    </tr>\n",
       "    <tr>\n",
       "      <th>4</th>\n",
       "      <td>age</td>\n",
       "      <td>0</td>\n",
       "      <td>0.0</td>\n",
       "      <td>10</td>\n",
       "    </tr>\n",
       "    <tr>\n",
       "      <th>5</th>\n",
       "      <td>admission_type_id</td>\n",
       "      <td>0</td>\n",
       "      <td>0.0</td>\n",
       "      <td>8</td>\n",
       "    </tr>\n",
       "    <tr>\n",
       "      <th>6</th>\n",
       "      <td>discharge_disposition_id</td>\n",
       "      <td>0</td>\n",
       "      <td>0.0</td>\n",
       "      <td>26</td>\n",
       "    </tr>\n",
       "    <tr>\n",
       "      <th>7</th>\n",
       "      <td>admission_source_id</td>\n",
       "      <td>0</td>\n",
       "      <td>0.0</td>\n",
       "      <td>17</td>\n",
       "    </tr>\n",
       "    <tr>\n",
       "      <th>8</th>\n",
       "      <td>time_in_hospital</td>\n",
       "      <td>0</td>\n",
       "      <td>0.0</td>\n",
       "      <td>14</td>\n",
       "    </tr>\n",
       "    <tr>\n",
       "      <th>9</th>\n",
       "      <td>num_lab_procedures</td>\n",
       "      <td>0</td>\n",
       "      <td>0.0</td>\n",
       "      <td>118</td>\n",
       "    </tr>\n",
       "    <tr>\n",
       "      <th>10</th>\n",
       "      <td>num_procedures</td>\n",
       "      <td>0</td>\n",
       "      <td>0.0</td>\n",
       "      <td>7</td>\n",
       "    </tr>\n",
       "    <tr>\n",
       "      <th>11</th>\n",
       "      <td>num_medications</td>\n",
       "      <td>0</td>\n",
       "      <td>0.0</td>\n",
       "      <td>75</td>\n",
       "    </tr>\n",
       "    <tr>\n",
       "      <th>12</th>\n",
       "      <td>number_outpatient</td>\n",
       "      <td>0</td>\n",
       "      <td>0.0</td>\n",
       "      <td>39</td>\n",
       "    </tr>\n",
       "    <tr>\n",
       "      <th>13</th>\n",
       "      <td>number_emergency</td>\n",
       "      <td>0</td>\n",
       "      <td>0.0</td>\n",
       "      <td>33</td>\n",
       "    </tr>\n",
       "    <tr>\n",
       "      <th>14</th>\n",
       "      <td>number_inpatient</td>\n",
       "      <td>0</td>\n",
       "      <td>0.0</td>\n",
       "      <td>21</td>\n",
       "    </tr>\n",
       "    <tr>\n",
       "      <th>15</th>\n",
       "      <td>diag_1</td>\n",
       "      <td>0</td>\n",
       "      <td>0.0</td>\n",
       "      <td>717</td>\n",
       "    </tr>\n",
       "    <tr>\n",
       "      <th>16</th>\n",
       "      <td>diag_2</td>\n",
       "      <td>0</td>\n",
       "      <td>0.0</td>\n",
       "      <td>749</td>\n",
       "    </tr>\n",
       "    <tr>\n",
       "      <th>17</th>\n",
       "      <td>diag_3</td>\n",
       "      <td>0</td>\n",
       "      <td>0.0</td>\n",
       "      <td>790</td>\n",
       "    </tr>\n",
       "    <tr>\n",
       "      <th>18</th>\n",
       "      <td>number_diagnoses</td>\n",
       "      <td>0</td>\n",
       "      <td>0.0</td>\n",
       "      <td>16</td>\n",
       "    </tr>\n",
       "    <tr>\n",
       "      <th>19</th>\n",
       "      <td>max_glu_serum</td>\n",
       "      <td>0</td>\n",
       "      <td>0.0</td>\n",
       "      <td>4</td>\n",
       "    </tr>\n",
       "    <tr>\n",
       "      <th>20</th>\n",
       "      <td>A1Cresult</td>\n",
       "      <td>0</td>\n",
       "      <td>0.0</td>\n",
       "      <td>4</td>\n",
       "    </tr>\n",
       "    <tr>\n",
       "      <th>21</th>\n",
       "      <td>metformin</td>\n",
       "      <td>0</td>\n",
       "      <td>0.0</td>\n",
       "      <td>4</td>\n",
       "    </tr>\n",
       "    <tr>\n",
       "      <th>22</th>\n",
       "      <td>repaglinide</td>\n",
       "      <td>0</td>\n",
       "      <td>0.0</td>\n",
       "      <td>4</td>\n",
       "    </tr>\n",
       "    <tr>\n",
       "      <th>23</th>\n",
       "      <td>nateglinide</td>\n",
       "      <td>0</td>\n",
       "      <td>0.0</td>\n",
       "      <td>4</td>\n",
       "    </tr>\n",
       "    <tr>\n",
       "      <th>24</th>\n",
       "      <td>chlorpropamide</td>\n",
       "      <td>0</td>\n",
       "      <td>0.0</td>\n",
       "      <td>4</td>\n",
       "    </tr>\n",
       "    <tr>\n",
       "      <th>25</th>\n",
       "      <td>glimepiride</td>\n",
       "      <td>0</td>\n",
       "      <td>0.0</td>\n",
       "      <td>4</td>\n",
       "    </tr>\n",
       "    <tr>\n",
       "      <th>26</th>\n",
       "      <td>acetohexamide</td>\n",
       "      <td>0</td>\n",
       "      <td>0.0</td>\n",
       "      <td>2</td>\n",
       "    </tr>\n",
       "    <tr>\n",
       "      <th>27</th>\n",
       "      <td>glipizide</td>\n",
       "      <td>0</td>\n",
       "      <td>0.0</td>\n",
       "      <td>4</td>\n",
       "    </tr>\n",
       "    <tr>\n",
       "      <th>28</th>\n",
       "      <td>glyburide</td>\n",
       "      <td>0</td>\n",
       "      <td>0.0</td>\n",
       "      <td>4</td>\n",
       "    </tr>\n",
       "    <tr>\n",
       "      <th>29</th>\n",
       "      <td>tolbutamide</td>\n",
       "      <td>0</td>\n",
       "      <td>0.0</td>\n",
       "      <td>2</td>\n",
       "    </tr>\n",
       "    <tr>\n",
       "      <th>30</th>\n",
       "      <td>pioglitazone</td>\n",
       "      <td>0</td>\n",
       "      <td>0.0</td>\n",
       "      <td>4</td>\n",
       "    </tr>\n",
       "    <tr>\n",
       "      <th>31</th>\n",
       "      <td>rosiglitazone</td>\n",
       "      <td>0</td>\n",
       "      <td>0.0</td>\n",
       "      <td>4</td>\n",
       "    </tr>\n",
       "    <tr>\n",
       "      <th>32</th>\n",
       "      <td>acarbose</td>\n",
       "      <td>0</td>\n",
       "      <td>0.0</td>\n",
       "      <td>4</td>\n",
       "    </tr>\n",
       "    <tr>\n",
       "      <th>33</th>\n",
       "      <td>miglitol</td>\n",
       "      <td>0</td>\n",
       "      <td>0.0</td>\n",
       "      <td>4</td>\n",
       "    </tr>\n",
       "    <tr>\n",
       "      <th>34</th>\n",
       "      <td>troglitazone</td>\n",
       "      <td>0</td>\n",
       "      <td>0.0</td>\n",
       "      <td>2</td>\n",
       "    </tr>\n",
       "    <tr>\n",
       "      <th>35</th>\n",
       "      <td>tolazamide</td>\n",
       "      <td>0</td>\n",
       "      <td>0.0</td>\n",
       "      <td>3</td>\n",
       "    </tr>\n",
       "    <tr>\n",
       "      <th>36</th>\n",
       "      <td>examide</td>\n",
       "      <td>0</td>\n",
       "      <td>0.0</td>\n",
       "      <td>1</td>\n",
       "    </tr>\n",
       "    <tr>\n",
       "      <th>37</th>\n",
       "      <td>citoglipton</td>\n",
       "      <td>0</td>\n",
       "      <td>0.0</td>\n",
       "      <td>1</td>\n",
       "    </tr>\n",
       "    <tr>\n",
       "      <th>38</th>\n",
       "      <td>insulin</td>\n",
       "      <td>0</td>\n",
       "      <td>0.0</td>\n",
       "      <td>4</td>\n",
       "    </tr>\n",
       "    <tr>\n",
       "      <th>39</th>\n",
       "      <td>glyburide-metformin</td>\n",
       "      <td>0</td>\n",
       "      <td>0.0</td>\n",
       "      <td>4</td>\n",
       "    </tr>\n",
       "    <tr>\n",
       "      <th>40</th>\n",
       "      <td>glipizide-metformin</td>\n",
       "      <td>0</td>\n",
       "      <td>0.0</td>\n",
       "      <td>2</td>\n",
       "    </tr>\n",
       "    <tr>\n",
       "      <th>41</th>\n",
       "      <td>glimepiride-pioglitazone</td>\n",
       "      <td>0</td>\n",
       "      <td>0.0</td>\n",
       "      <td>2</td>\n",
       "    </tr>\n",
       "    <tr>\n",
       "      <th>42</th>\n",
       "      <td>metformin-rosiglitazone</td>\n",
       "      <td>0</td>\n",
       "      <td>0.0</td>\n",
       "      <td>2</td>\n",
       "    </tr>\n",
       "    <tr>\n",
       "      <th>43</th>\n",
       "      <td>metformin-pioglitazone</td>\n",
       "      <td>0</td>\n",
       "      <td>0.0</td>\n",
       "      <td>2</td>\n",
       "    </tr>\n",
       "    <tr>\n",
       "      <th>44</th>\n",
       "      <td>change</td>\n",
       "      <td>0</td>\n",
       "      <td>0.0</td>\n",
       "      <td>2</td>\n",
       "    </tr>\n",
       "    <tr>\n",
       "      <th>45</th>\n",
       "      <td>diabetesMed</td>\n",
       "      <td>0</td>\n",
       "      <td>0.0</td>\n",
       "      <td>2</td>\n",
       "    </tr>\n",
       "    <tr>\n",
       "      <th>46</th>\n",
       "      <td>readmitted</td>\n",
       "      <td>0</td>\n",
       "      <td>0.0</td>\n",
       "      <td>3</td>\n",
       "    </tr>\n",
       "  </tbody>\n",
       "</table>\n",
       "</div>"
      ],
      "text/plain": [
       "                feature_name null_values  %missing category_count\n",
       "0               encounter_id           0       0.0         101762\n",
       "1                patient_nbr           0       0.0          71514\n",
       "2                       race           0       0.0              5\n",
       "3                     gender           0       0.0              2\n",
       "4                        age           0       0.0             10\n",
       "5          admission_type_id           0       0.0              8\n",
       "6   discharge_disposition_id           0       0.0             26\n",
       "7        admission_source_id           0       0.0             17\n",
       "8           time_in_hospital           0       0.0             14\n",
       "9         num_lab_procedures           0       0.0            118\n",
       "10            num_procedures           0       0.0              7\n",
       "11           num_medications           0       0.0             75\n",
       "12         number_outpatient           0       0.0             39\n",
       "13          number_emergency           0       0.0             33\n",
       "14          number_inpatient           0       0.0             21\n",
       "15                    diag_1           0       0.0            717\n",
       "16                    diag_2           0       0.0            749\n",
       "17                    diag_3           0       0.0            790\n",
       "18          number_diagnoses           0       0.0             16\n",
       "19             max_glu_serum           0       0.0              4\n",
       "20                 A1Cresult           0       0.0              4\n",
       "21                 metformin           0       0.0              4\n",
       "22               repaglinide           0       0.0              4\n",
       "23               nateglinide           0       0.0              4\n",
       "24            chlorpropamide           0       0.0              4\n",
       "25               glimepiride           0       0.0              4\n",
       "26             acetohexamide           0       0.0              2\n",
       "27                 glipizide           0       0.0              4\n",
       "28                 glyburide           0       0.0              4\n",
       "29               tolbutamide           0       0.0              2\n",
       "30              pioglitazone           0       0.0              4\n",
       "31             rosiglitazone           0       0.0              4\n",
       "32                  acarbose           0       0.0              4\n",
       "33                  miglitol           0       0.0              4\n",
       "34              troglitazone           0       0.0              2\n",
       "35                tolazamide           0       0.0              3\n",
       "36                   examide           0       0.0              1\n",
       "37               citoglipton           0       0.0              1\n",
       "38                   insulin           0       0.0              4\n",
       "39       glyburide-metformin           0       0.0              4\n",
       "40       glipizide-metformin           0       0.0              2\n",
       "41  glimepiride-pioglitazone           0       0.0              2\n",
       "42   metformin-rosiglitazone           0       0.0              2\n",
       "43    metformin-pioglitazone           0       0.0              2\n",
       "44                    change           0       0.0              2\n",
       "45               diabetesMed           0       0.0              2\n",
       "46                readmitted           0       0.0              3"
      ]
     },
     "metadata": {},
     "output_type": "display_data"
    },
    {
     "name": "stdout",
     "output_type": "stream",
     "text": [
      "\n",
      "\n"
     ]
    }
   ],
   "source": [
    "# Creating a empty table to store Missing Values Count\n",
    "c_table = pd.DataFrame(columns = ['feature_name', 'null_values', '%missing', 'category_count'])\n",
    "\n",
    "#Counting the missing values and appending it to m_table\n",
    "for col in df_clean.columns:\n",
    "    null_value = len(df_clean) - df_clean[col].count()\n",
    "    missing = round((null_value/len(df_clean))*100,2)\n",
    "    count = len(df_clean[col].unique())\n",
    "    c_table = c_table.append(pd.Series([col, null_value, missing,count],index = c_table.columns),ignore_index=True)\n",
    "\n",
    "#Displaying features which has missing values in descending order\n",
    "display('Missing Value Table')\n",
    "display(c_table)\n",
    "print('\\n')"
   ]
  },
  {
   "cell_type": "markdown",
   "metadata": {},
   "source": [
    "## Further Cleaning the Data"
   ]
  },
  {
   "cell_type": "markdown",
   "metadata": {},
   "source": [
    "Since we are trying to predict readmissions, those patients who died during this hospital admission, have zero probability of readmission. So we should remove those records (discharge_disposition = 11, 19,20,21)."
   ]
  },
  {
   "cell_type": "code",
   "execution_count": 11,
   "metadata": {},
   "outputs": [],
   "source": [
    "# List of Dicharge disposition ids saying that patient got expired or met with a death \n",
    "expired = [11,19,20,21]\n",
    "df_clean = df_clean[~df_clean.discharge_disposition_id.isin(expired)]"
   ]
  },
  {
   "cell_type": "markdown",
   "metadata": {},
   "source": [
    "While doing missing value analysis, I found that there are two columns where all records have same values (examide and citoglipton). So it would be better to drop these columns also since it cannot provide any information about readmission. "
   ]
  },
  {
   "cell_type": "code",
   "execution_count": 12,
   "metadata": {},
   "outputs": [
    {
     "data": {
      "text/plain": [
       "(100110, 45)"
      ]
     },
     "execution_count": 12,
     "metadata": {},
     "output_type": "execute_result"
    }
   ],
   "source": [
    "# Dropping examide and citoglipton\n",
    "no_info = ['examide','citoglipton']\n",
    "df_clean = df_clean.drop(no_info,axis = 1)\n",
    "df_clean.shape\n"
   ]
  },
  {
   "cell_type": "markdown",
   "metadata": {},
   "source": [
    "Diagnosis columns have more than >600 categories. They are ICD9 Codes describing specific diseases. We can club them in larger categories in accordance with ICD9 to reduce the categories. "
   ]
  },
  {
   "cell_type": "code",
   "execution_count": 13,
   "metadata": {},
   "outputs": [],
   "source": [
    "diag_cols = ['diag_1','diag_2','diag_3']\n",
    "for col in diag_cols:\n",
    "    df_clean[col] = df_clean[col].str.replace('E','-')\n",
    "    df_clean[col] = df_clean[col].str.replace('V','-')\n",
    "    condition = df_clean[col].str.contains('250')\n",
    "    df_clean.loc[condition,col] = '250'\n",
    "\n"
   ]
  },
  {
   "cell_type": "code",
   "execution_count": 14,
   "metadata": {},
   "outputs": [],
   "source": [
    "df_clean[diag_cols] = df_clean[diag_cols].replace('',np.nan).astype(float)\n",
    "\n",
    "# diagnosis grouping\n",
    "for col in diag_cols:\n",
    "    df_clean['temp']=np.nan\n",
    "    \n",
    "    condition = df_clean[col]==250\n",
    "    df_clean.loc[condition,'temp']='Diabetes'\n",
    "    \n",
    "    condition = (df_clean[col]>=390) & (df_clean[col]<=458) | (df_clean[col]==785)\n",
    "    df_clean.loc[condition,'temp']='Circulatory'\n",
    "    \n",
    "    condition = (df_clean[col]>=460) & (df_clean[col]<=519) | (df_clean[col]==786)\n",
    "    df_clean.loc[condition,'temp']='Respiratory'\n",
    "    \n",
    "    condition = (df_clean[col]>=520) & (df_clean[col]<=579) | (df_clean[col]==787)\n",
    "    df_clean.loc[condition,'temp']='Digestive'\n",
    "    \n",
    "    condition = (df_clean[col]>=580) & (df_clean[col]<=629) | (df_clean[col]==788)\n",
    "    df_clean.loc[condition,'temp']='Genitourinary'\n",
    "    \n",
    "    condition = (df_clean[col]>=800) & (df_clean[col]<=999)\n",
    "    df_clean.loc[condition,'temp']='Injury'\n",
    "    \n",
    "    condition = (df_clean[col]>=710) & (df_clean[col]<=739)\n",
    "    df_clean.loc[condition,'temp']='Muscoloskeletal'\n",
    "    \n",
    "    condition = (df_clean[col]>=140) & (df_clean[col]<=239)\n",
    "    df_clean.loc[condition,'temp']='Neoplasms'\n",
    "    \n",
    "    condition = df_clean[col] == 0\n",
    "    df_clean.loc[condition,'temp']='Missing'\n",
    "    df_clean['temp']=df_clean['temp'].fillna('Others')\n",
    "    df_clean[col]=df_clean['temp']\n",
    "    df_clean.drop('temp',axis=1,inplace=True)\n"
   ]
  },
  {
   "cell_type": "code",
   "execution_count": 15,
   "metadata": {},
   "outputs": [
    {
     "data": {
      "text/plain": [
       "Circulatory        29783\n",
       "Others             17984\n",
       "Respiratory        14074\n",
       "Digestive           9380\n",
       "Diabetes            8693\n",
       "Injury              6879\n",
       "Genitourinary       5054\n",
       "Muscoloskeletal     4944\n",
       "Neoplasms           3299\n",
       "Missing               20\n",
       "Name: diag_1, dtype: int64"
      ]
     },
     "execution_count": 15,
     "metadata": {},
     "output_type": "execute_result"
    }
   ],
   "source": [
    "df_clean.diag_1.value_counts()"
   ]
  },
  {
   "cell_type": "markdown",
   "metadata": {},
   "source": [
    "#### For discharge disposition, admission type and admission source, ~90% of data falls under 3-4 categories. Thus we can club the remaining categories with the existing category or under others. This would help reduce the noise from the data. "
   ]
  },
  {
   "cell_type": "code",
   "execution_count": 16,
   "metadata": {},
   "outputs": [
    {
     "data": {
      "image/png": "[encoded data removed]",
      "text/plain": [
       "<Figure size 360x360 with 3 Axes>"
      ]
     },
     "metadata": {
      "needs_background": "light"
     },
     "output_type": "display_data"
    }
   ],
   "source": [
    "#Finding out the frequency for each category\n",
    "adm = df_clean.groupby(['admission_type_id']).size().sort_values(ascending = False)\n",
    "dis = df_clean.groupby(['discharge_disposition_id']).size().sort_values(ascending = False)\n",
    "asrc = df_clean.groupby(['admission_source_id']).size().sort_values(ascending = False)\n",
    "\n",
    "#Creating Subplots\n",
    "fig, axes = plt.subplots(nrows=3, ncols=1, figsize=(5, 5))\n",
    "\n",
    "pd.DataFrame(adm).T.plot.barh(stacked=True, ax = axes[0])\n",
    "axes[0].legend().set_visible(False)\n",
    "axes[0].title.set_text('Admission Type')\n",
    "#plt.ylabel('Damped oscillation')\n",
    "\n",
    "pd.DataFrame(dis).T.plot.barh(stacked=True, ax = axes[1])\n",
    "axes[1].legend().set_visible(False)\n",
    "axes[1].title.set_text('Discharge Disposition')\n",
    "\n",
    "pd.DataFrame(asrc).T.plot.barh(stacked=True, ax = axes[2])\n",
    "axes[2].legend().set_visible(False)\n",
    "axes[2].title.set_text('Admission Source')\n",
    "\n",
    "fig.tight_layout()"
   ]
  },
  {
   "cell_type": "code",
   "execution_count": 17,
   "metadata": {},
   "outputs": [],
   "source": [
    "#removing warning\n",
    "pd.options.mode.chained_assignment = None  # default='warn'\n",
    "\n",
    "# 1: Discharge to Home\n",
    "c1 = (df_clean.discharge_disposition_id == 1) | (df_clean.discharge_disposition_id == 13)|(df_clean.discharge_disposition_id == 14)\n",
    "\n",
    "#18: Null Values\n",
    "c2 = (df_clean.discharge_disposition_id == 18) | (df_clean.discharge_disposition_id == 25)\n",
    "\n",
    "#remaining Values except 3, 6, in others: 29 as others\n",
    "c3 = (df_clean.discharge_disposition_id != 1) & (df_clean.discharge_disposition_id != 3) & (df_clean.discharge_disposition_id != 6) & (df_clean.discharge_disposition_id != 18)\n",
    "\n",
    "df_clean.discharge_disposition_id[c1] = 1\n",
    "df_clean.discharge_disposition_id[c2] = 18\n",
    "df_clean.discharge_disposition_id[c3] = 29"
   ]
  },
  {
   "cell_type": "code",
   "execution_count": 18,
   "metadata": {},
   "outputs": [
    {
     "data": {
      "text/html": [
       "<div>\n",
       "<style scoped>\n",
       "    .dataframe tbody tr th:only-of-type {\n",
       "        vertical-align: middle;\n",
       "    }\n",
       "\n",
       "    .dataframe tbody tr th {\n",
       "        vertical-align: top;\n",
       "    }\n",
       "\n",
       "    .dataframe thead th {\n",
       "        text-align: right;\n",
       "    }\n",
       "</style>\n",
       "<table border=\"1\" class=\"dataframe\">\n",
       "  <thead>\n",
       "    <tr style=\"text-align: right;\">\n",
       "      <th></th>\n",
       "      <th>encounter_id</th>\n",
       "      <th>patient_nbr</th>\n",
       "      <th>race</th>\n",
       "      <th>gender</th>\n",
       "      <th>age</th>\n",
       "      <th>admission_type_id</th>\n",
       "      <th>discharge_disposition_id</th>\n",
       "      <th>admission_source_id</th>\n",
       "      <th>time_in_hospital</th>\n",
       "      <th>num_lab_procedures</th>\n",
       "      <th>...</th>\n",
       "      <th>tolazamide</th>\n",
       "      <th>insulin</th>\n",
       "      <th>glyburide-metformin</th>\n",
       "      <th>glipizide-metformin</th>\n",
       "      <th>glimepiride-pioglitazone</th>\n",
       "      <th>metformin-rosiglitazone</th>\n",
       "      <th>metformin-pioglitazone</th>\n",
       "      <th>change</th>\n",
       "      <th>diabetesMed</th>\n",
       "      <th>readmitted</th>\n",
       "    </tr>\n",
       "  </thead>\n",
       "  <tbody>\n",
       "    <tr>\n",
       "      <th>0</th>\n",
       "      <td>2278392</td>\n",
       "      <td>8222157</td>\n",
       "      <td>Caucasian</td>\n",
       "      <td>Female</td>\n",
       "      <td>[0-10)</td>\n",
       "      <td>4</td>\n",
       "      <td>29</td>\n",
       "      <td>1</td>\n",
       "      <td>1</td>\n",
       "      <td>41</td>\n",
       "      <td>...</td>\n",
       "      <td>No</td>\n",
       "      <td>No</td>\n",
       "      <td>No</td>\n",
       "      <td>No</td>\n",
       "      <td>No</td>\n",
       "      <td>No</td>\n",
       "      <td>No</td>\n",
       "      <td>No</td>\n",
       "      <td>No</td>\n",
       "      <td>NO</td>\n",
       "    </tr>\n",
       "    <tr>\n",
       "      <th>1</th>\n",
       "      <td>149190</td>\n",
       "      <td>55629189</td>\n",
       "      <td>Caucasian</td>\n",
       "      <td>Female</td>\n",
       "      <td>[10-20)</td>\n",
       "      <td>1</td>\n",
       "      <td>1</td>\n",
       "      <td>7</td>\n",
       "      <td>3</td>\n",
       "      <td>59</td>\n",
       "      <td>...</td>\n",
       "      <td>No</td>\n",
       "      <td>Up</td>\n",
       "      <td>No</td>\n",
       "      <td>No</td>\n",
       "      <td>No</td>\n",
       "      <td>No</td>\n",
       "      <td>No</td>\n",
       "      <td>Ch</td>\n",
       "      <td>Yes</td>\n",
       "      <td>&gt;30</td>\n",
       "    </tr>\n",
       "    <tr>\n",
       "      <th>2</th>\n",
       "      <td>64410</td>\n",
       "      <td>86047875</td>\n",
       "      <td>AfricanAmerican</td>\n",
       "      <td>Female</td>\n",
       "      <td>[20-30)</td>\n",
       "      <td>1</td>\n",
       "      <td>1</td>\n",
       "      <td>7</td>\n",
       "      <td>2</td>\n",
       "      <td>11</td>\n",
       "      <td>...</td>\n",
       "      <td>No</td>\n",
       "      <td>No</td>\n",
       "      <td>No</td>\n",
       "      <td>No</td>\n",
       "      <td>No</td>\n",
       "      <td>No</td>\n",
       "      <td>No</td>\n",
       "      <td>No</td>\n",
       "      <td>Yes</td>\n",
       "      <td>NO</td>\n",
       "    </tr>\n",
       "    <tr>\n",
       "      <th>3</th>\n",
       "      <td>500364</td>\n",
       "      <td>82442376</td>\n",
       "      <td>Caucasian</td>\n",
       "      <td>Male</td>\n",
       "      <td>[30-40)</td>\n",
       "      <td>1</td>\n",
       "      <td>1</td>\n",
       "      <td>7</td>\n",
       "      <td>2</td>\n",
       "      <td>44</td>\n",
       "      <td>...</td>\n",
       "      <td>No</td>\n",
       "      <td>Up</td>\n",
       "      <td>No</td>\n",
       "      <td>No</td>\n",
       "      <td>No</td>\n",
       "      <td>No</td>\n",
       "      <td>No</td>\n",
       "      <td>Ch</td>\n",
       "      <td>Yes</td>\n",
       "      <td>NO</td>\n",
       "    </tr>\n",
       "    <tr>\n",
       "      <th>4</th>\n",
       "      <td>16680</td>\n",
       "      <td>42519267</td>\n",
       "      <td>Caucasian</td>\n",
       "      <td>Male</td>\n",
       "      <td>[40-50)</td>\n",
       "      <td>1</td>\n",
       "      <td>1</td>\n",
       "      <td>7</td>\n",
       "      <td>1</td>\n",
       "      <td>51</td>\n",
       "      <td>...</td>\n",
       "      <td>No</td>\n",
       "      <td>Steady</td>\n",
       "      <td>No</td>\n",
       "      <td>No</td>\n",
       "      <td>No</td>\n",
       "      <td>No</td>\n",
       "      <td>No</td>\n",
       "      <td>Ch</td>\n",
       "      <td>Yes</td>\n",
       "      <td>NO</td>\n",
       "    </tr>\n",
       "  </tbody>\n",
       "</table>\n",
       "<p>5 rows × 45 columns</p>\n",
       "</div>"
      ],
      "text/plain": [
       "   encounter_id  patient_nbr             race  gender      age  \\\n",
       "0       2278392      8222157        Caucasian  Female   [0-10)   \n",
       "1        149190     55629189        Caucasian  Female  [10-20)   \n",
       "2         64410     86047875  AfricanAmerican  Female  [20-30)   \n",
       "3        500364     82442376        Caucasian    Male  [30-40)   \n",
       "4         16680     42519267        Caucasian    Male  [40-50)   \n",
       "\n",
       "   admission_type_id  discharge_disposition_id  admission_source_id  \\\n",
       "0                  4                        29                    1   \n",
       "1                  1                         1                    7   \n",
       "2                  1                         1                    7   \n",
       "3                  1                         1                    7   \n",
       "4                  1                         1                    7   \n",
       "\n",
       "   time_in_hospital  num_lab_procedures  ...  tolazamide  insulin  \\\n",
       "0                 1                  41  ...          No       No   \n",
       "1                 3                  59  ...          No       Up   \n",
       "2                 2                  11  ...          No       No   \n",
       "3                 2                  44  ...          No       Up   \n",
       "4                 1                  51  ...          No   Steady   \n",
       "\n",
       "   glyburide-metformin  glipizide-metformin  glimepiride-pioglitazone  \\\n",
       "0                   No                   No                        No   \n",
       "1                   No                   No                        No   \n",
       "2                   No                   No                        No   \n",
       "3                   No                   No                        No   \n",
       "4                   No                   No                        No   \n",
       "\n",
       "  metformin-rosiglitazone metformin-pioglitazone change  diabetesMed  \\\n",
       "0                      No                     No     No           No   \n",
       "1                      No                     No     Ch          Yes   \n",
       "2                      No                     No     No          Yes   \n",
       "3                      No                     No     Ch          Yes   \n",
       "4                      No                     No     Ch          Yes   \n",
       "\n",
       "  readmitted  \n",
       "0         NO  \n",
       "1        >30  \n",
       "2         NO  \n",
       "3         NO  \n",
       "4         NO  \n",
       "\n",
       "[5 rows x 45 columns]"
      ]
     },
     "execution_count": 18,
     "metadata": {},
     "output_type": "execute_result"
    }
   ],
   "source": [
    "#Admission Type\n",
    "#remaining Values except 1,2,3 in others: 4 as others\n",
    "a1 = (df_clean.admission_type_id != 1) & (df_clean.admission_type_id != 2) & (df_clean.admission_type_id != 3)\n",
    "\n",
    "df_clean.admission_type_id[a1] = 4\n",
    "\n",
    "#Admission Source\n",
    "# 9: Null values\n",
    "c1 = (df_clean.admission_source_id == 9) | (df_clean.admission_source_id == 17)|(df_clean.admission_source_id == 20)\n",
    "\n",
    "#remaining Values except 1, 7 in others: 26 as others\n",
    "c2 = (df_clean.admission_source_id != 1) & (df_clean.admission_source_id != 7) & (df_clean.admission_source_id != 9)\n",
    "\n",
    "df_clean.admission_source_id[c1] = 9\n",
    "df_clean.admission_source_id[c2] = 26\n",
    "df_clean.head()"
   ]
  },
  {
   "cell_type": "markdown",
   "metadata": {},
   "source": [
    "#### A patient has visited many times in the hospital. Re-admission rates migh also depend. So creating  a new feature for the number of times a patient has visited the hospital. Therafter dropping the encounter id and patient nbr columns"
   ]
  },
  {
   "cell_type": "code",
   "execution_count": 19,
   "metadata": {},
   "outputs": [],
   "source": [
    "#Creating a dictionary of Patient and number of visits made by him/her\n",
    "visit_p = dict(df_clean.groupby('patient_nbr').count()['encounter_id'].sort_values(ascending = False))\n",
    "\n",
    "#Using the visit_p dictionary to map and create the new column of visit_num\n",
    "df_clean['visit_num'] = df_clean.patient_nbr.map(visit_p)\n",
    "\n",
    "#Dropping encounter_id and patient_nbr since they are mere ids\n",
    "df_clean = df_clean.drop(['encounter_id','patient_nbr'], axis = 1)"
   ]
  },
  {
   "cell_type": "markdown",
   "metadata": {},
   "source": [
    "Converting to categories to reduce memory space"
   ]
  },
  {
   "cell_type": "code",
   "execution_count": 20,
   "metadata": {},
   "outputs": [
    {
     "name": "stdout",
     "output_type": "stream",
     "text": [
      "<class 'pandas.core.frame.DataFrame'>\n",
      "Int64Index: 100110 entries, 0 to 101765\n",
      "Data columns (total 44 columns):\n",
      "race                        100110 non-null category\n",
      "gender                      100110 non-null category\n",
      "age                         100110 non-null category\n",
      "admission_type_id           100110 non-null category\n",
      "discharge_disposition_id    100110 non-null category\n",
      "admission_source_id         100110 non-null category\n",
      "time_in_hospital            100110 non-null int64\n",
      "num_lab_procedures          100110 non-null int64\n",
      "num_procedures              100110 non-null int64\n",
      "num_medications             100110 non-null int64\n",
      "number_outpatient           100110 non-null int64\n",
      "number_emergency            100110 non-null int64\n",
      "number_inpatient            100110 non-null int64\n",
      "diag_1                      100110 non-null category\n",
      "diag_2                      100110 non-null category\n",
      "diag_3                      100110 non-null category\n",
      "number_diagnoses            100110 non-null int64\n",
      "max_glu_serum               100110 non-null category\n",
      "A1Cresult                   100110 non-null category\n",
      "metformin                   100110 non-null category\n",
      "repaglinide                 100110 non-null category\n",
      "nateglinide                 100110 non-null category\n",
      "chlorpropamide              100110 non-null category\n",
      "glimepiride                 100110 non-null category\n",
      "acetohexamide               100110 non-null category\n",
      "glipizide                   100110 non-null category\n",
      "glyburide                   100110 non-null category\n",
      "tolbutamide                 100110 non-null category\n",
      "pioglitazone                100110 non-null category\n",
      "rosiglitazone               100110 non-null category\n",
      "acarbose                    100110 non-null category\n",
      "miglitol                    100110 non-null category\n",
      "troglitazone                100110 non-null category\n",
      "tolazamide                  100110 non-null category\n",
      "insulin                     100110 non-null category\n",
      "glyburide-metformin         100110 non-null category\n",
      "glipizide-metformin         100110 non-null category\n",
      "glimepiride-pioglitazone    100110 non-null category\n",
      "metformin-rosiglitazone     100110 non-null category\n",
      "metformin-pioglitazone      100110 non-null category\n",
      "change                      100110 non-null category\n",
      "diabetesMed                 100110 non-null category\n",
      "readmitted                  100110 non-null category\n",
      "visit_num                   100110 non-null int64\n",
      "dtypes: category(35), int64(9)\n",
      "memory usage: 11.0 MB\n"
     ]
    }
   ],
   "source": [
    "#Selecting string columns\n",
    "cat_names = list(df_clean.select_dtypes(include='object').columns)\n",
    "cat_names_2 = ['admission_type_id','discharge_disposition_id','admission_source_id']\n",
    "cat_names.extend(cat_names_2)\n",
    "\n",
    "#Converting to categories\n",
    "df_clean[cat_names] = df_clean[cat_names].astype('category')\n",
    "df_clean.info()"
   ]
  },
  {
   "cell_type": "markdown",
   "metadata": {},
   "source": [
    "### Exploratory Data Analysis"
   ]
  },
  {
   "cell_type": "code",
   "execution_count": 21,
   "metadata": {},
   "outputs": [],
   "source": [
    "medicines = ['metformin','repaglinide','nateglinide','chlorpropamide','glimepiride','acetohexamide','glipizide','glyburide',\n",
    "             'tolbutamide','pioglitazone','rosiglitazone','acarbose','miglitol','troglitazone','tolazamide','insulin',\n",
    "             'glyburide-metformin','glipizide-metformin','glimepiride-pioglitazone','metformin-rosiglitazone',\n",
    "             'metformin-pioglitazone','readmitted']\n",
    "df_med = df_clean[medicines]\n"
   ]
  },
  {
   "cell_type": "markdown",
   "metadata": {},
   "source": [
    "#### Checking the Distribution of Race for <30 category of Readmission. There seems to be three distinct groups. "
   ]
  },
  {
   "cell_type": "code",
   "execution_count": 22,
   "metadata": {},
   "outputs": [
    {
     "data": {
      "text/plain": [
       "<matplotlib.axes._subplots.AxesSubplot at 0x1f88275fb00>"
      ]
     },
     "execution_count": 22,
     "metadata": {},
     "output_type": "execute_result"
    },
    {
     "data": {
      "image/png": "[encoded data removed]",
      "text/plain": [
       "<Figure size 432x288 with 1 Axes>"
      ]
     },
     "metadata": {},
     "output_type": "display_data"
    }
   ],
   "source": [
    "#Setting the Seaborn Graph Style\n",
    "sns.set(style=\"whitegrid\")\n",
    "\n",
    "#Grouping Race and Readmitted.\n",
    "race = df_clean.groupby(['race','readmitted']).size().unstack()\n",
    "\n",
    "#Renaming the column index from category to string\n",
    "race = race.rename(columns=str).reset_index()\n",
    "\n",
    "#Calculating %Readmission\n",
    "race['total'] = race['<30']+race['>30']+race['NO']\n",
    "race['% total'] = 100* (race['total']/(race['total'].sum()))\n",
    "race['%readmission'] = 100* (race['<30']/race['total'])\n",
    "race.sort_values('%readmission',ascending = False, inplace = True)\n",
    "\n",
    "#Plotting the bar Graph\n",
    "sns.barplot(data = race, x = 'race',y='%readmission', order = race['race'])"
   ]
  },
  {
   "cell_type": "markdown",
   "metadata": {},
   "source": [
    "#### Distribution of Age for <30 category of Readmission. Patient with >40 age have high chances of getting readmitted."
   ]
  },
  {
   "cell_type": "code",
   "execution_count": 23,
   "metadata": {},
   "outputs": [
    {
     "data": {
      "text/plain": [
       "<matplotlib.axes._subplots.AxesSubplot at 0x1f882148390>"
      ]
     },
     "execution_count": 23,
     "metadata": {},
     "output_type": "execute_result"
    },
    {
     "data": {
      "image/png": "[encoded data removed]",
      "text/plain": [
       "<Figure size 720x504 with 1 Axes>"
      ]
     },
     "metadata": {},
     "output_type": "display_data"
    }
   ],
   "source": [
    "# Grouping Age and Readmitted Columns\n",
    "age = df_clean.groupby(['age','readmitted']).size().unstack()\n",
    "\n",
    "#Renaming the column index from category to string\n",
    "age = age.rename(columns=str).reset_index()\n",
    "\n",
    "#Calculating %Readmission\n",
    "age['total'] = age['<30']+age['>30']+age['NO']\n",
    "age['% total'] = 100* (age['total']/(age['total'].sum()))\n",
    "age['%readmission'] = 100* (age['<30']/age['total'])\n",
    "age.sort_values('%readmission',ascending = False, inplace = True)\n",
    "\n",
    "#Setting Figure size and plotting the bar chart\n",
    "fig_dims = (10, 7)\n",
    "fig, ax = plt.subplots(figsize=fig_dims)\n",
    "sns.barplot(data = age, x = 'age',y='%readmission', ax = ax, order = age['age'])"
   ]
  },
  {
   "cell_type": "markdown",
   "metadata": {},
   "source": [
    "#### The pie chart shows that >90% of the patients are more than 40 years of age"
   ]
  },
  {
   "cell_type": "code",
   "execution_count": 24,
   "metadata": {},
   "outputs": [
    {
     "name": "stderr",
     "output_type": "stream",
     "text": [
      "C:\\ProgramData\\Anaconda3\\lib\\site-packages\\ipykernel_launcher.py:5: MatplotlibDeprecationWarning: Non-1D inputs to pie() are currently squeeze()d, but this behavior is deprecated since 3.1 and will be removed in 3.3; pass a 1D array instead.\n",
      "  \"\"\"\n"
     ]
    },
    {
     "data": {
      "image/png": "[encoded data removed]",
      "text/plain": [
       "<Figure size 360x360 with 1 Axes>"
      ]
     },
     "metadata": {},
     "output_type": "display_data"
    }
   ],
   "source": [
    "age_d = pd.DataFrame(df_clean.groupby(['age']).size(), columns = ['count'])\n",
    "fig_dims = (5, 5)\n",
    "fig, ax = plt.subplots(figsize=fig_dims)\n",
    "\n",
    "ax.pie(age_d, labels = age_d.index, autopct='%1.1f%%')\n",
    "ax.axis('equal')\n",
    "plt.tight_layout()\n",
    "#sns.barplot(data = cer, x = 'age',y='%readmission', ax = ax, order = cer['age'])"
   ]
  },
  {
   "cell_type": "code",
   "execution_count": 25,
   "metadata": {},
   "outputs": [
    {
     "data": {
      "image/png": "[encoded data removed]",
      "text/plain": [
       "<Figure size 1008x360 with 1 Axes>"
      ]
     },
     "metadata": {},
     "output_type": "display_data"
    }
   ],
   "source": [
    "cer1 = pd.DataFrame(df_clean.groupby(['diag_1']).size(), columns = ['diag1'])#plot(kind='bar', stacked = True)\n",
    "cer2 = dict(df_clean.groupby(['diag_2']).size(), columns = ['d2'])\n",
    "cer3 = dict(df_clean.groupby(['diag_3']).size(), columns = ['d3'])\n",
    "\n",
    "\n",
    "cer1 = cer1.rename(columns=str).reset_index()#drop('readmitted',axis = 1)\n",
    "\n",
    "cer1['diag2'] = cer1.diag_1.map(cer2)\n",
    "cer1['diag3'] = cer1.diag_1.map(cer3)\n",
    "cer1 = pd.melt(cer1, id_vars = ['diag_1'],value_vars = ['diag1','diag2','diag3']).reset_index()\n",
    "\n",
    "fig_dims = (14, 5)\n",
    "fig, ax = plt.subplots(figsize=fig_dims)\n",
    "\n",
    "chart = sns.barplot(data = cer1, x = 'diag_1',y='value', hue = 'variable' )\n",
    "chart.set_xticklabels(chart.get_xticklabels(), rotation=60)\n",
    "plt.tight_layout()"
   ]
  },
  {
   "cell_type": "code",
   "execution_count": 26,
   "metadata": {
    "scrolled": true
   },
   "outputs": [
    {
     "data": {
      "image/png": "[encoded data removed]",
      "text/plain": [
       "<Figure size 432x288 with 1 Axes>"
      ]
     },
     "metadata": {},
     "output_type": "display_data"
    }
   ],
   "source": [
    "diag = df_clean.groupby(['diag_3', 'readmitted']).size().unstack()#plot(kind='bar', stacked = True)\n",
    "\n",
    "#diag.reset_index()\n",
    "\n",
    "diag = diag.rename(columns=str).reset_index()#drop('readmitted',axis = 1)\n",
    "\n",
    "diag['total'] = diag['<30']+diag['>30']+diag['NO']\n",
    "diag['% total'] = 100* (diag['total']/(diag['total'].sum()))\n",
    "diag['%readmission'] = 100* (diag['<30']/diag['total'])\n",
    "diag.sort_values('%readmission',ascending = False, inplace = True)\n",
    "\n",
    "#fig_dims = (10, 5)\n",
    "#fig, ax = plt.subplots(figsize=fig_dims)\n",
    "\n",
    "#ax.pie(diag, labels = diag.index, autopct='%1.1f%%')\n",
    "#ax.axis('equal')\n",
    "\n",
    "chart = sns.barplot(data = diag, x = 'diag_3',order = diag.diag_3,y='%readmission')\n",
    "chart.set_xticklabels(chart.get_xticklabels(), rotation=60) \n",
    "plt.tight_layout()"
   ]
  },
  {
   "cell_type": "code",
   "execution_count": 27,
   "metadata": {},
   "outputs": [
    {
     "data": {
      "image/png": "[encoded data removed]",
      "text/plain": [
       "<Figure size 864x720 with 8 Axes>"
      ]
     },
     "metadata": {},
     "output_type": "display_data"
    }
   ],
   "source": [
    "#Plotting Distributin for Quantitative Variables\n",
    "fig_dims = (12, 10)\n",
    "fig, ax = plt.subplots(nrows = 4, ncols = 2,figsize=fig_dims)\n",
    "\n",
    "sns.distplot(df_clean.time_in_hospital,ax=ax[0][0])\n",
    "sns.distplot(df_clean.num_lab_procedures,ax=ax[0][1])\n",
    "sns.distplot(df_clean.num_procedures,ax=ax[1][0])\n",
    "sns.distplot(df_clean.num_medications,ax=ax[1][1])\n",
    "sns.distplot(df_clean.number_diagnoses,ax=ax[3][1])\n",
    "ax[2][0].hist(df_clean.number_outpatient)\n",
    "ax[2][0].set_xlabel('Number Outpatient')\n",
    "\n",
    "ax[2][1].hist(df_clean.number_emergency)\n",
    "ax[2][1].set_xlabel('Number Emergency')\n",
    "\n",
    "ax[3][0].hist(df_clean.number_inpatient)\n",
    "ax[3][0].set_xlabel('Number Inpatient')\n",
    "\n",
    "ax[2][0].set_yscale('log')\n",
    "ax[2][1].set_yscale('log')\n",
    "ax[3][0].set_yscale('log')\n",
    "\n",
    "fig.tight_layout()\n"
   ]
  },
  {
   "cell_type": "code",
   "execution_count": null,
   "metadata": {},
   "outputs": [],
   "source": []
  }
 ],
 "metadata": {
  "kernelspec": {
   "display_name": "Python 3",
   "language": "python",
   "name": "python3"
  },
  "language_info": {
   "codemirror_mode": {
    "name": "ipython",
    "version": 3
   },
   "file_extension": ".py",
   "mimetype": "text/x-python",
   "name": "python",
   "nbconvert_exporter": "python",
   "pygments_lexer": "ipython3",
   "version": "3.7.3"
  }
 },
 "nbformat": 4,
 "nbformat_minor": 2
}
